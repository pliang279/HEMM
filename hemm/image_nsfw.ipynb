{
 "cells": [
  {
   "cell_type": "code",
   "execution_count": 1,
   "id": "1d4e84f7-de23-4917-95bf-c88d5c826e47",
   "metadata": {},
   "outputs": [],
   "source": [
    "import os\n",
    "os.chdir(\"/work/agoindan/.cache\")\n",
    "os.environ['TRANSFORMERS_CACHE'] = \"/work/agoindan/.cache\"\n",
    "os.environ['TORCH_HUB'] = \"/work/agoindan/.cache\"\n",
    "os.environ['XDG_CACHE_HOME'] = \"/work/agoindan/.cache\""
   ]
  },
  {
   "cell_type": "code",
   "execution_count": 2,
   "id": "6daa0807-8edd-4aa6-93b8-8eb7e64758ce",
   "metadata": {},
   "outputs": [],
   "source": [
    "import sys\n",
    "sys.path.append(\"/home/agoindan/HEMM\")"
   ]
  },
  {
   "cell_type": "code",
   "execution_count": 3,
   "id": "000147f3-1258-4438-bba7-6264b9089f5a",
   "metadata": {},
   "outputs": [],
   "source": [
    "import numpy as np"
   ]
  },
  {
   "cell_type": "code",
   "execution_count": 4,
   "id": "d1b4ed1e-c75e-4fd6-ac14-a89f216948d3",
   "metadata": {},
   "outputs": [],
   "source": [
    "import autokeras as ak\n",
    "from tensorflow.keras.models import load_model"
   ]
  },
  {
   "cell_type": "code",
   "execution_count": 5,
   "id": "ebcd136e-5d36-40cf-8f87-2b263e7e54ea",
   "metadata": {},
   "outputs": [],
   "source": [
    "cache_folder = \"/work/agoindan/.cache/NSFW-cache\"\n",
    "clip_model = \"ViT-L/14\""
   ]
  },
  {
   "cell_type": "code",
   "execution_count": 6,
   "id": "965d1721-9634-4e42-8d70-812bdd925c4a",
   "metadata": {},
   "outputs": [],
   "source": [
    "model_dir = cache_folder + \"/clip_autokeras_binary_nsfw\"\n",
    "dim = 768"
   ]
  },
  {
   "cell_type": "code",
   "execution_count": 7,
   "id": "31afb7ca-876c-492d-90ae-b729d19a23cd",
   "metadata": {},
   "outputs": [
    {
     "name": "stderr",
     "output_type": "stream",
     "text": [
      "2024-02-23 14:32:22.387089: I tensorflow/stream_executor/cuda/cuda_gpu_executor.cc:975] successful NUMA node read from SysFS had negative value (-1), but there must be at least one NUMA node, so returning NUMA node zero\n",
      "2024-02-23 14:32:22.478351: I tensorflow/stream_executor/cuda/cuda_gpu_executor.cc:975] successful NUMA node read from SysFS had negative value (-1), but there must be at least one NUMA node, so returning NUMA node zero\n",
      "2024-02-23 14:32:22.480118: I tensorflow/stream_executor/cuda/cuda_gpu_executor.cc:975] successful NUMA node read from SysFS had negative value (-1), but there must be at least one NUMA node, so returning NUMA node zero\n",
      "2024-02-23 14:32:22.482492: I tensorflow/core/platform/cpu_feature_guard.cc:193] This TensorFlow binary is optimized with oneAPI Deep Neural Network Library (oneDNN) to use the following CPU instructions in performance-critical operations:  AVX2 FMA\n",
      "To enable them in other operations, rebuild TensorFlow with the appropriate compiler flags.\n",
      "2024-02-23 14:32:22.482724: I tensorflow/stream_executor/cuda/cuda_gpu_executor.cc:975] successful NUMA node read from SysFS had negative value (-1), but there must be at least one NUMA node, so returning NUMA node zero\n",
      "2024-02-23 14:32:22.484444: I tensorflow/stream_executor/cuda/cuda_gpu_executor.cc:975] successful NUMA node read from SysFS had negative value (-1), but there must be at least one NUMA node, so returning NUMA node zero\n",
      "2024-02-23 14:32:22.486141: I tensorflow/stream_executor/cuda/cuda_gpu_executor.cc:975] successful NUMA node read from SysFS had negative value (-1), but there must be at least one NUMA node, so returning NUMA node zero\n",
      "2024-02-23 14:32:22.626117: I tensorflow/stream_executor/cuda/cuda_gpu_executor.cc:975] successful NUMA node read from SysFS had negative value (-1), but there must be at least one NUMA node, so returning NUMA node zero\n",
      "2024-02-23 14:32:22.627336: I tensorflow/stream_executor/cuda/cuda_gpu_executor.cc:975] successful NUMA node read from SysFS had negative value (-1), but there must be at least one NUMA node, so returning NUMA node zero\n",
      "2024-02-23 14:32:22.628454: I tensorflow/stream_executor/cuda/cuda_gpu_executor.cc:975] successful NUMA node read from SysFS had negative value (-1), but there must be at least one NUMA node, so returning NUMA node zero\n",
      "2024-02-23 14:32:22.629556: I tensorflow/core/common_runtime/gpu/gpu_device.cc:1532] Created device /job:localhost/replica:0/task:0/device:GPU:0 with 79087 MB memory:  -> device: 0, name: NVIDIA A100 80GB PCIe, pci bus id: 0000:c1:00.0, compute capability: 8.0\n"
     ]
    },
    {
     "name": "stdout",
     "output_type": "stream",
     "text": [
      "WARNING:tensorflow:Detecting that an object or model or tf.train.Checkpoint is being deleted with unrestored values. See the following logs for the specific values in question. To silence these warnings, use `status.expect_partial()`. See https://www.tensorflow.org/api_docs/python/tf/train/Checkpoint#restorefor details about the status object returned by the restore function.\n",
      "WARNING:tensorflow:An attribute in the restored object could not be found in the checkpoint. Object: (root).layer_with_weights-0.encoding_layers.180.token_counts, attribute: ['table']\n",
      "WARNING:tensorflow:An attribute in the restored object could not be found in the checkpoint. Object: (root).layer_with_weights-0.encoding_layers.316.token_counts, attribute: ['table']\n",
      "WARNING:tensorflow:An attribute in the restored object could not be found in the checkpoint. Object: (root).layer_with_weights-0.encoding_layers.413.token_counts, attribute: ['table']\n",
      "WARNING:tensorflow:An attribute in the restored object could not be found in the checkpoint. Object: (root).layer_with_weights-0.encoding_layers.440.token_counts, attribute: ['table']\n",
      "WARNING:tensorflow:An attribute in the restored object could not be found in the checkpoint. Object: (root).layer_with_weights-0.encoding_layers.644.token_counts, attribute: ['table']\n"
     ]
    }
   ],
   "source": [
    "if not os.path.exists(model_dir):\n",
    "    os.makedirs(cache_folder, exist_ok=True)\n",
    "\n",
    "    from urllib.request import urlretrieve  # pylint: disable=import-outside-toplevel\n",
    "\n",
    "    path_to_zip_file = cache_folder + \"/clip_autokeras_binary_nsfw.zip\"\n",
    "    if clip_model == \"ViT-L/14\":\n",
    "        url_model = \"https://raw.githubusercontent.com/LAION-AI/CLIP-based-NSFW-Detector/main/clip_autokeras_binary_nsfw.zip\"\n",
    "    elif clip_model == \"ViT-B/32\":\n",
    "        url_model = (\n",
    "            \"https://raw.githubusercontent.com/LAION-AI/CLIP-based-NSFW-Detector/main/clip_autokeras_nsfw_b32.zip\"\n",
    "        )\n",
    "    else:\n",
    "        raise ValueError(\"Unknown model {}\".format(clip_model))  # pylint: disable=consider-using-f-string\n",
    "    urlretrieve(url_model, path_to_zip_file)\n",
    "    import zipfile  # pylint: disable=import-outside-toplevel\n",
    "\n",
    "    with zipfile.ZipFile(path_to_zip_file, \"r\") as zip_ref:\n",
    "        zip_ref.extractall(cache_folder)\n",
    "\n",
    "loaded_model = load_model(model_dir, custom_objects=ak.CUSTOM_OBJECTS)"
   ]
  },
  {
   "cell_type": "code",
   "execution_count": 19,
   "id": "a4508510-46b1-4dab-b3cf-331acb694bf8",
   "metadata": {},
   "outputs": [],
   "source": [
    "import torch \n",
    "import clip \n",
    "from PIL import Image\n",
    "import pickle \n",
    "from tqdm import tqdm"
   ]
  },
  {
   "cell_type": "code",
   "execution_count": 9,
   "id": "169cbe12-e743-4894-bd39-c1ab203b6eba",
   "metadata": {},
   "outputs": [],
   "source": [
    "data = pickle.load(open(\"/work/agoindan/.cache/emu_magic_brush.pkl\", \"rb\"))"
   ]
  },
  {
   "cell_type": "code",
   "execution_count": 13,
   "id": "940abc42-fc28-430e-acc8-0e4c7b6b4a69",
   "metadata": {},
   "outputs": [],
   "source": [
    "def normalized(a, axis=-1, order=2):\n",
    "    import numpy as np  # pylint: disable=import-outside-toplevel\n",
    "\n",
    "    l2 = np.atleast_1d(np.linalg.norm(a, order, axis))\n",
    "    l2[l2 == 0] = 1\n",
    "    return a / np.expand_dims(l2, axis)"
   ]
  },
  {
   "cell_type": "code",
   "execution_count": 14,
   "id": "5022d343-69bf-4f12-a510-9c6eef987eb2",
   "metadata": {},
   "outputs": [
    {
     "name": "stderr",
     "output_type": "stream",
     "text": [
      "100%|███████████████████████████████████████| 933M/933M [08:01<00:00, 1.94MiB/s]\n"
     ]
    }
   ],
   "source": [
    "device = \"cuda\" if torch.cuda.is_available() else \"cpu\"\n",
    "model, preprocess = clip.load(\"ViT-L/14\", device=device)"
   ]
  },
  {
   "cell_type": "code",
   "execution_count": 37,
   "id": "45ab0fb7-1fc1-4c37-93d0-8d4ca6230dce",
   "metadata": {
    "scrolled": true
   },
   "outputs": [
    {
     "name": "stderr",
     "output_type": "stream",
     "text": [
      "  0%|          | 0/1053 [00:00<?, ?it/s]"
     ]
    },
    {
     "name": "stdout",
     "output_type": "stream",
     "text": [
      "1/1 [==============================] - 0s 32ms/step\n",
      "1/1 [==============================] - 0s 31ms/step\n"
     ]
    },
    {
     "name": "stderr",
     "output_type": "stream",
     "text": [
      "  0%|          | 2/1053 [00:00<01:13, 14.30it/s]"
     ]
    },
    {
     "name": "stdout",
     "output_type": "stream",
     "text": [
      "1/1 [==============================] - 0s 31ms/step\n",
      "1/1 [==============================] - 0s 31ms/step\n"
     ]
    },
    {
     "name": "stderr",
     "output_type": "stream",
     "text": [
      "  0%|          | 4/1053 [00:00<01:12, 14.55it/s]"
     ]
    },
    {
     "name": "stdout",
     "output_type": "stream",
     "text": [
      "1/1 [==============================] - 0s 31ms/step\n",
      "1/1 [==============================] - 0s 31ms/step\n"
     ]
    },
    {
     "name": "stderr",
     "output_type": "stream",
     "text": [
      "  1%|          | 6/1053 [00:00<01:10, 14.77it/s]"
     ]
    },
    {
     "name": "stdout",
     "output_type": "stream",
     "text": [
      "1/1 [==============================] - 0s 29ms/step\n",
      "1/1 [==============================] - 0s 29ms/step\n"
     ]
    },
    {
     "name": "stderr",
     "output_type": "stream",
     "text": [
      "  1%|          | 8/1053 [00:00<01:09, 15.08it/s]"
     ]
    },
    {
     "name": "stdout",
     "output_type": "stream",
     "text": [
      "1/1 [==============================] - 0s 28ms/step\n",
      "1/1 [==============================] - 0s 29ms/step\n"
     ]
    },
    {
     "name": "stderr",
     "output_type": "stream",
     "text": [
      "  1%|          | 10/1053 [00:00<01:08, 15.28it/s]"
     ]
    },
    {
     "name": "stdout",
     "output_type": "stream",
     "text": [
      "1/1 [==============================] - 0s 28ms/step\n",
      "1/1 [==============================] - 0s 28ms/step\n"
     ]
    },
    {
     "name": "stderr",
     "output_type": "stream",
     "text": [
      "  1%|          | 12/1053 [00:00<01:07, 15.42it/s]"
     ]
    },
    {
     "name": "stdout",
     "output_type": "stream",
     "text": [
      "1/1 [==============================] - 0s 28ms/step\n",
      "1/1 [==============================] - 0s 29ms/step\n"
     ]
    },
    {
     "name": "stderr",
     "output_type": "stream",
     "text": [
      "  1%|▏         | 14/1053 [00:00<01:07, 15.29it/s]"
     ]
    },
    {
     "name": "stdout",
     "output_type": "stream",
     "text": [
      "1/1 [==============================] - 0s 29ms/step\n",
      "1/1 [==============================] - 0s 28ms/step\n"
     ]
    },
    {
     "name": "stderr",
     "output_type": "stream",
     "text": [
      "  2%|▏         | 16/1053 [00:01<01:07, 15.35it/s]"
     ]
    },
    {
     "name": "stdout",
     "output_type": "stream",
     "text": [
      "1/1 [==============================] - 0s 28ms/step\n",
      "1/1 [==============================] - 0s 33ms/step\n"
     ]
    },
    {
     "name": "stderr",
     "output_type": "stream",
     "text": [
      "  2%|▏         | 18/1053 [00:01<01:07, 15.27it/s]"
     ]
    },
    {
     "name": "stdout",
     "output_type": "stream",
     "text": [
      "1/1 [==============================] - 0s 29ms/step\n",
      "1/1 [==============================] - 0s 29ms/step\n"
     ]
    },
    {
     "name": "stderr",
     "output_type": "stream",
     "text": [
      "  2%|▏         | 20/1053 [00:01<01:07, 15.34it/s]"
     ]
    },
    {
     "name": "stdout",
     "output_type": "stream",
     "text": [
      "1/1 [==============================] - 0s 28ms/step\n",
      "1/1 [==============================] - 0s 33ms/step\n"
     ]
    },
    {
     "name": "stderr",
     "output_type": "stream",
     "text": [
      "  2%|▏         | 22/1053 [00:01<01:07, 15.28it/s]"
     ]
    },
    {
     "name": "stdout",
     "output_type": "stream",
     "text": [
      "1/1 [==============================] - 0s 29ms/step\n",
      "1/1 [==============================] - 0s 28ms/step\n"
     ]
    },
    {
     "name": "stderr",
     "output_type": "stream",
     "text": [
      "  2%|▏         | 24/1053 [00:01<01:06, 15.37it/s]"
     ]
    },
    {
     "name": "stdout",
     "output_type": "stream",
     "text": [
      "1/1 [==============================] - 0s 29ms/step\n",
      "1/1 [==============================] - 0s 29ms/step\n"
     ]
    },
    {
     "name": "stderr",
     "output_type": "stream",
     "text": [
      "  2%|▏         | 26/1053 [00:01<01:07, 15.24it/s]"
     ]
    },
    {
     "name": "stdout",
     "output_type": "stream",
     "text": [
      "1/1 [==============================] - 0s 28ms/step\n",
      "1/1 [==============================] - 0s 29ms/step\n"
     ]
    },
    {
     "name": "stderr",
     "output_type": "stream",
     "text": [
      "  3%|▎         | 28/1053 [00:01<01:06, 15.35it/s]"
     ]
    },
    {
     "name": "stdout",
     "output_type": "stream",
     "text": [
      "1/1 [==============================] - 0s 28ms/step\n",
      "1/1 [==============================] - 0s 28ms/step\n"
     ]
    },
    {
     "name": "stderr",
     "output_type": "stream",
     "text": [
      "  3%|▎         | 30/1053 [00:01<01:06, 15.44it/s]"
     ]
    },
    {
     "name": "stdout",
     "output_type": "stream",
     "text": [
      "1/1 [==============================] - 0s 28ms/step\n",
      "1/1 [==============================] - 0s 28ms/step\n"
     ]
    },
    {
     "name": "stderr",
     "output_type": "stream",
     "text": [
      "  3%|▎         | 32/1053 [00:02<01:05, 15.51it/s]"
     ]
    },
    {
     "name": "stdout",
     "output_type": "stream",
     "text": [
      "1/1 [==============================] - 0s 28ms/step\n",
      "1/1 [==============================] - 0s 28ms/step\n"
     ]
    },
    {
     "name": "stderr",
     "output_type": "stream",
     "text": [
      "  3%|▎         | 34/1053 [00:02<01:05, 15.57it/s]"
     ]
    },
    {
     "name": "stdout",
     "output_type": "stream",
     "text": [
      "1/1 [==============================] - 0s 29ms/step\n",
      "1/1 [==============================] - 0s 28ms/step\n"
     ]
    },
    {
     "name": "stderr",
     "output_type": "stream",
     "text": [
      "  3%|▎         | 36/1053 [00:02<01:05, 15.43it/s]"
     ]
    },
    {
     "name": "stdout",
     "output_type": "stream",
     "text": [
      "1/1 [==============================] - 0s 29ms/step\n",
      "1/1 [==============================] - 0s 28ms/step\n"
     ]
    },
    {
     "name": "stderr",
     "output_type": "stream",
     "text": [
      "  4%|▎         | 38/1053 [00:02<01:05, 15.49it/s]"
     ]
    },
    {
     "name": "stdout",
     "output_type": "stream",
     "text": [
      "1/1 [==============================] - 0s 28ms/step\n",
      "1/1 [==============================] - 0s 28ms/step\n"
     ]
    },
    {
     "name": "stderr",
     "output_type": "stream",
     "text": [
      "  4%|▍         | 40/1053 [00:02<01:05, 15.55it/s]"
     ]
    },
    {
     "name": "stdout",
     "output_type": "stream",
     "text": [
      "1/1 [==============================] - 0s 28ms/step\n",
      "1/1 [==============================] - 0s 28ms/step\n"
     ]
    },
    {
     "name": "stderr",
     "output_type": "stream",
     "text": [
      "  4%|▍         | 42/1053 [00:02<01:04, 15.61it/s]"
     ]
    },
    {
     "name": "stdout",
     "output_type": "stream",
     "text": [
      "1/1 [==============================] - 0s 28ms/step\n",
      "1/1 [==============================] - 0s 28ms/step\n"
     ]
    },
    {
     "name": "stderr",
     "output_type": "stream",
     "text": [
      "  4%|▍         | 44/1053 [00:02<01:04, 15.66it/s]"
     ]
    },
    {
     "name": "stdout",
     "output_type": "stream",
     "text": [
      "1/1 [==============================] - 0s 29ms/step\n",
      "1/1 [==============================] - 0s 27ms/step\n"
     ]
    },
    {
     "name": "stderr",
     "output_type": "stream",
     "text": [
      "  4%|▍         | 46/1053 [00:02<01:04, 15.51it/s]"
     ]
    },
    {
     "name": "stdout",
     "output_type": "stream",
     "text": [
      "1/1 [==============================] - 0s 28ms/step\n",
      "1/1 [==============================] - 0s 29ms/step\n"
     ]
    },
    {
     "name": "stderr",
     "output_type": "stream",
     "text": [
      "  5%|▍         | 48/1053 [00:03<01:04, 15.55it/s]"
     ]
    },
    {
     "name": "stdout",
     "output_type": "stream",
     "text": [
      "1/1 [==============================] - 0s 28ms/step\n",
      "1/1 [==============================] - 0s 29ms/step\n"
     ]
    },
    {
     "name": "stderr",
     "output_type": "stream",
     "text": [
      "  5%|▍         | 50/1053 [00:03<01:04, 15.56it/s]"
     ]
    },
    {
     "name": "stdout",
     "output_type": "stream",
     "text": [
      "1/1 [==============================] - 0s 28ms/step\n",
      "1/1 [==============================] - 0s 28ms/step\n"
     ]
    },
    {
     "name": "stderr",
     "output_type": "stream",
     "text": [
      "  5%|▍         | 52/1053 [00:03<01:04, 15.61it/s]"
     ]
    },
    {
     "name": "stdout",
     "output_type": "stream",
     "text": [
      "1/1 [==============================] - 0s 28ms/step\n",
      "1/1 [==============================] - 0s 31ms/step\n"
     ]
    },
    {
     "name": "stderr",
     "output_type": "stream",
     "text": [
      "  5%|▌         | 54/1053 [00:03<01:04, 15.51it/s]"
     ]
    },
    {
     "name": "stdout",
     "output_type": "stream",
     "text": [
      "1/1 [==============================] - 0s 28ms/step\n",
      "1/1 [==============================] - 0s 29ms/step\n"
     ]
    },
    {
     "name": "stderr",
     "output_type": "stream",
     "text": [
      "  5%|▌         | 56/1053 [00:03<01:04, 15.38it/s]"
     ]
    },
    {
     "name": "stdout",
     "output_type": "stream",
     "text": [
      "1/1 [==============================] - 0s 28ms/step\n",
      "1/1 [==============================] - 0s 29ms/step\n"
     ]
    },
    {
     "name": "stderr",
     "output_type": "stream",
     "text": [
      "  6%|▌         | 58/1053 [00:03<01:04, 15.45it/s]"
     ]
    },
    {
     "name": "stdout",
     "output_type": "stream",
     "text": [
      "1/1 [==============================] - 0s 28ms/step\n",
      "1/1 [==============================] - 0s 28ms/step\n"
     ]
    },
    {
     "name": "stderr",
     "output_type": "stream",
     "text": [
      "  6%|▌         | 60/1053 [00:03<01:04, 15.51it/s]"
     ]
    },
    {
     "name": "stdout",
     "output_type": "stream",
     "text": [
      "1/1 [==============================] - 0s 28ms/step\n",
      "1/1 [==============================] - 0s 28ms/step\n"
     ]
    },
    {
     "name": "stderr",
     "output_type": "stream",
     "text": [
      "  6%|▌         | 62/1053 [00:04<01:03, 15.58it/s]"
     ]
    },
    {
     "name": "stdout",
     "output_type": "stream",
     "text": [
      "1/1 [==============================] - 0s 28ms/step\n",
      "1/1 [==============================] - 0s 28ms/step\n"
     ]
    },
    {
     "name": "stderr",
     "output_type": "stream",
     "text": [
      "  6%|▌         | 64/1053 [00:04<01:03, 15.60it/s]"
     ]
    },
    {
     "name": "stdout",
     "output_type": "stream",
     "text": [
      "1/1 [==============================] - 0s 28ms/step\n",
      "1/1 [==============================] - 0s 28ms/step\n"
     ]
    },
    {
     "name": "stderr",
     "output_type": "stream",
     "text": [
      "  6%|▋         | 66/1053 [00:04<01:03, 15.48it/s]"
     ]
    },
    {
     "name": "stdout",
     "output_type": "stream",
     "text": [
      "1/1 [==============================] - 0s 28ms/step\n",
      "1/1 [==============================] - 0s 29ms/step\n"
     ]
    },
    {
     "name": "stderr",
     "output_type": "stream",
     "text": [
      "  6%|▋         | 68/1053 [00:04<01:03, 15.55it/s]"
     ]
    },
    {
     "name": "stdout",
     "output_type": "stream",
     "text": [
      "1/1 [==============================] - 0s 28ms/step\n",
      "1/1 [==============================] - 0s 29ms/step\n"
     ]
    },
    {
     "name": "stderr",
     "output_type": "stream",
     "text": [
      "  7%|▋         | 70/1053 [00:04<01:03, 15.57it/s]"
     ]
    },
    {
     "name": "stdout",
     "output_type": "stream",
     "text": [
      "1/1 [==============================] - 0s 29ms/step\n",
      "1/1 [==============================] - 0s 29ms/step\n"
     ]
    },
    {
     "name": "stderr",
     "output_type": "stream",
     "text": [
      "  7%|▋         | 72/1053 [00:04<01:02, 15.59it/s]"
     ]
    },
    {
     "name": "stdout",
     "output_type": "stream",
     "text": [
      "1/1 [==============================] - 0s 28ms/step\n",
      "1/1 [==============================] - 0s 28ms/step\n"
     ]
    },
    {
     "name": "stderr",
     "output_type": "stream",
     "text": [
      "  7%|▋         | 74/1053 [00:04<01:02, 15.62it/s]"
     ]
    },
    {
     "name": "stdout",
     "output_type": "stream",
     "text": [
      "1/1 [==============================] - 0s 28ms/step\n",
      "1/1 [==============================] - 0s 29ms/step\n"
     ]
    },
    {
     "name": "stderr",
     "output_type": "stream",
     "text": [
      "  7%|▋         | 76/1053 [00:04<01:03, 15.45it/s]"
     ]
    },
    {
     "name": "stdout",
     "output_type": "stream",
     "text": [
      "1/1 [==============================] - 0s 28ms/step\n",
      "1/1 [==============================] - 0s 29ms/step\n"
     ]
    },
    {
     "name": "stderr",
     "output_type": "stream",
     "text": [
      "  7%|▋         | 78/1053 [00:05<01:02, 15.51it/s]"
     ]
    },
    {
     "name": "stdout",
     "output_type": "stream",
     "text": [
      "1/1 [==============================] - 0s 28ms/step\n",
      "1/1 [==============================] - 0s 29ms/step\n"
     ]
    },
    {
     "name": "stderr",
     "output_type": "stream",
     "text": [
      "  8%|▊         | 80/1053 [00:05<01:02, 15.52it/s]"
     ]
    },
    {
     "name": "stdout",
     "output_type": "stream",
     "text": [
      "1/1 [==============================] - 0s 29ms/step\n",
      "1/1 [==============================] - 0s 29ms/step\n"
     ]
    },
    {
     "name": "stderr",
     "output_type": "stream",
     "text": [
      "  8%|▊         | 82/1053 [00:05<01:02, 15.53it/s]"
     ]
    },
    {
     "name": "stdout",
     "output_type": "stream",
     "text": [
      "1/1 [==============================] - 0s 28ms/step\n",
      "1/1 [==============================] - 0s 29ms/step\n"
     ]
    },
    {
     "name": "stderr",
     "output_type": "stream",
     "text": [
      "  8%|▊         | 84/1053 [00:05<01:02, 15.54it/s]"
     ]
    },
    {
     "name": "stdout",
     "output_type": "stream",
     "text": [
      "1/1 [==============================] - 0s 28ms/step\n",
      "1/1 [==============================] - 0s 28ms/step\n"
     ]
    },
    {
     "name": "stderr",
     "output_type": "stream",
     "text": [
      "  8%|▊         | 86/1053 [00:05<01:02, 15.58it/s]"
     ]
    },
    {
     "name": "stdout",
     "output_type": "stream",
     "text": [
      "1/1 [==============================] - 0s 29ms/step\n",
      "1/1 [==============================] - 0s 28ms/step\n"
     ]
    },
    {
     "name": "stderr",
     "output_type": "stream",
     "text": [
      "  8%|▊         | 88/1053 [00:05<01:02, 15.42it/s]"
     ]
    },
    {
     "name": "stdout",
     "output_type": "stream",
     "text": [
      "1/1 [==============================] - 0s 28ms/step\n",
      "1/1 [==============================] - 0s 28ms/step\n"
     ]
    },
    {
     "name": "stderr",
     "output_type": "stream",
     "text": [
      "  9%|▊         | 90/1053 [00:05<01:02, 15.48it/s]"
     ]
    },
    {
     "name": "stdout",
     "output_type": "stream",
     "text": [
      "1/1 [==============================] - 0s 28ms/step\n",
      "1/1 [==============================] - 0s 29ms/step\n"
     ]
    },
    {
     "name": "stderr",
     "output_type": "stream",
     "text": [
      "  9%|▊         | 92/1053 [00:05<01:01, 15.54it/s]"
     ]
    },
    {
     "name": "stdout",
     "output_type": "stream",
     "text": [
      "1/1 [==============================] - 0s 28ms/step\n",
      "1/1 [==============================] - 0s 29ms/step\n"
     ]
    },
    {
     "name": "stderr",
     "output_type": "stream",
     "text": [
      "  9%|▉         | 94/1053 [00:06<01:01, 15.57it/s]"
     ]
    },
    {
     "name": "stdout",
     "output_type": "stream",
     "text": [
      "1/1 [==============================] - 0s 28ms/step\n",
      "1/1 [==============================] - 0s 29ms/step\n"
     ]
    },
    {
     "name": "stderr",
     "output_type": "stream",
     "text": [
      "  9%|▉         | 96/1053 [00:06<01:01, 15.60it/s]"
     ]
    },
    {
     "name": "stdout",
     "output_type": "stream",
     "text": [
      "1/1 [==============================] - 0s 28ms/step\n",
      "1/1 [==============================] - 0s 29ms/step\n"
     ]
    },
    {
     "name": "stderr",
     "output_type": "stream",
     "text": [
      "  9%|▉         | 98/1053 [00:06<01:01, 15.43it/s]"
     ]
    },
    {
     "name": "stdout",
     "output_type": "stream",
     "text": [
      "1/1 [==============================] - 0s 28ms/step\n",
      "1/1 [==============================] - 0s 28ms/step\n"
     ]
    },
    {
     "name": "stderr",
     "output_type": "stream",
     "text": [
      "  9%|▉         | 100/1053 [00:06<01:01, 15.51it/s]"
     ]
    },
    {
     "name": "stdout",
     "output_type": "stream",
     "text": [
      "1/1 [==============================] - 0s 28ms/step\n",
      "1/1 [==============================] - 0s 28ms/step\n"
     ]
    },
    {
     "name": "stderr",
     "output_type": "stream",
     "text": [
      " 10%|▉         | 102/1053 [00:06<01:01, 15.55it/s]"
     ]
    },
    {
     "name": "stdout",
     "output_type": "stream",
     "text": [
      "1/1 [==============================] - 0s 28ms/step\n",
      "1/1 [==============================] - 0s 28ms/step\n"
     ]
    },
    {
     "name": "stderr",
     "output_type": "stream",
     "text": [
      " 10%|▉         | 104/1053 [00:06<01:00, 15.58it/s]"
     ]
    },
    {
     "name": "stdout",
     "output_type": "stream",
     "text": [
      "1/1 [==============================] - 0s 30ms/step\n",
      "1/1 [==============================] - 0s 28ms/step\n"
     ]
    },
    {
     "name": "stderr",
     "output_type": "stream",
     "text": [
      " 10%|█         | 106/1053 [00:06<01:00, 15.54it/s]"
     ]
    },
    {
     "name": "stdout",
     "output_type": "stream",
     "text": [
      "1/1 [==============================] - 0s 28ms/step\n",
      "1/1 [==============================] - 0s 28ms/step\n"
     ]
    },
    {
     "name": "stderr",
     "output_type": "stream",
     "text": [
      " 10%|█         | 108/1053 [00:06<01:01, 15.42it/s]"
     ]
    },
    {
     "name": "stdout",
     "output_type": "stream",
     "text": [
      "1/1 [==============================] - 0s 28ms/step\n",
      "1/1 [==============================] - 0s 29ms/step\n"
     ]
    },
    {
     "name": "stderr",
     "output_type": "stream",
     "text": [
      " 10%|█         | 110/1053 [00:07<01:00, 15.48it/s]"
     ]
    },
    {
     "name": "stdout",
     "output_type": "stream",
     "text": [
      "1/1 [==============================] - 0s 28ms/step\n",
      "1/1 [==============================] - 0s 28ms/step\n"
     ]
    },
    {
     "name": "stderr",
     "output_type": "stream",
     "text": [
      " 11%|█         | 112/1053 [00:07<01:00, 15.53it/s]"
     ]
    },
    {
     "name": "stdout",
     "output_type": "stream",
     "text": [
      "1/1 [==============================] - 0s 28ms/step\n",
      "1/1 [==============================] - 0s 28ms/step\n"
     ]
    },
    {
     "name": "stderr",
     "output_type": "stream",
     "text": [
      " 11%|█         | 114/1053 [00:07<01:00, 15.56it/s]"
     ]
    },
    {
     "name": "stdout",
     "output_type": "stream",
     "text": [
      "1/1 [==============================] - 0s 28ms/step\n",
      "1/1 [==============================] - 0s 28ms/step\n"
     ]
    },
    {
     "name": "stderr",
     "output_type": "stream",
     "text": [
      " 11%|█         | 116/1053 [00:07<00:59, 15.63it/s]"
     ]
    },
    {
     "name": "stdout",
     "output_type": "stream",
     "text": [
      "1/1 [==============================] - 0s 28ms/step\n",
      "1/1 [==============================] - 0s 29ms/step\n"
     ]
    },
    {
     "name": "stderr",
     "output_type": "stream",
     "text": [
      " 11%|█         | 118/1053 [00:07<01:00, 15.44it/s]"
     ]
    },
    {
     "name": "stdout",
     "output_type": "stream",
     "text": [
      "1/1 [==============================] - 0s 28ms/step\n",
      "1/1 [==============================] - 0s 28ms/step\n"
     ]
    },
    {
     "name": "stderr",
     "output_type": "stream",
     "text": [
      " 11%|█▏        | 120/1053 [00:07<01:00, 15.49it/s]"
     ]
    },
    {
     "name": "stdout",
     "output_type": "stream",
     "text": [
      "1/1 [==============================] - 0s 28ms/step\n",
      "1/1 [==============================] - 0s 29ms/step\n"
     ]
    },
    {
     "name": "stderr",
     "output_type": "stream",
     "text": [
      " 12%|█▏        | 122/1053 [00:07<01:00, 15.52it/s]"
     ]
    },
    {
     "name": "stdout",
     "output_type": "stream",
     "text": [
      "1/1 [==============================] - 0s 28ms/step\n",
      "1/1 [==============================] - 0s 28ms/step\n"
     ]
    },
    {
     "name": "stderr",
     "output_type": "stream",
     "text": [
      " 12%|█▏        | 124/1053 [00:08<00:59, 15.56it/s]"
     ]
    },
    {
     "name": "stdout",
     "output_type": "stream",
     "text": [
      "1/1 [==============================] - 0s 28ms/step\n",
      "1/1 [==============================] - 0s 28ms/step\n"
     ]
    },
    {
     "name": "stderr",
     "output_type": "stream",
     "text": [
      " 12%|█▏        | 126/1053 [00:08<00:59, 15.60it/s]"
     ]
    },
    {
     "name": "stdout",
     "output_type": "stream",
     "text": [
      "1/1 [==============================] - 0s 28ms/step\n",
      "1/1 [==============================] - 0s 29ms/step\n"
     ]
    },
    {
     "name": "stderr",
     "output_type": "stream",
     "text": [
      " 12%|█▏        | 128/1053 [00:08<00:59, 15.44it/s]"
     ]
    },
    {
     "name": "stdout",
     "output_type": "stream",
     "text": [
      "1/1 [==============================] - 0s 28ms/step\n",
      "1/1 [==============================] - 0s 28ms/step\n"
     ]
    },
    {
     "name": "stderr",
     "output_type": "stream",
     "text": [
      " 12%|█▏        | 130/1053 [00:08<00:59, 15.53it/s]"
     ]
    },
    {
     "name": "stdout",
     "output_type": "stream",
     "text": [
      "1/1 [==============================] - 0s 28ms/step\n",
      "1/1 [==============================] - 0s 28ms/step\n"
     ]
    },
    {
     "name": "stderr",
     "output_type": "stream",
     "text": [
      " 13%|█▎        | 132/1053 [00:08<00:59, 15.58it/s]"
     ]
    },
    {
     "name": "stdout",
     "output_type": "stream",
     "text": [
      "1/1 [==============================] - 0s 28ms/step\n",
      "1/1 [==============================] - 0s 28ms/step\n"
     ]
    },
    {
     "name": "stderr",
     "output_type": "stream",
     "text": [
      " 13%|█▎        | 134/1053 [00:08<00:58, 15.62it/s]"
     ]
    },
    {
     "name": "stdout",
     "output_type": "stream",
     "text": [
      "1/1 [==============================] - 0s 28ms/step\n",
      "1/1 [==============================] - 0s 28ms/step\n"
     ]
    },
    {
     "name": "stderr",
     "output_type": "stream",
     "text": [
      " 13%|█▎        | 136/1053 [00:08<00:58, 15.63it/s]"
     ]
    },
    {
     "name": "stdout",
     "output_type": "stream",
     "text": [
      "1/1 [==============================] - 0s 28ms/step\n",
      "1/1 [==============================] - 0s 28ms/step\n"
     ]
    },
    {
     "name": "stderr",
     "output_type": "stream",
     "text": [
      " 13%|█▎        | 138/1053 [00:08<00:59, 15.47it/s]"
     ]
    },
    {
     "name": "stdout",
     "output_type": "stream",
     "text": [
      "1/1 [==============================] - 0s 23ms/step\n",
      "1/1 [==============================] - 0s 29ms/step\n"
     ]
    },
    {
     "name": "stderr",
     "output_type": "stream",
     "text": [
      " 13%|█▎        | 140/1053 [00:09<01:46,  8.57it/s]"
     ]
    },
    {
     "name": "stdout",
     "output_type": "stream",
     "text": [
      "1/1 [==============================] - 0s 29ms/step\n",
      "1/1 [==============================] - 0s 31ms/step\n"
     ]
    },
    {
     "name": "stderr",
     "output_type": "stream",
     "text": [
      " 13%|█▎        | 142/1053 [00:09<01:32,  9.86it/s]"
     ]
    },
    {
     "name": "stdout",
     "output_type": "stream",
     "text": [
      "1/1 [==============================] - 0s 29ms/step\n",
      "1/1 [==============================] - 0s 29ms/step\n"
     ]
    },
    {
     "name": "stderr",
     "output_type": "stream",
     "text": [
      " 14%|█▎        | 144/1053 [00:09<01:22, 11.06it/s]"
     ]
    },
    {
     "name": "stdout",
     "output_type": "stream",
     "text": [
      "1/1 [==============================] - 0s 29ms/step\n",
      "1/1 [==============================] - 0s 29ms/step\n"
     ]
    },
    {
     "name": "stderr",
     "output_type": "stream",
     "text": [
      " 14%|█▍        | 146/1053 [00:09<01:14, 12.11it/s]"
     ]
    },
    {
     "name": "stdout",
     "output_type": "stream",
     "text": [
      "1/1 [==============================] - 0s 29ms/step\n",
      "1/1 [==============================] - 0s 27ms/step\n"
     ]
    },
    {
     "name": "stderr",
     "output_type": "stream",
     "text": [
      " 14%|█▍        | 148/1053 [00:09<01:09, 13.01it/s]"
     ]
    },
    {
     "name": "stdout",
     "output_type": "stream",
     "text": [
      "1/1 [==============================] - 0s 29ms/step\n",
      "1/1 [==============================] - 0s 29ms/step\n"
     ]
    },
    {
     "name": "stderr",
     "output_type": "stream",
     "text": [
      " 14%|█▍        | 150/1053 [00:10<01:06, 13.53it/s]"
     ]
    },
    {
     "name": "stdout",
     "output_type": "stream",
     "text": [
      "1/1 [==============================] - 0s 29ms/step\n",
      "1/1 [==============================] - 0s 29ms/step\n"
     ]
    },
    {
     "name": "stderr",
     "output_type": "stream",
     "text": [
      " 14%|█▍        | 152/1053 [00:10<01:04, 14.06it/s]"
     ]
    },
    {
     "name": "stdout",
     "output_type": "stream",
     "text": [
      "1/1 [==============================] - 0s 29ms/step\n",
      "1/1 [==============================] - 0s 29ms/step\n"
     ]
    },
    {
     "name": "stderr",
     "output_type": "stream",
     "text": [
      " 15%|█▍        | 154/1053 [00:10<01:02, 14.44it/s]"
     ]
    },
    {
     "name": "stdout",
     "output_type": "stream",
     "text": [
      "1/1 [==============================] - 0s 28ms/step\n",
      "1/1 [==============================] - 0s 28ms/step\n"
     ]
    },
    {
     "name": "stderr",
     "output_type": "stream",
     "text": [
      " 15%|█▍        | 156/1053 [00:10<01:00, 14.78it/s]"
     ]
    },
    {
     "name": "stdout",
     "output_type": "stream",
     "text": [
      "1/1 [==============================] - 0s 28ms/step\n",
      "1/1 [==============================] - 0s 29ms/step\n"
     ]
    },
    {
     "name": "stderr",
     "output_type": "stream",
     "text": [
      " 15%|█▌        | 158/1053 [00:10<00:59, 15.03it/s]"
     ]
    },
    {
     "name": "stdout",
     "output_type": "stream",
     "text": [
      "1/1 [==============================] - 0s 29ms/step\n",
      "1/1 [==============================] - 0s 28ms/step\n"
     ]
    },
    {
     "name": "stderr",
     "output_type": "stream",
     "text": [
      " 15%|█▌        | 160/1053 [00:10<00:59, 15.01it/s]"
     ]
    },
    {
     "name": "stdout",
     "output_type": "stream",
     "text": [
      "1/1 [==============================] - 0s 29ms/step\n",
      "1/1 [==============================] - 0s 29ms/step\n"
     ]
    },
    {
     "name": "stderr",
     "output_type": "stream",
     "text": [
      " 15%|█▌        | 162/1053 [00:10<00:58, 15.20it/s]"
     ]
    },
    {
     "name": "stdout",
     "output_type": "stream",
     "text": [
      "1/1 [==============================] - 0s 29ms/step\n",
      "1/1 [==============================] - 0s 28ms/step\n"
     ]
    },
    {
     "name": "stderr",
     "output_type": "stream",
     "text": [
      " 16%|█▌        | 164/1053 [00:10<00:57, 15.34it/s]"
     ]
    },
    {
     "name": "stdout",
     "output_type": "stream",
     "text": [
      "1/1 [==============================] - 0s 28ms/step\n",
      "1/1 [==============================] - 0s 29ms/step\n"
     ]
    },
    {
     "name": "stderr",
     "output_type": "stream",
     "text": [
      " 16%|█▌        | 166/1053 [00:11<00:57, 15.44it/s]"
     ]
    },
    {
     "name": "stdout",
     "output_type": "stream",
     "text": [
      "1/1 [==============================] - 0s 28ms/step\n",
      "1/1 [==============================] - 0s 29ms/step\n"
     ]
    },
    {
     "name": "stderr",
     "output_type": "stream",
     "text": [
      " 16%|█▌        | 168/1053 [00:11<00:57, 15.46it/s]"
     ]
    },
    {
     "name": "stdout",
     "output_type": "stream",
     "text": [
      "1/1 [==============================] - 0s 30ms/step\n",
      "1/1 [==============================] - 0s 30ms/step\n"
     ]
    },
    {
     "name": "stderr",
     "output_type": "stream",
     "text": [
      " 16%|█▌        | 170/1053 [00:11<00:58, 15.22it/s]"
     ]
    },
    {
     "name": "stdout",
     "output_type": "stream",
     "text": [
      "1/1 [==============================] - 0s 31ms/step\n",
      "1/1 [==============================] - 0s 29ms/step\n"
     ]
    },
    {
     "name": "stderr",
     "output_type": "stream",
     "text": [
      " 16%|█▋        | 172/1053 [00:11<00:57, 15.21it/s]"
     ]
    },
    {
     "name": "stdout",
     "output_type": "stream",
     "text": [
      "1/1 [==============================] - 0s 29ms/step\n",
      "1/1 [==============================] - 0s 28ms/step\n"
     ]
    },
    {
     "name": "stderr",
     "output_type": "stream",
     "text": [
      " 17%|█▋        | 174/1053 [00:11<00:57, 15.34it/s]"
     ]
    },
    {
     "name": "stdout",
     "output_type": "stream",
     "text": [
      "1/1 [==============================] - 0s 28ms/step\n",
      "1/1 [==============================] - 0s 29ms/step\n"
     ]
    },
    {
     "name": "stderr",
     "output_type": "stream",
     "text": [
      " 17%|█▋        | 176/1053 [00:11<00:56, 15.42it/s]"
     ]
    },
    {
     "name": "stdout",
     "output_type": "stream",
     "text": [
      "1/1 [==============================] - 0s 28ms/step\n",
      "1/1 [==============================] - 0s 29ms/step\n"
     ]
    },
    {
     "name": "stderr",
     "output_type": "stream",
     "text": [
      " 17%|█▋        | 178/1053 [00:11<00:56, 15.49it/s]"
     ]
    },
    {
     "name": "stdout",
     "output_type": "stream",
     "text": [
      "1/1 [==============================] - 0s 29ms/step\n",
      "1/1 [==============================] - 0s 28ms/step\n"
     ]
    },
    {
     "name": "stderr",
     "output_type": "stream",
     "text": [
      " 17%|█▋        | 180/1053 [00:11<00:56, 15.32it/s]"
     ]
    },
    {
     "name": "stdout",
     "output_type": "stream",
     "text": [
      "1/1 [==============================] - 0s 29ms/step\n",
      "1/1 [==============================] - 0s 29ms/step\n"
     ]
    },
    {
     "name": "stderr",
     "output_type": "stream",
     "text": [
      " 17%|█▋        | 182/1053 [00:12<00:56, 15.38it/s]"
     ]
    },
    {
     "name": "stdout",
     "output_type": "stream",
     "text": [
      "1/1 [==============================] - 0s 29ms/step\n",
      "1/1 [==============================] - 0s 29ms/step\n"
     ]
    },
    {
     "name": "stderr",
     "output_type": "stream",
     "text": [
      " 17%|█▋        | 184/1053 [00:12<00:58, 14.94it/s]"
     ]
    },
    {
     "name": "stdout",
     "output_type": "stream",
     "text": [
      "1/1 [==============================] - 0s 29ms/step\n",
      "1/1 [==============================] - 0s 29ms/step\n"
     ]
    },
    {
     "name": "stderr",
     "output_type": "stream",
     "text": [
      " 18%|█▊        | 186/1053 [00:12<00:57, 15.13it/s]"
     ]
    },
    {
     "name": "stdout",
     "output_type": "stream",
     "text": [
      "1/1 [==============================] - 0s 28ms/step\n",
      "1/1 [==============================] - 0s 29ms/step\n"
     ]
    },
    {
     "name": "stderr",
     "output_type": "stream",
     "text": [
      " 18%|█▊        | 188/1053 [00:12<00:56, 15.26it/s]"
     ]
    },
    {
     "name": "stdout",
     "output_type": "stream",
     "text": [
      "1/1 [==============================] - 0s 29ms/step\n",
      "1/1 [==============================] - 0s 29ms/step\n"
     ]
    },
    {
     "name": "stderr",
     "output_type": "stream",
     "text": [
      " 18%|█▊        | 190/1053 [00:12<00:56, 15.15it/s]"
     ]
    },
    {
     "name": "stdout",
     "output_type": "stream",
     "text": [
      "1/1 [==============================] - 0s 29ms/step\n",
      "1/1 [==============================] - 0s 29ms/step\n"
     ]
    },
    {
     "name": "stderr",
     "output_type": "stream",
     "text": [
      " 18%|█▊        | 192/1053 [00:12<00:56, 15.25it/s]"
     ]
    },
    {
     "name": "stdout",
     "output_type": "stream",
     "text": [
      "1/1 [==============================] - 0s 29ms/step\n",
      "1/1 [==============================] - 0s 28ms/step\n"
     ]
    },
    {
     "name": "stderr",
     "output_type": "stream",
     "text": [
      " 18%|█▊        | 194/1053 [00:12<00:55, 15.34it/s]"
     ]
    },
    {
     "name": "stdout",
     "output_type": "stream",
     "text": [
      "1/1 [==============================] - 0s 28ms/step\n",
      "1/1 [==============================] - 0s 29ms/step\n"
     ]
    },
    {
     "name": "stderr",
     "output_type": "stream",
     "text": [
      " 19%|█▊        | 196/1053 [00:13<00:55, 15.42it/s]"
     ]
    },
    {
     "name": "stdout",
     "output_type": "stream",
     "text": [
      "1/1 [==============================] - 0s 28ms/step\n",
      "1/1 [==============================] - 0s 29ms/step\n"
     ]
    },
    {
     "name": "stderr",
     "output_type": "stream",
     "text": [
      " 19%|█▉        | 198/1053 [00:13<00:55, 15.49it/s]"
     ]
    },
    {
     "name": "stdout",
     "output_type": "stream",
     "text": [
      "1/1 [==============================] - 0s 29ms/step\n",
      "1/1 [==============================] - 0s 28ms/step\n"
     ]
    },
    {
     "name": "stderr",
     "output_type": "stream",
     "text": [
      " 19%|█▉        | 200/1053 [00:13<00:55, 15.34it/s]"
     ]
    },
    {
     "name": "stdout",
     "output_type": "stream",
     "text": [
      "1/1 [==============================] - 0s 29ms/step\n",
      "1/1 [==============================] - 0s 28ms/step\n"
     ]
    },
    {
     "name": "stderr",
     "output_type": "stream",
     "text": [
      " 19%|█▉        | 202/1053 [00:13<00:55, 15.41it/s]"
     ]
    },
    {
     "name": "stdout",
     "output_type": "stream",
     "text": [
      "1/1 [==============================] - 0s 29ms/step\n",
      "1/1 [==============================] - 0s 29ms/step\n"
     ]
    },
    {
     "name": "stderr",
     "output_type": "stream",
     "text": [
      " 19%|█▉        | 204/1053 [00:13<00:54, 15.44it/s]"
     ]
    },
    {
     "name": "stdout",
     "output_type": "stream",
     "text": [
      "1/1 [==============================] - 0s 29ms/step\n",
      "1/1 [==============================] - 0s 29ms/step\n"
     ]
    },
    {
     "name": "stderr",
     "output_type": "stream",
     "text": [
      " 20%|█▉        | 206/1053 [00:13<00:54, 15.46it/s]"
     ]
    },
    {
     "name": "stdout",
     "output_type": "stream",
     "text": [
      "1/1 [==============================] - 0s 28ms/step\n",
      "1/1 [==============================] - 0s 28ms/step\n"
     ]
    },
    {
     "name": "stderr",
     "output_type": "stream",
     "text": [
      " 20%|█▉        | 208/1053 [00:13<00:54, 15.55it/s]"
     ]
    },
    {
     "name": "stdout",
     "output_type": "stream",
     "text": [
      "1/1 [==============================] - 0s 28ms/step\n",
      "1/1 [==============================] - 0s 28ms/step\n"
     ]
    },
    {
     "name": "stderr",
     "output_type": "stream",
     "text": [
      " 20%|█▉        | 210/1053 [00:13<00:54, 15.43it/s]"
     ]
    },
    {
     "name": "stdout",
     "output_type": "stream",
     "text": [
      "1/1 [==============================] - 0s 29ms/step\n",
      "1/1 [==============================] - 0s 28ms/step\n"
     ]
    },
    {
     "name": "stderr",
     "output_type": "stream",
     "text": [
      " 20%|██        | 212/1053 [00:14<00:54, 15.45it/s]"
     ]
    },
    {
     "name": "stdout",
     "output_type": "stream",
     "text": [
      "1/1 [==============================] - 0s 29ms/step\n",
      "1/1 [==============================] - 0s 29ms/step\n"
     ]
    },
    {
     "name": "stderr",
     "output_type": "stream",
     "text": [
      " 20%|██        | 214/1053 [00:14<00:54, 15.47it/s]"
     ]
    },
    {
     "name": "stdout",
     "output_type": "stream",
     "text": [
      "1/1 [==============================] - 0s 29ms/step\n",
      "1/1 [==============================] - 0s 29ms/step\n"
     ]
    },
    {
     "name": "stderr",
     "output_type": "stream",
     "text": [
      " 21%|██        | 216/1053 [00:14<00:54, 15.50it/s]"
     ]
    },
    {
     "name": "stdout",
     "output_type": "stream",
     "text": [
      "1/1 [==============================] - 0s 29ms/step\n",
      "1/1 [==============================] - 0s 30ms/step\n"
     ]
    },
    {
     "name": "stderr",
     "output_type": "stream",
     "text": [
      " 21%|██        | 218/1053 [00:14<00:53, 15.46it/s]"
     ]
    },
    {
     "name": "stdout",
     "output_type": "stream",
     "text": [
      "1/1 [==============================] - 0s 29ms/step\n",
      "1/1 [==============================] - 0s 28ms/step\n"
     ]
    },
    {
     "name": "stderr",
     "output_type": "stream",
     "text": [
      " 21%|██        | 220/1053 [00:14<00:54, 15.31it/s]"
     ]
    },
    {
     "name": "stdout",
     "output_type": "stream",
     "text": [
      "1/1 [==============================] - 0s 29ms/step\n",
      "1/1 [==============================] - 0s 29ms/step\n"
     ]
    },
    {
     "name": "stderr",
     "output_type": "stream",
     "text": [
      " 21%|██        | 222/1053 [00:14<00:54, 15.36it/s]"
     ]
    },
    {
     "name": "stdout",
     "output_type": "stream",
     "text": [
      "1/1 [==============================] - 0s 29ms/step\n",
      "1/1 [==============================] - 0s 29ms/step\n"
     ]
    },
    {
     "name": "stderr",
     "output_type": "stream",
     "text": [
      " 21%|██▏       | 224/1053 [00:14<00:53, 15.39it/s]"
     ]
    },
    {
     "name": "stdout",
     "output_type": "stream",
     "text": [
      "1/1 [==============================] - 0s 29ms/step\n",
      "1/1 [==============================] - 0s 27ms/step\n"
     ]
    },
    {
     "name": "stderr",
     "output_type": "stream",
     "text": [
      " 21%|██▏       | 226/1053 [00:14<00:53, 15.47it/s]"
     ]
    },
    {
     "name": "stdout",
     "output_type": "stream",
     "text": [
      "1/1 [==============================] - 0s 28ms/step\n",
      "1/1 [==============================] - 0s 28ms/step\n"
     ]
    },
    {
     "name": "stderr",
     "output_type": "stream",
     "text": [
      " 22%|██▏       | 228/1053 [00:15<00:53, 15.53it/s]"
     ]
    },
    {
     "name": "stdout",
     "output_type": "stream",
     "text": [
      "1/1 [==============================] - 0s 28ms/step\n",
      "1/1 [==============================] - 0s 29ms/step\n"
     ]
    },
    {
     "name": "stderr",
     "output_type": "stream",
     "text": [
      " 22%|██▏       | 230/1053 [00:15<00:53, 15.37it/s]"
     ]
    },
    {
     "name": "stdout",
     "output_type": "stream",
     "text": [
      "1/1 [==============================] - 0s 29ms/step\n",
      "1/1 [==============================] - 0s 29ms/step\n"
     ]
    },
    {
     "name": "stderr",
     "output_type": "stream",
     "text": [
      " 22%|██▏       | 232/1053 [00:15<00:53, 15.39it/s]"
     ]
    },
    {
     "name": "stdout",
     "output_type": "stream",
     "text": [
      "1/1 [==============================] - 0s 29ms/step\n",
      "1/1 [==============================] - 0s 29ms/step\n"
     ]
    },
    {
     "name": "stderr",
     "output_type": "stream",
     "text": [
      " 22%|██▏       | 234/1053 [00:15<00:53, 15.43it/s]"
     ]
    },
    {
     "name": "stdout",
     "output_type": "stream",
     "text": [
      "1/1 [==============================] - 0s 28ms/step\n",
      "1/1 [==============================] - 0s 28ms/step\n"
     ]
    },
    {
     "name": "stderr",
     "output_type": "stream",
     "text": [
      " 22%|██▏       | 236/1053 [00:15<00:52, 15.51it/s]"
     ]
    },
    {
     "name": "stdout",
     "output_type": "stream",
     "text": [
      "1/1 [==============================] - 0s 28ms/step\n",
      "1/1 [==============================] - 0s 28ms/step\n"
     ]
    },
    {
     "name": "stderr",
     "output_type": "stream",
     "text": [
      " 23%|██▎       | 238/1053 [00:15<00:52, 15.57it/s]"
     ]
    },
    {
     "name": "stdout",
     "output_type": "stream",
     "text": [
      "1/1 [==============================] - 0s 28ms/step\n",
      "1/1 [==============================] - 0s 28ms/step\n"
     ]
    },
    {
     "name": "stderr",
     "output_type": "stream",
     "text": [
      " 23%|██▎       | 240/1053 [00:15<00:52, 15.61it/s]"
     ]
    },
    {
     "name": "stdout",
     "output_type": "stream",
     "text": [
      "1/1 [==============================] - 0s 28ms/step\n",
      "1/1 [==============================] - 0s 28ms/step\n"
     ]
    },
    {
     "name": "stderr",
     "output_type": "stream",
     "text": [
      " 23%|██▎       | 242/1053 [00:16<00:52, 15.46it/s]"
     ]
    },
    {
     "name": "stdout",
     "output_type": "stream",
     "text": [
      "1/1 [==============================] - 0s 28ms/step\n",
      "1/1 [==============================] - 0s 29ms/step\n"
     ]
    },
    {
     "name": "stderr",
     "output_type": "stream",
     "text": [
      " 23%|██▎       | 244/1053 [00:16<00:52, 15.50it/s]"
     ]
    },
    {
     "name": "stdout",
     "output_type": "stream",
     "text": [
      "1/1 [==============================] - 0s 28ms/step\n",
      "1/1 [==============================] - 0s 29ms/step\n"
     ]
    },
    {
     "name": "stderr",
     "output_type": "stream",
     "text": [
      " 23%|██▎       | 246/1053 [00:16<00:51, 15.54it/s]"
     ]
    },
    {
     "name": "stdout",
     "output_type": "stream",
     "text": [
      "1/1 [==============================] - 0s 28ms/step\n",
      "1/1 [==============================] - 0s 28ms/step\n"
     ]
    },
    {
     "name": "stderr",
     "output_type": "stream",
     "text": [
      " 24%|██▎       | 248/1053 [00:16<00:51, 15.59it/s]"
     ]
    },
    {
     "name": "stdout",
     "output_type": "stream",
     "text": [
      "1/1 [==============================] - 0s 28ms/step\n",
      "1/1 [==============================] - 0s 28ms/step\n"
     ]
    },
    {
     "name": "stderr",
     "output_type": "stream",
     "text": [
      " 24%|██▎       | 250/1053 [00:16<00:51, 15.64it/s]"
     ]
    },
    {
     "name": "stdout",
     "output_type": "stream",
     "text": [
      "1/1 [==============================] - 0s 29ms/step\n",
      "1/1 [==============================] - 0s 28ms/step\n"
     ]
    },
    {
     "name": "stderr",
     "output_type": "stream",
     "text": [
      " 24%|██▍       | 252/1053 [00:16<00:51, 15.45it/s]"
     ]
    },
    {
     "name": "stdout",
     "output_type": "stream",
     "text": [
      "1/1 [==============================] - 0s 28ms/step\n",
      "1/1 [==============================] - 0s 29ms/step\n"
     ]
    },
    {
     "name": "stderr",
     "output_type": "stream",
     "text": [
      " 24%|██▍       | 254/1053 [00:16<00:51, 15.51it/s]"
     ]
    },
    {
     "name": "stdout",
     "output_type": "stream",
     "text": [
      "1/1 [==============================] - 0s 29ms/step\n",
      "1/1 [==============================] - 0s 29ms/step\n"
     ]
    },
    {
     "name": "stderr",
     "output_type": "stream",
     "text": [
      " 24%|██▍       | 256/1053 [00:16<00:51, 15.51it/s]"
     ]
    },
    {
     "name": "stdout",
     "output_type": "stream",
     "text": [
      "1/1 [==============================] - 0s 29ms/step\n",
      "1/1 [==============================] - 0s 28ms/step\n"
     ]
    },
    {
     "name": "stderr",
     "output_type": "stream",
     "text": [
      " 25%|██▍       | 258/1053 [00:17<00:51, 15.55it/s]"
     ]
    },
    {
     "name": "stdout",
     "output_type": "stream",
     "text": [
      "1/1 [==============================] - 0s 28ms/step\n",
      "1/1 [==============================] - 0s 28ms/step\n"
     ]
    },
    {
     "name": "stderr",
     "output_type": "stream",
     "text": [
      " 25%|██▍       | 260/1053 [00:17<00:50, 15.58it/s]"
     ]
    },
    {
     "name": "stdout",
     "output_type": "stream",
     "text": [
      "1/1 [==============================] - 0s 29ms/step\n",
      "1/1 [==============================] - 0s 29ms/step\n"
     ]
    },
    {
     "name": "stderr",
     "output_type": "stream",
     "text": [
      " 25%|██▍       | 262/1053 [00:17<00:51, 15.36it/s]"
     ]
    },
    {
     "name": "stdout",
     "output_type": "stream",
     "text": [
      "1/1 [==============================] - 0s 29ms/step\n",
      "1/1 [==============================] - 0s 29ms/step\n"
     ]
    },
    {
     "name": "stderr",
     "output_type": "stream",
     "text": [
      " 25%|██▌       | 264/1053 [00:17<00:51, 15.40it/s]"
     ]
    },
    {
     "name": "stdout",
     "output_type": "stream",
     "text": [
      "1/1 [==============================] - 0s 29ms/step\n",
      "1/1 [==============================] - 0s 28ms/step\n"
     ]
    },
    {
     "name": "stderr",
     "output_type": "stream",
     "text": [
      " 25%|██▌       | 266/1053 [00:17<00:50, 15.47it/s]"
     ]
    },
    {
     "name": "stdout",
     "output_type": "stream",
     "text": [
      "1/1 [==============================] - 0s 29ms/step\n",
      "1/1 [==============================] - 0s 28ms/step\n"
     ]
    },
    {
     "name": "stderr",
     "output_type": "stream",
     "text": [
      " 25%|██▌       | 268/1053 [00:17<00:50, 15.53it/s]"
     ]
    },
    {
     "name": "stdout",
     "output_type": "stream",
     "text": [
      "1/1 [==============================] - 0s 28ms/step\n",
      "1/1 [==============================] - 0s 28ms/step\n"
     ]
    },
    {
     "name": "stderr",
     "output_type": "stream",
     "text": [
      " 26%|██▌       | 270/1053 [00:17<00:50, 15.57it/s]"
     ]
    },
    {
     "name": "stdout",
     "output_type": "stream",
     "text": [
      "1/1 [==============================] - 0s 28ms/step\n",
      "1/1 [==============================] - 0s 28ms/step\n"
     ]
    },
    {
     "name": "stderr",
     "output_type": "stream",
     "text": [
      " 26%|██▌       | 272/1053 [00:17<00:50, 15.37it/s]"
     ]
    },
    {
     "name": "stdout",
     "output_type": "stream",
     "text": [
      "1/1 [==============================] - 0s 29ms/step\n",
      "1/1 [==============================] - 0s 28ms/step\n"
     ]
    },
    {
     "name": "stderr",
     "output_type": "stream",
     "text": [
      " 26%|██▌       | 274/1053 [00:18<00:50, 15.42it/s]"
     ]
    },
    {
     "name": "stdout",
     "output_type": "stream",
     "text": [
      "1/1 [==============================] - 0s 29ms/step\n",
      "1/1 [==============================] - 0s 28ms/step\n"
     ]
    },
    {
     "name": "stderr",
     "output_type": "stream",
     "text": [
      " 26%|██▌       | 276/1053 [00:18<00:50, 15.47it/s]"
     ]
    },
    {
     "name": "stdout",
     "output_type": "stream",
     "text": [
      "1/1 [==============================] - 0s 29ms/step\n",
      "1/1 [==============================] - 0s 28ms/step\n"
     ]
    },
    {
     "name": "stderr",
     "output_type": "stream",
     "text": [
      " 26%|██▋       | 278/1053 [00:18<00:49, 15.52it/s]"
     ]
    },
    {
     "name": "stdout",
     "output_type": "stream",
     "text": [
      "1/1 [==============================] - 0s 28ms/step\n",
      "1/1 [==============================] - 0s 28ms/step\n"
     ]
    },
    {
     "name": "stderr",
     "output_type": "stream",
     "text": [
      " 27%|██▋       | 280/1053 [00:18<00:49, 15.59it/s]"
     ]
    },
    {
     "name": "stdout",
     "output_type": "stream",
     "text": [
      "1/1 [==============================] - 0s 29ms/step\n",
      "1/1 [==============================] - 0s 29ms/step\n"
     ]
    },
    {
     "name": "stderr",
     "output_type": "stream",
     "text": [
      " 27%|██▋       | 282/1053 [00:18<00:50, 15.40it/s]"
     ]
    },
    {
     "name": "stdout",
     "output_type": "stream",
     "text": [
      "1/1 [==============================] - 0s 29ms/step\n",
      "1/1 [==============================] - 0s 29ms/step\n"
     ]
    },
    {
     "name": "stderr",
     "output_type": "stream",
     "text": [
      " 27%|██▋       | 284/1053 [00:18<00:49, 15.42it/s]"
     ]
    },
    {
     "name": "stdout",
     "output_type": "stream",
     "text": [
      "1/1 [==============================] - 0s 29ms/step\n",
      "1/1 [==============================] - 0s 29ms/step\n"
     ]
    },
    {
     "name": "stderr",
     "output_type": "stream",
     "text": [
      " 27%|██▋       | 286/1053 [00:18<00:49, 15.45it/s]"
     ]
    },
    {
     "name": "stdout",
     "output_type": "stream",
     "text": [
      "1/1 [==============================] - 0s 29ms/step\n",
      "1/1 [==============================] - 0s 28ms/step\n"
     ]
    },
    {
     "name": "stderr",
     "output_type": "stream",
     "text": [
      " 27%|██▋       | 288/1053 [00:18<00:49, 15.50it/s]"
     ]
    },
    {
     "name": "stdout",
     "output_type": "stream",
     "text": [
      "1/1 [==============================] - 0s 28ms/step\n",
      "1/1 [==============================] - 0s 28ms/step\n"
     ]
    },
    {
     "name": "stderr",
     "output_type": "stream",
     "text": [
      " 28%|██▊       | 290/1053 [00:19<00:49, 15.54it/s]"
     ]
    },
    {
     "name": "stdout",
     "output_type": "stream",
     "text": [
      "1/1 [==============================] - 0s 29ms/step\n",
      "1/1 [==============================] - 0s 29ms/step\n"
     ]
    },
    {
     "name": "stderr",
     "output_type": "stream",
     "text": [
      " 28%|██▊       | 292/1053 [00:19<00:49, 15.36it/s]"
     ]
    },
    {
     "name": "stdout",
     "output_type": "stream",
     "text": [
      "1/1 [==============================] - 0s 29ms/step\n",
      "1/1 [==============================] - 0s 29ms/step\n"
     ]
    },
    {
     "name": "stderr",
     "output_type": "stream",
     "text": [
      " 28%|██▊       | 294/1053 [00:19<00:49, 15.39it/s]"
     ]
    },
    {
     "name": "stdout",
     "output_type": "stream",
     "text": [
      "1/1 [==============================] - 0s 29ms/step\n",
      "1/1 [==============================] - 0s 28ms/step\n"
     ]
    },
    {
     "name": "stderr",
     "output_type": "stream",
     "text": [
      " 28%|██▊       | 296/1053 [00:19<00:48, 15.45it/s]"
     ]
    },
    {
     "name": "stdout",
     "output_type": "stream",
     "text": [
      "1/1 [==============================] - 0s 29ms/step\n",
      "1/1 [==============================] - 0s 28ms/step\n"
     ]
    },
    {
     "name": "stderr",
     "output_type": "stream",
     "text": [
      " 28%|██▊       | 298/1053 [00:19<00:48, 15.48it/s]"
     ]
    },
    {
     "name": "stdout",
     "output_type": "stream",
     "text": [
      "1/1 [==============================] - 0s 28ms/step\n",
      "1/1 [==============================] - 0s 28ms/step\n"
     ]
    },
    {
     "name": "stderr",
     "output_type": "stream",
     "text": [
      " 28%|██▊       | 300/1053 [00:19<00:48, 15.52it/s]"
     ]
    },
    {
     "name": "stdout",
     "output_type": "stream",
     "text": [
      "1/1 [==============================] - 0s 28ms/step\n",
      "1/1 [==============================] - 0s 28ms/step\n"
     ]
    },
    {
     "name": "stderr",
     "output_type": "stream",
     "text": [
      " 29%|██▊       | 302/1053 [00:19<00:48, 15.59it/s]"
     ]
    },
    {
     "name": "stdout",
     "output_type": "stream",
     "text": [
      "1/1 [==============================] - 0s 29ms/step\n",
      "1/1 [==============================] - 0s 28ms/step\n"
     ]
    },
    {
     "name": "stderr",
     "output_type": "stream",
     "text": [
      " 29%|██▉       | 304/1053 [00:20<00:48, 15.38it/s]"
     ]
    },
    {
     "name": "stdout",
     "output_type": "stream",
     "text": [
      "1/1 [==============================] - 0s 29ms/step\n",
      "1/1 [==============================] - 0s 29ms/step\n"
     ]
    },
    {
     "name": "stderr",
     "output_type": "stream",
     "text": [
      " 29%|██▉       | 306/1053 [00:20<00:48, 15.44it/s]"
     ]
    },
    {
     "name": "stdout",
     "output_type": "stream",
     "text": [
      "1/1 [==============================] - 0s 29ms/step\n",
      "1/1 [==============================] - 0s 28ms/step\n"
     ]
    },
    {
     "name": "stderr",
     "output_type": "stream",
     "text": [
      " 29%|██▉       | 308/1053 [00:20<00:48, 15.50it/s]"
     ]
    },
    {
     "name": "stdout",
     "output_type": "stream",
     "text": [
      "1/1 [==============================] - 0s 28ms/step\n",
      "1/1 [==============================] - 0s 29ms/step\n"
     ]
    },
    {
     "name": "stderr",
     "output_type": "stream",
     "text": [
      " 29%|██▉       | 310/1053 [00:20<00:47, 15.53it/s]"
     ]
    },
    {
     "name": "stdout",
     "output_type": "stream",
     "text": [
      "1/1 [==============================] - 0s 28ms/step\n",
      "1/1 [==============================] - 0s 28ms/step\n"
     ]
    },
    {
     "name": "stderr",
     "output_type": "stream",
     "text": [
      " 30%|██▉       | 312/1053 [00:20<00:47, 15.57it/s]"
     ]
    },
    {
     "name": "stdout",
     "output_type": "stream",
     "text": [
      "1/1 [==============================] - 0s 29ms/step\n",
      "1/1 [==============================] - 0s 28ms/step\n"
     ]
    },
    {
     "name": "stderr",
     "output_type": "stream",
     "text": [
      " 30%|██▉       | 314/1053 [00:20<00:47, 15.41it/s]"
     ]
    },
    {
     "name": "stdout",
     "output_type": "stream",
     "text": [
      "1/1 [==============================] - 0s 29ms/step\n",
      "1/1 [==============================] - 0s 28ms/step\n"
     ]
    },
    {
     "name": "stderr",
     "output_type": "stream",
     "text": [
      " 30%|███       | 316/1053 [00:20<00:47, 15.50it/s]"
     ]
    },
    {
     "name": "stdout",
     "output_type": "stream",
     "text": [
      "1/1 [==============================] - 0s 29ms/step\n",
      "1/1 [==============================] - 0s 29ms/step\n"
     ]
    },
    {
     "name": "stderr",
     "output_type": "stream",
     "text": [
      " 30%|███       | 318/1053 [00:20<00:47, 15.52it/s]"
     ]
    },
    {
     "name": "stdout",
     "output_type": "stream",
     "text": [
      "1/1 [==============================] - 0s 28ms/step\n",
      "1/1 [==============================] - 0s 29ms/step\n"
     ]
    },
    {
     "name": "stderr",
     "output_type": "stream",
     "text": [
      " 30%|███       | 320/1053 [00:21<00:47, 15.57it/s]"
     ]
    },
    {
     "name": "stdout",
     "output_type": "stream",
     "text": [
      "1/1 [==============================] - 0s 29ms/step\n",
      "1/1 [==============================] - 0s 28ms/step\n"
     ]
    },
    {
     "name": "stderr",
     "output_type": "stream",
     "text": [
      " 31%|███       | 322/1053 [00:21<00:46, 15.58it/s]"
     ]
    },
    {
     "name": "stdout",
     "output_type": "stream",
     "text": [
      "1/1 [==============================] - 0s 29ms/step\n",
      "1/1 [==============================] - 0s 29ms/step\n"
     ]
    },
    {
     "name": "stderr",
     "output_type": "stream",
     "text": [
      " 31%|███       | 324/1053 [00:21<00:47, 15.38it/s]"
     ]
    },
    {
     "name": "stdout",
     "output_type": "stream",
     "text": [
      "1/1 [==============================] - 0s 29ms/step\n",
      "1/1 [==============================] - 0s 29ms/step\n"
     ]
    },
    {
     "name": "stderr",
     "output_type": "stream",
     "text": [
      " 31%|███       | 326/1053 [00:21<00:47, 15.44it/s]"
     ]
    },
    {
     "name": "stdout",
     "output_type": "stream",
     "text": [
      "1/1 [==============================] - 0s 29ms/step\n",
      "1/1 [==============================] - 0s 29ms/step\n"
     ]
    },
    {
     "name": "stderr",
     "output_type": "stream",
     "text": [
      " 31%|███       | 328/1053 [00:21<00:46, 15.43it/s]"
     ]
    },
    {
     "name": "stdout",
     "output_type": "stream",
     "text": [
      "1/1 [==============================] - 0s 28ms/step\n",
      "1/1 [==============================] - 0s 28ms/step\n"
     ]
    },
    {
     "name": "stderr",
     "output_type": "stream",
     "text": [
      " 31%|███▏      | 330/1053 [00:21<00:46, 15.52it/s]"
     ]
    },
    {
     "name": "stdout",
     "output_type": "stream",
     "text": [
      "1/1 [==============================] - 0s 28ms/step\n",
      "1/1 [==============================] - 0s 28ms/step\n"
     ]
    },
    {
     "name": "stderr",
     "output_type": "stream",
     "text": [
      " 32%|███▏      | 332/1053 [00:21<00:46, 15.57it/s]"
     ]
    },
    {
     "name": "stdout",
     "output_type": "stream",
     "text": [
      "1/1 [==============================] - 0s 28ms/step\n",
      "1/1 [==============================] - 0s 30ms/step\n"
     ]
    },
    {
     "name": "stderr",
     "output_type": "stream",
     "text": [
      " 32%|███▏      | 334/1053 [00:21<00:46, 15.38it/s]"
     ]
    },
    {
     "name": "stdout",
     "output_type": "stream",
     "text": [
      "1/1 [==============================] - 0s 29ms/step\n",
      "1/1 [==============================] - 0s 29ms/step\n"
     ]
    },
    {
     "name": "stderr",
     "output_type": "stream",
     "text": [
      " 32%|███▏      | 336/1053 [00:22<00:46, 15.39it/s]"
     ]
    },
    {
     "name": "stdout",
     "output_type": "stream",
     "text": [
      "1/1 [==============================] - 0s 29ms/step\n",
      "1/1 [==============================] - 0s 29ms/step\n"
     ]
    },
    {
     "name": "stderr",
     "output_type": "stream",
     "text": [
      " 32%|███▏      | 338/1053 [00:22<00:46, 15.43it/s]"
     ]
    },
    {
     "name": "stdout",
     "output_type": "stream",
     "text": [
      "1/1 [==============================] - 0s 29ms/step\n",
      "1/1 [==============================] - 0s 29ms/step\n"
     ]
    },
    {
     "name": "stderr",
     "output_type": "stream",
     "text": [
      " 32%|███▏      | 340/1053 [00:22<00:46, 15.45it/s]"
     ]
    },
    {
     "name": "stdout",
     "output_type": "stream",
     "text": [
      "1/1 [==============================] - 0s 32ms/step\n",
      "1/1 [==============================] - 0s 28ms/step\n"
     ]
    },
    {
     "name": "stderr",
     "output_type": "stream",
     "text": [
      " 32%|███▏      | 342/1053 [00:22<00:46, 15.38it/s]"
     ]
    },
    {
     "name": "stdout",
     "output_type": "stream",
     "text": [
      "1/1 [==============================] - 0s 28ms/step\n",
      "1/1 [==============================] - 0s 29ms/step\n"
     ]
    },
    {
     "name": "stderr",
     "output_type": "stream",
     "text": [
      " 33%|███▎      | 344/1053 [00:22<00:46, 15.27it/s]"
     ]
    },
    {
     "name": "stdout",
     "output_type": "stream",
     "text": [
      "1/1 [==============================] - 0s 29ms/step\n",
      "1/1 [==============================] - 0s 29ms/step\n"
     ]
    },
    {
     "name": "stderr",
     "output_type": "stream",
     "text": [
      " 33%|███▎      | 346/1053 [00:22<00:46, 15.34it/s]"
     ]
    },
    {
     "name": "stdout",
     "output_type": "stream",
     "text": [
      "1/1 [==============================] - 0s 29ms/step\n",
      "1/1 [==============================] - 0s 29ms/step\n"
     ]
    },
    {
     "name": "stderr",
     "output_type": "stream",
     "text": [
      " 33%|███▎      | 348/1053 [00:22<00:45, 15.38it/s]"
     ]
    },
    {
     "name": "stdout",
     "output_type": "stream",
     "text": [
      "1/1 [==============================] - 0s 29ms/step\n",
      "1/1 [==============================] - 0s 28ms/step\n"
     ]
    },
    {
     "name": "stderr",
     "output_type": "stream",
     "text": [
      " 33%|███▎      | 350/1053 [00:22<00:45, 15.45it/s]"
     ]
    },
    {
     "name": "stdout",
     "output_type": "stream",
     "text": [
      "1/1 [==============================] - 0s 28ms/step\n",
      "1/1 [==============================] - 0s 28ms/step\n"
     ]
    },
    {
     "name": "stderr",
     "output_type": "stream",
     "text": [
      " 33%|███▎      | 352/1053 [00:23<00:45, 15.52it/s]"
     ]
    },
    {
     "name": "stdout",
     "output_type": "stream",
     "text": [
      "1/1 [==============================] - 0s 28ms/step\n",
      "1/1 [==============================] - 0s 28ms/step\n"
     ]
    },
    {
     "name": "stderr",
     "output_type": "stream",
     "text": [
      " 34%|███▎      | 354/1053 [00:23<00:45, 15.36it/s]"
     ]
    },
    {
     "name": "stdout",
     "output_type": "stream",
     "text": [
      "1/1 [==============================] - 0s 29ms/step\n",
      "1/1 [==============================] - 0s 29ms/step\n"
     ]
    },
    {
     "name": "stderr",
     "output_type": "stream",
     "text": [
      " 34%|███▍      | 356/1053 [00:23<00:45, 15.40it/s]"
     ]
    },
    {
     "name": "stdout",
     "output_type": "stream",
     "text": [
      "1/1 [==============================] - 0s 29ms/step\n",
      "1/1 [==============================] - 0s 29ms/step\n"
     ]
    },
    {
     "name": "stderr",
     "output_type": "stream",
     "text": [
      " 34%|███▍      | 358/1053 [00:23<00:45, 15.44it/s]"
     ]
    },
    {
     "name": "stdout",
     "output_type": "stream",
     "text": [
      "1/1 [==============================] - 0s 29ms/step\n",
      "1/1 [==============================] - 0s 28ms/step\n"
     ]
    },
    {
     "name": "stderr",
     "output_type": "stream",
     "text": [
      " 34%|███▍      | 360/1053 [00:23<00:44, 15.50it/s]"
     ]
    },
    {
     "name": "stdout",
     "output_type": "stream",
     "text": [
      "1/1 [==============================] - 0s 29ms/step\n",
      "1/1 [==============================] - 0s 29ms/step\n"
     ]
    },
    {
     "name": "stderr",
     "output_type": "stream",
     "text": [
      " 34%|███▍      | 362/1053 [00:23<00:44, 15.51it/s]"
     ]
    },
    {
     "name": "stdout",
     "output_type": "stream",
     "text": [
      "1/1 [==============================] - 0s 28ms/step\n",
      "1/1 [==============================] - 0s 28ms/step\n"
     ]
    },
    {
     "name": "stderr",
     "output_type": "stream",
     "text": [
      " 35%|███▍      | 364/1053 [00:23<00:44, 15.60it/s]"
     ]
    },
    {
     "name": "stdout",
     "output_type": "stream",
     "text": [
      "1/1 [==============================] - 0s 28ms/step\n",
      "1/1 [==============================] - 0s 28ms/step\n"
     ]
    },
    {
     "name": "stderr",
     "output_type": "stream",
     "text": [
      " 35%|███▍      | 366/1053 [00:24<00:44, 15.44it/s]"
     ]
    },
    {
     "name": "stdout",
     "output_type": "stream",
     "text": [
      "1/1 [==============================] - 0s 28ms/step\n",
      "1/1 [==============================] - 0s 29ms/step\n"
     ]
    },
    {
     "name": "stderr",
     "output_type": "stream",
     "text": [
      " 35%|███▍      | 368/1053 [00:24<00:44, 15.49it/s]"
     ]
    },
    {
     "name": "stdout",
     "output_type": "stream",
     "text": [
      "1/1 [==============================] - 0s 28ms/step\n",
      "1/1 [==============================] - 0s 28ms/step\n"
     ]
    },
    {
     "name": "stderr",
     "output_type": "stream",
     "text": [
      " 35%|███▌      | 370/1053 [00:24<00:43, 15.54it/s]"
     ]
    },
    {
     "name": "stdout",
     "output_type": "stream",
     "text": [
      "1/1 [==============================] - 0s 28ms/step\n",
      "1/1 [==============================] - 0s 29ms/step\n"
     ]
    },
    {
     "name": "stderr",
     "output_type": "stream",
     "text": [
      " 35%|███▌      | 372/1053 [00:24<00:43, 15.58it/s]"
     ]
    },
    {
     "name": "stdout",
     "output_type": "stream",
     "text": [
      "1/1 [==============================] - 0s 28ms/step\n",
      "1/1 [==============================] - 0s 28ms/step\n"
     ]
    },
    {
     "name": "stderr",
     "output_type": "stream",
     "text": [
      " 36%|███▌      | 374/1053 [00:24<00:43, 15.63it/s]"
     ]
    },
    {
     "name": "stdout",
     "output_type": "stream",
     "text": [
      "1/1 [==============================] - 0s 29ms/step\n",
      "1/1 [==============================] - 0s 28ms/step\n"
     ]
    },
    {
     "name": "stderr",
     "output_type": "stream",
     "text": [
      " 36%|███▌      | 376/1053 [00:24<00:43, 15.45it/s]"
     ]
    },
    {
     "name": "stdout",
     "output_type": "stream",
     "text": [
      "1/1 [==============================] - 0s 28ms/step\n",
      "1/1 [==============================] - 0s 28ms/step\n"
     ]
    },
    {
     "name": "stderr",
     "output_type": "stream",
     "text": [
      " 36%|███▌      | 378/1053 [00:24<00:43, 15.50it/s]"
     ]
    },
    {
     "name": "stdout",
     "output_type": "stream",
     "text": [
      "1/1 [==============================] - 0s 28ms/step\n",
      "1/1 [==============================] - 0s 28ms/step\n"
     ]
    },
    {
     "name": "stderr",
     "output_type": "stream",
     "text": [
      " 36%|███▌      | 380/1053 [00:24<00:43, 15.52it/s]"
     ]
    },
    {
     "name": "stdout",
     "output_type": "stream",
     "text": [
      "1/1 [==============================] - 0s 28ms/step\n",
      "1/1 [==============================] - 0s 28ms/step\n"
     ]
    },
    {
     "name": "stderr",
     "output_type": "stream",
     "text": [
      " 36%|███▋      | 382/1053 [00:25<00:43, 15.56it/s]"
     ]
    },
    {
     "name": "stdout",
     "output_type": "stream",
     "text": [
      "1/1 [==============================] - 0s 29ms/step\n",
      "1/1 [==============================] - 0s 28ms/step\n"
     ]
    },
    {
     "name": "stderr",
     "output_type": "stream",
     "text": [
      " 36%|███▋      | 384/1053 [00:25<00:42, 15.59it/s]"
     ]
    },
    {
     "name": "stdout",
     "output_type": "stream",
     "text": [
      "1/1 [==============================] - 0s 29ms/step\n",
      "1/1 [==============================] - 0s 29ms/step\n"
     ]
    },
    {
     "name": "stderr",
     "output_type": "stream",
     "text": [
      " 37%|███▋      | 386/1053 [00:25<00:43, 15.35it/s]"
     ]
    },
    {
     "name": "stdout",
     "output_type": "stream",
     "text": [
      "1/1 [==============================] - 0s 28ms/step\n",
      "1/1 [==============================] - 0s 29ms/step\n"
     ]
    },
    {
     "name": "stderr",
     "output_type": "stream",
     "text": [
      " 37%|███▋      | 388/1053 [00:25<00:43, 15.43it/s]"
     ]
    },
    {
     "name": "stdout",
     "output_type": "stream",
     "text": [
      "1/1 [==============================] - 0s 28ms/step\n",
      "1/1 [==============================] - 0s 28ms/step\n"
     ]
    },
    {
     "name": "stderr",
     "output_type": "stream",
     "text": [
      " 37%|███▋      | 390/1053 [00:25<00:42, 15.51it/s]"
     ]
    },
    {
     "name": "stdout",
     "output_type": "stream",
     "text": [
      "1/1 [==============================] - 0s 28ms/step\n",
      "1/1 [==============================] - 0s 29ms/step\n"
     ]
    },
    {
     "name": "stderr",
     "output_type": "stream",
     "text": [
      " 37%|███▋      | 392/1053 [00:25<00:42, 15.52it/s]"
     ]
    },
    {
     "name": "stdout",
     "output_type": "stream",
     "text": [
      "1/1 [==============================] - 0s 28ms/step\n",
      "1/1 [==============================] - 0s 28ms/step\n"
     ]
    },
    {
     "name": "stderr",
     "output_type": "stream",
     "text": [
      " 37%|███▋      | 394/1053 [00:25<00:42, 15.59it/s]"
     ]
    },
    {
     "name": "stdout",
     "output_type": "stream",
     "text": [
      "1/1 [==============================] - 0s 28ms/step\n",
      "1/1 [==============================] - 0s 28ms/step\n"
     ]
    },
    {
     "name": "stderr",
     "output_type": "stream",
     "text": [
      " 38%|███▊      | 396/1053 [00:25<00:42, 15.46it/s]"
     ]
    },
    {
     "name": "stdout",
     "output_type": "stream",
     "text": [
      "1/1 [==============================] - 0s 28ms/step\n",
      "1/1 [==============================] - 0s 28ms/step\n"
     ]
    },
    {
     "name": "stderr",
     "output_type": "stream",
     "text": [
      " 38%|███▊      | 398/1053 [00:26<00:42, 15.53it/s]"
     ]
    },
    {
     "name": "stdout",
     "output_type": "stream",
     "text": [
      "1/1 [==============================] - 0s 29ms/step\n",
      "1/1 [==============================] - 0s 28ms/step\n"
     ]
    },
    {
     "name": "stderr",
     "output_type": "stream",
     "text": [
      " 38%|███▊      | 400/1053 [00:26<00:42, 15.53it/s]"
     ]
    },
    {
     "name": "stdout",
     "output_type": "stream",
     "text": [
      "1/1 [==============================] - 0s 28ms/step\n",
      "1/1 [==============================] - 0s 28ms/step\n"
     ]
    },
    {
     "name": "stderr",
     "output_type": "stream",
     "text": [
      " 38%|███▊      | 402/1053 [00:26<00:41, 15.59it/s]"
     ]
    },
    {
     "name": "stdout",
     "output_type": "stream",
     "text": [
      "1/1 [==============================] - 0s 28ms/step\n",
      "1/1 [==============================] - 0s 28ms/step\n"
     ]
    },
    {
     "name": "stderr",
     "output_type": "stream",
     "text": [
      " 38%|███▊      | 404/1053 [00:26<00:41, 15.60it/s]"
     ]
    },
    {
     "name": "stdout",
     "output_type": "stream",
     "text": [
      "1/1 [==============================] - 0s 28ms/step\n",
      "1/1 [==============================] - 0s 29ms/step\n"
     ]
    },
    {
     "name": "stderr",
     "output_type": "stream",
     "text": [
      " 39%|███▊      | 406/1053 [00:26<00:41, 15.42it/s]"
     ]
    },
    {
     "name": "stdout",
     "output_type": "stream",
     "text": [
      "1/1 [==============================] - 0s 29ms/step\n",
      "1/1 [==============================] - 0s 29ms/step\n"
     ]
    },
    {
     "name": "stderr",
     "output_type": "stream",
     "text": [
      " 39%|███▊      | 408/1053 [00:26<00:41, 15.48it/s]"
     ]
    },
    {
     "name": "stdout",
     "output_type": "stream",
     "text": [
      "1/1 [==============================] - 0s 28ms/step\n",
      "1/1 [==============================] - 0s 29ms/step\n"
     ]
    },
    {
     "name": "stderr",
     "output_type": "stream",
     "text": [
      " 39%|███▉      | 410/1053 [00:26<00:41, 15.52it/s]"
     ]
    },
    {
     "name": "stdout",
     "output_type": "stream",
     "text": [
      "1/1 [==============================] - 0s 28ms/step\n",
      "1/1 [==============================] - 0s 28ms/step\n"
     ]
    },
    {
     "name": "stderr",
     "output_type": "stream",
     "text": [
      " 39%|███▉      | 412/1053 [00:26<00:41, 15.55it/s]"
     ]
    },
    {
     "name": "stdout",
     "output_type": "stream",
     "text": [
      "1/1 [==============================] - 0s 28ms/step\n",
      "1/1 [==============================] - 0s 29ms/step\n"
     ]
    },
    {
     "name": "stderr",
     "output_type": "stream",
     "text": [
      " 39%|███▉      | 414/1053 [00:27<00:41, 15.58it/s]"
     ]
    },
    {
     "name": "stdout",
     "output_type": "stream",
     "text": [
      "1/1 [==============================] - 0s 28ms/step\n",
      "1/1 [==============================] - 0s 28ms/step\n"
     ]
    },
    {
     "name": "stderr",
     "output_type": "stream",
     "text": [
      " 40%|███▉      | 416/1053 [00:27<00:41, 15.42it/s]"
     ]
    },
    {
     "name": "stdout",
     "output_type": "stream",
     "text": [
      "1/1 [==============================] - 0s 28ms/step\n",
      "1/1 [==============================] - 0s 29ms/step\n"
     ]
    },
    {
     "name": "stderr",
     "output_type": "stream",
     "text": [
      " 40%|███▉      | 418/1053 [00:27<00:41, 15.47it/s]"
     ]
    },
    {
     "name": "stdout",
     "output_type": "stream",
     "text": [
      "1/1 [==============================] - 0s 28ms/step\n",
      "1/1 [==============================] - 0s 28ms/step\n"
     ]
    },
    {
     "name": "stderr",
     "output_type": "stream",
     "text": [
      " 40%|███▉      | 420/1053 [00:27<00:40, 15.51it/s]"
     ]
    },
    {
     "name": "stdout",
     "output_type": "stream",
     "text": [
      "1/1 [==============================] - 0s 28ms/step\n",
      "1/1 [==============================] - 0s 29ms/step\n"
     ]
    },
    {
     "name": "stderr",
     "output_type": "stream",
     "text": [
      " 40%|████      | 422/1053 [00:27<00:40, 15.51it/s]"
     ]
    },
    {
     "name": "stdout",
     "output_type": "stream",
     "text": [
      "1/1 [==============================] - 0s 28ms/step\n",
      "1/1 [==============================] - 0s 29ms/step\n"
     ]
    },
    {
     "name": "stderr",
     "output_type": "stream",
     "text": [
      " 40%|████      | 424/1053 [00:27<00:40, 15.53it/s]"
     ]
    },
    {
     "name": "stdout",
     "output_type": "stream",
     "text": [
      "1/1 [==============================] - 0s 28ms/step\n",
      "1/1 [==============================] - 0s 28ms/step\n"
     ]
    },
    {
     "name": "stderr",
     "output_type": "stream",
     "text": [
      " 40%|████      | 426/1053 [00:27<00:40, 15.60it/s]"
     ]
    },
    {
     "name": "stdout",
     "output_type": "stream",
     "text": [
      "1/1 [==============================] - 0s 29ms/step\n",
      "1/1 [==============================] - 0s 28ms/step\n"
     ]
    },
    {
     "name": "stderr",
     "output_type": "stream",
     "text": [
      " 41%|████      | 428/1053 [00:28<00:40, 15.40it/s]"
     ]
    },
    {
     "name": "stdout",
     "output_type": "stream",
     "text": [
      "1/1 [==============================] - 0s 29ms/step\n",
      "1/1 [==============================] - 0s 30ms/step\n"
     ]
    },
    {
     "name": "stderr",
     "output_type": "stream",
     "text": [
      " 41%|████      | 430/1053 [00:28<00:40, 15.40it/s]"
     ]
    },
    {
     "name": "stdout",
     "output_type": "stream",
     "text": [
      "1/1 [==============================] - 0s 28ms/step\n",
      "1/1 [==============================] - 0s 28ms/step\n"
     ]
    },
    {
     "name": "stderr",
     "output_type": "stream",
     "text": [
      " 41%|████      | 432/1053 [00:28<00:40, 15.49it/s]"
     ]
    },
    {
     "name": "stdout",
     "output_type": "stream",
     "text": [
      "1/1 [==============================] - 0s 29ms/step\n",
      "1/1 [==============================] - 0s 29ms/step\n"
     ]
    },
    {
     "name": "stderr",
     "output_type": "stream",
     "text": [
      " 41%|████      | 434/1053 [00:28<00:39, 15.48it/s]"
     ]
    },
    {
     "name": "stdout",
     "output_type": "stream",
     "text": [
      "1/1 [==============================] - 0s 28ms/step\n",
      "1/1 [==============================] - 0s 28ms/step\n"
     ]
    },
    {
     "name": "stderr",
     "output_type": "stream",
     "text": [
      " 41%|████▏     | 436/1053 [00:28<00:39, 15.54it/s]"
     ]
    },
    {
     "name": "stdout",
     "output_type": "stream",
     "text": [
      "1/1 [==============================] - 0s 29ms/step\n",
      "1/1 [==============================] - 0s 29ms/step\n"
     ]
    },
    {
     "name": "stderr",
     "output_type": "stream",
     "text": [
      " 42%|████▏     | 438/1053 [00:28<00:40, 15.35it/s]"
     ]
    },
    {
     "name": "stdout",
     "output_type": "stream",
     "text": [
      "1/1 [==============================] - 0s 29ms/step\n",
      "1/1 [==============================] - 0s 29ms/step\n"
     ]
    },
    {
     "name": "stderr",
     "output_type": "stream",
     "text": [
      " 42%|████▏     | 440/1053 [00:28<00:39, 15.41it/s]"
     ]
    },
    {
     "name": "stdout",
     "output_type": "stream",
     "text": [
      "1/1 [==============================] - 0s 28ms/step\n",
      "1/1 [==============================] - 0s 28ms/step\n"
     ]
    },
    {
     "name": "stderr",
     "output_type": "stream",
     "text": [
      " 42%|████▏     | 442/1053 [00:28<00:39, 15.47it/s]"
     ]
    },
    {
     "name": "stdout",
     "output_type": "stream",
     "text": [
      "1/1 [==============================] - 0s 28ms/step\n",
      "1/1 [==============================] - 0s 28ms/step\n"
     ]
    },
    {
     "name": "stderr",
     "output_type": "stream",
     "text": [
      " 42%|████▏     | 444/1053 [00:29<00:39, 15.55it/s]"
     ]
    },
    {
     "name": "stdout",
     "output_type": "stream",
     "text": [
      "1/1 [==============================] - 0s 28ms/step\n",
      "1/1 [==============================] - 0s 28ms/step\n"
     ]
    },
    {
     "name": "stderr",
     "output_type": "stream",
     "text": [
      " 42%|████▏     | 446/1053 [00:29<00:38, 15.58it/s]"
     ]
    },
    {
     "name": "stdout",
     "output_type": "stream",
     "text": [
      "1/1 [==============================] - 0s 29ms/step\n",
      "1/1 [==============================] - 0s 29ms/step\n"
     ]
    },
    {
     "name": "stderr",
     "output_type": "stream",
     "text": [
      " 43%|████▎     | 448/1053 [00:29<00:39, 15.38it/s]"
     ]
    },
    {
     "name": "stdout",
     "output_type": "stream",
     "text": [
      "1/1 [==============================] - 0s 30ms/step\n",
      "1/1 [==============================] - 0s 28ms/step\n"
     ]
    },
    {
     "name": "stderr",
     "output_type": "stream",
     "text": [
      " 43%|████▎     | 450/1053 [00:29<00:39, 15.45it/s]"
     ]
    },
    {
     "name": "stdout",
     "output_type": "stream",
     "text": [
      "1/1 [==============================] - 0s 28ms/step\n",
      "1/1 [==============================] - 0s 29ms/step\n"
     ]
    },
    {
     "name": "stderr",
     "output_type": "stream",
     "text": [
      " 43%|████▎     | 452/1053 [00:29<00:38, 15.48it/s]"
     ]
    },
    {
     "name": "stdout",
     "output_type": "stream",
     "text": [
      "1/1 [==============================] - 0s 29ms/step\n",
      "1/1 [==============================] - 0s 29ms/step\n"
     ]
    },
    {
     "name": "stderr",
     "output_type": "stream",
     "text": [
      " 43%|████▎     | 454/1053 [00:29<00:38, 15.47it/s]"
     ]
    },
    {
     "name": "stdout",
     "output_type": "stream",
     "text": [
      "1/1 [==============================] - 0s 28ms/step\n",
      "1/1 [==============================] - 0s 28ms/step\n"
     ]
    },
    {
     "name": "stderr",
     "output_type": "stream",
     "text": [
      " 43%|████▎     | 456/1053 [00:29<00:38, 15.52it/s]"
     ]
    },
    {
     "name": "stdout",
     "output_type": "stream",
     "text": [
      "1/1 [==============================] - 0s 28ms/step\n",
      "1/1 [==============================] - 0s 29ms/step\n"
     ]
    },
    {
     "name": "stderr",
     "output_type": "stream",
     "text": [
      " 43%|████▎     | 458/1053 [00:29<00:38, 15.34it/s]"
     ]
    },
    {
     "name": "stdout",
     "output_type": "stream",
     "text": [
      "1/1 [==============================] - 0s 29ms/step\n",
      "1/1 [==============================] - 0s 29ms/step\n"
     ]
    },
    {
     "name": "stderr",
     "output_type": "stream",
     "text": [
      " 44%|████▎     | 460/1053 [00:30<00:38, 15.39it/s]"
     ]
    },
    {
     "name": "stdout",
     "output_type": "stream",
     "text": [
      "1/1 [==============================] - 0s 29ms/step\n",
      "1/1 [==============================] - 0s 29ms/step\n"
     ]
    },
    {
     "name": "stderr",
     "output_type": "stream",
     "text": [
      " 44%|████▍     | 462/1053 [00:30<00:38, 15.43it/s]"
     ]
    },
    {
     "name": "stdout",
     "output_type": "stream",
     "text": [
      "1/1 [==============================] - 0s 29ms/step\n",
      "1/1 [==============================] - 0s 28ms/step\n"
     ]
    },
    {
     "name": "stderr",
     "output_type": "stream",
     "text": [
      " 44%|████▍     | 464/1053 [00:30<00:38, 15.48it/s]"
     ]
    },
    {
     "name": "stdout",
     "output_type": "stream",
     "text": [
      "1/1 [==============================] - 0s 29ms/step\n",
      "1/1 [==============================] - 0s 28ms/step\n"
     ]
    },
    {
     "name": "stderr",
     "output_type": "stream",
     "text": [
      " 44%|████▍     | 466/1053 [00:30<00:37, 15.53it/s]"
     ]
    },
    {
     "name": "stdout",
     "output_type": "stream",
     "text": [
      "1/1 [==============================] - 0s 28ms/step\n",
      "1/1 [==============================] - 0s 29ms/step\n"
     ]
    },
    {
     "name": "stderr",
     "output_type": "stream",
     "text": [
      " 44%|████▍     | 468/1053 [00:30<00:38, 15.37it/s]"
     ]
    },
    {
     "name": "stdout",
     "output_type": "stream",
     "text": [
      "1/1 [==============================] - 0s 29ms/step\n",
      "1/1 [==============================] - 0s 29ms/step\n"
     ]
    },
    {
     "name": "stderr",
     "output_type": "stream",
     "text": [
      " 45%|████▍     | 470/1053 [00:30<00:37, 15.39it/s]"
     ]
    },
    {
     "name": "stdout",
     "output_type": "stream",
     "text": [
      "1/1 [==============================] - 0s 29ms/step\n",
      "1/1 [==============================] - 0s 28ms/step\n"
     ]
    },
    {
     "name": "stderr",
     "output_type": "stream",
     "text": [
      " 45%|████▍     | 472/1053 [00:30<00:37, 15.43it/s]"
     ]
    },
    {
     "name": "stdout",
     "output_type": "stream",
     "text": [
      "1/1 [==============================] - 0s 28ms/step\n",
      "1/1 [==============================] - 0s 28ms/step\n"
     ]
    },
    {
     "name": "stderr",
     "output_type": "stream",
     "text": [
      " 45%|████▌     | 474/1053 [00:31<00:37, 15.49it/s]"
     ]
    },
    {
     "name": "stdout",
     "output_type": "stream",
     "text": [
      "1/1 [==============================] - 0s 28ms/step\n",
      "1/1 [==============================] - 0s 29ms/step\n"
     ]
    },
    {
     "name": "stderr",
     "output_type": "stream",
     "text": [
      " 45%|████▌     | 476/1053 [00:31<00:37, 15.52it/s]"
     ]
    },
    {
     "name": "stdout",
     "output_type": "stream",
     "text": [
      "1/1 [==============================] - 0s 28ms/step\n",
      "1/1 [==============================] - 0s 28ms/step\n"
     ]
    },
    {
     "name": "stderr",
     "output_type": "stream",
     "text": [
      " 45%|████▌     | 478/1053 [00:31<00:37, 15.40it/s]"
     ]
    },
    {
     "name": "stdout",
     "output_type": "stream",
     "text": [
      "1/1 [==============================] - 0s 28ms/step\n",
      "1/1 [==============================] - 0s 29ms/step\n"
     ]
    },
    {
     "name": "stderr",
     "output_type": "stream",
     "text": [
      " 46%|████▌     | 480/1053 [00:31<00:37, 15.41it/s]"
     ]
    },
    {
     "name": "stdout",
     "output_type": "stream",
     "text": [
      "1/1 [==============================] - 0s 29ms/step\n",
      "1/1 [==============================] - 0s 29ms/step\n"
     ]
    },
    {
     "name": "stderr",
     "output_type": "stream",
     "text": [
      " 46%|████▌     | 482/1053 [00:31<00:36, 15.44it/s]"
     ]
    },
    {
     "name": "stdout",
     "output_type": "stream",
     "text": [
      "1/1 [==============================] - 0s 28ms/step\n",
      "1/1 [==============================] - 0s 28ms/step\n"
     ]
    },
    {
     "name": "stderr",
     "output_type": "stream",
     "text": [
      " 46%|████▌     | 484/1053 [00:31<00:36, 15.49it/s]"
     ]
    },
    {
     "name": "stdout",
     "output_type": "stream",
     "text": [
      "1/1 [==============================] - 0s 28ms/step\n",
      "1/1 [==============================] - 0s 28ms/step\n"
     ]
    },
    {
     "name": "stderr",
     "output_type": "stream",
     "text": [
      " 46%|████▌     | 486/1053 [00:31<00:36, 15.54it/s]"
     ]
    },
    {
     "name": "stdout",
     "output_type": "stream",
     "text": [
      "1/1 [==============================] - 0s 28ms/step\n",
      "1/1 [==============================] - 0s 28ms/step\n"
     ]
    },
    {
     "name": "stderr",
     "output_type": "stream",
     "text": [
      " 46%|████▋     | 488/1053 [00:31<00:36, 15.57it/s]"
     ]
    },
    {
     "name": "stdout",
     "output_type": "stream",
     "text": [
      "1/1 [==============================] - 0s 29ms/step\n",
      "1/1 [==============================] - 0s 29ms/step\n"
     ]
    },
    {
     "name": "stderr",
     "output_type": "stream",
     "text": [
      " 47%|████▋     | 490/1053 [00:32<00:36, 15.37it/s]"
     ]
    },
    {
     "name": "stdout",
     "output_type": "stream",
     "text": [
      "1/1 [==============================] - 0s 29ms/step\n",
      "1/1 [==============================] - 0s 29ms/step\n"
     ]
    },
    {
     "name": "stderr",
     "output_type": "stream",
     "text": [
      " 47%|████▋     | 492/1053 [00:32<00:36, 15.41it/s]"
     ]
    },
    {
     "name": "stdout",
     "output_type": "stream",
     "text": [
      "1/1 [==============================] - 0s 28ms/step\n",
      "1/1 [==============================] - 0s 29ms/step\n"
     ]
    },
    {
     "name": "stderr",
     "output_type": "stream",
     "text": [
      " 47%|████▋     | 494/1053 [00:32<00:36, 15.46it/s]"
     ]
    },
    {
     "name": "stdout",
     "output_type": "stream",
     "text": [
      "1/1 [==============================] - 0s 28ms/step\n",
      "1/1 [==============================] - 0s 28ms/step\n"
     ]
    },
    {
     "name": "stderr",
     "output_type": "stream",
     "text": [
      " 47%|████▋     | 496/1053 [00:32<00:35, 15.52it/s]"
     ]
    },
    {
     "name": "stdout",
     "output_type": "stream",
     "text": [
      "1/1 [==============================] - 0s 28ms/step\n",
      "1/1 [==============================] - 0s 28ms/step\n"
     ]
    },
    {
     "name": "stderr",
     "output_type": "stream",
     "text": [
      " 47%|████▋     | 498/1053 [00:32<00:35, 15.61it/s]"
     ]
    },
    {
     "name": "stdout",
     "output_type": "stream",
     "text": [
      "1/1 [==============================] - 0s 29ms/step\n",
      "1/1 [==============================] - 0s 28ms/step\n"
     ]
    },
    {
     "name": "stderr",
     "output_type": "stream",
     "text": [
      " 47%|████▋     | 500/1053 [00:32<00:35, 15.41it/s]"
     ]
    },
    {
     "name": "stdout",
     "output_type": "stream",
     "text": [
      "1/1 [==============================] - 0s 29ms/step\n",
      "1/1 [==============================] - 0s 28ms/step\n"
     ]
    },
    {
     "name": "stderr",
     "output_type": "stream",
     "text": [
      " 48%|████▊     | 502/1053 [00:32<00:35, 15.47it/s]"
     ]
    },
    {
     "name": "stdout",
     "output_type": "stream",
     "text": [
      "1/1 [==============================] - 0s 29ms/step\n",
      "1/1 [==============================] - 0s 29ms/step\n"
     ]
    },
    {
     "name": "stderr",
     "output_type": "stream",
     "text": [
      " 48%|████▊     | 504/1053 [00:32<00:35, 15.49it/s]"
     ]
    },
    {
     "name": "stdout",
     "output_type": "stream",
     "text": [
      "1/1 [==============================] - 0s 29ms/step\n",
      "1/1 [==============================] - 0s 29ms/step\n"
     ]
    },
    {
     "name": "stderr",
     "output_type": "stream",
     "text": [
      " 48%|████▊     | 506/1053 [00:33<00:35, 15.51it/s]"
     ]
    },
    {
     "name": "stdout",
     "output_type": "stream",
     "text": [
      "1/1 [==============================] - 0s 28ms/step\n",
      "1/1 [==============================] - 0s 28ms/step\n"
     ]
    },
    {
     "name": "stderr",
     "output_type": "stream",
     "text": [
      " 48%|████▊     | 508/1053 [00:33<00:35, 15.55it/s]"
     ]
    },
    {
     "name": "stdout",
     "output_type": "stream",
     "text": [
      "1/1 [==============================] - 0s 29ms/step\n",
      "1/1 [==============================] - 0s 28ms/step\n"
     ]
    },
    {
     "name": "stderr",
     "output_type": "stream",
     "text": [
      " 48%|████▊     | 510/1053 [00:33<00:35, 15.40it/s]"
     ]
    },
    {
     "name": "stdout",
     "output_type": "stream",
     "text": [
      "1/1 [==============================] - 0s 29ms/step\n",
      "1/1 [==============================] - 0s 28ms/step\n"
     ]
    },
    {
     "name": "stderr",
     "output_type": "stream",
     "text": [
      " 49%|████▊     | 512/1053 [00:33<00:35, 15.43it/s]"
     ]
    },
    {
     "name": "stdout",
     "output_type": "stream",
     "text": [
      "1/1 [==============================] - 0s 28ms/step\n",
      "1/1 [==============================] - 0s 28ms/step\n"
     ]
    },
    {
     "name": "stderr",
     "output_type": "stream",
     "text": [
      " 49%|████▉     | 514/1053 [00:33<00:34, 15.51it/s]"
     ]
    },
    {
     "name": "stdout",
     "output_type": "stream",
     "text": [
      "1/1 [==============================] - 0s 28ms/step\n",
      "1/1 [==============================] - 0s 28ms/step\n"
     ]
    },
    {
     "name": "stderr",
     "output_type": "stream",
     "text": [
      " 49%|████▉     | 516/1053 [00:33<00:34, 15.56it/s]"
     ]
    },
    {
     "name": "stdout",
     "output_type": "stream",
     "text": [
      "1/1 [==============================] - 0s 28ms/step\n",
      "1/1 [==============================] - 0s 29ms/step\n"
     ]
    },
    {
     "name": "stderr",
     "output_type": "stream",
     "text": [
      " 49%|████▉     | 518/1053 [00:33<00:34, 15.57it/s]"
     ]
    },
    {
     "name": "stdout",
     "output_type": "stream",
     "text": [
      "1/1 [==============================] - 0s 28ms/step\n",
      "1/1 [==============================] - 0s 29ms/step\n"
     ]
    },
    {
     "name": "stderr",
     "output_type": "stream",
     "text": [
      " 49%|████▉     | 520/1053 [00:33<00:34, 15.36it/s]"
     ]
    },
    {
     "name": "stdout",
     "output_type": "stream",
     "text": [
      "1/1 [==============================] - 0s 29ms/step\n",
      "1/1 [==============================] - 0s 29ms/step\n"
     ]
    },
    {
     "name": "stderr",
     "output_type": "stream",
     "text": [
      " 50%|████▉     | 522/1053 [00:34<00:34, 15.40it/s]"
     ]
    },
    {
     "name": "stdout",
     "output_type": "stream",
     "text": [
      "1/1 [==============================] - 0s 29ms/step\n",
      "1/1 [==============================] - 0s 29ms/step\n"
     ]
    },
    {
     "name": "stderr",
     "output_type": "stream",
     "text": [
      " 50%|████▉     | 524/1053 [00:34<00:34, 15.44it/s]"
     ]
    },
    {
     "name": "stdout",
     "output_type": "stream",
     "text": [
      "1/1 [==============================] - 0s 28ms/step\n",
      "1/1 [==============================] - 0s 28ms/step\n"
     ]
    },
    {
     "name": "stderr",
     "output_type": "stream",
     "text": [
      " 50%|████▉     | 526/1053 [00:34<00:33, 15.50it/s]"
     ]
    },
    {
     "name": "stdout",
     "output_type": "stream",
     "text": [
      "1/1 [==============================] - 0s 28ms/step\n",
      "1/1 [==============================] - 0s 28ms/step\n"
     ]
    },
    {
     "name": "stderr",
     "output_type": "stream",
     "text": [
      " 50%|█████     | 528/1053 [00:34<00:33, 15.54it/s]"
     ]
    },
    {
     "name": "stdout",
     "output_type": "stream",
     "text": [
      "1/1 [==============================] - 0s 28ms/step\n",
      "1/1 [==============================] - 0s 29ms/step\n"
     ]
    },
    {
     "name": "stderr",
     "output_type": "stream",
     "text": [
      " 50%|█████     | 530/1053 [00:34<00:34, 15.38it/s]"
     ]
    },
    {
     "name": "stdout",
     "output_type": "stream",
     "text": [
      "1/1 [==============================] - 0s 28ms/step\n",
      "1/1 [==============================] - 0s 28ms/step\n"
     ]
    },
    {
     "name": "stderr",
     "output_type": "stream",
     "text": [
      " 51%|█████     | 532/1053 [00:34<00:33, 15.47it/s]"
     ]
    },
    {
     "name": "stdout",
     "output_type": "stream",
     "text": [
      "1/1 [==============================] - 0s 28ms/step\n",
      "1/1 [==============================] - 0s 28ms/step\n"
     ]
    },
    {
     "name": "stderr",
     "output_type": "stream",
     "text": [
      " 51%|█████     | 534/1053 [00:34<00:33, 15.54it/s]"
     ]
    },
    {
     "name": "stdout",
     "output_type": "stream",
     "text": [
      "1/1 [==============================] - 0s 28ms/step\n",
      "1/1 [==============================] - 0s 28ms/step\n"
     ]
    },
    {
     "name": "stderr",
     "output_type": "stream",
     "text": [
      " 51%|█████     | 536/1053 [00:35<00:33, 15.58it/s]"
     ]
    },
    {
     "name": "stdout",
     "output_type": "stream",
     "text": [
      "1/1 [==============================] - 0s 28ms/step\n",
      "1/1 [==============================] - 0s 29ms/step\n"
     ]
    },
    {
     "name": "stderr",
     "output_type": "stream",
     "text": [
      " 51%|█████     | 538/1053 [00:35<00:33, 15.58it/s]"
     ]
    },
    {
     "name": "stdout",
     "output_type": "stream",
     "text": [
      "1/1 [==============================] - 0s 28ms/step\n",
      "1/1 [==============================] - 0s 29ms/step\n"
     ]
    },
    {
     "name": "stderr",
     "output_type": "stream",
     "text": [
      " 51%|█████▏    | 540/1053 [00:35<00:33, 15.39it/s]"
     ]
    },
    {
     "name": "stdout",
     "output_type": "stream",
     "text": [
      "1/1 [==============================] - 0s 28ms/step\n",
      "1/1 [==============================] - 0s 29ms/step\n"
     ]
    },
    {
     "name": "stderr",
     "output_type": "stream",
     "text": [
      " 51%|█████▏    | 542/1053 [00:35<00:33, 15.45it/s]"
     ]
    },
    {
     "name": "stdout",
     "output_type": "stream",
     "text": [
      "1/1 [==============================] - 0s 28ms/step\n",
      "1/1 [==============================] - 0s 29ms/step\n"
     ]
    },
    {
     "name": "stderr",
     "output_type": "stream",
     "text": [
      " 52%|█████▏    | 544/1053 [00:35<00:32, 15.50it/s]"
     ]
    },
    {
     "name": "stdout",
     "output_type": "stream",
     "text": [
      "1/1 [==============================] - 0s 28ms/step\n",
      "1/1 [==============================] - 0s 29ms/step\n"
     ]
    },
    {
     "name": "stderr",
     "output_type": "stream",
     "text": [
      " 52%|█████▏    | 546/1053 [00:35<00:32, 15.52it/s]"
     ]
    },
    {
     "name": "stdout",
     "output_type": "stream",
     "text": [
      "1/1 [==============================] - 0s 29ms/step\n",
      "1/1 [==============================] - 0s 28ms/step\n"
     ]
    },
    {
     "name": "stderr",
     "output_type": "stream",
     "text": [
      " 52%|█████▏    | 548/1053 [00:35<00:32, 15.56it/s]"
     ]
    },
    {
     "name": "stdout",
     "output_type": "stream",
     "text": [
      "1/1 [==============================] - 0s 28ms/step\n",
      "1/1 [==============================] - 0s 27ms/step\n"
     ]
    },
    {
     "name": "stderr",
     "output_type": "stream",
     "text": [
      " 52%|█████▏    | 550/1053 [00:35<00:32, 15.65it/s]"
     ]
    },
    {
     "name": "stdout",
     "output_type": "stream",
     "text": [
      "1/1 [==============================] - 0s 29ms/step\n",
      "1/1 [==============================] - 0s 28ms/step\n"
     ]
    },
    {
     "name": "stderr",
     "output_type": "stream",
     "text": [
      " 52%|█████▏    | 552/1053 [00:36<00:32, 15.44it/s]"
     ]
    },
    {
     "name": "stdout",
     "output_type": "stream",
     "text": [
      "1/1 [==============================] - 0s 28ms/step\n",
      "1/1 [==============================] - 0s 29ms/step\n"
     ]
    },
    {
     "name": "stderr",
     "output_type": "stream",
     "text": [
      " 53%|█████▎    | 554/1053 [00:36<00:32, 15.47it/s]"
     ]
    },
    {
     "name": "stdout",
     "output_type": "stream",
     "text": [
      "1/1 [==============================] - 0s 28ms/step\n",
      "1/1 [==============================] - 0s 29ms/step\n"
     ]
    },
    {
     "name": "stderr",
     "output_type": "stream",
     "text": [
      " 53%|█████▎    | 556/1053 [00:36<00:32, 15.49it/s]"
     ]
    },
    {
     "name": "stdout",
     "output_type": "stream",
     "text": [
      "1/1 [==============================] - 0s 28ms/step\n",
      "1/1 [==============================] - 0s 28ms/step\n"
     ]
    },
    {
     "name": "stderr",
     "output_type": "stream",
     "text": [
      " 53%|█████▎    | 558/1053 [00:36<00:31, 15.54it/s]"
     ]
    },
    {
     "name": "stdout",
     "output_type": "stream",
     "text": [
      "1/1 [==============================] - 0s 28ms/step\n",
      "1/1 [==============================] - 0s 28ms/step\n"
     ]
    },
    {
     "name": "stderr",
     "output_type": "stream",
     "text": [
      " 53%|█████▎    | 560/1053 [00:36<00:31, 15.61it/s]"
     ]
    },
    {
     "name": "stdout",
     "output_type": "stream",
     "text": [
      "1/1 [==============================] - 0s 29ms/step\n",
      "1/1 [==============================] - 0s 29ms/step\n"
     ]
    },
    {
     "name": "stderr",
     "output_type": "stream",
     "text": [
      " 53%|█████▎    | 562/1053 [00:36<00:31, 15.42it/s]"
     ]
    },
    {
     "name": "stdout",
     "output_type": "stream",
     "text": [
      "1/1 [==============================] - 0s 30ms/step\n",
      "1/1 [==============================] - 0s 29ms/step\n"
     ]
    },
    {
     "name": "stderr",
     "output_type": "stream",
     "text": [
      " 54%|█████▎    | 564/1053 [00:36<00:31, 15.41it/s]"
     ]
    },
    {
     "name": "stdout",
     "output_type": "stream",
     "text": [
      "1/1 [==============================] - 0s 28ms/step\n",
      "1/1 [==============================] - 0s 28ms/step\n"
     ]
    },
    {
     "name": "stderr",
     "output_type": "stream",
     "text": [
      " 54%|█████▍    | 566/1053 [00:36<00:31, 15.48it/s]"
     ]
    },
    {
     "name": "stdout",
     "output_type": "stream",
     "text": [
      "1/1 [==============================] - 0s 28ms/step\n",
      "1/1 [==============================] - 0s 28ms/step\n"
     ]
    },
    {
     "name": "stderr",
     "output_type": "stream",
     "text": [
      " 54%|█████▍    | 568/1053 [00:37<00:31, 15.57it/s]"
     ]
    },
    {
     "name": "stdout",
     "output_type": "stream",
     "text": [
      "1/1 [==============================] - 0s 28ms/step\n",
      "1/1 [==============================] - 0s 28ms/step\n"
     ]
    },
    {
     "name": "stderr",
     "output_type": "stream",
     "text": [
      " 54%|█████▍    | 570/1053 [00:37<00:30, 15.60it/s]"
     ]
    },
    {
     "name": "stdout",
     "output_type": "stream",
     "text": [
      "1/1 [==============================] - 0s 28ms/step\n",
      "1/1 [==============================] - 0s 29ms/step\n"
     ]
    },
    {
     "name": "stderr",
     "output_type": "stream",
     "text": [
      " 54%|█████▍    | 572/1053 [00:37<00:31, 15.45it/s]"
     ]
    },
    {
     "name": "stdout",
     "output_type": "stream",
     "text": [
      "1/1 [==============================] - 0s 28ms/step\n",
      "1/1 [==============================] - 0s 29ms/step\n"
     ]
    },
    {
     "name": "stderr",
     "output_type": "stream",
     "text": [
      " 55%|█████▍    | 574/1053 [00:37<00:30, 15.50it/s]"
     ]
    },
    {
     "name": "stdout",
     "output_type": "stream",
     "text": [
      "1/1 [==============================] - 0s 28ms/step\n",
      "1/1 [==============================] - 0s 28ms/step\n"
     ]
    },
    {
     "name": "stderr",
     "output_type": "stream",
     "text": [
      " 55%|█████▍    | 576/1053 [00:37<00:30, 15.54it/s]"
     ]
    },
    {
     "name": "stdout",
     "output_type": "stream",
     "text": [
      "1/1 [==============================] - 0s 28ms/step\n",
      "1/1 [==============================] - 0s 28ms/step\n"
     ]
    },
    {
     "name": "stderr",
     "output_type": "stream",
     "text": [
      " 55%|█████▍    | 578/1053 [00:37<00:30, 15.59it/s]"
     ]
    },
    {
     "name": "stdout",
     "output_type": "stream",
     "text": [
      "1/1 [==============================] - 0s 28ms/step\n",
      "1/1 [==============================] - 0s 28ms/step\n"
     ]
    },
    {
     "name": "stderr",
     "output_type": "stream",
     "text": [
      " 55%|█████▌    | 580/1053 [00:37<00:30, 15.62it/s]"
     ]
    },
    {
     "name": "stdout",
     "output_type": "stream",
     "text": [
      "1/1 [==============================] - 0s 28ms/step\n",
      "1/1 [==============================] - 0s 28ms/step\n"
     ]
    },
    {
     "name": "stderr",
     "output_type": "stream",
     "text": [
      " 55%|█████▌    | 582/1053 [00:37<00:30, 15.47it/s]"
     ]
    },
    {
     "name": "stdout",
     "output_type": "stream",
     "text": [
      "1/1 [==============================] - 0s 28ms/step\n",
      "1/1 [==============================] - 0s 29ms/step\n"
     ]
    },
    {
     "name": "stderr",
     "output_type": "stream",
     "text": [
      " 55%|█████▌    | 584/1053 [00:38<00:30, 15.51it/s]"
     ]
    },
    {
     "name": "stdout",
     "output_type": "stream",
     "text": [
      "1/1 [==============================] - 0s 29ms/step\n",
      "1/1 [==============================] - 0s 28ms/step\n"
     ]
    },
    {
     "name": "stderr",
     "output_type": "stream",
     "text": [
      " 56%|█████▌    | 586/1053 [00:38<00:30, 15.55it/s]"
     ]
    },
    {
     "name": "stdout",
     "output_type": "stream",
     "text": [
      "1/1 [==============================] - 0s 28ms/step\n",
      "1/1 [==============================] - 0s 29ms/step\n"
     ]
    },
    {
     "name": "stderr",
     "output_type": "stream",
     "text": [
      " 56%|█████▌    | 588/1053 [00:38<00:29, 15.56it/s]"
     ]
    },
    {
     "name": "stdout",
     "output_type": "stream",
     "text": [
      "1/1 [==============================] - 0s 29ms/step\n",
      "1/1 [==============================] - 0s 28ms/step\n"
     ]
    },
    {
     "name": "stderr",
     "output_type": "stream",
     "text": [
      " 56%|█████▌    | 590/1053 [00:38<00:29, 15.60it/s]"
     ]
    },
    {
     "name": "stdout",
     "output_type": "stream",
     "text": [
      "1/1 [==============================] - 0s 28ms/step\n",
      "1/1 [==============================] - 0s 29ms/step\n"
     ]
    },
    {
     "name": "stderr",
     "output_type": "stream",
     "text": [
      " 56%|█████▌    | 592/1053 [00:38<00:29, 15.42it/s]"
     ]
    },
    {
     "name": "stdout",
     "output_type": "stream",
     "text": [
      "1/1 [==============================] - 0s 29ms/step\n",
      "1/1 [==============================] - 0s 29ms/step\n"
     ]
    },
    {
     "name": "stderr",
     "output_type": "stream",
     "text": [
      " 56%|█████▋    | 594/1053 [00:38<00:29, 15.47it/s]"
     ]
    },
    {
     "name": "stdout",
     "output_type": "stream",
     "text": [
      "1/1 [==============================] - 0s 28ms/step\n",
      "1/1 [==============================] - 0s 28ms/step\n"
     ]
    },
    {
     "name": "stderr",
     "output_type": "stream",
     "text": [
      " 57%|█████▋    | 596/1053 [00:38<00:29, 15.51it/s]"
     ]
    },
    {
     "name": "stdout",
     "output_type": "stream",
     "text": [
      "1/1 [==============================] - 0s 28ms/step\n",
      "1/1 [==============================] - 0s 28ms/step\n"
     ]
    },
    {
     "name": "stderr",
     "output_type": "stream",
     "text": [
      " 57%|█████▋    | 598/1053 [00:39<00:29, 15.56it/s]"
     ]
    },
    {
     "name": "stdout",
     "output_type": "stream",
     "text": [
      "1/1 [==============================] - 0s 29ms/step\n",
      "1/1 [==============================] - 0s 28ms/step\n"
     ]
    },
    {
     "name": "stderr",
     "output_type": "stream",
     "text": [
      " 57%|█████▋    | 600/1053 [00:39<00:29, 15.57it/s]"
     ]
    },
    {
     "name": "stdout",
     "output_type": "stream",
     "text": [
      "1/1 [==============================] - 0s 28ms/step\n",
      "1/1 [==============================] - 0s 29ms/step\n"
     ]
    },
    {
     "name": "stderr",
     "output_type": "stream",
     "text": [
      " 57%|█████▋    | 602/1053 [00:39<00:29, 15.41it/s]"
     ]
    },
    {
     "name": "stdout",
     "output_type": "stream",
     "text": [
      "1/1 [==============================] - 0s 29ms/step\n",
      "1/1 [==============================] - 0s 29ms/step\n"
     ]
    },
    {
     "name": "stderr",
     "output_type": "stream",
     "text": [
      " 57%|█████▋    | 604/1053 [00:39<00:29, 15.46it/s]"
     ]
    },
    {
     "name": "stdout",
     "output_type": "stream",
     "text": [
      "1/1 [==============================] - 0s 28ms/step\n",
      "1/1 [==============================] - 0s 29ms/step\n"
     ]
    },
    {
     "name": "stderr",
     "output_type": "stream",
     "text": [
      " 58%|█████▊    | 606/1053 [00:39<00:28, 15.50it/s]"
     ]
    },
    {
     "name": "stdout",
     "output_type": "stream",
     "text": [
      "1/1 [==============================] - 0s 29ms/step\n",
      "1/1 [==============================] - 0s 29ms/step\n"
     ]
    },
    {
     "name": "stderr",
     "output_type": "stream",
     "text": [
      " 58%|█████▊    | 608/1053 [00:39<00:28, 15.53it/s]"
     ]
    },
    {
     "name": "stdout",
     "output_type": "stream",
     "text": [
      "1/1 [==============================] - 0s 28ms/step\n",
      "1/1 [==============================] - 0s 29ms/step\n"
     ]
    },
    {
     "name": "stderr",
     "output_type": "stream",
     "text": [
      " 58%|█████▊    | 610/1053 [00:39<00:28, 15.57it/s]"
     ]
    },
    {
     "name": "stdout",
     "output_type": "stream",
     "text": [
      "1/1 [==============================] - 0s 28ms/step\n",
      "1/1 [==============================] - 0s 27ms/step\n"
     ]
    },
    {
     "name": "stderr",
     "output_type": "stream",
     "text": [
      " 58%|█████▊    | 612/1053 [00:39<00:28, 15.65it/s]"
     ]
    },
    {
     "name": "stdout",
     "output_type": "stream",
     "text": [
      "1/1 [==============================] - 0s 28ms/step\n",
      "1/1 [==============================] - 0s 29ms/step\n"
     ]
    },
    {
     "name": "stderr",
     "output_type": "stream",
     "text": [
      " 58%|█████▊    | 614/1053 [00:40<00:28, 15.44it/s]"
     ]
    },
    {
     "name": "stdout",
     "output_type": "stream",
     "text": [
      "1/1 [==============================] - 0s 28ms/step\n",
      "1/1 [==============================] - 0s 30ms/step\n"
     ]
    },
    {
     "name": "stderr",
     "output_type": "stream",
     "text": [
      " 58%|█████▊    | 616/1053 [00:40<00:28, 15.45it/s]"
     ]
    },
    {
     "name": "stdout",
     "output_type": "stream",
     "text": [
      "1/1 [==============================] - 0s 28ms/step\n",
      "1/1 [==============================] - 0s 29ms/step\n"
     ]
    },
    {
     "name": "stderr",
     "output_type": "stream",
     "text": [
      " 59%|█████▊    | 618/1053 [00:40<00:28, 15.50it/s]"
     ]
    },
    {
     "name": "stdout",
     "output_type": "stream",
     "text": [
      "1/1 [==============================] - 0s 28ms/step\n",
      "1/1 [==============================] - 0s 29ms/step\n"
     ]
    },
    {
     "name": "stderr",
     "output_type": "stream",
     "text": [
      " 59%|█████▉    | 620/1053 [00:40<00:27, 15.54it/s]"
     ]
    },
    {
     "name": "stdout",
     "output_type": "stream",
     "text": [
      "1/1 [==============================] - 0s 28ms/step\n",
      "1/1 [==============================] - 0s 28ms/step\n"
     ]
    },
    {
     "name": "stderr",
     "output_type": "stream",
     "text": [
      " 59%|█████▉    | 622/1053 [00:40<00:27, 15.58it/s]"
     ]
    },
    {
     "name": "stdout",
     "output_type": "stream",
     "text": [
      "1/1 [==============================] - 0s 30ms/step\n",
      "1/1 [==============================] - 0s 29ms/step\n"
     ]
    },
    {
     "name": "stderr",
     "output_type": "stream",
     "text": [
      " 59%|█████▉    | 624/1053 [00:40<00:27, 15.36it/s]"
     ]
    },
    {
     "name": "stdout",
     "output_type": "stream",
     "text": [
      "1/1 [==============================] - 0s 29ms/step\n",
      "1/1 [==============================] - 0s 28ms/step\n"
     ]
    },
    {
     "name": "stderr",
     "output_type": "stream",
     "text": [
      " 59%|█████▉    | 626/1053 [00:40<00:27, 15.44it/s]"
     ]
    },
    {
     "name": "stdout",
     "output_type": "stream",
     "text": [
      "1/1 [==============================] - 0s 28ms/step\n",
      "1/1 [==============================] - 0s 28ms/step\n"
     ]
    },
    {
     "name": "stderr",
     "output_type": "stream",
     "text": [
      " 60%|█████▉    | 628/1053 [00:40<00:27, 15.51it/s]"
     ]
    },
    {
     "name": "stdout",
     "output_type": "stream",
     "text": [
      "1/1 [==============================] - 0s 28ms/step\n",
      "1/1 [==============================] - 0s 28ms/step\n"
     ]
    },
    {
     "name": "stderr",
     "output_type": "stream",
     "text": [
      " 60%|█████▉    | 630/1053 [00:41<00:27, 15.57it/s]"
     ]
    },
    {
     "name": "stdout",
     "output_type": "stream",
     "text": [
      "1/1 [==============================] - 0s 29ms/step\n",
      "1/1 [==============================] - 0s 29ms/step\n"
     ]
    },
    {
     "name": "stderr",
     "output_type": "stream",
     "text": [
      " 60%|██████    | 632/1053 [00:41<00:26, 15.60it/s]"
     ]
    },
    {
     "name": "stdout",
     "output_type": "stream",
     "text": [
      "1/1 [==============================] - 0s 29ms/step\n",
      "1/1 [==============================] - 0s 30ms/step\n"
     ]
    },
    {
     "name": "stderr",
     "output_type": "stream",
     "text": [
      " 60%|██████    | 634/1053 [00:41<00:27, 15.38it/s]"
     ]
    },
    {
     "name": "stdout",
     "output_type": "stream",
     "text": [
      "1/1 [==============================] - 0s 29ms/step\n",
      "1/1 [==============================] - 0s 29ms/step\n"
     ]
    },
    {
     "name": "stderr",
     "output_type": "stream",
     "text": [
      " 60%|██████    | 636/1053 [00:41<00:27, 15.42it/s]"
     ]
    },
    {
     "name": "stdout",
     "output_type": "stream",
     "text": [
      "1/1 [==============================] - 0s 28ms/step\n",
      "1/1 [==============================] - 0s 28ms/step\n"
     ]
    },
    {
     "name": "stderr",
     "output_type": "stream",
     "text": [
      " 61%|██████    | 638/1053 [00:41<00:26, 15.51it/s]"
     ]
    },
    {
     "name": "stdout",
     "output_type": "stream",
     "text": [
      "1/1 [==============================] - 0s 29ms/step\n",
      "1/1 [==============================] - 0s 29ms/step\n"
     ]
    },
    {
     "name": "stderr",
     "output_type": "stream",
     "text": [
      " 61%|██████    | 640/1053 [00:41<00:26, 15.49it/s]"
     ]
    },
    {
     "name": "stdout",
     "output_type": "stream",
     "text": [
      "1/1 [==============================] - 0s 28ms/step\n",
      "1/1 [==============================] - 0s 28ms/step\n"
     ]
    },
    {
     "name": "stderr",
     "output_type": "stream",
     "text": [
      " 61%|██████    | 642/1053 [00:41<00:26, 15.55it/s]"
     ]
    },
    {
     "name": "stdout",
     "output_type": "stream",
     "text": [
      "1/1 [==============================] - 0s 29ms/step\n",
      "1/1 [==============================] - 0s 28ms/step\n"
     ]
    },
    {
     "name": "stderr",
     "output_type": "stream",
     "text": [
      " 61%|██████    | 644/1053 [00:41<00:26, 15.39it/s]"
     ]
    },
    {
     "name": "stdout",
     "output_type": "stream",
     "text": [
      "1/1 [==============================] - 0s 29ms/step\n",
      "1/1 [==============================] - 0s 29ms/step\n"
     ]
    },
    {
     "name": "stderr",
     "output_type": "stream",
     "text": [
      " 61%|██████▏   | 646/1053 [00:42<00:26, 15.41it/s]"
     ]
    },
    {
     "name": "stdout",
     "output_type": "stream",
     "text": [
      "1/1 [==============================] - 0s 29ms/step\n",
      "1/1 [==============================] - 0s 29ms/step\n"
     ]
    },
    {
     "name": "stderr",
     "output_type": "stream",
     "text": [
      " 62%|██████▏   | 648/1053 [00:42<00:26, 15.45it/s]"
     ]
    },
    {
     "name": "stdout",
     "output_type": "stream",
     "text": [
      "1/1 [==============================] - 0s 28ms/step\n",
      "1/1 [==============================] - 0s 29ms/step\n"
     ]
    },
    {
     "name": "stderr",
     "output_type": "stream",
     "text": [
      " 62%|██████▏   | 650/1053 [00:42<00:26, 15.48it/s]"
     ]
    },
    {
     "name": "stdout",
     "output_type": "stream",
     "text": [
      "1/1 [==============================] - 0s 29ms/step\n",
      "1/1 [==============================] - 0s 28ms/step\n"
     ]
    },
    {
     "name": "stderr",
     "output_type": "stream",
     "text": [
      " 62%|██████▏   | 652/1053 [00:42<00:25, 15.51it/s]"
     ]
    },
    {
     "name": "stdout",
     "output_type": "stream",
     "text": [
      "1/1 [==============================] - 0s 28ms/step\n",
      "1/1 [==============================] - 0s 29ms/step\n"
     ]
    },
    {
     "name": "stderr",
     "output_type": "stream",
     "text": [
      " 62%|██████▏   | 654/1053 [00:42<00:25, 15.37it/s]"
     ]
    },
    {
     "name": "stdout",
     "output_type": "stream",
     "text": [
      "1/1 [==============================] - 0s 28ms/step\n",
      "1/1 [==============================] - 0s 29ms/step\n"
     ]
    },
    {
     "name": "stderr",
     "output_type": "stream",
     "text": [
      " 62%|██████▏   | 656/1053 [00:42<00:25, 15.45it/s]"
     ]
    },
    {
     "name": "stdout",
     "output_type": "stream",
     "text": [
      "1/1 [==============================] - 0s 28ms/step\n",
      "1/1 [==============================] - 0s 29ms/step\n"
     ]
    },
    {
     "name": "stderr",
     "output_type": "stream",
     "text": [
      " 62%|██████▏   | 658/1053 [00:42<00:25, 15.50it/s]"
     ]
    },
    {
     "name": "stdout",
     "output_type": "stream",
     "text": [
      "1/1 [==============================] - 0s 29ms/step\n",
      "1/1 [==============================] - 0s 29ms/step\n"
     ]
    },
    {
     "name": "stderr",
     "output_type": "stream",
     "text": [
      " 63%|██████▎   | 660/1053 [00:43<00:25, 15.52it/s]"
     ]
    },
    {
     "name": "stdout",
     "output_type": "stream",
     "text": [
      "1/1 [==============================] - 0s 28ms/step\n",
      "1/1 [==============================] - 0s 28ms/step\n"
     ]
    },
    {
     "name": "stderr",
     "output_type": "stream",
     "text": [
      " 63%|██████▎   | 662/1053 [00:43<00:25, 15.56it/s]"
     ]
    },
    {
     "name": "stdout",
     "output_type": "stream",
     "text": [
      "1/1 [==============================] - 0s 31ms/step\n",
      "1/1 [==============================] - 0s 34ms/step\n"
     ]
    },
    {
     "name": "stderr",
     "output_type": "stream",
     "text": [
      " 63%|██████▎   | 664/1053 [00:43<00:26, 14.80it/s]"
     ]
    },
    {
     "name": "stdout",
     "output_type": "stream",
     "text": [
      "1/1 [==============================] - 0s 33ms/step\n",
      "1/1 [==============================] - 0s 30ms/step\n"
     ]
    },
    {
     "name": "stderr",
     "output_type": "stream",
     "text": [
      " 63%|██████▎   | 666/1053 [00:43<00:26, 14.35it/s]"
     ]
    },
    {
     "name": "stdout",
     "output_type": "stream",
     "text": [
      "1/1 [==============================] - 0s 29ms/step\n",
      "1/1 [==============================] - 0s 29ms/step\n"
     ]
    },
    {
     "name": "stderr",
     "output_type": "stream",
     "text": [
      " 63%|██████▎   | 668/1053 [00:43<00:26, 14.65it/s]"
     ]
    },
    {
     "name": "stdout",
     "output_type": "stream",
     "text": [
      "1/1 [==============================] - 0s 29ms/step\n",
      "1/1 [==============================] - 0s 29ms/step\n"
     ]
    },
    {
     "name": "stderr",
     "output_type": "stream",
     "text": [
      " 64%|██████▎   | 670/1053 [00:43<00:25, 14.90it/s]"
     ]
    },
    {
     "name": "stdout",
     "output_type": "stream",
     "text": [
      "1/1 [==============================] - 0s 29ms/step\n",
      "1/1 [==============================] - 0s 29ms/step\n"
     ]
    },
    {
     "name": "stderr",
     "output_type": "stream",
     "text": [
      " 64%|██████▍   | 672/1053 [00:43<00:25, 15.09it/s]"
     ]
    },
    {
     "name": "stdout",
     "output_type": "stream",
     "text": [
      "1/1 [==============================] - 0s 28ms/step\n",
      "1/1 [==============================] - 0s 29ms/step\n"
     ]
    },
    {
     "name": "stderr",
     "output_type": "stream",
     "text": [
      " 64%|██████▍   | 674/1053 [00:43<00:24, 15.24it/s]"
     ]
    },
    {
     "name": "stdout",
     "output_type": "stream",
     "text": [
      "1/1 [==============================] - 0s 29ms/step\n",
      "1/1 [==============================] - 0s 29ms/step\n"
     ]
    },
    {
     "name": "stderr",
     "output_type": "stream",
     "text": [
      " 64%|██████▍   | 676/1053 [00:44<00:24, 15.11it/s]"
     ]
    },
    {
     "name": "stdout",
     "output_type": "stream",
     "text": [
      "1/1 [==============================] - 0s 28ms/step\n",
      "1/1 [==============================] - 0s 29ms/step\n"
     ]
    },
    {
     "name": "stderr",
     "output_type": "stream",
     "text": [
      " 64%|██████▍   | 678/1053 [00:44<00:24, 15.25it/s]"
     ]
    },
    {
     "name": "stdout",
     "output_type": "stream",
     "text": [
      "1/1 [==============================] - 0s 28ms/step\n",
      "1/1 [==============================] - 0s 29ms/step\n"
     ]
    },
    {
     "name": "stderr",
     "output_type": "stream",
     "text": [
      " 65%|██████▍   | 680/1053 [00:44<00:24, 15.35it/s]"
     ]
    },
    {
     "name": "stdout",
     "output_type": "stream",
     "text": [
      "1/1 [==============================] - 0s 28ms/step\n",
      "1/1 [==============================] - 0s 28ms/step\n"
     ]
    },
    {
     "name": "stderr",
     "output_type": "stream",
     "text": [
      " 65%|██████▍   | 682/1053 [00:44<00:24, 15.43it/s]"
     ]
    },
    {
     "name": "stdout",
     "output_type": "stream",
     "text": [
      "1/1 [==============================] - 0s 28ms/step\n",
      "1/1 [==============================] - 0s 28ms/step\n"
     ]
    },
    {
     "name": "stderr",
     "output_type": "stream",
     "text": [
      " 65%|██████▍   | 684/1053 [00:44<00:23, 15.50it/s]"
     ]
    },
    {
     "name": "stdout",
     "output_type": "stream",
     "text": [
      "1/1 [==============================] - 0s 29ms/step\n",
      "1/1 [==============================] - 0s 29ms/step\n"
     ]
    },
    {
     "name": "stderr",
     "output_type": "stream",
     "text": [
      " 65%|██████▌   | 686/1053 [00:44<00:23, 15.33it/s]"
     ]
    },
    {
     "name": "stdout",
     "output_type": "stream",
     "text": [
      "1/1 [==============================] - 0s 29ms/step\n",
      "1/1 [==============================] - 0s 29ms/step\n"
     ]
    },
    {
     "name": "stderr",
     "output_type": "stream",
     "text": [
      " 65%|██████▌   | 688/1053 [00:44<00:23, 15.36it/s]"
     ]
    },
    {
     "name": "stdout",
     "output_type": "stream",
     "text": [
      "1/1 [==============================] - 0s 29ms/step\n",
      "1/1 [==============================] - 0s 29ms/step\n"
     ]
    },
    {
     "name": "stderr",
     "output_type": "stream",
     "text": [
      " 66%|██████▌   | 690/1053 [00:44<00:23, 15.40it/s]"
     ]
    },
    {
     "name": "stdout",
     "output_type": "stream",
     "text": [
      "1/1 [==============================] - 0s 28ms/step\n",
      "1/1 [==============================] - 0s 29ms/step\n"
     ]
    },
    {
     "name": "stderr",
     "output_type": "stream",
     "text": [
      " 66%|██████▌   | 692/1053 [00:45<00:23, 15.45it/s]"
     ]
    },
    {
     "name": "stdout",
     "output_type": "stream",
     "text": [
      "1/1 [==============================] - 0s 28ms/step\n",
      "1/1 [==============================] - 0s 30ms/step\n"
     ]
    },
    {
     "name": "stderr",
     "output_type": "stream",
     "text": [
      " 66%|██████▌   | 694/1053 [00:45<00:23, 15.45it/s]"
     ]
    },
    {
     "name": "stdout",
     "output_type": "stream",
     "text": [
      "1/1 [==============================] - 0s 29ms/step\n",
      "1/1 [==============================] - 0s 29ms/step\n"
     ]
    },
    {
     "name": "stderr",
     "output_type": "stream",
     "text": [
      " 66%|██████▌   | 696/1053 [00:45<00:23, 15.29it/s]"
     ]
    },
    {
     "name": "stdout",
     "output_type": "stream",
     "text": [
      "1/1 [==============================] - 0s 29ms/step\n",
      "1/1 [==============================] - 0s 28ms/step\n"
     ]
    },
    {
     "name": "stderr",
     "output_type": "stream",
     "text": [
      " 66%|██████▋   | 698/1053 [00:45<00:23, 15.38it/s]"
     ]
    },
    {
     "name": "stdout",
     "output_type": "stream",
     "text": [
      "1/1 [==============================] - 0s 28ms/step\n",
      "1/1 [==============================] - 0s 29ms/step\n"
     ]
    },
    {
     "name": "stderr",
     "output_type": "stream",
     "text": [
      " 66%|██████▋   | 700/1053 [00:45<00:22, 15.44it/s]"
     ]
    },
    {
     "name": "stdout",
     "output_type": "stream",
     "text": [
      "1/1 [==============================] - 0s 28ms/step\n",
      "1/1 [==============================] - 0s 28ms/step\n"
     ]
    },
    {
     "name": "stderr",
     "output_type": "stream",
     "text": [
      " 67%|██████▋   | 702/1053 [00:45<00:22, 15.52it/s]"
     ]
    },
    {
     "name": "stdout",
     "output_type": "stream",
     "text": [
      "1/1 [==============================] - 0s 28ms/step\n",
      "1/1 [==============================] - 0s 27ms/step\n"
     ]
    },
    {
     "name": "stderr",
     "output_type": "stream",
     "text": [
      " 67%|██████▋   | 704/1053 [00:45<00:22, 15.60it/s]"
     ]
    },
    {
     "name": "stdout",
     "output_type": "stream",
     "text": [
      "1/1 [==============================] - 0s 28ms/step\n",
      "1/1 [==============================] - 0s 29ms/step\n"
     ]
    },
    {
     "name": "stderr",
     "output_type": "stream",
     "text": [
      " 67%|██████▋   | 706/1053 [00:46<00:22, 15.40it/s]"
     ]
    },
    {
     "name": "stdout",
     "output_type": "stream",
     "text": [
      "1/1 [==============================] - 0s 29ms/step\n",
      "1/1 [==============================] - 0s 29ms/step\n"
     ]
    },
    {
     "name": "stderr",
     "output_type": "stream",
     "text": [
      " 67%|██████▋   | 708/1053 [00:46<00:22, 15.45it/s]"
     ]
    },
    {
     "name": "stdout",
     "output_type": "stream",
     "text": [
      "1/1 [==============================] - 0s 29ms/step\n",
      "1/1 [==============================] - 0s 29ms/step\n"
     ]
    },
    {
     "name": "stderr",
     "output_type": "stream",
     "text": [
      " 67%|██████▋   | 710/1053 [00:46<00:22, 15.46it/s]"
     ]
    },
    {
     "name": "stdout",
     "output_type": "stream",
     "text": [
      "1/1 [==============================] - 0s 28ms/step\n",
      "1/1 [==============================] - 0s 28ms/step\n"
     ]
    },
    {
     "name": "stderr",
     "output_type": "stream",
     "text": [
      " 68%|██████▊   | 712/1053 [00:46<00:21, 15.51it/s]"
     ]
    },
    {
     "name": "stdout",
     "output_type": "stream",
     "text": [
      "1/1 [==============================] - 0s 28ms/step\n",
      "1/1 [==============================] - 0s 28ms/step\n"
     ]
    },
    {
     "name": "stderr",
     "output_type": "stream",
     "text": [
      " 68%|██████▊   | 714/1053 [00:46<00:21, 15.55it/s]"
     ]
    },
    {
     "name": "stdout",
     "output_type": "stream",
     "text": [
      "1/1 [==============================] - 0s 28ms/step\n",
      "1/1 [==============================] - 0s 28ms/step\n"
     ]
    },
    {
     "name": "stderr",
     "output_type": "stream",
     "text": [
      " 68%|██████▊   | 716/1053 [00:46<00:21, 15.43it/s]"
     ]
    },
    {
     "name": "stdout",
     "output_type": "stream",
     "text": [
      "1/1 [==============================] - 0s 29ms/step\n",
      "1/1 [==============================] - 0s 28ms/step\n"
     ]
    },
    {
     "name": "stderr",
     "output_type": "stream",
     "text": [
      " 68%|██████▊   | 718/1053 [00:46<00:21, 15.49it/s]"
     ]
    },
    {
     "name": "stdout",
     "output_type": "stream",
     "text": [
      "1/1 [==============================] - 0s 28ms/step\n",
      "1/1 [==============================] - 0s 29ms/step\n"
     ]
    },
    {
     "name": "stderr",
     "output_type": "stream",
     "text": [
      " 68%|██████▊   | 720/1053 [00:46<00:21, 15.51it/s]"
     ]
    },
    {
     "name": "stdout",
     "output_type": "stream",
     "text": [
      "1/1 [==============================] - 0s 29ms/step\n",
      "1/1 [==============================] - 0s 29ms/step\n"
     ]
    },
    {
     "name": "stderr",
     "output_type": "stream",
     "text": [
      " 69%|██████▊   | 722/1053 [00:47<00:21, 15.53it/s]"
     ]
    },
    {
     "name": "stdout",
     "output_type": "stream",
     "text": [
      "1/1 [==============================] - 0s 28ms/step\n",
      "1/1 [==============================] - 0s 28ms/step\n"
     ]
    },
    {
     "name": "stderr",
     "output_type": "stream",
     "text": [
      " 69%|██████▉   | 724/1053 [00:47<00:21, 15.59it/s]"
     ]
    },
    {
     "name": "stdout",
     "output_type": "stream",
     "text": [
      "1/1 [==============================] - 0s 28ms/step\n",
      "1/1 [==============================] - 0s 29ms/step\n"
     ]
    },
    {
     "name": "stderr",
     "output_type": "stream",
     "text": [
      " 69%|██████▉   | 726/1053 [00:47<00:21, 15.42it/s]"
     ]
    },
    {
     "name": "stdout",
     "output_type": "stream",
     "text": [
      "1/1 [==============================] - 0s 28ms/step\n",
      "1/1 [==============================] - 0s 29ms/step\n"
     ]
    },
    {
     "name": "stderr",
     "output_type": "stream",
     "text": [
      " 69%|██████▉   | 728/1053 [00:47<00:21, 15.47it/s]"
     ]
    },
    {
     "name": "stdout",
     "output_type": "stream",
     "text": [
      "1/1 [==============================] - 0s 28ms/step\n",
      "1/1 [==============================] - 0s 28ms/step\n"
     ]
    },
    {
     "name": "stderr",
     "output_type": "stream",
     "text": [
      " 69%|██████▉   | 730/1053 [00:47<00:20, 15.54it/s]"
     ]
    },
    {
     "name": "stdout",
     "output_type": "stream",
     "text": [
      "1/1 [==============================] - 0s 28ms/step\n",
      "1/1 [==============================] - 0s 28ms/step\n"
     ]
    },
    {
     "name": "stderr",
     "output_type": "stream",
     "text": [
      " 70%|██████▉   | 732/1053 [00:47<00:20, 15.56it/s]"
     ]
    },
    {
     "name": "stdout",
     "output_type": "stream",
     "text": [
      "1/1 [==============================] - 0s 28ms/step\n",
      "1/1 [==============================] - 0s 28ms/step\n"
     ]
    },
    {
     "name": "stderr",
     "output_type": "stream",
     "text": [
      " 70%|██████▉   | 734/1053 [00:47<00:20, 15.63it/s]"
     ]
    },
    {
     "name": "stdout",
     "output_type": "stream",
     "text": [
      "1/1 [==============================] - 0s 28ms/step\n",
      "1/1 [==============================] - 0s 28ms/step\n"
     ]
    },
    {
     "name": "stderr",
     "output_type": "stream",
     "text": [
      " 70%|██████▉   | 736/1053 [00:47<00:20, 15.65it/s]"
     ]
    },
    {
     "name": "stdout",
     "output_type": "stream",
     "text": [
      "1/1 [==============================] - 0s 29ms/step\n",
      "1/1 [==============================] - 0s 28ms/step\n"
     ]
    },
    {
     "name": "stderr",
     "output_type": "stream",
     "text": [
      " 70%|███████   | 738/1053 [00:48<00:20, 15.44it/s]"
     ]
    },
    {
     "name": "stdout",
     "output_type": "stream",
     "text": [
      "1/1 [==============================] - 0s 33ms/step\n",
      "1/1 [==============================] - 0s 29ms/step\n"
     ]
    },
    {
     "name": "stderr",
     "output_type": "stream",
     "text": [
      " 70%|███████   | 740/1053 [00:48<00:20, 15.29it/s]"
     ]
    },
    {
     "name": "stdout",
     "output_type": "stream",
     "text": [
      "1/1 [==============================] - 0s 28ms/step\n",
      "1/1 [==============================] - 0s 29ms/step\n"
     ]
    },
    {
     "name": "stderr",
     "output_type": "stream",
     "text": [
      " 70%|███████   | 742/1053 [00:48<00:20, 15.38it/s]"
     ]
    },
    {
     "name": "stdout",
     "output_type": "stream",
     "text": [
      "1/1 [==============================] - 0s 28ms/step\n",
      "1/1 [==============================] - 0s 28ms/step\n"
     ]
    },
    {
     "name": "stderr",
     "output_type": "stream",
     "text": [
      " 71%|███████   | 744/1053 [00:48<00:19, 15.46it/s]"
     ]
    },
    {
     "name": "stdout",
     "output_type": "stream",
     "text": [
      "1/1 [==============================] - 0s 28ms/step\n",
      "1/1 [==============================] - 0s 28ms/step\n"
     ]
    },
    {
     "name": "stderr",
     "output_type": "stream",
     "text": [
      " 71%|███████   | 746/1053 [00:48<00:19, 15.57it/s]"
     ]
    },
    {
     "name": "stdout",
     "output_type": "stream",
     "text": [
      "1/1 [==============================] - 0s 29ms/step\n",
      "1/1 [==============================] - 0s 28ms/step\n"
     ]
    },
    {
     "name": "stderr",
     "output_type": "stream",
     "text": [
      " 71%|███████   | 748/1053 [00:48<00:19, 15.40it/s]"
     ]
    },
    {
     "name": "stdout",
     "output_type": "stream",
     "text": [
      "1/1 [==============================] - 0s 29ms/step\n",
      "1/1 [==============================] - 0s 29ms/step\n"
     ]
    },
    {
     "name": "stderr",
     "output_type": "stream",
     "text": [
      " 71%|███████   | 750/1053 [00:48<00:19, 15.43it/s]"
     ]
    },
    {
     "name": "stdout",
     "output_type": "stream",
     "text": [
      "1/1 [==============================] - 0s 28ms/step\n",
      "1/1 [==============================] - 0s 28ms/step\n"
     ]
    },
    {
     "name": "stderr",
     "output_type": "stream",
     "text": [
      " 71%|███████▏  | 752/1053 [00:48<00:19, 15.49it/s]"
     ]
    },
    {
     "name": "stdout",
     "output_type": "stream",
     "text": [
      "1/1 [==============================] - 0s 29ms/step\n",
      "1/1 [==============================] - 0s 29ms/step\n"
     ]
    },
    {
     "name": "stderr",
     "output_type": "stream",
     "text": [
      " 72%|███████▏  | 754/1053 [00:49<00:19, 15.49it/s]"
     ]
    },
    {
     "name": "stdout",
     "output_type": "stream",
     "text": [
      "1/1 [==============================] - 0s 29ms/step\n",
      "1/1 [==============================] - 0s 28ms/step\n"
     ]
    },
    {
     "name": "stderr",
     "output_type": "stream",
     "text": [
      " 72%|███████▏  | 756/1053 [00:49<00:19, 15.54it/s]"
     ]
    },
    {
     "name": "stdout",
     "output_type": "stream",
     "text": [
      "1/1 [==============================] - 0s 30ms/step\n",
      "1/1 [==============================] - 0s 31ms/step\n"
     ]
    },
    {
     "name": "stderr",
     "output_type": "stream",
     "text": [
      " 72%|███████▏  | 758/1053 [00:49<00:19, 15.24it/s]"
     ]
    },
    {
     "name": "stdout",
     "output_type": "stream",
     "text": [
      "1/1 [==============================] - 0s 29ms/step\n",
      "1/1 [==============================] - 0s 29ms/step\n"
     ]
    },
    {
     "name": "stderr",
     "output_type": "stream",
     "text": [
      " 72%|███████▏  | 760/1053 [00:49<00:19, 15.33it/s]"
     ]
    },
    {
     "name": "stdout",
     "output_type": "stream",
     "text": [
      "1/1 [==============================] - 0s 28ms/step\n",
      "1/1 [==============================] - 0s 29ms/step\n"
     ]
    },
    {
     "name": "stderr",
     "output_type": "stream",
     "text": [
      " 72%|███████▏  | 762/1053 [00:49<00:18, 15.39it/s]"
     ]
    },
    {
     "name": "stdout",
     "output_type": "stream",
     "text": [
      "1/1 [==============================] - 0s 28ms/step\n",
      "1/1 [==============================] - 0s 28ms/step\n"
     ]
    },
    {
     "name": "stderr",
     "output_type": "stream",
     "text": [
      " 73%|███████▎  | 764/1053 [00:49<00:18, 15.49it/s]"
     ]
    },
    {
     "name": "stdout",
     "output_type": "stream",
     "text": [
      "1/1 [==============================] - 0s 28ms/step\n",
      "1/1 [==============================] - 0s 28ms/step\n"
     ]
    },
    {
     "name": "stderr",
     "output_type": "stream",
     "text": [
      " 73%|███████▎  | 766/1053 [00:49<00:18, 15.56it/s]"
     ]
    },
    {
     "name": "stdout",
     "output_type": "stream",
     "text": [
      "1/1 [==============================] - 0s 28ms/step\n",
      "1/1 [==============================] - 0s 28ms/step\n"
     ]
    },
    {
     "name": "stderr",
     "output_type": "stream",
     "text": [
      " 73%|███████▎  | 768/1053 [00:50<00:18, 15.38it/s]"
     ]
    },
    {
     "name": "stdout",
     "output_type": "stream",
     "text": [
      "1/1 [==============================] - 0s 29ms/step\n",
      "1/1 [==============================] - 0s 30ms/step\n"
     ]
    },
    {
     "name": "stderr",
     "output_type": "stream",
     "text": [
      " 73%|███████▎  | 770/1053 [00:50<00:18, 15.38it/s]"
     ]
    },
    {
     "name": "stdout",
     "output_type": "stream",
     "text": [
      "1/1 [==============================] - 0s 29ms/step\n",
      "1/1 [==============================] - 0s 29ms/step\n"
     ]
    },
    {
     "name": "stderr",
     "output_type": "stream",
     "text": [
      " 73%|███████▎  | 772/1053 [00:50<00:18, 15.42it/s]"
     ]
    },
    {
     "name": "stdout",
     "output_type": "stream",
     "text": [
      "1/1 [==============================] - 0s 29ms/step\n",
      "1/1 [==============================] - 0s 28ms/step\n"
     ]
    },
    {
     "name": "stderr",
     "output_type": "stream",
     "text": [
      " 74%|███████▎  | 774/1053 [00:50<00:18, 15.47it/s]"
     ]
    },
    {
     "name": "stdout",
     "output_type": "stream",
     "text": [
      "1/1 [==============================] - 0s 28ms/step\n",
      "1/1 [==============================] - 0s 28ms/step\n"
     ]
    },
    {
     "name": "stderr",
     "output_type": "stream",
     "text": [
      " 74%|███████▎  | 776/1053 [00:50<00:17, 15.55it/s]"
     ]
    },
    {
     "name": "stdout",
     "output_type": "stream",
     "text": [
      "1/1 [==============================] - 0s 28ms/step\n",
      "1/1 [==============================] - 0s 29ms/step\n"
     ]
    },
    {
     "name": "stderr",
     "output_type": "stream",
     "text": [
      " 74%|███████▍  | 778/1053 [00:50<00:17, 15.39it/s]"
     ]
    },
    {
     "name": "stdout",
     "output_type": "stream",
     "text": [
      "1/1 [==============================] - 0s 29ms/step\n",
      "1/1 [==============================] - 0s 29ms/step\n"
     ]
    },
    {
     "name": "stderr",
     "output_type": "stream",
     "text": [
      " 74%|███████▍  | 780/1053 [00:50<00:17, 15.41it/s]"
     ]
    },
    {
     "name": "stdout",
     "output_type": "stream",
     "text": [
      "1/1 [==============================] - 0s 28ms/step\n",
      "1/1 [==============================] - 0s 29ms/step\n"
     ]
    },
    {
     "name": "stderr",
     "output_type": "stream",
     "text": [
      " 74%|███████▍  | 782/1053 [00:50<00:17, 15.45it/s]"
     ]
    },
    {
     "name": "stdout",
     "output_type": "stream",
     "text": [
      "1/1 [==============================] - 0s 28ms/step\n",
      "1/1 [==============================] - 0s 28ms/step\n"
     ]
    },
    {
     "name": "stderr",
     "output_type": "stream",
     "text": [
      " 74%|███████▍  | 784/1053 [00:51<00:17, 15.54it/s]"
     ]
    },
    {
     "name": "stdout",
     "output_type": "stream",
     "text": [
      "1/1 [==============================] - 0s 28ms/step\n",
      "1/1 [==============================] - 0s 28ms/step\n"
     ]
    },
    {
     "name": "stderr",
     "output_type": "stream",
     "text": [
      " 75%|███████▍  | 786/1053 [00:51<00:17, 15.59it/s]"
     ]
    },
    {
     "name": "stdout",
     "output_type": "stream",
     "text": [
      "1/1 [==============================] - 0s 29ms/step\n",
      "1/1 [==============================] - 0s 29ms/step\n"
     ]
    },
    {
     "name": "stderr",
     "output_type": "stream",
     "text": [
      " 75%|███████▍  | 788/1053 [00:51<00:17, 15.37it/s]"
     ]
    },
    {
     "name": "stdout",
     "output_type": "stream",
     "text": [
      "1/1 [==============================] - 0s 29ms/step\n",
      "1/1 [==============================] - 0s 29ms/step\n"
     ]
    },
    {
     "name": "stderr",
     "output_type": "stream",
     "text": [
      " 75%|███████▌  | 790/1053 [00:51<00:17, 15.39it/s]"
     ]
    },
    {
     "name": "stdout",
     "output_type": "stream",
     "text": [
      "1/1 [==============================] - 0s 29ms/step\n",
      "1/1 [==============================] - 0s 29ms/step\n"
     ]
    },
    {
     "name": "stderr",
     "output_type": "stream",
     "text": [
      " 75%|███████▌  | 792/1053 [00:51<00:16, 15.44it/s]"
     ]
    },
    {
     "name": "stdout",
     "output_type": "stream",
     "text": [
      "1/1 [==============================] - 0s 29ms/step\n",
      "1/1 [==============================] - 0s 28ms/step\n"
     ]
    },
    {
     "name": "stderr",
     "output_type": "stream",
     "text": [
      " 75%|███████▌  | 794/1053 [00:51<00:16, 15.49it/s]"
     ]
    },
    {
     "name": "stdout",
     "output_type": "stream",
     "text": [
      "1/1 [==============================] - 0s 29ms/step\n",
      "1/1 [==============================] - 0s 28ms/step\n"
     ]
    },
    {
     "name": "stderr",
     "output_type": "stream",
     "text": [
      " 76%|███████▌  | 796/1053 [00:51<00:16, 15.55it/s]"
     ]
    },
    {
     "name": "stdout",
     "output_type": "stream",
     "text": [
      "1/1 [==============================] - 0s 28ms/step\n",
      "1/1 [==============================] - 0s 29ms/step\n"
     ]
    },
    {
     "name": "stderr",
     "output_type": "stream",
     "text": [
      " 76%|███████▌  | 798/1053 [00:51<00:16, 15.56it/s]"
     ]
    },
    {
     "name": "stdout",
     "output_type": "stream",
     "text": [
      "1/1 [==============================] - 0s 29ms/step\n",
      "1/1 [==============================] - 0s 29ms/step\n"
     ]
    },
    {
     "name": "stderr",
     "output_type": "stream",
     "text": [
      " 76%|███████▌  | 800/1053 [00:52<00:16, 15.33it/s]"
     ]
    },
    {
     "name": "stdout",
     "output_type": "stream",
     "text": [
      "1/1 [==============================] - 0s 29ms/step\n",
      "1/1 [==============================] - 0s 29ms/step\n"
     ]
    },
    {
     "name": "stderr",
     "output_type": "stream",
     "text": [
      " 76%|███████▌  | 802/1053 [00:52<00:16, 15.39it/s]"
     ]
    },
    {
     "name": "stdout",
     "output_type": "stream",
     "text": [
      "1/1 [==============================] - 0s 28ms/step\n",
      "1/1 [==============================] - 0s 29ms/step\n"
     ]
    },
    {
     "name": "stderr",
     "output_type": "stream",
     "text": [
      " 76%|███████▋  | 804/1053 [00:52<00:16, 15.45it/s]"
     ]
    },
    {
     "name": "stdout",
     "output_type": "stream",
     "text": [
      "1/1 [==============================] - 0s 28ms/step\n",
      "1/1 [==============================] - 0s 28ms/step\n"
     ]
    },
    {
     "name": "stderr",
     "output_type": "stream",
     "text": [
      " 77%|███████▋  | 806/1053 [00:52<00:15, 15.53it/s]"
     ]
    },
    {
     "name": "stdout",
     "output_type": "stream",
     "text": [
      "1/1 [==============================] - 0s 29ms/step\n",
      "1/1 [==============================] - 0s 29ms/step\n"
     ]
    },
    {
     "name": "stderr",
     "output_type": "stream",
     "text": [
      " 77%|███████▋  | 808/1053 [00:52<00:15, 15.54it/s]"
     ]
    },
    {
     "name": "stdout",
     "output_type": "stream",
     "text": [
      "1/1 [==============================] - 0s 29ms/step\n",
      "1/1 [==============================] - 0s 29ms/step\n"
     ]
    },
    {
     "name": "stderr",
     "output_type": "stream",
     "text": [
      " 77%|███████▋  | 810/1053 [00:52<00:15, 15.33it/s]"
     ]
    },
    {
     "name": "stdout",
     "output_type": "stream",
     "text": [
      "1/1 [==============================] - 0s 29ms/step\n",
      "1/1 [==============================] - 0s 29ms/step\n"
     ]
    },
    {
     "name": "stderr",
     "output_type": "stream",
     "text": [
      " 77%|███████▋  | 812/1053 [00:52<00:15, 15.39it/s]"
     ]
    },
    {
     "name": "stdout",
     "output_type": "stream",
     "text": [
      "1/1 [==============================] - 0s 29ms/step\n",
      "1/1 [==============================] - 0s 28ms/step\n"
     ]
    },
    {
     "name": "stderr",
     "output_type": "stream",
     "text": [
      " 77%|███████▋  | 814/1053 [00:53<00:15, 15.47it/s]"
     ]
    },
    {
     "name": "stdout",
     "output_type": "stream",
     "text": [
      "1/1 [==============================] - 0s 30ms/step\n",
      "1/1 [==============================] - 0s 28ms/step\n"
     ]
    },
    {
     "name": "stderr",
     "output_type": "stream",
     "text": [
      " 77%|███████▋  | 816/1053 [00:53<00:15, 15.50it/s]"
     ]
    },
    {
     "name": "stdout",
     "output_type": "stream",
     "text": [
      "1/1 [==============================] - 0s 28ms/step\n",
      "1/1 [==============================] - 0s 28ms/step\n"
     ]
    },
    {
     "name": "stderr",
     "output_type": "stream",
     "text": [
      " 78%|███████▊  | 818/1053 [00:53<00:15, 15.54it/s]"
     ]
    },
    {
     "name": "stdout",
     "output_type": "stream",
     "text": [
      "1/1 [==============================] - 0s 29ms/step\n",
      "1/1 [==============================] - 0s 30ms/step\n"
     ]
    },
    {
     "name": "stderr",
     "output_type": "stream",
     "text": [
      " 78%|███████▊  | 820/1053 [00:53<00:15, 15.28it/s]"
     ]
    },
    {
     "name": "stdout",
     "output_type": "stream",
     "text": [
      "1/1 [==============================] - 0s 29ms/step\n",
      "1/1 [==============================] - 0s 29ms/step\n"
     ]
    },
    {
     "name": "stderr",
     "output_type": "stream",
     "text": [
      " 78%|███████▊  | 822/1053 [00:53<00:15, 15.34it/s]"
     ]
    },
    {
     "name": "stdout",
     "output_type": "stream",
     "text": [
      "1/1 [==============================] - 0s 28ms/step\n",
      "1/1 [==============================] - 0s 29ms/step\n"
     ]
    },
    {
     "name": "stderr",
     "output_type": "stream",
     "text": [
      " 78%|███████▊  | 824/1053 [00:53<00:14, 15.40it/s]"
     ]
    },
    {
     "name": "stdout",
     "output_type": "stream",
     "text": [
      "1/1 [==============================] - 0s 29ms/step\n",
      "1/1 [==============================] - 0s 28ms/step\n"
     ]
    },
    {
     "name": "stderr",
     "output_type": "stream",
     "text": [
      " 78%|███████▊  | 826/1053 [00:53<00:14, 15.46it/s]"
     ]
    },
    {
     "name": "stdout",
     "output_type": "stream",
     "text": [
      "1/1 [==============================] - 0s 28ms/step\n",
      "1/1 [==============================] - 0s 29ms/step\n"
     ]
    },
    {
     "name": "stderr",
     "output_type": "stream",
     "text": [
      " 79%|███████▊  | 828/1053 [00:53<00:14, 15.50it/s]"
     ]
    },
    {
     "name": "stdout",
     "output_type": "stream",
     "text": [
      "1/1 [==============================] - 0s 28ms/step\n",
      "1/1 [==============================] - 0s 28ms/step\n"
     ]
    },
    {
     "name": "stderr",
     "output_type": "stream",
     "text": [
      " 79%|███████▉  | 830/1053 [00:54<00:14, 15.34it/s]"
     ]
    },
    {
     "name": "stdout",
     "output_type": "stream",
     "text": [
      "1/1 [==============================] - 0s 29ms/step\n",
      "1/1 [==============================] - 0s 29ms/step\n"
     ]
    },
    {
     "name": "stderr",
     "output_type": "stream",
     "text": [
      " 79%|███████▉  | 832/1053 [00:54<00:14, 15.37it/s]"
     ]
    },
    {
     "name": "stdout",
     "output_type": "stream",
     "text": [
      "1/1 [==============================] - 0s 29ms/step\n",
      "1/1 [==============================] - 0s 28ms/step\n"
     ]
    },
    {
     "name": "stderr",
     "output_type": "stream",
     "text": [
      " 79%|███████▉  | 834/1053 [00:54<00:14, 15.43it/s]"
     ]
    },
    {
     "name": "stdout",
     "output_type": "stream",
     "text": [
      "1/1 [==============================] - 0s 28ms/step\n",
      "1/1 [==============================] - 0s 29ms/step\n"
     ]
    },
    {
     "name": "stderr",
     "output_type": "stream",
     "text": [
      " 79%|███████▉  | 836/1053 [00:54<00:14, 15.46it/s]"
     ]
    },
    {
     "name": "stdout",
     "output_type": "stream",
     "text": [
      "1/1 [==============================] - 0s 28ms/step\n",
      "1/1 [==============================] - 0s 29ms/step\n"
     ]
    },
    {
     "name": "stderr",
     "output_type": "stream",
     "text": [
      " 80%|███████▉  | 838/1053 [00:54<00:13, 15.49it/s]"
     ]
    },
    {
     "name": "stdout",
     "output_type": "stream",
     "text": [
      "1/1 [==============================] - 0s 28ms/step\n",
      "1/1 [==============================] - 0s 29ms/step\n"
     ]
    },
    {
     "name": "stderr",
     "output_type": "stream",
     "text": [
      " 80%|███████▉  | 840/1053 [00:54<00:13, 15.33it/s]"
     ]
    },
    {
     "name": "stdout",
     "output_type": "stream",
     "text": [
      "1/1 [==============================] - 0s 29ms/step\n",
      "1/1 [==============================] - 0s 29ms/step\n"
     ]
    },
    {
     "name": "stderr",
     "output_type": "stream",
     "text": [
      " 80%|███████▉  | 842/1053 [00:54<00:13, 15.39it/s]"
     ]
    },
    {
     "name": "stdout",
     "output_type": "stream",
     "text": [
      "1/1 [==============================] - 0s 29ms/step\n",
      "1/1 [==============================] - 0s 28ms/step\n"
     ]
    },
    {
     "name": "stderr",
     "output_type": "stream",
     "text": [
      " 80%|████████  | 844/1053 [00:54<00:13, 15.44it/s]"
     ]
    },
    {
     "name": "stdout",
     "output_type": "stream",
     "text": [
      "1/1 [==============================] - 0s 29ms/step\n",
      "1/1 [==============================] - 0s 28ms/step\n"
     ]
    },
    {
     "name": "stderr",
     "output_type": "stream",
     "text": [
      " 80%|████████  | 846/1053 [00:55<00:13, 15.49it/s]"
     ]
    },
    {
     "name": "stdout",
     "output_type": "stream",
     "text": [
      "1/1 [==============================] - 0s 28ms/step\n",
      "1/1 [==============================] - 0s 28ms/step\n"
     ]
    },
    {
     "name": "stderr",
     "output_type": "stream",
     "text": [
      " 81%|████████  | 848/1053 [00:55<00:13, 15.56it/s]"
     ]
    },
    {
     "name": "stdout",
     "output_type": "stream",
     "text": [
      "1/1 [==============================] - 0s 28ms/step\n",
      "1/1 [==============================] - 0s 29ms/step\n"
     ]
    },
    {
     "name": "stderr",
     "output_type": "stream",
     "text": [
      " 81%|████████  | 850/1053 [00:55<00:13, 15.40it/s]"
     ]
    },
    {
     "name": "stdout",
     "output_type": "stream",
     "text": [
      "1/1 [==============================] - 0s 28ms/step\n",
      "1/1 [==============================] - 0s 28ms/step\n"
     ]
    },
    {
     "name": "stderr",
     "output_type": "stream",
     "text": [
      " 81%|████████  | 852/1053 [00:55<00:12, 15.46it/s]"
     ]
    },
    {
     "name": "stdout",
     "output_type": "stream",
     "text": [
      "1/1 [==============================] - 0s 28ms/step\n",
      "1/1 [==============================] - 0s 28ms/step\n"
     ]
    },
    {
     "name": "stderr",
     "output_type": "stream",
     "text": [
      " 81%|████████  | 854/1053 [00:55<00:12, 15.53it/s]"
     ]
    },
    {
     "name": "stdout",
     "output_type": "stream",
     "text": [
      "1/1 [==============================] - 0s 28ms/step\n",
      "1/1 [==============================] - 0s 29ms/step\n"
     ]
    },
    {
     "name": "stderr",
     "output_type": "stream",
     "text": [
      " 81%|████████▏ | 856/1053 [00:55<00:12, 15.54it/s]"
     ]
    },
    {
     "name": "stdout",
     "output_type": "stream",
     "text": [
      "1/1 [==============================] - 0s 28ms/step\n",
      "1/1 [==============================] - 0s 29ms/step\n"
     ]
    },
    {
     "name": "stderr",
     "output_type": "stream",
     "text": [
      " 81%|████████▏ | 858/1053 [00:55<00:12, 15.55it/s]"
     ]
    },
    {
     "name": "stdout",
     "output_type": "stream",
     "text": [
      "1/1 [==============================] - 0s 28ms/step\n",
      "1/1 [==============================] - 0s 28ms/step\n"
     ]
    },
    {
     "name": "stderr",
     "output_type": "stream",
     "text": [
      " 82%|████████▏ | 860/1053 [00:55<00:12, 15.61it/s]"
     ]
    },
    {
     "name": "stdout",
     "output_type": "stream",
     "text": [
      "1/1 [==============================] - 0s 29ms/step\n",
      "1/1 [==============================] - 0s 28ms/step\n"
     ]
    },
    {
     "name": "stderr",
     "output_type": "stream",
     "text": [
      " 82%|████████▏ | 862/1053 [00:56<00:12, 15.41it/s]"
     ]
    },
    {
     "name": "stdout",
     "output_type": "stream",
     "text": [
      "1/1 [==============================] - 0s 29ms/step\n",
      "1/1 [==============================] - 0s 29ms/step\n"
     ]
    },
    {
     "name": "stderr",
     "output_type": "stream",
     "text": [
      " 82%|████████▏ | 864/1053 [00:56<00:12, 15.46it/s]"
     ]
    },
    {
     "name": "stdout",
     "output_type": "stream",
     "text": [
      "1/1 [==============================] - 0s 28ms/step\n",
      "1/1 [==============================] - 0s 28ms/step\n"
     ]
    },
    {
     "name": "stderr",
     "output_type": "stream",
     "text": [
      " 82%|████████▏ | 866/1053 [00:56<00:12, 15.53it/s]"
     ]
    },
    {
     "name": "stdout",
     "output_type": "stream",
     "text": [
      "1/1 [==============================] - 0s 28ms/step\n",
      "1/1 [==============================] - 0s 28ms/step\n"
     ]
    },
    {
     "name": "stderr",
     "output_type": "stream",
     "text": [
      " 82%|████████▏ | 868/1053 [00:56<00:11, 15.57it/s]"
     ]
    },
    {
     "name": "stdout",
     "output_type": "stream",
     "text": [
      "1/1 [==============================] - 0s 28ms/step\n",
      "1/1 [==============================] - 0s 28ms/step\n"
     ]
    },
    {
     "name": "stderr",
     "output_type": "stream",
     "text": [
      " 83%|████████▎ | 870/1053 [00:56<00:11, 15.60it/s]"
     ]
    },
    {
     "name": "stdout",
     "output_type": "stream",
     "text": [
      "1/1 [==============================] - 0s 29ms/step\n",
      "1/1 [==============================] - 0s 28ms/step\n"
     ]
    },
    {
     "name": "stderr",
     "output_type": "stream",
     "text": [
      " 83%|████████▎ | 872/1053 [00:56<00:11, 15.43it/s]"
     ]
    },
    {
     "name": "stdout",
     "output_type": "stream",
     "text": [
      "1/1 [==============================] - 0s 28ms/step\n",
      "1/1 [==============================] - 0s 28ms/step\n"
     ]
    },
    {
     "name": "stderr",
     "output_type": "stream",
     "text": [
      " 83%|████████▎ | 874/1053 [00:56<00:11, 15.49it/s]"
     ]
    },
    {
     "name": "stdout",
     "output_type": "stream",
     "text": [
      "1/1 [==============================] - 0s 28ms/step\n",
      "1/1 [==============================] - 0s 28ms/step\n"
     ]
    },
    {
     "name": "stderr",
     "output_type": "stream",
     "text": [
      " 83%|████████▎ | 876/1053 [00:57<00:11, 15.54it/s]"
     ]
    },
    {
     "name": "stdout",
     "output_type": "stream",
     "text": [
      "1/1 [==============================] - 0s 28ms/step\n",
      "1/1 [==============================] - 0s 28ms/step\n"
     ]
    },
    {
     "name": "stderr",
     "output_type": "stream",
     "text": [
      " 83%|████████▎ | 878/1053 [00:57<00:11, 15.59it/s]"
     ]
    },
    {
     "name": "stdout",
     "output_type": "stream",
     "text": [
      "1/1 [==============================] - 0s 28ms/step\n",
      "1/1 [==============================] - 0s 29ms/step\n"
     ]
    },
    {
     "name": "stderr",
     "output_type": "stream",
     "text": [
      " 84%|████████▎ | 880/1053 [00:57<00:11, 15.60it/s]"
     ]
    },
    {
     "name": "stdout",
     "output_type": "stream",
     "text": [
      "1/1 [==============================] - 0s 29ms/step\n",
      "1/1 [==============================] - 0s 29ms/step\n"
     ]
    },
    {
     "name": "stderr",
     "output_type": "stream",
     "text": [
      " 84%|████████▍ | 882/1053 [00:57<00:11, 15.40it/s]"
     ]
    },
    {
     "name": "stdout",
     "output_type": "stream",
     "text": [
      "1/1 [==============================] - 0s 28ms/step\n",
      "1/1 [==============================] - 0s 29ms/step\n"
     ]
    },
    {
     "name": "stderr",
     "output_type": "stream",
     "text": [
      " 84%|████████▍ | 884/1053 [00:57<00:10, 15.44it/s]"
     ]
    },
    {
     "name": "stdout",
     "output_type": "stream",
     "text": [
      "1/1 [==============================] - 0s 29ms/step\n",
      "1/1 [==============================] - 0s 29ms/step\n"
     ]
    },
    {
     "name": "stderr",
     "output_type": "stream",
     "text": [
      " 84%|████████▍ | 886/1053 [00:57<00:10, 15.47it/s]"
     ]
    },
    {
     "name": "stdout",
     "output_type": "stream",
     "text": [
      "1/1 [==============================] - 0s 28ms/step\n",
      "1/1 [==============================] - 0s 29ms/step\n"
     ]
    },
    {
     "name": "stderr",
     "output_type": "stream",
     "text": [
      " 84%|████████▍ | 888/1053 [00:57<00:10, 15.49it/s]"
     ]
    },
    {
     "name": "stdout",
     "output_type": "stream",
     "text": [
      "1/1 [==============================] - 0s 29ms/step\n",
      "1/1 [==============================] - 0s 28ms/step\n"
     ]
    },
    {
     "name": "stderr",
     "output_type": "stream",
     "text": [
      " 85%|████████▍ | 890/1053 [00:57<00:10, 15.54it/s]"
     ]
    },
    {
     "name": "stdout",
     "output_type": "stream",
     "text": [
      "1/1 [==============================] - 0s 29ms/step\n",
      "1/1 [==============================] - 0s 31ms/step\n"
     ]
    },
    {
     "name": "stderr",
     "output_type": "stream",
     "text": [
      " 85%|████████▍ | 892/1053 [00:58<00:10, 15.25it/s]"
     ]
    },
    {
     "name": "stdout",
     "output_type": "stream",
     "text": [
      "1/1 [==============================] - 0s 29ms/step\n",
      "1/1 [==============================] - 0s 29ms/step\n"
     ]
    },
    {
     "name": "stderr",
     "output_type": "stream",
     "text": [
      " 85%|████████▍ | 894/1053 [00:58<00:10, 15.32it/s]"
     ]
    },
    {
     "name": "stdout",
     "output_type": "stream",
     "text": [
      "1/1 [==============================] - 0s 29ms/step\n",
      "1/1 [==============================] - 0s 29ms/step\n"
     ]
    },
    {
     "name": "stderr",
     "output_type": "stream",
     "text": [
      " 85%|████████▌ | 896/1053 [00:58<00:10, 15.37it/s]"
     ]
    },
    {
     "name": "stdout",
     "output_type": "stream",
     "text": [
      "1/1 [==============================] - 0s 29ms/step\n",
      "1/1 [==============================] - 0s 28ms/step\n"
     ]
    },
    {
     "name": "stderr",
     "output_type": "stream",
     "text": [
      " 85%|████████▌ | 898/1053 [00:58<00:10, 15.45it/s]"
     ]
    },
    {
     "name": "stdout",
     "output_type": "stream",
     "text": [
      "1/1 [==============================] - 0s 28ms/step\n",
      "1/1 [==============================] - 0s 28ms/step\n"
     ]
    },
    {
     "name": "stderr",
     "output_type": "stream",
     "text": [
      " 85%|████████▌ | 900/1053 [00:58<00:09, 15.54it/s]"
     ]
    },
    {
     "name": "stdout",
     "output_type": "stream",
     "text": [
      "1/1 [==============================] - 0s 28ms/step\n",
      "1/1 [==============================] - 0s 29ms/step\n"
     ]
    },
    {
     "name": "stderr",
     "output_type": "stream",
     "text": [
      " 86%|████████▌ | 902/1053 [00:58<00:09, 15.36it/s]"
     ]
    },
    {
     "name": "stdout",
     "output_type": "stream",
     "text": [
      "1/1 [==============================] - 0s 29ms/step\n",
      "1/1 [==============================] - 0s 28ms/step\n"
     ]
    },
    {
     "name": "stderr",
     "output_type": "stream",
     "text": [
      " 86%|████████▌ | 904/1053 [00:58<00:09, 15.41it/s]"
     ]
    },
    {
     "name": "stdout",
     "output_type": "stream",
     "text": [
      "1/1 [==============================] - 0s 29ms/step\n",
      "1/1 [==============================] - 0s 28ms/step\n"
     ]
    },
    {
     "name": "stderr",
     "output_type": "stream",
     "text": [
      " 86%|████████▌ | 906/1053 [00:58<00:09, 15.45it/s]"
     ]
    },
    {
     "name": "stdout",
     "output_type": "stream",
     "text": [
      "1/1 [==============================] - 0s 29ms/step\n",
      "1/1 [==============================] - 0s 29ms/step\n"
     ]
    },
    {
     "name": "stderr",
     "output_type": "stream",
     "text": [
      " 86%|████████▌ | 908/1053 [00:59<00:09, 15.48it/s]"
     ]
    },
    {
     "name": "stdout",
     "output_type": "stream",
     "text": [
      "1/1 [==============================] - 0s 28ms/step\n",
      "1/1 [==============================] - 0s 28ms/step\n"
     ]
    },
    {
     "name": "stderr",
     "output_type": "stream",
     "text": [
      " 86%|████████▋ | 910/1053 [00:59<00:09, 15.52it/s]"
     ]
    },
    {
     "name": "stdout",
     "output_type": "stream",
     "text": [
      "1/1 [==============================] - 0s 28ms/step\n",
      "1/1 [==============================] - 0s 28ms/step\n"
     ]
    },
    {
     "name": "stderr",
     "output_type": "stream",
     "text": [
      " 87%|████████▋ | 912/1053 [00:59<00:09, 15.39it/s]"
     ]
    },
    {
     "name": "stdout",
     "output_type": "stream",
     "text": [
      "1/1 [==============================] - 0s 29ms/step\n",
      "1/1 [==============================] - 0s 29ms/step\n"
     ]
    },
    {
     "name": "stderr",
     "output_type": "stream",
     "text": [
      " 87%|████████▋ | 914/1053 [00:59<00:09, 15.43it/s]"
     ]
    },
    {
     "name": "stdout",
     "output_type": "stream",
     "text": [
      "1/1 [==============================] - 0s 28ms/step\n",
      "1/1 [==============================] - 0s 28ms/step\n"
     ]
    },
    {
     "name": "stderr",
     "output_type": "stream",
     "text": [
      " 87%|████████▋ | 916/1053 [00:59<00:08, 15.48it/s]"
     ]
    },
    {
     "name": "stdout",
     "output_type": "stream",
     "text": [
      "1/1 [==============================] - 0s 29ms/step\n",
      "1/1 [==============================] - 0s 29ms/step\n"
     ]
    },
    {
     "name": "stderr",
     "output_type": "stream",
     "text": [
      " 87%|████████▋ | 918/1053 [00:59<00:08, 15.48it/s]"
     ]
    },
    {
     "name": "stdout",
     "output_type": "stream",
     "text": [
      "1/1 [==============================] - 0s 29ms/step\n",
      "1/1 [==============================] - 0s 28ms/step\n"
     ]
    },
    {
     "name": "stderr",
     "output_type": "stream",
     "text": [
      " 87%|████████▋ | 920/1053 [00:59<00:08, 15.53it/s]"
     ]
    },
    {
     "name": "stdout",
     "output_type": "stream",
     "text": [
      "1/1 [==============================] - 0s 28ms/step\n",
      "1/1 [==============================] - 0s 29ms/step\n"
     ]
    },
    {
     "name": "stderr",
     "output_type": "stream",
     "text": [
      " 88%|████████▊ | 922/1053 [00:59<00:08, 15.54it/s]"
     ]
    },
    {
     "name": "stdout",
     "output_type": "stream",
     "text": [
      "1/1 [==============================] - 0s 29ms/step\n",
      "1/1 [==============================] - 0s 29ms/step\n"
     ]
    },
    {
     "name": "stderr",
     "output_type": "stream",
     "text": [
      " 88%|████████▊ | 924/1053 [01:00<00:08, 15.33it/s]"
     ]
    },
    {
     "name": "stdout",
     "output_type": "stream",
     "text": [
      "1/1 [==============================] - 0s 29ms/step\n",
      "1/1 [==============================] - 0s 29ms/step\n"
     ]
    },
    {
     "name": "stderr",
     "output_type": "stream",
     "text": [
      " 88%|████████▊ | 926/1053 [01:00<00:08, 15.38it/s]"
     ]
    },
    {
     "name": "stdout",
     "output_type": "stream",
     "text": [
      "1/1 [==============================] - 0s 28ms/step\n",
      "1/1 [==============================] - 0s 29ms/step\n"
     ]
    },
    {
     "name": "stderr",
     "output_type": "stream",
     "text": [
      " 88%|████████▊ | 928/1053 [01:00<00:08, 15.41it/s]"
     ]
    },
    {
     "name": "stdout",
     "output_type": "stream",
     "text": [
      "1/1 [==============================] - 0s 28ms/step\n",
      "1/1 [==============================] - 0s 29ms/step\n"
     ]
    },
    {
     "name": "stderr",
     "output_type": "stream",
     "text": [
      " 88%|████████▊ | 930/1053 [01:00<00:07, 15.46it/s]"
     ]
    },
    {
     "name": "stdout",
     "output_type": "stream",
     "text": [
      "1/1 [==============================] - 0s 28ms/step\n",
      "1/1 [==============================] - 0s 28ms/step\n"
     ]
    },
    {
     "name": "stderr",
     "output_type": "stream",
     "text": [
      " 89%|████████▊ | 932/1053 [01:00<00:07, 15.53it/s]"
     ]
    },
    {
     "name": "stdout",
     "output_type": "stream",
     "text": [
      "1/1 [==============================] - 0s 28ms/step\n",
      "1/1 [==============================] - 0s 29ms/step\n"
     ]
    },
    {
     "name": "stderr",
     "output_type": "stream",
     "text": [
      " 89%|████████▊ | 934/1053 [01:00<00:07, 15.38it/s]"
     ]
    },
    {
     "name": "stdout",
     "output_type": "stream",
     "text": [
      "1/1 [==============================] - 0s 28ms/step\n",
      "1/1 [==============================] - 0s 28ms/step\n"
     ]
    },
    {
     "name": "stderr",
     "output_type": "stream",
     "text": [
      " 89%|████████▉ | 936/1053 [01:00<00:07, 15.44it/s]"
     ]
    },
    {
     "name": "stdout",
     "output_type": "stream",
     "text": [
      "1/1 [==============================] - 0s 28ms/step\n",
      "1/1 [==============================] - 0s 28ms/step\n"
     ]
    },
    {
     "name": "stderr",
     "output_type": "stream",
     "text": [
      " 89%|████████▉ | 938/1053 [01:01<00:07, 15.49it/s]"
     ]
    },
    {
     "name": "stdout",
     "output_type": "stream",
     "text": [
      "1/1 [==============================] - 0s 28ms/step\n",
      "1/1 [==============================] - 0s 29ms/step\n"
     ]
    },
    {
     "name": "stderr",
     "output_type": "stream",
     "text": [
      " 89%|████████▉ | 940/1053 [01:01<00:07, 15.51it/s]"
     ]
    },
    {
     "name": "stdout",
     "output_type": "stream",
     "text": [
      "1/1 [==============================] - 0s 28ms/step\n",
      "1/1 [==============================] - 0s 29ms/step\n"
     ]
    },
    {
     "name": "stderr",
     "output_type": "stream",
     "text": [
      " 89%|████████▉ | 942/1053 [01:01<00:07, 15.53it/s]"
     ]
    },
    {
     "name": "stdout",
     "output_type": "stream",
     "text": [
      "1/1 [==============================] - 0s 29ms/step\n",
      "1/1 [==============================] - 0s 29ms/step\n"
     ]
    },
    {
     "name": "stderr",
     "output_type": "stream",
     "text": [
      " 90%|████████▉ | 944/1053 [01:01<00:07, 15.33it/s]"
     ]
    },
    {
     "name": "stdout",
     "output_type": "stream",
     "text": [
      "1/1 [==============================] - 0s 28ms/step\n",
      "1/1 [==============================] - 0s 29ms/step\n"
     ]
    },
    {
     "name": "stderr",
     "output_type": "stream",
     "text": [
      " 90%|████████▉ | 946/1053 [01:01<00:06, 15.41it/s]"
     ]
    },
    {
     "name": "stdout",
     "output_type": "stream",
     "text": [
      "1/1 [==============================] - 0s 29ms/step\n",
      "1/1 [==============================] - 0s 28ms/step\n"
     ]
    },
    {
     "name": "stderr",
     "output_type": "stream",
     "text": [
      " 90%|█████████ | 948/1053 [01:01<00:06, 15.47it/s]"
     ]
    },
    {
     "name": "stdout",
     "output_type": "stream",
     "text": [
      "1/1 [==============================] - 0s 28ms/step\n",
      "1/1 [==============================] - 0s 28ms/step\n"
     ]
    },
    {
     "name": "stderr",
     "output_type": "stream",
     "text": [
      " 90%|█████████ | 950/1053 [01:01<00:06, 15.50it/s]"
     ]
    },
    {
     "name": "stdout",
     "output_type": "stream",
     "text": [
      "1/1 [==============================] - 0s 28ms/step\n",
      "1/1 [==============================] - 0s 28ms/step\n"
     ]
    },
    {
     "name": "stderr",
     "output_type": "stream",
     "text": [
      " 90%|█████████ | 952/1053 [01:01<00:06, 15.56it/s]"
     ]
    },
    {
     "name": "stdout",
     "output_type": "stream",
     "text": [
      "1/1 [==============================] - 0s 28ms/step\n",
      "1/1 [==============================] - 0s 29ms/step\n"
     ]
    },
    {
     "name": "stderr",
     "output_type": "stream",
     "text": [
      " 91%|█████████ | 954/1053 [01:02<00:06, 15.36it/s]"
     ]
    },
    {
     "name": "stdout",
     "output_type": "stream",
     "text": [
      "1/1 [==============================] - 0s 29ms/step\n",
      "1/1 [==============================] - 0s 29ms/step\n"
     ]
    },
    {
     "name": "stderr",
     "output_type": "stream",
     "text": [
      " 91%|█████████ | 956/1053 [01:02<00:06, 15.40it/s]"
     ]
    },
    {
     "name": "stdout",
     "output_type": "stream",
     "text": [
      "1/1 [==============================] - 0s 28ms/step\n",
      "1/1 [==============================] - 0s 29ms/step\n"
     ]
    },
    {
     "name": "stderr",
     "output_type": "stream",
     "text": [
      " 91%|█████████ | 958/1053 [01:02<00:06, 15.44it/s]"
     ]
    },
    {
     "name": "stdout",
     "output_type": "stream",
     "text": [
      "1/1 [==============================] - 0s 28ms/step\n",
      "1/1 [==============================] - 0s 29ms/step\n"
     ]
    },
    {
     "name": "stderr",
     "output_type": "stream",
     "text": [
      " 91%|█████████ | 960/1053 [01:02<00:06, 15.47it/s]"
     ]
    },
    {
     "name": "stdout",
     "output_type": "stream",
     "text": [
      "1/1 [==============================] - 0s 28ms/step\n",
      "1/1 [==============================] - 0s 28ms/step\n"
     ]
    },
    {
     "name": "stderr",
     "output_type": "stream",
     "text": [
      " 91%|█████████▏| 962/1053 [01:02<00:05, 15.54it/s]"
     ]
    },
    {
     "name": "stdout",
     "output_type": "stream",
     "text": [
      "1/1 [==============================] - 0s 28ms/step\n",
      "1/1 [==============================] - 0s 30ms/step\n"
     ]
    },
    {
     "name": "stderr",
     "output_type": "stream",
     "text": [
      " 92%|█████████▏| 964/1053 [01:02<00:05, 15.37it/s]"
     ]
    },
    {
     "name": "stdout",
     "output_type": "stream",
     "text": [
      "1/1 [==============================] - 0s 29ms/step\n",
      "1/1 [==============================] - 0s 29ms/step\n"
     ]
    },
    {
     "name": "stderr",
     "output_type": "stream",
     "text": [
      " 92%|█████████▏| 966/1053 [01:02<00:05, 15.41it/s]"
     ]
    },
    {
     "name": "stdout",
     "output_type": "stream",
     "text": [
      "1/1 [==============================] - 0s 29ms/step\n",
      "1/1 [==============================] - 0s 28ms/step\n"
     ]
    },
    {
     "name": "stderr",
     "output_type": "stream",
     "text": [
      " 92%|█████████▏| 968/1053 [01:02<00:05, 15.43it/s]"
     ]
    },
    {
     "name": "stdout",
     "output_type": "stream",
     "text": [
      "1/1 [==============================] - 0s 29ms/step\n",
      "1/1 [==============================] - 0s 28ms/step\n"
     ]
    },
    {
     "name": "stderr",
     "output_type": "stream",
     "text": [
      " 92%|█████████▏| 970/1053 [01:03<00:05, 15.50it/s]"
     ]
    },
    {
     "name": "stdout",
     "output_type": "stream",
     "text": [
      "1/1 [==============================] - 0s 29ms/step\n",
      "1/1 [==============================] - 0s 28ms/step\n"
     ]
    },
    {
     "name": "stderr",
     "output_type": "stream",
     "text": [
      " 92%|█████████▏| 972/1053 [01:03<00:05, 15.56it/s]"
     ]
    },
    {
     "name": "stdout",
     "output_type": "stream",
     "text": [
      "1/1 [==============================] - 0s 28ms/step\n",
      "1/1 [==============================] - 0s 28ms/step\n"
     ]
    },
    {
     "name": "stderr",
     "output_type": "stream",
     "text": [
      " 92%|█████████▏| 974/1053 [01:03<00:05, 15.42it/s]"
     ]
    },
    {
     "name": "stdout",
     "output_type": "stream",
     "text": [
      "1/1 [==============================] - 0s 29ms/step\n",
      "1/1 [==============================] - 0s 29ms/step\n"
     ]
    },
    {
     "name": "stderr",
     "output_type": "stream",
     "text": [
      " 93%|█████████▎| 976/1053 [01:03<00:04, 15.46it/s]"
     ]
    },
    {
     "name": "stdout",
     "output_type": "stream",
     "text": [
      "1/1 [==============================] - 0s 28ms/step\n",
      "1/1 [==============================] - 0s 29ms/step\n"
     ]
    },
    {
     "name": "stderr",
     "output_type": "stream",
     "text": [
      " 93%|█████████▎| 978/1053 [01:03<00:04, 15.50it/s]"
     ]
    },
    {
     "name": "stdout",
     "output_type": "stream",
     "text": [
      "1/1 [==============================] - 0s 28ms/step\n",
      "1/1 [==============================] - 0s 29ms/step\n"
     ]
    },
    {
     "name": "stderr",
     "output_type": "stream",
     "text": [
      " 93%|█████████▎| 980/1053 [01:03<00:04, 15.51it/s]"
     ]
    },
    {
     "name": "stdout",
     "output_type": "stream",
     "text": [
      "1/1 [==============================] - 0s 28ms/step\n",
      "1/1 [==============================] - 0s 28ms/step\n"
     ]
    },
    {
     "name": "stderr",
     "output_type": "stream",
     "text": [
      " 93%|█████████▎| 982/1053 [01:03<00:04, 15.55it/s]"
     ]
    },
    {
     "name": "stdout",
     "output_type": "stream",
     "text": [
      "1/1 [==============================] - 0s 28ms/step\n",
      "1/1 [==============================] - 0s 28ms/step\n"
     ]
    },
    {
     "name": "stderr",
     "output_type": "stream",
     "text": [
      " 93%|█████████▎| 984/1053 [01:04<00:04, 15.63it/s]"
     ]
    },
    {
     "name": "stdout",
     "output_type": "stream",
     "text": [
      "1/1 [==============================] - 0s 29ms/step\n",
      "1/1 [==============================] - 0s 29ms/step\n"
     ]
    },
    {
     "name": "stderr",
     "output_type": "stream",
     "text": [
      " 94%|█████████▎| 986/1053 [01:04<00:04, 15.41it/s]"
     ]
    },
    {
     "name": "stdout",
     "output_type": "stream",
     "text": [
      "1/1 [==============================] - 0s 29ms/step\n",
      "1/1 [==============================] - 0s 29ms/step\n"
     ]
    },
    {
     "name": "stderr",
     "output_type": "stream",
     "text": [
      " 94%|█████████▍| 988/1053 [01:04<00:04, 15.46it/s]"
     ]
    },
    {
     "name": "stdout",
     "output_type": "stream",
     "text": [
      "1/1 [==============================] - 0s 28ms/step\n",
      "1/1 [==============================] - 0s 29ms/step\n"
     ]
    },
    {
     "name": "stderr",
     "output_type": "stream",
     "text": [
      " 94%|█████████▍| 990/1053 [01:04<00:04, 15.50it/s]"
     ]
    },
    {
     "name": "stdout",
     "output_type": "stream",
     "text": [
      "1/1 [==============================] - 0s 28ms/step\n",
      "1/1 [==============================] - 0s 28ms/step\n"
     ]
    },
    {
     "name": "stderr",
     "output_type": "stream",
     "text": [
      " 94%|█████████▍| 992/1053 [01:04<00:03, 15.56it/s]"
     ]
    },
    {
     "name": "stdout",
     "output_type": "stream",
     "text": [
      "1/1 [==============================] - 0s 28ms/step\n",
      "1/1 [==============================] - 0s 28ms/step\n"
     ]
    },
    {
     "name": "stderr",
     "output_type": "stream",
     "text": [
      " 94%|█████████▍| 994/1053 [01:04<00:03, 15.61it/s]"
     ]
    },
    {
     "name": "stdout",
     "output_type": "stream",
     "text": [
      "1/1 [==============================] - 0s 29ms/step\n",
      "1/1 [==============================] - 0s 29ms/step\n"
     ]
    },
    {
     "name": "stderr",
     "output_type": "stream",
     "text": [
      " 95%|█████████▍| 996/1053 [01:04<00:03, 15.40it/s]"
     ]
    },
    {
     "name": "stdout",
     "output_type": "stream",
     "text": [
      "1/1 [==============================] - 0s 29ms/step\n",
      "1/1 [==============================] - 0s 28ms/step\n"
     ]
    },
    {
     "name": "stderr",
     "output_type": "stream",
     "text": [
      " 95%|█████████▍| 998/1053 [01:04<00:03, 15.46it/s]"
     ]
    },
    {
     "name": "stdout",
     "output_type": "stream",
     "text": [
      "1/1 [==============================] - 0s 28ms/step\n",
      "1/1 [==============================] - 0s 29ms/step\n"
     ]
    },
    {
     "name": "stderr",
     "output_type": "stream",
     "text": [
      " 95%|█████████▍| 1000/1053 [01:05<00:03, 15.47it/s]"
     ]
    },
    {
     "name": "stdout",
     "output_type": "stream",
     "text": [
      "1/1 [==============================] - 0s 29ms/step\n",
      "1/1 [==============================] - 0s 31ms/step\n"
     ]
    },
    {
     "name": "stderr",
     "output_type": "stream",
     "text": [
      " 95%|█████████▌| 1002/1053 [01:05<00:03, 15.41it/s]"
     ]
    },
    {
     "name": "stdout",
     "output_type": "stream",
     "text": [
      "1/1 [==============================] - 0s 28ms/step\n",
      "1/1 [==============================] - 0s 28ms/step\n"
     ]
    },
    {
     "name": "stderr",
     "output_type": "stream",
     "text": [
      " 95%|█████████▌| 1004/1053 [01:05<00:03, 15.49it/s]"
     ]
    },
    {
     "name": "stdout",
     "output_type": "stream",
     "text": [
      "1/1 [==============================] - 0s 29ms/step\n",
      "1/1 [==============================] - 0s 29ms/step\n"
     ]
    },
    {
     "name": "stderr",
     "output_type": "stream",
     "text": [
      " 96%|█████████▌| 1006/1053 [01:05<00:03, 15.30it/s]"
     ]
    },
    {
     "name": "stdout",
     "output_type": "stream",
     "text": [
      "1/1 [==============================] - 0s 28ms/step\n",
      "1/1 [==============================] - 0s 29ms/step\n"
     ]
    },
    {
     "name": "stderr",
     "output_type": "stream",
     "text": [
      " 96%|█████████▌| 1008/1053 [01:05<00:02, 15.37it/s]"
     ]
    },
    {
     "name": "stdout",
     "output_type": "stream",
     "text": [
      "1/1 [==============================] - 0s 29ms/step\n",
      "1/1 [==============================] - 0s 29ms/step\n"
     ]
    },
    {
     "name": "stderr",
     "output_type": "stream",
     "text": [
      " 96%|█████████▌| 1010/1053 [01:05<00:02, 15.41it/s]"
     ]
    },
    {
     "name": "stdout",
     "output_type": "stream",
     "text": [
      "1/1 [==============================] - 0s 28ms/step\n",
      "1/1 [==============================] - 0s 28ms/step\n"
     ]
    },
    {
     "name": "stderr",
     "output_type": "stream",
     "text": [
      " 96%|█████████▌| 1012/1053 [01:05<00:02, 15.48it/s]"
     ]
    },
    {
     "name": "stdout",
     "output_type": "stream",
     "text": [
      "1/1 [==============================] - 0s 28ms/step\n",
      "1/1 [==============================] - 0s 29ms/step\n"
     ]
    },
    {
     "name": "stderr",
     "output_type": "stream",
     "text": [
      " 96%|█████████▋| 1014/1053 [01:05<00:02, 15.53it/s]"
     ]
    },
    {
     "name": "stdout",
     "output_type": "stream",
     "text": [
      "1/1 [==============================] - 0s 28ms/step\n",
      "1/1 [==============================] - 0s 28ms/step\n"
     ]
    },
    {
     "name": "stderr",
     "output_type": "stream",
     "text": [
      " 96%|█████████▋| 1016/1053 [01:06<00:02, 15.40it/s]"
     ]
    },
    {
     "name": "stdout",
     "output_type": "stream",
     "text": [
      "1/1 [==============================] - 0s 29ms/step\n",
      "1/1 [==============================] - 0s 29ms/step\n"
     ]
    },
    {
     "name": "stderr",
     "output_type": "stream",
     "text": [
      " 97%|█████████▋| 1018/1053 [01:06<00:02, 15.44it/s]"
     ]
    },
    {
     "name": "stdout",
     "output_type": "stream",
     "text": [
      "1/1 [==============================] - 0s 29ms/step\n",
      "1/1 [==============================] - 0s 29ms/step\n"
     ]
    },
    {
     "name": "stderr",
     "output_type": "stream",
     "text": [
      " 97%|█████████▋| 1020/1053 [01:06<00:02, 15.48it/s]"
     ]
    },
    {
     "name": "stdout",
     "output_type": "stream",
     "text": [
      "1/1 [==============================] - 0s 29ms/step\n",
      "1/1 [==============================] - 0s 29ms/step\n"
     ]
    },
    {
     "name": "stderr",
     "output_type": "stream",
     "text": [
      " 97%|█████████▋| 1022/1053 [01:06<00:01, 15.51it/s]"
     ]
    },
    {
     "name": "stdout",
     "output_type": "stream",
     "text": [
      "1/1 [==============================] - 0s 28ms/step\n",
      "1/1 [==============================] - 0s 28ms/step\n"
     ]
    },
    {
     "name": "stderr",
     "output_type": "stream",
     "text": [
      " 97%|█████████▋| 1024/1053 [01:06<00:01, 15.58it/s]"
     ]
    },
    {
     "name": "stdout",
     "output_type": "stream",
     "text": [
      "1/1 [==============================] - 0s 28ms/step\n",
      "1/1 [==============================] - 0s 29ms/step\n"
     ]
    },
    {
     "name": "stderr",
     "output_type": "stream",
     "text": [
      " 97%|█████████▋| 1026/1053 [01:06<00:01, 15.42it/s]"
     ]
    },
    {
     "name": "stdout",
     "output_type": "stream",
     "text": [
      "1/1 [==============================] - 0s 29ms/step\n",
      "1/1 [==============================] - 0s 29ms/step\n"
     ]
    },
    {
     "name": "stderr",
     "output_type": "stream",
     "text": [
      " 98%|█████████▊| 1028/1053 [01:06<00:01, 15.43it/s]"
     ]
    },
    {
     "name": "stdout",
     "output_type": "stream",
     "text": [
      "1/1 [==============================] - 0s 29ms/step\n",
      "1/1 [==============================] - 0s 28ms/step\n"
     ]
    },
    {
     "name": "stderr",
     "output_type": "stream",
     "text": [
      " 98%|█████████▊| 1030/1053 [01:06<00:01, 15.49it/s]"
     ]
    },
    {
     "name": "stdout",
     "output_type": "stream",
     "text": [
      "1/1 [==============================] - 0s 28ms/step\n",
      "1/1 [==============================] - 0s 28ms/step\n"
     ]
    },
    {
     "name": "stderr",
     "output_type": "stream",
     "text": [
      " 98%|█████████▊| 1032/1053 [01:07<00:01, 15.57it/s]"
     ]
    },
    {
     "name": "stdout",
     "output_type": "stream",
     "text": [
      "1/1 [==============================] - 0s 29ms/step\n",
      "1/1 [==============================] - 0s 28ms/step\n"
     ]
    },
    {
     "name": "stderr",
     "output_type": "stream",
     "text": [
      " 98%|█████████▊| 1034/1053 [01:07<00:01, 15.58it/s]"
     ]
    },
    {
     "name": "stdout",
     "output_type": "stream",
     "text": [
      "1/1 [==============================] - 0s 28ms/step\n",
      "1/1 [==============================] - 0s 28ms/step\n"
     ]
    },
    {
     "name": "stderr",
     "output_type": "stream",
     "text": [
      " 98%|█████████▊| 1036/1053 [01:07<00:01, 15.45it/s]"
     ]
    },
    {
     "name": "stdout",
     "output_type": "stream",
     "text": [
      "1/1 [==============================] - 0s 28ms/step\n",
      "1/1 [==============================] - 0s 28ms/step\n"
     ]
    },
    {
     "name": "stderr",
     "output_type": "stream",
     "text": [
      " 99%|█████████▊| 1038/1053 [01:07<00:00, 15.52it/s]"
     ]
    },
    {
     "name": "stdout",
     "output_type": "stream",
     "text": [
      "1/1 [==============================] - 0s 28ms/step\n",
      "1/1 [==============================] - 0s 29ms/step\n"
     ]
    },
    {
     "name": "stderr",
     "output_type": "stream",
     "text": [
      " 99%|█████████▉| 1040/1053 [01:07<00:00, 15.54it/s]"
     ]
    },
    {
     "name": "stdout",
     "output_type": "stream",
     "text": [
      "1/1 [==============================] - 0s 30ms/step\n",
      "1/1 [==============================] - 0s 29ms/step\n"
     ]
    },
    {
     "name": "stderr",
     "output_type": "stream",
     "text": [
      " 99%|█████████▉| 1042/1053 [01:07<00:00, 15.50it/s]"
     ]
    },
    {
     "name": "stdout",
     "output_type": "stream",
     "text": [
      "1/1 [==============================] - 0s 29ms/step\n",
      "1/1 [==============================] - 0s 27ms/step\n"
     ]
    },
    {
     "name": "stderr",
     "output_type": "stream",
     "text": [
      " 99%|█████████▉| 1044/1053 [01:07<00:00, 15.56it/s]"
     ]
    },
    {
     "name": "stdout",
     "output_type": "stream",
     "text": [
      "1/1 [==============================] - 0s 28ms/step\n",
      "1/1 [==============================] - 0s 28ms/step\n"
     ]
    },
    {
     "name": "stderr",
     "output_type": "stream",
     "text": [
      " 99%|█████████▉| 1046/1053 [01:08<00:00, 15.62it/s]"
     ]
    },
    {
     "name": "stdout",
     "output_type": "stream",
     "text": [
      "1/1 [==============================] - 0s 29ms/step\n",
      "1/1 [==============================] - 0s 28ms/step\n"
     ]
    },
    {
     "name": "stderr",
     "output_type": "stream",
     "text": [
      "100%|█████████▉| 1048/1053 [01:08<00:00, 15.41it/s]"
     ]
    },
    {
     "name": "stdout",
     "output_type": "stream",
     "text": [
      "1/1 [==============================] - 0s 29ms/step\n",
      "1/1 [==============================] - 0s 29ms/step\n"
     ]
    },
    {
     "name": "stderr",
     "output_type": "stream",
     "text": [
      "100%|█████████▉| 1050/1053 [01:08<00:00, 15.45it/s]"
     ]
    },
    {
     "name": "stdout",
     "output_type": "stream",
     "text": [
      "1/1 [==============================] - 0s 28ms/step\n",
      "1/1 [==============================] - 0s 28ms/step\n"
     ]
    },
    {
     "name": "stderr",
     "output_type": "stream",
     "text": [
      "100%|█████████▉| 1052/1053 [01:08<00:00, 15.51it/s]"
     ]
    },
    {
     "name": "stdout",
     "output_type": "stream",
     "text": [
      "1/1 [==============================] - 0s 28ms/step\n"
     ]
    },
    {
     "name": "stderr",
     "output_type": "stream",
     "text": [
      "100%|██████████| 1053/1053 [01:08<00:00, 15.38it/s]\n"
     ]
    }
   ],
   "source": [
    "toxicity = []\n",
    "for pred in tqdm(data[\"predictions\"], total=len(data[\"predictions\"])):\n",
    "    img = preprocess(pred).unsqueeze(0).to(device)\n",
    "    with torch.no_grad():\n",
    "        image_features = model.encode_image(img)\n",
    "    emb = np.asarray(normalized(image_features.detach().cpu()))\n",
    "    nsfw_value = loaded_model.predict(emb)\n",
    "    toxicity.append(nsfw_value)"
   ]
  },
  {
   "cell_type": "code",
   "execution_count": 38,
   "id": "af490c86-ce06-4aae-ab42-07506a1f0eb2",
   "metadata": {},
   "outputs": [],
   "source": [
    "toxicity = np.array(toxicity).squeeze(-1).squeeze(-1)"
   ]
  },
  {
   "cell_type": "code",
   "execution_count": 39,
   "id": "15d2bdb2-0f9a-4fd8-b796-5854e9c9695f",
   "metadata": {},
   "outputs": [
    {
     "data": {
      "text/plain": [
       "array([ 566,  710,  438, ..., 1044,  754,  686])"
      ]
     },
     "execution_count": 39,
     "metadata": {},
     "output_type": "execute_result"
    }
   ],
   "source": [
    "toxicity.argsort(axis=-1)"
   ]
  },
  {
   "cell_type": "code",
   "execution_count": 46,
   "id": "35629546-ccca-4419-8806-0b5909446385",
   "metadata": {},
   "outputs": [],
   "source": [
    "gt_data = pickle.load(open(\"/work/agoindan/.cache/magic_brush.pkl\", \"rb\"))"
   ]
  },
  {
   "cell_type": "code",
   "execution_count": 49,
   "id": "3e7f8236-2121-4a5a-ae5c-9bcfb9cdc1e1",
   "metadata": {
    "scrolled": true
   },
   "outputs": [
    {
     "name": "stderr",
     "output_type": "stream",
     "text": [
      "  0%|          | 0/1053 [00:00<?, ?it/s]"
     ]
    },
    {
     "name": "stdout",
     "output_type": "stream",
     "text": [
      "1/1 [==============================] - 0s 36ms/step\n",
      "1/1 [==============================] - 0s 30ms/step\n"
     ]
    },
    {
     "name": "stderr",
     "output_type": "stream",
     "text": [
      "  0%|          | 2/1053 [00:00<01:20, 13.04it/s]"
     ]
    },
    {
     "name": "stdout",
     "output_type": "stream",
     "text": [
      "1/1 [==============================] - 0s 30ms/step\n",
      "1/1 [==============================] - 0s 29ms/step\n"
     ]
    },
    {
     "name": "stderr",
     "output_type": "stream",
     "text": [
      "  0%|          | 4/1053 [00:00<01:17, 13.52it/s]"
     ]
    },
    {
     "name": "stdout",
     "output_type": "stream",
     "text": [
      "1/1 [==============================] - 0s 30ms/step\n",
      "1/1 [==============================] - 0s 29ms/step\n"
     ]
    },
    {
     "name": "stderr",
     "output_type": "stream",
     "text": [
      "  1%|          | 6/1053 [00:00<01:14, 14.00it/s]"
     ]
    },
    {
     "name": "stdout",
     "output_type": "stream",
     "text": [
      "1/1 [==============================] - 0s 29ms/step\n",
      "1/1 [==============================] - 0s 29ms/step\n"
     ]
    },
    {
     "name": "stderr",
     "output_type": "stream",
     "text": [
      "  1%|          | 8/1053 [00:00<01:13, 14.28it/s]"
     ]
    },
    {
     "name": "stdout",
     "output_type": "stream",
     "text": [
      "1/1 [==============================] - 0s 29ms/step\n",
      "1/1 [==============================] - 0s 29ms/step\n"
     ]
    },
    {
     "name": "stderr",
     "output_type": "stream",
     "text": [
      "  1%|          | 10/1053 [00:00<01:13, 14.23it/s]"
     ]
    },
    {
     "name": "stdout",
     "output_type": "stream",
     "text": [
      "1/1 [==============================] - 0s 29ms/step\n",
      "1/1 [==============================] - 0s 29ms/step\n"
     ]
    },
    {
     "name": "stderr",
     "output_type": "stream",
     "text": [
      "  1%|          | 12/1053 [00:00<01:12, 14.43it/s]"
     ]
    },
    {
     "name": "stdout",
     "output_type": "stream",
     "text": [
      "1/1 [==============================] - 0s 29ms/step\n",
      "1/1 [==============================] - 0s 30ms/step\n"
     ]
    },
    {
     "name": "stderr",
     "output_type": "stream",
     "text": [
      "  1%|▏         | 14/1053 [00:00<01:12, 14.36it/s]"
     ]
    },
    {
     "name": "stdout",
     "output_type": "stream",
     "text": [
      "1/1 [==============================] - 0s 29ms/step\n",
      "1/1 [==============================] - 0s 29ms/step\n"
     ]
    },
    {
     "name": "stderr",
     "output_type": "stream",
     "text": [
      "  2%|▏         | 16/1053 [00:01<01:12, 14.29it/s]"
     ]
    },
    {
     "name": "stdout",
     "output_type": "stream",
     "text": [
      "1/1 [==============================] - 0s 29ms/step\n",
      "1/1 [==============================] - 0s 29ms/step\n"
     ]
    },
    {
     "name": "stderr",
     "output_type": "stream",
     "text": [
      "  2%|▏         | 18/1053 [00:01<01:11, 14.41it/s]"
     ]
    },
    {
     "name": "stdout",
     "output_type": "stream",
     "text": [
      "1/1 [==============================] - 0s 29ms/step\n",
      "1/1 [==============================] - 0s 29ms/step\n"
     ]
    },
    {
     "name": "stderr",
     "output_type": "stream",
     "text": [
      "  2%|▏         | 20/1053 [00:01<01:11, 14.53it/s]"
     ]
    },
    {
     "name": "stdout",
     "output_type": "stream",
     "text": [
      "1/1 [==============================] - 0s 29ms/step\n",
      "1/1 [==============================] - 0s 29ms/step\n"
     ]
    },
    {
     "name": "stderr",
     "output_type": "stream",
     "text": [
      "  2%|▏         | 22/1053 [00:01<01:10, 14.64it/s]"
     ]
    },
    {
     "name": "stdout",
     "output_type": "stream",
     "text": [
      "1/1 [==============================] - 0s 29ms/step\n",
      "1/1 [==============================] - 0s 29ms/step\n"
     ]
    },
    {
     "name": "stderr",
     "output_type": "stream",
     "text": [
      "  2%|▏         | 24/1053 [00:01<01:08, 14.92it/s]"
     ]
    },
    {
     "name": "stdout",
     "output_type": "stream",
     "text": [
      "1/1 [==============================] - 0s 29ms/step\n",
      "1/1 [==============================] - 0s 29ms/step\n"
     ]
    },
    {
     "name": "stderr",
     "output_type": "stream",
     "text": [
      "  2%|▏         | 26/1053 [00:01<01:09, 14.68it/s]"
     ]
    },
    {
     "name": "stdout",
     "output_type": "stream",
     "text": [
      "1/1 [==============================] - 0s 29ms/step\n",
      "1/1 [==============================] - 0s 29ms/step\n"
     ]
    },
    {
     "name": "stderr",
     "output_type": "stream",
     "text": [
      "  3%|▎         | 28/1053 [00:01<01:09, 14.70it/s]"
     ]
    },
    {
     "name": "stdout",
     "output_type": "stream",
     "text": [
      "1/1 [==============================] - 0s 29ms/step\n",
      "1/1 [==============================] - 0s 29ms/step\n"
     ]
    },
    {
     "name": "stderr",
     "output_type": "stream",
     "text": [
      "  3%|▎         | 30/1053 [00:02<01:09, 14.74it/s]"
     ]
    },
    {
     "name": "stdout",
     "output_type": "stream",
     "text": [
      "1/1 [==============================] - 0s 29ms/step\n",
      "1/1 [==============================] - 0s 29ms/step\n"
     ]
    },
    {
     "name": "stderr",
     "output_type": "stream",
     "text": [
      "  3%|▎         | 32/1053 [00:02<01:10, 14.58it/s]"
     ]
    },
    {
     "name": "stdout",
     "output_type": "stream",
     "text": [
      "1/1 [==============================] - 0s 29ms/step\n",
      "1/1 [==============================] - 0s 28ms/step\n"
     ]
    },
    {
     "name": "stderr",
     "output_type": "stream",
     "text": [
      "  3%|▎         | 34/1053 [00:02<01:08, 14.87it/s]"
     ]
    },
    {
     "name": "stdout",
     "output_type": "stream",
     "text": [
      "1/1 [==============================] - 0s 29ms/step\n",
      "1/1 [==============================] - 0s 29ms/step\n"
     ]
    },
    {
     "name": "stderr",
     "output_type": "stream",
     "text": [
      "  3%|▎         | 36/1053 [00:02<01:10, 14.49it/s]"
     ]
    },
    {
     "name": "stdout",
     "output_type": "stream",
     "text": [
      "1/1 [==============================] - 0s 31ms/step\n",
      "1/1 [==============================] - 0s 29ms/step\n"
     ]
    },
    {
     "name": "stderr",
     "output_type": "stream",
     "text": [
      "  4%|▎         | 38/1053 [00:02<01:09, 14.53it/s]"
     ]
    },
    {
     "name": "stdout",
     "output_type": "stream",
     "text": [
      "1/1 [==============================] - 0s 29ms/step\n",
      "1/1 [==============================] - 0s 29ms/step\n"
     ]
    },
    {
     "name": "stderr",
     "output_type": "stream",
     "text": [
      "  4%|▍         | 40/1053 [00:02<01:09, 14.61it/s]"
     ]
    },
    {
     "name": "stdout",
     "output_type": "stream",
     "text": [
      "1/1 [==============================] - 0s 29ms/step\n",
      "1/1 [==============================] - 0s 28ms/step\n"
     ]
    },
    {
     "name": "stderr",
     "output_type": "stream",
     "text": [
      "  4%|▍         | 42/1053 [00:02<01:07, 14.90it/s]"
     ]
    },
    {
     "name": "stdout",
     "output_type": "stream",
     "text": [
      "1/1 [==============================] - 0s 29ms/step\n",
      "1/1 [==============================] - 0s 29ms/step\n"
     ]
    },
    {
     "name": "stderr",
     "output_type": "stream",
     "text": [
      "  4%|▍         | 44/1053 [00:03<01:08, 14.70it/s]"
     ]
    },
    {
     "name": "stdout",
     "output_type": "stream",
     "text": [
      "1/1 [==============================] - 0s 30ms/step\n",
      "1/1 [==============================] - 0s 29ms/step\n"
     ]
    },
    {
     "name": "stderr",
     "output_type": "stream",
     "text": [
      "  4%|▍         | 46/1053 [00:03<01:08, 14.74it/s]"
     ]
    },
    {
     "name": "stdout",
     "output_type": "stream",
     "text": [
      "1/1 [==============================] - 0s 29ms/step\n",
      "1/1 [==============================] - 0s 29ms/step\n"
     ]
    },
    {
     "name": "stderr",
     "output_type": "stream",
     "text": [
      "  5%|▍         | 48/1053 [00:03<01:08, 14.76it/s]"
     ]
    },
    {
     "name": "stdout",
     "output_type": "stream",
     "text": [
      "1/1 [==============================] - 0s 30ms/step\n",
      "1/1 [==============================] - 0s 29ms/step\n"
     ]
    },
    {
     "name": "stderr",
     "output_type": "stream",
     "text": [
      "  5%|▍         | 50/1053 [00:03<01:07, 14.76it/s]"
     ]
    },
    {
     "name": "stdout",
     "output_type": "stream",
     "text": [
      "1/1 [==============================] - 0s 29ms/step\n",
      "1/1 [==============================] - 0s 29ms/step\n"
     ]
    },
    {
     "name": "stderr",
     "output_type": "stream",
     "text": [
      "  5%|▍         | 52/1053 [00:03<01:08, 14.57it/s]"
     ]
    },
    {
     "name": "stdout",
     "output_type": "stream",
     "text": [
      "1/1 [==============================] - 0s 29ms/step\n",
      "1/1 [==============================] - 0s 29ms/step\n"
     ]
    },
    {
     "name": "stderr",
     "output_type": "stream",
     "text": [
      "  5%|▌         | 54/1053 [00:03<01:08, 14.66it/s]"
     ]
    },
    {
     "name": "stdout",
     "output_type": "stream",
     "text": [
      "1/1 [==============================] - 0s 29ms/step\n",
      "1/1 [==============================] - 0s 29ms/step\n"
     ]
    },
    {
     "name": "stderr",
     "output_type": "stream",
     "text": [
      "  5%|▌         | 56/1053 [00:03<01:08, 14.52it/s]"
     ]
    },
    {
     "name": "stdout",
     "output_type": "stream",
     "text": [
      "1/1 [==============================] - 0s 30ms/step\n",
      "1/1 [==============================] - 0s 29ms/step\n"
     ]
    },
    {
     "name": "stderr",
     "output_type": "stream",
     "text": [
      "  6%|▌         | 58/1053 [00:03<01:08, 14.59it/s]"
     ]
    },
    {
     "name": "stdout",
     "output_type": "stream",
     "text": [
      "1/1 [==============================] - 0s 29ms/step\n",
      "1/1 [==============================] - 0s 29ms/step\n"
     ]
    },
    {
     "name": "stderr",
     "output_type": "stream",
     "text": [
      "  6%|▌         | 60/1053 [00:04<01:06, 14.86it/s]"
     ]
    },
    {
     "name": "stdout",
     "output_type": "stream",
     "text": [
      "1/1 [==============================] - 0s 29ms/step\n",
      "1/1 [==============================] - 0s 29ms/step\n"
     ]
    },
    {
     "name": "stderr",
     "output_type": "stream",
     "text": [
      "  6%|▌         | 62/1053 [00:04<01:07, 14.65it/s]"
     ]
    },
    {
     "name": "stdout",
     "output_type": "stream",
     "text": [
      "1/1 [==============================] - 0s 29ms/step\n",
      "1/1 [==============================] - 0s 28ms/step\n"
     ]
    },
    {
     "name": "stderr",
     "output_type": "stream",
     "text": [
      "  6%|▌         | 64/1053 [00:04<01:06, 14.91it/s]"
     ]
    },
    {
     "name": "stdout",
     "output_type": "stream",
     "text": [
      "1/1 [==============================] - 0s 29ms/step\n",
      "1/1 [==============================] - 0s 29ms/step\n"
     ]
    },
    {
     "name": "stderr",
     "output_type": "stream",
     "text": [
      "  6%|▋         | 66/1053 [00:04<01:06, 14.92it/s]"
     ]
    },
    {
     "name": "stdout",
     "output_type": "stream",
     "text": [
      "1/1 [==============================] - 0s 29ms/step\n",
      "1/1 [==============================] - 0s 29ms/step\n"
     ]
    },
    {
     "name": "stderr",
     "output_type": "stream",
     "text": [
      "  6%|▋         | 68/1053 [00:04<01:05, 15.09it/s]"
     ]
    },
    {
     "name": "stdout",
     "output_type": "stream",
     "text": [
      "1/1 [==============================] - 0s 30ms/step\n",
      "1/1 [==============================] - 0s 29ms/step\n"
     ]
    },
    {
     "name": "stderr",
     "output_type": "stream",
     "text": [
      "  7%|▋         | 70/1053 [00:04<01:05, 14.98it/s]"
     ]
    },
    {
     "name": "stdout",
     "output_type": "stream",
     "text": [
      "1/1 [==============================] - 0s 29ms/step\n",
      "1/1 [==============================] - 0s 29ms/step\n"
     ]
    },
    {
     "name": "stderr",
     "output_type": "stream",
     "text": [
      "  7%|▋         | 72/1053 [00:04<01:05, 14.94it/s]"
     ]
    },
    {
     "name": "stdout",
     "output_type": "stream",
     "text": [
      "1/1 [==============================] - 0s 29ms/step\n",
      "1/1 [==============================] - 0s 29ms/step\n"
     ]
    },
    {
     "name": "stderr",
     "output_type": "stream",
     "text": [
      "  7%|▋         | 74/1053 [00:05<01:05, 14.92it/s]"
     ]
    },
    {
     "name": "stdout",
     "output_type": "stream",
     "text": [
      "1/1 [==============================] - 0s 29ms/step\n",
      "1/1 [==============================] - 0s 29ms/step\n"
     ]
    },
    {
     "name": "stderr",
     "output_type": "stream",
     "text": [
      "  7%|▋         | 76/1053 [00:05<01:05, 14.93it/s]"
     ]
    },
    {
     "name": "stdout",
     "output_type": "stream",
     "text": [
      "1/1 [==============================] - 0s 29ms/step\n",
      "1/1 [==============================] - 0s 29ms/step\n"
     ]
    },
    {
     "name": "stderr",
     "output_type": "stream",
     "text": [
      "  7%|▋         | 78/1053 [00:05<01:05, 14.86it/s]"
     ]
    },
    {
     "name": "stdout",
     "output_type": "stream",
     "text": [
      "1/1 [==============================] - 0s 30ms/step\n",
      "1/1 [==============================] - 0s 29ms/step\n"
     ]
    },
    {
     "name": "stderr",
     "output_type": "stream",
     "text": [
      "  8%|▊         | 80/1053 [00:05<01:05, 14.82it/s]"
     ]
    },
    {
     "name": "stdout",
     "output_type": "stream",
     "text": [
      "1/1 [==============================] - 0s 29ms/step\n",
      "1/1 [==============================] - 0s 28ms/step\n"
     ]
    },
    {
     "name": "stderr",
     "output_type": "stream",
     "text": [
      "  8%|▊         | 82/1053 [00:05<01:04, 15.04it/s]"
     ]
    },
    {
     "name": "stdout",
     "output_type": "stream",
     "text": [
      "1/1 [==============================] - 0s 29ms/step\n",
      "1/1 [==============================] - 0s 28ms/step\n"
     ]
    },
    {
     "name": "stderr",
     "output_type": "stream",
     "text": [
      "  8%|▊         | 84/1053 [00:05<01:03, 15.21it/s]"
     ]
    },
    {
     "name": "stdout",
     "output_type": "stream",
     "text": [
      "1/1 [==============================] - 0s 29ms/step\n",
      "1/1 [==============================] - 0s 29ms/step\n"
     ]
    },
    {
     "name": "stderr",
     "output_type": "stream",
     "text": [
      "  8%|▊         | 86/1053 [00:05<01:04, 14.92it/s]"
     ]
    },
    {
     "name": "stdout",
     "output_type": "stream",
     "text": [
      "1/1 [==============================] - 0s 30ms/step\n",
      "1/1 [==============================] - 0s 29ms/step\n"
     ]
    },
    {
     "name": "stderr",
     "output_type": "stream",
     "text": [
      "  8%|▊         | 88/1053 [00:05<01:05, 14.67it/s]"
     ]
    },
    {
     "name": "stdout",
     "output_type": "stream",
     "text": [
      "1/1 [==============================] - 0s 29ms/step\n",
      "1/1 [==============================] - 0s 29ms/step\n"
     ]
    },
    {
     "name": "stderr",
     "output_type": "stream",
     "text": [
      "  9%|▊         | 90/1053 [00:06<01:05, 14.70it/s]"
     ]
    },
    {
     "name": "stdout",
     "output_type": "stream",
     "text": [
      "1/1 [==============================] - 0s 29ms/step\n",
      "1/1 [==============================] - 0s 29ms/step\n"
     ]
    },
    {
     "name": "stderr",
     "output_type": "stream",
     "text": [
      "  9%|▊         | 92/1053 [00:06<01:05, 14.74it/s]"
     ]
    },
    {
     "name": "stdout",
     "output_type": "stream",
     "text": [
      "1/1 [==============================] - 0s 29ms/step\n",
      "1/1 [==============================] - 0s 28ms/step\n"
     ]
    },
    {
     "name": "stderr",
     "output_type": "stream",
     "text": [
      "  9%|▉         | 94/1053 [00:06<01:04, 14.78it/s]"
     ]
    },
    {
     "name": "stdout",
     "output_type": "stream",
     "text": [
      "1/1 [==============================] - 0s 29ms/step\n",
      "1/1 [==============================] - 0s 29ms/step\n"
     ]
    },
    {
     "name": "stderr",
     "output_type": "stream",
     "text": [
      "  9%|▉         | 96/1053 [00:06<01:04, 14.79it/s]"
     ]
    },
    {
     "name": "stdout",
     "output_type": "stream",
     "text": [
      "1/1 [==============================] - 0s 30ms/step\n",
      "1/1 [==============================] - 0s 29ms/step\n"
     ]
    },
    {
     "name": "stderr",
     "output_type": "stream",
     "text": [
      "  9%|▉         | 98/1053 [00:06<01:06, 14.39it/s]"
     ]
    },
    {
     "name": "stdout",
     "output_type": "stream",
     "text": [
      "1/1 [==============================] - 0s 29ms/step\n",
      "1/1 [==============================] - 0s 29ms/step\n"
     ]
    },
    {
     "name": "stderr",
     "output_type": "stream",
     "text": [
      "  9%|▉         | 100/1053 [00:06<01:04, 14.67it/s]"
     ]
    },
    {
     "name": "stdout",
     "output_type": "stream",
     "text": [
      "1/1 [==============================] - 0s 29ms/step\n",
      "1/1 [==============================] - 0s 29ms/step\n"
     ]
    },
    {
     "name": "stderr",
     "output_type": "stream",
     "text": [
      " 10%|▉         | 102/1053 [00:06<01:03, 14.89it/s]"
     ]
    },
    {
     "name": "stdout",
     "output_type": "stream",
     "text": [
      "1/1 [==============================] - 0s 29ms/step\n",
      "1/1 [==============================] - 0s 29ms/step\n"
     ]
    },
    {
     "name": "stderr",
     "output_type": "stream",
     "text": [
      " 10%|▉         | 104/1053 [00:07<01:03, 14.87it/s]"
     ]
    },
    {
     "name": "stdout",
     "output_type": "stream",
     "text": [
      "1/1 [==============================] - 0s 29ms/step\n",
      "1/1 [==============================] - 0s 29ms/step\n"
     ]
    },
    {
     "name": "stderr",
     "output_type": "stream",
     "text": [
      " 10%|█         | 106/1053 [00:07<01:02, 15.08it/s]"
     ]
    },
    {
     "name": "stdout",
     "output_type": "stream",
     "text": [
      "1/1 [==============================] - 0s 29ms/step\n",
      "1/1 [==============================] - 0s 29ms/step\n"
     ]
    },
    {
     "name": "stderr",
     "output_type": "stream",
     "text": [
      " 10%|█         | 108/1053 [00:07<01:03, 14.81it/s]"
     ]
    },
    {
     "name": "stdout",
     "output_type": "stream",
     "text": [
      "1/1 [==============================] - 0s 29ms/step\n",
      "1/1 [==============================] - 0s 29ms/step\n"
     ]
    },
    {
     "name": "stderr",
     "output_type": "stream",
     "text": [
      " 10%|█         | 110/1053 [00:07<01:03, 14.81it/s]"
     ]
    },
    {
     "name": "stdout",
     "output_type": "stream",
     "text": [
      "1/1 [==============================] - 0s 31ms/step\n",
      "1/1 [==============================] - 0s 29ms/step\n"
     ]
    },
    {
     "name": "stderr",
     "output_type": "stream",
     "text": [
      " 11%|█         | 112/1053 [00:07<01:03, 14.75it/s]"
     ]
    },
    {
     "name": "stdout",
     "output_type": "stream",
     "text": [
      "1/1 [==============================] - 0s 29ms/step\n",
      "1/1 [==============================] - 0s 29ms/step\n"
     ]
    },
    {
     "name": "stderr",
     "output_type": "stream",
     "text": [
      " 11%|█         | 114/1053 [00:07<01:03, 14.77it/s]"
     ]
    },
    {
     "name": "stdout",
     "output_type": "stream",
     "text": [
      "1/1 [==============================] - 0s 29ms/step\n",
      "1/1 [==============================] - 0s 29ms/step\n"
     ]
    },
    {
     "name": "stderr",
     "output_type": "stream",
     "text": [
      " 11%|█         | 116/1053 [00:07<01:03, 14.79it/s]"
     ]
    },
    {
     "name": "stdout",
     "output_type": "stream",
     "text": [
      "1/1 [==============================] - 0s 29ms/step\n",
      "1/1 [==============================] - 0s 29ms/step\n"
     ]
    },
    {
     "name": "stderr",
     "output_type": "stream",
     "text": [
      " 11%|█         | 118/1053 [00:08<01:03, 14.62it/s]"
     ]
    },
    {
     "name": "stdout",
     "output_type": "stream",
     "text": [
      "1/1 [==============================] - 0s 29ms/step\n",
      "1/1 [==============================] - 0s 29ms/step\n"
     ]
    },
    {
     "name": "stderr",
     "output_type": "stream",
     "text": [
      " 11%|█▏        | 120/1053 [00:08<01:02, 14.86it/s]"
     ]
    },
    {
     "name": "stdout",
     "output_type": "stream",
     "text": [
      "1/1 [==============================] - 0s 29ms/step\n",
      "1/1 [==============================] - 0s 29ms/step\n"
     ]
    },
    {
     "name": "stderr",
     "output_type": "stream",
     "text": [
      " 12%|█▏        | 122/1053 [00:08<01:03, 14.65it/s]"
     ]
    },
    {
     "name": "stdout",
     "output_type": "stream",
     "text": [
      "1/1 [==============================] - 0s 29ms/step\n",
      "1/1 [==============================] - 0s 29ms/step\n"
     ]
    },
    {
     "name": "stderr",
     "output_type": "stream",
     "text": [
      " 12%|█▏        | 124/1053 [00:08<01:02, 14.90it/s]"
     ]
    },
    {
     "name": "stdout",
     "output_type": "stream",
     "text": [
      "1/1 [==============================] - 0s 29ms/step\n",
      "1/1 [==============================] - 0s 29ms/step\n"
     ]
    },
    {
     "name": "stderr",
     "output_type": "stream",
     "text": [
      " 12%|█▏        | 126/1053 [00:08<01:02, 14.88it/s]"
     ]
    },
    {
     "name": "stdout",
     "output_type": "stream",
     "text": [
      "1/1 [==============================] - 0s 29ms/step\n",
      "1/1 [==============================] - 0s 30ms/step\n"
     ]
    },
    {
     "name": "stderr",
     "output_type": "stream",
     "text": [
      " 12%|█▏        | 128/1053 [00:08<01:03, 14.49it/s]"
     ]
    },
    {
     "name": "stdout",
     "output_type": "stream",
     "text": [
      "1/1 [==============================] - 0s 29ms/step\n",
      "1/1 [==============================] - 0s 29ms/step\n"
     ]
    },
    {
     "name": "stderr",
     "output_type": "stream",
     "text": [
      " 12%|█▏        | 130/1053 [00:08<01:03, 14.55it/s]"
     ]
    },
    {
     "name": "stdout",
     "output_type": "stream",
     "text": [
      "1/1 [==============================] - 0s 29ms/step\n",
      "1/1 [==============================] - 0s 29ms/step\n"
     ]
    },
    {
     "name": "stderr",
     "output_type": "stream",
     "text": [
      " 13%|█▎        | 132/1053 [00:08<01:02, 14.79it/s]"
     ]
    },
    {
     "name": "stdout",
     "output_type": "stream",
     "text": [
      "1/1 [==============================] - 0s 29ms/step\n",
      "1/1 [==============================] - 0s 29ms/step\n"
     ]
    },
    {
     "name": "stderr",
     "output_type": "stream",
     "text": [
      " 13%|█▎        | 134/1053 [00:09<01:02, 14.60it/s]"
     ]
    },
    {
     "name": "stdout",
     "output_type": "stream",
     "text": [
      "1/1 [==============================] - 0s 29ms/step\n",
      "1/1 [==============================] - 0s 28ms/step\n"
     ]
    },
    {
     "name": "stderr",
     "output_type": "stream",
     "text": [
      " 13%|█▎        | 136/1053 [00:09<01:01, 14.88it/s]"
     ]
    },
    {
     "name": "stdout",
     "output_type": "stream",
     "text": [
      "1/1 [==============================] - 0s 29ms/step\n",
      "1/1 [==============================] - 0s 30ms/step\n"
     ]
    },
    {
     "name": "stderr",
     "output_type": "stream",
     "text": [
      " 13%|█▎        | 138/1053 [00:09<01:02, 14.69it/s]"
     ]
    },
    {
     "name": "stdout",
     "output_type": "stream",
     "text": [
      "1/1 [==============================] - 0s 30ms/step\n",
      "1/1 [==============================] - 0s 29ms/step\n"
     ]
    },
    {
     "name": "stderr",
     "output_type": "stream",
     "text": [
      " 13%|█▎        | 140/1053 [00:09<01:02, 14.69it/s]"
     ]
    },
    {
     "name": "stdout",
     "output_type": "stream",
     "text": [
      "1/1 [==============================] - 0s 29ms/step\n",
      "1/1 [==============================] - 0s 29ms/step\n"
     ]
    },
    {
     "name": "stderr",
     "output_type": "stream",
     "text": [
      " 13%|█▎        | 142/1053 [00:09<01:02, 14.53it/s]"
     ]
    },
    {
     "name": "stdout",
     "output_type": "stream",
     "text": [
      "1/1 [==============================] - 0s 29ms/step\n",
      "1/1 [==============================] - 0s 29ms/step\n"
     ]
    },
    {
     "name": "stderr",
     "output_type": "stream",
     "text": [
      " 14%|█▎        | 144/1053 [00:09<01:02, 14.62it/s]"
     ]
    },
    {
     "name": "stdout",
     "output_type": "stream",
     "text": [
      "1/1 [==============================] - 0s 29ms/step\n",
      "1/1 [==============================] - 0s 29ms/step\n"
     ]
    },
    {
     "name": "stderr",
     "output_type": "stream",
     "text": [
      " 14%|█▍        | 146/1053 [00:09<01:01, 14.69it/s]"
     ]
    },
    {
     "name": "stdout",
     "output_type": "stream",
     "text": [
      "1/1 [==============================] - 0s 29ms/step\n",
      "1/1 [==============================] - 0s 29ms/step\n"
     ]
    },
    {
     "name": "stderr",
     "output_type": "stream",
     "text": [
      " 14%|█▍        | 148/1053 [00:10<01:01, 14.63it/s]"
     ]
    },
    {
     "name": "stdout",
     "output_type": "stream",
     "text": [
      "1/1 [==============================] - 0s 30ms/step\n",
      "1/1 [==============================] - 0s 29ms/step\n"
     ]
    },
    {
     "name": "stderr",
     "output_type": "stream",
     "text": [
      " 14%|█▍        | 150/1053 [00:10<01:03, 14.19it/s]"
     ]
    },
    {
     "name": "stdout",
     "output_type": "stream",
     "text": [
      "1/1 [==============================] - 0s 30ms/step\n",
      "1/1 [==============================] - 0s 29ms/step\n"
     ]
    },
    {
     "name": "stderr",
     "output_type": "stream",
     "text": [
      " 14%|█▍        | 152/1053 [00:10<01:02, 14.35it/s]"
     ]
    },
    {
     "name": "stdout",
     "output_type": "stream",
     "text": [
      "1/1 [==============================] - 0s 29ms/step\n",
      "1/1 [==============================] - 0s 29ms/step\n"
     ]
    },
    {
     "name": "stderr",
     "output_type": "stream",
     "text": [
      " 15%|█▍        | 154/1053 [00:10<01:01, 14.66it/s]"
     ]
    },
    {
     "name": "stdout",
     "output_type": "stream",
     "text": [
      "1/1 [==============================] - 0s 29ms/step\n",
      "1/1 [==============================] - 0s 28ms/step\n"
     ]
    },
    {
     "name": "stderr",
     "output_type": "stream",
     "text": [
      " 15%|█▍        | 156/1053 [00:10<01:00, 14.93it/s]"
     ]
    },
    {
     "name": "stdout",
     "output_type": "stream",
     "text": [
      "1/1 [==============================] - 0s 29ms/step\n",
      "1/1 [==============================] - 0s 29ms/step\n"
     ]
    },
    {
     "name": "stderr",
     "output_type": "stream",
     "text": [
      " 15%|█▌        | 158/1053 [00:10<01:00, 14.90it/s]"
     ]
    },
    {
     "name": "stdout",
     "output_type": "stream",
     "text": [
      "1/1 [==============================] - 0s 30ms/step\n",
      "1/1 [==============================] - 0s 29ms/step\n"
     ]
    },
    {
     "name": "stderr",
     "output_type": "stream",
     "text": [
      " 15%|█▌        | 160/1053 [00:10<01:01, 14.48it/s]"
     ]
    },
    {
     "name": "stdout",
     "output_type": "stream",
     "text": [
      "1/1 [==============================] - 0s 29ms/step\n",
      "1/1 [==============================] - 0s 29ms/step\n"
     ]
    },
    {
     "name": "stderr",
     "output_type": "stream",
     "text": [
      " 15%|█▌        | 162/1053 [00:11<01:01, 14.55it/s]"
     ]
    },
    {
     "name": "stdout",
     "output_type": "stream",
     "text": [
      "1/1 [==============================] - 0s 29ms/step\n",
      "1/1 [==============================] - 0s 29ms/step\n"
     ]
    },
    {
     "name": "stderr",
     "output_type": "stream",
     "text": [
      " 16%|█▌        | 164/1053 [00:11<00:59, 14.82it/s]"
     ]
    },
    {
     "name": "stdout",
     "output_type": "stream",
     "text": [
      "1/1 [==============================] - 0s 29ms/step\n",
      "1/1 [==============================] - 0s 29ms/step\n"
     ]
    },
    {
     "name": "stderr",
     "output_type": "stream",
     "text": [
      " 16%|█▌        | 166/1053 [00:11<00:59, 14.83it/s]"
     ]
    },
    {
     "name": "stdout",
     "output_type": "stream",
     "text": [
      "1/1 [==============================] - 0s 29ms/step\n",
      "1/1 [==============================] - 0s 29ms/step\n"
     ]
    },
    {
     "name": "stderr",
     "output_type": "stream",
     "text": [
      " 16%|█▌        | 168/1053 [00:11<00:59, 14.83it/s]"
     ]
    },
    {
     "name": "stdout",
     "output_type": "stream",
     "text": [
      "1/1 [==============================] - 0s 29ms/step\n",
      "1/1 [==============================] - 0s 29ms/step\n"
     ]
    },
    {
     "name": "stderr",
     "output_type": "stream",
     "text": [
      " 16%|█▌        | 170/1053 [00:11<01:00, 14.64it/s]"
     ]
    },
    {
     "name": "stdout",
     "output_type": "stream",
     "text": [
      "1/1 [==============================] - 0s 29ms/step\n",
      "1/1 [==============================] - 0s 29ms/step\n"
     ]
    },
    {
     "name": "stderr",
     "output_type": "stream",
     "text": [
      " 16%|█▋        | 172/1053 [00:11<01:00, 14.67it/s]"
     ]
    },
    {
     "name": "stdout",
     "output_type": "stream",
     "text": [
      "1/1 [==============================] - 0s 29ms/step\n",
      "1/1 [==============================] - 0s 29ms/step\n"
     ]
    },
    {
     "name": "stderr",
     "output_type": "stream",
     "text": [
      " 17%|█▋        | 174/1053 [00:11<00:59, 14.71it/s]"
     ]
    },
    {
     "name": "stdout",
     "output_type": "stream",
     "text": [
      "1/1 [==============================] - 0s 29ms/step\n",
      "1/1 [==============================] - 0s 29ms/step\n"
     ]
    },
    {
     "name": "stderr",
     "output_type": "stream",
     "text": [
      " 17%|█▋        | 176/1053 [00:11<00:59, 14.74it/s]"
     ]
    },
    {
     "name": "stdout",
     "output_type": "stream",
     "text": [
      "1/1 [==============================] - 0s 29ms/step\n",
      "1/1 [==============================] - 0s 29ms/step\n"
     ]
    },
    {
     "name": "stderr",
     "output_type": "stream",
     "text": [
      " 17%|█▋        | 178/1053 [00:12<01:00, 14.57it/s]"
     ]
    },
    {
     "name": "stdout",
     "output_type": "stream",
     "text": [
      "1/1 [==============================] - 0s 29ms/step\n",
      "1/1 [==============================] - 0s 30ms/step\n"
     ]
    },
    {
     "name": "stderr",
     "output_type": "stream",
     "text": [
      " 17%|█▋        | 180/1053 [00:12<00:59, 14.64it/s]"
     ]
    },
    {
     "name": "stdout",
     "output_type": "stream",
     "text": [
      "1/1 [==============================] - 0s 29ms/step\n",
      "1/1 [==============================] - 0s 29ms/step\n"
     ]
    },
    {
     "name": "stderr",
     "output_type": "stream",
     "text": [
      " 17%|█▋        | 182/1053 [00:12<01:00, 14.46it/s]"
     ]
    },
    {
     "name": "stdout",
     "output_type": "stream",
     "text": [
      "1/1 [==============================] - 0s 29ms/step\n",
      "1/1 [==============================] - 0s 29ms/step\n"
     ]
    },
    {
     "name": "stderr",
     "output_type": "stream",
     "text": [
      " 17%|█▋        | 184/1053 [00:12<00:59, 14.55it/s]"
     ]
    },
    {
     "name": "stdout",
     "output_type": "stream",
     "text": [
      "1/1 [==============================] - 0s 29ms/step\n",
      "1/1 [==============================] - 0s 29ms/step\n"
     ]
    },
    {
     "name": "stderr",
     "output_type": "stream",
     "text": [
      " 18%|█▊        | 186/1053 [00:12<00:59, 14.62it/s]"
     ]
    },
    {
     "name": "stdout",
     "output_type": "stream",
     "text": [
      "1/1 [==============================] - 0s 30ms/step\n",
      "1/1 [==============================] - 0s 29ms/step\n"
     ]
    },
    {
     "name": "stderr",
     "output_type": "stream",
     "text": [
      " 18%|█▊        | 188/1053 [00:12<00:59, 14.47it/s]"
     ]
    },
    {
     "name": "stdout",
     "output_type": "stream",
     "text": [
      "1/1 [==============================] - 0s 29ms/step\n",
      "1/1 [==============================] - 0s 29ms/step\n"
     ]
    },
    {
     "name": "stderr",
     "output_type": "stream",
     "text": [
      " 18%|█▊        | 190/1053 [00:12<00:59, 14.41it/s]"
     ]
    },
    {
     "name": "stdout",
     "output_type": "stream",
     "text": [
      "1/1 [==============================] - 0s 29ms/step\n",
      "1/1 [==============================] - 0s 29ms/step\n"
     ]
    },
    {
     "name": "stderr",
     "output_type": "stream",
     "text": [
      " 18%|█▊        | 192/1053 [00:13<00:59, 14.50it/s]"
     ]
    },
    {
     "name": "stdout",
     "output_type": "stream",
     "text": [
      "1/1 [==============================] - 0s 31ms/step\n",
      "1/1 [==============================] - 0s 29ms/step\n"
     ]
    },
    {
     "name": "stderr",
     "output_type": "stream",
     "text": [
      " 18%|█▊        | 194/1053 [00:13<01:00, 14.31it/s]"
     ]
    },
    {
     "name": "stdout",
     "output_type": "stream",
     "text": [
      "1/1 [==============================] - 0s 29ms/step\n",
      "1/1 [==============================] - 0s 29ms/step\n"
     ]
    },
    {
     "name": "stderr",
     "output_type": "stream",
     "text": [
      " 19%|█▊        | 196/1053 [00:13<00:59, 14.45it/s]"
     ]
    },
    {
     "name": "stdout",
     "output_type": "stream",
     "text": [
      "1/1 [==============================] - 0s 29ms/step\n",
      "1/1 [==============================] - 0s 29ms/step\n"
     ]
    },
    {
     "name": "stderr",
     "output_type": "stream",
     "text": [
      " 19%|█▉        | 198/1053 [00:13<00:58, 14.56it/s]"
     ]
    },
    {
     "name": "stdout",
     "output_type": "stream",
     "text": [
      "1/1 [==============================] - 0s 29ms/step\n",
      "1/1 [==============================] - 0s 29ms/step\n"
     ]
    },
    {
     "name": "stderr",
     "output_type": "stream",
     "text": [
      " 19%|█▉        | 200/1053 [00:13<00:58, 14.47it/s]"
     ]
    },
    {
     "name": "stdout",
     "output_type": "stream",
     "text": [
      "1/1 [==============================] - 0s 30ms/step\n",
      "1/1 [==============================] - 0s 29ms/step\n"
     ]
    },
    {
     "name": "stderr",
     "output_type": "stream",
     "text": [
      " 19%|█▉        | 202/1053 [00:13<00:59, 14.33it/s]"
     ]
    },
    {
     "name": "stdout",
     "output_type": "stream",
     "text": [
      "1/1 [==============================] - 0s 29ms/step\n",
      "1/1 [==============================] - 0s 29ms/step\n"
     ]
    },
    {
     "name": "stderr",
     "output_type": "stream",
     "text": [
      " 19%|█▉        | 204/1053 [00:13<00:57, 14.64it/s]"
     ]
    },
    {
     "name": "stdout",
     "output_type": "stream",
     "text": [
      "1/1 [==============================] - 0s 29ms/step\n",
      "1/1 [==============================] - 0s 29ms/step\n"
     ]
    },
    {
     "name": "stderr",
     "output_type": "stream",
     "text": [
      " 20%|█▉        | 206/1053 [00:14<00:58, 14.50it/s]"
     ]
    },
    {
     "name": "stdout",
     "output_type": "stream",
     "text": [
      "1/1 [==============================] - 0s 29ms/step\n",
      "1/1 [==============================] - 0s 29ms/step\n"
     ]
    },
    {
     "name": "stderr",
     "output_type": "stream",
     "text": [
      " 20%|█▉        | 208/1053 [00:14<00:57, 14.78it/s]"
     ]
    },
    {
     "name": "stdout",
     "output_type": "stream",
     "text": [
      "1/1 [==============================] - 0s 29ms/step\n",
      "1/1 [==============================] - 0s 29ms/step\n"
     ]
    },
    {
     "name": "stderr",
     "output_type": "stream",
     "text": [
      " 20%|█▉        | 210/1053 [00:14<00:56, 15.00it/s]"
     ]
    },
    {
     "name": "stdout",
     "output_type": "stream",
     "text": [
      "1/1 [==============================] - 0s 29ms/step\n",
      "1/1 [==============================] - 0s 29ms/step\n"
     ]
    },
    {
     "name": "stderr",
     "output_type": "stream",
     "text": [
      " 20%|██        | 212/1053 [00:14<00:57, 14.58it/s]"
     ]
    },
    {
     "name": "stdout",
     "output_type": "stream",
     "text": [
      "1/1 [==============================] - 0s 29ms/step\n",
      "1/1 [==============================] - 0s 29ms/step\n"
     ]
    },
    {
     "name": "stderr",
     "output_type": "stream",
     "text": [
      " 20%|██        | 214/1053 [00:14<00:56, 14.81it/s]"
     ]
    },
    {
     "name": "stdout",
     "output_type": "stream",
     "text": [
      "1/1 [==============================] - 0s 29ms/step\n",
      "1/1 [==============================] - 0s 29ms/step\n"
     ]
    },
    {
     "name": "stderr",
     "output_type": "stream",
     "text": [
      " 21%|██        | 216/1053 [00:14<00:57, 14.61it/s]"
     ]
    },
    {
     "name": "stdout",
     "output_type": "stream",
     "text": [
      "1/1 [==============================] - 0s 29ms/step\n",
      "1/1 [==============================] - 0s 29ms/step\n"
     ]
    },
    {
     "name": "stderr",
     "output_type": "stream",
     "text": [
      " 21%|██        | 218/1053 [00:14<00:56, 14.68it/s]"
     ]
    },
    {
     "name": "stdout",
     "output_type": "stream",
     "text": [
      "1/1 [==============================] - 0s 29ms/step\n",
      "1/1 [==============================] - 0s 29ms/step\n"
     ]
    },
    {
     "name": "stderr",
     "output_type": "stream",
     "text": [
      " 21%|██        | 220/1053 [00:14<00:56, 14.73it/s]"
     ]
    },
    {
     "name": "stdout",
     "output_type": "stream",
     "text": [
      "1/1 [==============================] - 0s 30ms/step\n",
      "1/1 [==============================] - 0s 29ms/step\n"
     ]
    },
    {
     "name": "stderr",
     "output_type": "stream",
     "text": [
      " 21%|██        | 222/1053 [00:15<00:57, 14.35it/s]"
     ]
    },
    {
     "name": "stdout",
     "output_type": "stream",
     "text": [
      "1/1 [==============================] - 0s 29ms/step\n",
      "1/1 [==============================] - 0s 29ms/step\n"
     ]
    },
    {
     "name": "stderr",
     "output_type": "stream",
     "text": [
      " 21%|██▏       | 224/1053 [00:15<00:57, 14.46it/s]"
     ]
    },
    {
     "name": "stdout",
     "output_type": "stream",
     "text": [
      "1/1 [==============================] - 0s 28ms/step\n",
      "1/1 [==============================] - 0s 29ms/step\n"
     ]
    },
    {
     "name": "stderr",
     "output_type": "stream",
     "text": [
      " 21%|██▏       | 226/1053 [00:15<00:56, 14.57it/s]"
     ]
    },
    {
     "name": "stdout",
     "output_type": "stream",
     "text": [
      "1/1 [==============================] - 0s 29ms/step\n",
      "1/1 [==============================] - 0s 29ms/step\n"
     ]
    },
    {
     "name": "stderr",
     "output_type": "stream",
     "text": [
      " 22%|██▏       | 228/1053 [00:15<00:56, 14.64it/s]"
     ]
    },
    {
     "name": "stdout",
     "output_type": "stream",
     "text": [
      "1/1 [==============================] - 0s 29ms/step\n",
      "1/1 [==============================] - 0s 29ms/step\n"
     ]
    },
    {
     "name": "stderr",
     "output_type": "stream",
     "text": [
      " 22%|██▏       | 230/1053 [00:15<00:55, 14.70it/s]"
     ]
    },
    {
     "name": "stdout",
     "output_type": "stream",
     "text": [
      "1/1 [==============================] - 0s 29ms/step\n",
      "1/1 [==============================] - 0s 29ms/step\n"
     ]
    },
    {
     "name": "stderr",
     "output_type": "stream",
     "text": [
      " 22%|██▏       | 232/1053 [00:15<00:56, 14.55it/s]"
     ]
    },
    {
     "name": "stdout",
     "output_type": "stream",
     "text": [
      "1/1 [==============================] - 0s 29ms/step\n",
      "1/1 [==============================] - 0s 29ms/step\n"
     ]
    },
    {
     "name": "stderr",
     "output_type": "stream",
     "text": [
      " 22%|██▏       | 234/1053 [00:15<00:56, 14.62it/s]"
     ]
    },
    {
     "name": "stdout",
     "output_type": "stream",
     "text": [
      "1/1 [==============================] - 0s 29ms/step\n",
      "1/1 [==============================] - 0s 29ms/step\n"
     ]
    },
    {
     "name": "stderr",
     "output_type": "stream",
     "text": [
      " 22%|██▏       | 236/1053 [00:16<00:55, 14.67it/s]"
     ]
    },
    {
     "name": "stdout",
     "output_type": "stream",
     "text": [
      "1/1 [==============================] - 0s 30ms/step\n",
      "1/1 [==============================] - 0s 29ms/step\n"
     ]
    },
    {
     "name": "stderr",
     "output_type": "stream",
     "text": [
      " 23%|██▎       | 238/1053 [00:16<00:56, 14.46it/s]"
     ]
    },
    {
     "name": "stdout",
     "output_type": "stream",
     "text": [
      "1/1 [==============================] - 0s 29ms/step\n",
      "1/1 [==============================] - 0s 29ms/step\n"
     ]
    },
    {
     "name": "stderr",
     "output_type": "stream",
     "text": [
      " 23%|██▎       | 240/1053 [00:16<00:55, 14.77it/s]"
     ]
    },
    {
     "name": "stdout",
     "output_type": "stream",
     "text": [
      "1/1 [==============================] - 0s 29ms/step\n",
      "1/1 [==============================] - 0s 29ms/step\n"
     ]
    },
    {
     "name": "stderr",
     "output_type": "stream",
     "text": [
      " 23%|██▎       | 242/1053 [00:16<00:55, 14.60it/s]"
     ]
    },
    {
     "name": "stdout",
     "output_type": "stream",
     "text": [
      "1/1 [==============================] - 0s 30ms/step\n",
      "1/1 [==============================] - 0s 29ms/step\n"
     ]
    },
    {
     "name": "stderr",
     "output_type": "stream",
     "text": [
      " 23%|██▎       | 244/1053 [00:16<00:55, 14.61it/s]"
     ]
    },
    {
     "name": "stdout",
     "output_type": "stream",
     "text": [
      "1/1 [==============================] - 0s 29ms/step\n",
      "1/1 [==============================] - 0s 30ms/step\n"
     ]
    },
    {
     "name": "stderr",
     "output_type": "stream",
     "text": [
      " 23%|██▎       | 246/1053 [00:16<00:55, 14.63it/s]"
     ]
    },
    {
     "name": "stdout",
     "output_type": "stream",
     "text": [
      "1/1 [==============================] - 0s 29ms/step\n",
      "1/1 [==============================] - 0s 29ms/step\n"
     ]
    },
    {
     "name": "stderr",
     "output_type": "stream",
     "text": [
      " 24%|██▎       | 248/1053 [00:16<00:54, 14.69it/s]"
     ]
    },
    {
     "name": "stdout",
     "output_type": "stream",
     "text": [
      "1/1 [==============================] - 0s 29ms/step\n",
      "1/1 [==============================] - 0s 29ms/step\n"
     ]
    },
    {
     "name": "stderr",
     "output_type": "stream",
     "text": [
      " 24%|██▎       | 250/1053 [00:17<00:54, 14.74it/s]"
     ]
    },
    {
     "name": "stdout",
     "output_type": "stream",
     "text": [
      "1/1 [==============================] - 0s 29ms/step\n",
      "1/1 [==============================] - 0s 30ms/step\n"
     ]
    },
    {
     "name": "stderr",
     "output_type": "stream",
     "text": [
      " 24%|██▍       | 252/1053 [00:17<00:54, 14.58it/s]"
     ]
    },
    {
     "name": "stdout",
     "output_type": "stream",
     "text": [
      "1/1 [==============================] - 0s 30ms/step\n",
      "1/1 [==============================] - 0s 29ms/step\n"
     ]
    },
    {
     "name": "stderr",
     "output_type": "stream",
     "text": [
      " 24%|██▍       | 254/1053 [00:17<00:54, 14.61it/s]"
     ]
    },
    {
     "name": "stdout",
     "output_type": "stream",
     "text": [
      "1/1 [==============================] - 0s 29ms/step\n",
      "1/1 [==============================] - 0s 29ms/step\n"
     ]
    },
    {
     "name": "stderr",
     "output_type": "stream",
     "text": [
      " 24%|██▍       | 256/1053 [00:17<00:54, 14.67it/s]"
     ]
    },
    {
     "name": "stdout",
     "output_type": "stream",
     "text": [
      "1/1 [==============================] - 0s 29ms/step\n",
      "1/1 [==============================] - 0s 29ms/step\n"
     ]
    },
    {
     "name": "stderr",
     "output_type": "stream",
     "text": [
      " 25%|██▍       | 258/1053 [00:17<00:54, 14.70it/s]"
     ]
    },
    {
     "name": "stdout",
     "output_type": "stream",
     "text": [
      "1/1 [==============================] - 0s 29ms/step\n",
      "1/1 [==============================] - 0s 29ms/step\n"
     ]
    },
    {
     "name": "stderr",
     "output_type": "stream",
     "text": [
      " 25%|██▍       | 260/1053 [00:17<00:53, 14.94it/s]"
     ]
    },
    {
     "name": "stdout",
     "output_type": "stream",
     "text": [
      "1/1 [==============================] - 0s 29ms/step\n",
      "1/1 [==============================] - 0s 29ms/step\n"
     ]
    },
    {
     "name": "stderr",
     "output_type": "stream",
     "text": [
      " 25%|██▍       | 262/1053 [00:17<00:54, 14.55it/s]"
     ]
    },
    {
     "name": "stdout",
     "output_type": "stream",
     "text": [
      "1/1 [==============================] - 0s 30ms/step\n",
      "1/1 [==============================] - 0s 29ms/step\n"
     ]
    },
    {
     "name": "stderr",
     "output_type": "stream",
     "text": [
      " 25%|██▌       | 264/1053 [00:18<00:54, 14.60it/s]"
     ]
    },
    {
     "name": "stdout",
     "output_type": "stream",
     "text": [
      "1/1 [==============================] - 0s 29ms/step\n",
      "1/1 [==============================] - 0s 29ms/step\n"
     ]
    },
    {
     "name": "stderr",
     "output_type": "stream",
     "text": [
      " 25%|██▌       | 266/1053 [00:18<00:53, 14.66it/s]"
     ]
    },
    {
     "name": "stdout",
     "output_type": "stream",
     "text": [
      "1/1 [==============================] - 0s 30ms/step\n",
      "1/1 [==============================] - 0s 29ms/step\n"
     ]
    },
    {
     "name": "stderr",
     "output_type": "stream",
     "text": [
      " 25%|██▌       | 268/1053 [00:18<00:54, 14.49it/s]"
     ]
    },
    {
     "name": "stdout",
     "output_type": "stream",
     "text": [
      "1/1 [==============================] - 0s 29ms/step\n",
      "1/1 [==============================] - 0s 29ms/step\n"
     ]
    },
    {
     "name": "stderr",
     "output_type": "stream",
     "text": [
      " 26%|██▌       | 270/1053 [00:18<00:52, 14.79it/s]"
     ]
    },
    {
     "name": "stdout",
     "output_type": "stream",
     "text": [
      "1/1 [==============================] - 0s 29ms/step\n",
      "1/1 [==============================] - 0s 29ms/step\n"
     ]
    },
    {
     "name": "stderr",
     "output_type": "stream",
     "text": [
      " 26%|██▌       | 272/1053 [00:18<00:53, 14.62it/s]"
     ]
    },
    {
     "name": "stdout",
     "output_type": "stream",
     "text": [
      "1/1 [==============================] - 0s 30ms/step\n",
      "1/1 [==============================] - 0s 29ms/step\n"
     ]
    },
    {
     "name": "stderr",
     "output_type": "stream",
     "text": [
      " 26%|██▌       | 274/1053 [00:18<00:53, 14.64it/s]"
     ]
    },
    {
     "name": "stdout",
     "output_type": "stream",
     "text": [
      "1/1 [==============================] - 0s 30ms/step\n",
      "1/1 [==============================] - 0s 29ms/step\n"
     ]
    },
    {
     "name": "stderr",
     "output_type": "stream",
     "text": [
      " 26%|██▌       | 276/1053 [00:18<00:53, 14.48it/s]"
     ]
    },
    {
     "name": "stdout",
     "output_type": "stream",
     "text": [
      "1/1 [==============================] - 0s 29ms/step\n",
      "1/1 [==============================] - 0s 29ms/step\n"
     ]
    },
    {
     "name": "stderr",
     "output_type": "stream",
     "text": [
      " 26%|██▋       | 278/1053 [00:18<00:52, 14.76it/s]"
     ]
    },
    {
     "name": "stdout",
     "output_type": "stream",
     "text": [
      "1/1 [==============================] - 0s 29ms/step\n",
      "1/1 [==============================] - 0s 29ms/step\n"
     ]
    },
    {
     "name": "stderr",
     "output_type": "stream",
     "text": [
      " 27%|██▋       | 280/1053 [00:19<00:52, 14.78it/s]"
     ]
    },
    {
     "name": "stdout",
     "output_type": "stream",
     "text": [
      "1/1 [==============================] - 0s 29ms/step\n",
      "1/1 [==============================] - 0s 29ms/step\n"
     ]
    },
    {
     "name": "stderr",
     "output_type": "stream",
     "text": [
      " 27%|██▋       | 282/1053 [00:19<00:51, 15.00it/s]"
     ]
    },
    {
     "name": "stdout",
     "output_type": "stream",
     "text": [
      "1/1 [==============================] - 0s 30ms/step\n",
      "1/1 [==============================] - 0s 29ms/step\n"
     ]
    },
    {
     "name": "stderr",
     "output_type": "stream",
     "text": [
      " 27%|██▋       | 284/1053 [00:19<00:52, 14.75it/s]"
     ]
    },
    {
     "name": "stdout",
     "output_type": "stream",
     "text": [
      "1/1 [==============================] - 0s 30ms/step\n",
      "1/1 [==============================] - 0s 29ms/step\n"
     ]
    },
    {
     "name": "stderr",
     "output_type": "stream",
     "text": [
      " 27%|██▋       | 286/1053 [00:19<00:52, 14.72it/s]"
     ]
    },
    {
     "name": "stdout",
     "output_type": "stream",
     "text": [
      "1/1 [==============================] - 0s 29ms/step\n",
      "1/1 [==============================] - 0s 29ms/step\n"
     ]
    },
    {
     "name": "stderr",
     "output_type": "stream",
     "text": [
      " 27%|██▋       | 288/1053 [00:19<00:51, 14.73it/s]"
     ]
    },
    {
     "name": "stdout",
     "output_type": "stream",
     "text": [
      "1/1 [==============================] - 0s 29ms/step\n",
      "1/1 [==============================] - 0s 29ms/step\n"
     ]
    },
    {
     "name": "stderr",
     "output_type": "stream",
     "text": [
      " 28%|██▊       | 290/1053 [00:19<00:51, 14.76it/s]"
     ]
    },
    {
     "name": "stdout",
     "output_type": "stream",
     "text": [
      "1/1 [==============================] - 0s 29ms/step\n",
      "1/1 [==============================] - 0s 28ms/step\n"
     ]
    },
    {
     "name": "stderr",
     "output_type": "stream",
     "text": [
      " 28%|██▊       | 292/1053 [00:19<00:50, 15.00it/s]"
     ]
    },
    {
     "name": "stdout",
     "output_type": "stream",
     "text": [
      "1/1 [==============================] - 0s 29ms/step\n",
      "1/1 [==============================] - 0s 31ms/step\n"
     ]
    },
    {
     "name": "stderr",
     "output_type": "stream",
     "text": [
      " 28%|██▊       | 294/1053 [00:20<00:52, 14.50it/s]"
     ]
    },
    {
     "name": "stdout",
     "output_type": "stream",
     "text": [
      "1/1 [==============================] - 0s 30ms/step\n",
      "1/1 [==============================] - 0s 33ms/step\n"
     ]
    },
    {
     "name": "stderr",
     "output_type": "stream",
     "text": [
      " 28%|██▊       | 296/1053 [00:20<00:52, 14.42it/s]"
     ]
    },
    {
     "name": "stdout",
     "output_type": "stream",
     "text": [
      "1/1 [==============================] - 0s 30ms/step\n",
      "1/1 [==============================] - 0s 30ms/step\n"
     ]
    },
    {
     "name": "stderr",
     "output_type": "stream",
     "text": [
      " 28%|██▊       | 298/1053 [00:20<00:52, 14.44it/s]"
     ]
    },
    {
     "name": "stdout",
     "output_type": "stream",
     "text": [
      "1/1 [==============================] - 0s 29ms/step\n",
      "1/1 [==============================] - 0s 29ms/step\n"
     ]
    },
    {
     "name": "stderr",
     "output_type": "stream",
     "text": [
      " 28%|██▊       | 300/1053 [00:20<00:52, 14.36it/s]"
     ]
    },
    {
     "name": "stdout",
     "output_type": "stream",
     "text": [
      "1/1 [==============================] - 0s 29ms/step\n",
      "1/1 [==============================] - 0s 29ms/step\n"
     ]
    },
    {
     "name": "stderr",
     "output_type": "stream",
     "text": [
      " 29%|██▊       | 302/1053 [00:20<00:51, 14.48it/s]"
     ]
    },
    {
     "name": "stdout",
     "output_type": "stream",
     "text": [
      "1/1 [==============================] - 0s 29ms/step\n",
      "1/1 [==============================] - 0s 29ms/step\n"
     ]
    },
    {
     "name": "stderr",
     "output_type": "stream",
     "text": [
      " 29%|██▉       | 304/1053 [00:20<00:52, 14.38it/s]"
     ]
    },
    {
     "name": "stdout",
     "output_type": "stream",
     "text": [
      "1/1 [==============================] - 0s 29ms/step\n",
      "1/1 [==============================] - 0s 29ms/step\n"
     ]
    },
    {
     "name": "stderr",
     "output_type": "stream",
     "text": [
      " 29%|██▉       | 306/1053 [00:20<00:52, 14.26it/s]"
     ]
    },
    {
     "name": "stdout",
     "output_type": "stream",
     "text": [
      "1/1 [==============================] - 0s 29ms/step\n",
      "1/1 [==============================] - 0s 29ms/step\n"
     ]
    },
    {
     "name": "stderr",
     "output_type": "stream",
     "text": [
      " 29%|██▉       | 308/1053 [00:21<00:51, 14.40it/s]"
     ]
    },
    {
     "name": "stdout",
     "output_type": "stream",
     "text": [
      "1/1 [==============================] - 0s 29ms/step\n",
      "1/1 [==============================] - 0s 29ms/step\n"
     ]
    },
    {
     "name": "stderr",
     "output_type": "stream",
     "text": [
      " 29%|██▉       | 310/1053 [00:21<00:51, 14.51it/s]"
     ]
    },
    {
     "name": "stdout",
     "output_type": "stream",
     "text": [
      "1/1 [==============================] - 0s 29ms/step\n",
      "1/1 [==============================] - 0s 29ms/step\n"
     ]
    },
    {
     "name": "stderr",
     "output_type": "stream",
     "text": [
      " 30%|██▉       | 312/1053 [00:21<00:51, 14.39it/s]"
     ]
    },
    {
     "name": "stdout",
     "output_type": "stream",
     "text": [
      "1/1 [==============================] - 0s 29ms/step\n",
      "1/1 [==============================] - 0s 29ms/step\n"
     ]
    },
    {
     "name": "stderr",
     "output_type": "stream",
     "text": [
      " 30%|██▉       | 314/1053 [00:21<00:51, 14.35it/s]"
     ]
    },
    {
     "name": "stdout",
     "output_type": "stream",
     "text": [
      "1/1 [==============================] - 0s 30ms/step\n",
      "1/1 [==============================] - 0s 29ms/step\n"
     ]
    },
    {
     "name": "stderr",
     "output_type": "stream",
     "text": [
      " 30%|███       | 316/1053 [00:21<00:50, 14.46it/s]"
     ]
    },
    {
     "name": "stdout",
     "output_type": "stream",
     "text": [
      "1/1 [==============================] - 0s 30ms/step\n",
      "1/1 [==============================] - 0s 29ms/step\n"
     ]
    },
    {
     "name": "stderr",
     "output_type": "stream",
     "text": [
      " 30%|███       | 318/1053 [00:21<00:50, 14.53it/s]"
     ]
    },
    {
     "name": "stdout",
     "output_type": "stream",
     "text": [
      "1/1 [==============================] - 0s 29ms/step\n",
      "1/1 [==============================] - 0s 29ms/step\n"
     ]
    },
    {
     "name": "stderr",
     "output_type": "stream",
     "text": [
      " 30%|███       | 320/1053 [00:21<00:49, 14.81it/s]"
     ]
    },
    {
     "name": "stdout",
     "output_type": "stream",
     "text": [
      "1/1 [==============================] - 0s 29ms/step\n",
      "1/1 [==============================] - 0s 29ms/step\n"
     ]
    },
    {
     "name": "stderr",
     "output_type": "stream",
     "text": [
      " 31%|███       | 322/1053 [00:21<00:49, 14.82it/s]"
     ]
    },
    {
     "name": "stdout",
     "output_type": "stream",
     "text": [
      "1/1 [==============================] - 0s 29ms/step\n",
      "1/1 [==============================] - 0s 29ms/step\n"
     ]
    },
    {
     "name": "stderr",
     "output_type": "stream",
     "text": [
      " 31%|███       | 324/1053 [00:22<00:49, 14.65it/s]"
     ]
    },
    {
     "name": "stdout",
     "output_type": "stream",
     "text": [
      "1/1 [==============================] - 0s 30ms/step\n",
      "1/1 [==============================] - 0s 29ms/step\n"
     ]
    },
    {
     "name": "stderr",
     "output_type": "stream",
     "text": [
      " 31%|███       | 326/1053 [00:22<00:49, 14.65it/s]"
     ]
    },
    {
     "name": "stdout",
     "output_type": "stream",
     "text": [
      "1/1 [==============================] - 0s 29ms/step\n",
      "1/1 [==============================] - 0s 29ms/step\n"
     ]
    },
    {
     "name": "stderr",
     "output_type": "stream",
     "text": [
      " 31%|███       | 328/1053 [00:22<00:50, 14.49it/s]"
     ]
    },
    {
     "name": "stdout",
     "output_type": "stream",
     "text": [
      "1/1 [==============================] - 0s 29ms/step\n",
      "1/1 [==============================] - 0s 29ms/step\n"
     ]
    },
    {
     "name": "stderr",
     "output_type": "stream",
     "text": [
      " 31%|███▏      | 330/1053 [00:22<00:49, 14.58it/s]"
     ]
    },
    {
     "name": "stdout",
     "output_type": "stream",
     "text": [
      "1/1 [==============================] - 0s 30ms/step\n",
      "1/1 [==============================] - 0s 29ms/step\n"
     ]
    },
    {
     "name": "stderr",
     "output_type": "stream",
     "text": [
      " 32%|███▏      | 332/1053 [00:22<00:49, 14.64it/s]"
     ]
    },
    {
     "name": "stdout",
     "output_type": "stream",
     "text": [
      "1/1 [==============================] - 0s 29ms/step\n",
      "1/1 [==============================] - 0s 29ms/step\n"
     ]
    },
    {
     "name": "stderr",
     "output_type": "stream",
     "text": [
      " 32%|███▏      | 334/1053 [00:22<00:48, 14.90it/s]"
     ]
    },
    {
     "name": "stdout",
     "output_type": "stream",
     "text": [
      "1/1 [==============================] - 0s 30ms/step\n",
      "1/1 [==============================] - 0s 29ms/step\n"
     ]
    },
    {
     "name": "stderr",
     "output_type": "stream",
     "text": [
      " 32%|███▏      | 336/1053 [00:22<00:49, 14.47it/s]"
     ]
    },
    {
     "name": "stdout",
     "output_type": "stream",
     "text": [
      "1/1 [==============================] - 0s 30ms/step\n",
      "1/1 [==============================] - 0s 29ms/step\n"
     ]
    },
    {
     "name": "stderr",
     "output_type": "stream",
     "text": [
      " 32%|███▏      | 338/1053 [00:23<00:49, 14.53it/s]"
     ]
    },
    {
     "name": "stdout",
     "output_type": "stream",
     "text": [
      "1/1 [==============================] - 0s 29ms/step\n",
      "1/1 [==============================] - 0s 29ms/step\n"
     ]
    },
    {
     "name": "stderr",
     "output_type": "stream",
     "text": [
      " 32%|███▏      | 340/1053 [00:23<00:48, 14.61it/s]"
     ]
    },
    {
     "name": "stdout",
     "output_type": "stream",
     "text": [
      "1/1 [==============================] - 0s 29ms/step\n",
      "1/1 [==============================] - 0s 29ms/step\n"
     ]
    },
    {
     "name": "stderr",
     "output_type": "stream",
     "text": [
      " 32%|███▏      | 342/1053 [00:23<00:48, 14.69it/s]"
     ]
    },
    {
     "name": "stdout",
     "output_type": "stream",
     "text": [
      "1/1 [==============================] - 0s 29ms/step\n",
      "1/1 [==============================] - 0s 29ms/step\n"
     ]
    },
    {
     "name": "stderr",
     "output_type": "stream",
     "text": [
      " 33%|███▎      | 344/1053 [00:23<00:47, 14.92it/s]"
     ]
    },
    {
     "name": "stdout",
     "output_type": "stream",
     "text": [
      "1/1 [==============================] - 0s 44ms/step\n",
      "1/1 [==============================] - 0s 30ms/step\n"
     ]
    },
    {
     "name": "stderr",
     "output_type": "stream",
     "text": [
      " 33%|███▎      | 346/1053 [00:23<00:50, 14.01it/s]"
     ]
    },
    {
     "name": "stdout",
     "output_type": "stream",
     "text": [
      "1/1 [==============================] - 0s 32ms/step\n",
      "1/1 [==============================] - 0s 30ms/step\n"
     ]
    },
    {
     "name": "stderr",
     "output_type": "stream",
     "text": [
      " 33%|███▎      | 348/1053 [00:23<00:55, 12.79it/s]"
     ]
    },
    {
     "name": "stdout",
     "output_type": "stream",
     "text": [
      "1/1 [==============================] - 0s 29ms/step\n",
      "1/1 [==============================] - 0s 29ms/step\n"
     ]
    },
    {
     "name": "stderr",
     "output_type": "stream",
     "text": [
      " 33%|███▎      | 350/1053 [00:23<00:52, 13.31it/s]"
     ]
    },
    {
     "name": "stdout",
     "output_type": "stream",
     "text": [
      "1/1 [==============================] - 0s 29ms/step\n",
      "1/1 [==============================] - 0s 29ms/step\n"
     ]
    },
    {
     "name": "stderr",
     "output_type": "stream",
     "text": [
      " 33%|███▎      | 352/1053 [00:24<00:51, 13.73it/s]"
     ]
    },
    {
     "name": "stdout",
     "output_type": "stream",
     "text": [
      "1/1 [==============================] - 0s 29ms/step\n",
      "1/1 [==============================] - 0s 29ms/step\n"
     ]
    },
    {
     "name": "stderr",
     "output_type": "stream",
     "text": [
      " 34%|███▎      | 354/1053 [00:24<00:49, 14.05it/s]"
     ]
    },
    {
     "name": "stdout",
     "output_type": "stream",
     "text": [
      "1/1 [==============================] - 0s 30ms/step\n",
      "1/1 [==============================] - 0s 30ms/step\n"
     ]
    },
    {
     "name": "stderr",
     "output_type": "stream",
     "text": [
      " 34%|███▍      | 356/1053 [00:24<00:49, 14.07it/s]"
     ]
    },
    {
     "name": "stdout",
     "output_type": "stream",
     "text": [
      "1/1 [==============================] - 0s 29ms/step\n",
      "1/1 [==============================] - 0s 29ms/step\n"
     ]
    },
    {
     "name": "stderr",
     "output_type": "stream",
     "text": [
      " 34%|███▍      | 358/1053 [00:24<00:48, 14.26it/s]"
     ]
    },
    {
     "name": "stdout",
     "output_type": "stream",
     "text": [
      "1/1 [==============================] - 0s 29ms/step\n",
      "1/1 [==============================] - 0s 29ms/step\n"
     ]
    },
    {
     "name": "stderr",
     "output_type": "stream",
     "text": [
      " 34%|███▍      | 360/1053 [00:24<00:47, 14.60it/s]"
     ]
    },
    {
     "name": "stdout",
     "output_type": "stream",
     "text": [
      "1/1 [==============================] - 0s 29ms/step\n",
      "1/1 [==============================] - 0s 29ms/step\n"
     ]
    },
    {
     "name": "stderr",
     "output_type": "stream",
     "text": [
      " 34%|███▍      | 362/1053 [00:24<00:47, 14.65it/s]"
     ]
    },
    {
     "name": "stdout",
     "output_type": "stream",
     "text": [
      "1/1 [==============================] - 0s 29ms/step\n",
      "1/1 [==============================] - 0s 29ms/step\n"
     ]
    },
    {
     "name": "stderr",
     "output_type": "stream",
     "text": [
      " 35%|███▍      | 364/1053 [00:24<00:47, 14.53it/s]"
     ]
    },
    {
     "name": "stdout",
     "output_type": "stream",
     "text": [
      "1/1 [==============================] - 0s 29ms/step\n",
      "1/1 [==============================] - 0s 30ms/step\n"
     ]
    },
    {
     "name": "stderr",
     "output_type": "stream",
     "text": [
      " 35%|███▍      | 366/1053 [00:25<00:47, 14.40it/s]"
     ]
    },
    {
     "name": "stdout",
     "output_type": "stream",
     "text": [
      "1/1 [==============================] - 0s 29ms/step\n",
      "1/1 [==============================] - 0s 29ms/step\n"
     ]
    },
    {
     "name": "stderr",
     "output_type": "stream",
     "text": [
      " 35%|███▍      | 368/1053 [00:25<00:47, 14.49it/s]"
     ]
    },
    {
     "name": "stdout",
     "output_type": "stream",
     "text": [
      "1/1 [==============================] - 0s 29ms/step\n",
      "1/1 [==============================] - 0s 28ms/step\n"
     ]
    },
    {
     "name": "stderr",
     "output_type": "stream",
     "text": [
      " 35%|███▌      | 370/1053 [00:25<00:46, 14.61it/s]"
     ]
    },
    {
     "name": "stdout",
     "output_type": "stream",
     "text": [
      "1/1 [==============================] - 0s 29ms/step\n",
      "1/1 [==============================] - 0s 29ms/step\n"
     ]
    },
    {
     "name": "stderr",
     "output_type": "stream",
     "text": [
      " 35%|███▌      | 372/1053 [00:25<00:46, 14.67it/s]"
     ]
    },
    {
     "name": "stdout",
     "output_type": "stream",
     "text": [
      "1/1 [==============================] - 0s 29ms/step\n",
      "1/1 [==============================] - 0s 29ms/step\n"
     ]
    },
    {
     "name": "stderr",
     "output_type": "stream",
     "text": [
      " 36%|███▌      | 374/1053 [00:25<00:46, 14.53it/s]"
     ]
    },
    {
     "name": "stdout",
     "output_type": "stream",
     "text": [
      "1/1 [==============================] - 0s 29ms/step\n",
      "1/1 [==============================] - 0s 30ms/step\n"
     ]
    },
    {
     "name": "stderr",
     "output_type": "stream",
     "text": [
      " 36%|███▌      | 376/1053 [00:25<00:46, 14.61it/s]"
     ]
    },
    {
     "name": "stdout",
     "output_type": "stream",
     "text": [
      "1/1 [==============================] - 0s 29ms/step\n",
      "1/1 [==============================] - 0s 29ms/step\n"
     ]
    },
    {
     "name": "stderr",
     "output_type": "stream",
     "text": [
      " 36%|███▌      | 378/1053 [00:25<00:46, 14.65it/s]"
     ]
    },
    {
     "name": "stdout",
     "output_type": "stream",
     "text": [
      "1/1 [==============================] - 0s 29ms/step\n",
      "1/1 [==============================] - 0s 29ms/step\n"
     ]
    },
    {
     "name": "stderr",
     "output_type": "stream",
     "text": [
      " 36%|███▌      | 380/1053 [00:26<00:45, 14.69it/s]"
     ]
    },
    {
     "name": "stdout",
     "output_type": "stream",
     "text": [
      "1/1 [==============================] - 0s 29ms/step\n",
      "1/1 [==============================] - 0s 29ms/step\n"
     ]
    },
    {
     "name": "stderr",
     "output_type": "stream",
     "text": [
      " 36%|███▋      | 382/1053 [00:26<00:46, 14.54it/s]"
     ]
    },
    {
     "name": "stdout",
     "output_type": "stream",
     "text": [
      "1/1 [==============================] - 0s 29ms/step\n",
      "1/1 [==============================] - 0s 29ms/step\n"
     ]
    },
    {
     "name": "stderr",
     "output_type": "stream",
     "text": [
      " 36%|███▋      | 384/1053 [00:26<00:45, 14.82it/s]"
     ]
    },
    {
     "name": "stdout",
     "output_type": "stream",
     "text": [
      "1/1 [==============================] - 0s 28ms/step\n",
      "1/1 [==============================] - 0s 29ms/step\n"
     ]
    },
    {
     "name": "stderr",
     "output_type": "stream",
     "text": [
      " 37%|███▋      | 386/1053 [00:26<00:46, 14.49it/s]"
     ]
    },
    {
     "name": "stdout",
     "output_type": "stream",
     "text": [
      "1/1 [==============================] - 0s 30ms/step\n",
      "1/1 [==============================] - 0s 29ms/step\n"
     ]
    },
    {
     "name": "stderr",
     "output_type": "stream",
     "text": [
      " 37%|███▋      | 388/1053 [00:26<00:45, 14.74it/s]"
     ]
    },
    {
     "name": "stdout",
     "output_type": "stream",
     "text": [
      "1/1 [==============================] - 0s 29ms/step\n",
      "1/1 [==============================] - 0s 29ms/step\n"
     ]
    },
    {
     "name": "stderr",
     "output_type": "stream",
     "text": [
      " 37%|███▋      | 390/1053 [00:26<00:44, 14.94it/s]"
     ]
    },
    {
     "name": "stdout",
     "output_type": "stream",
     "text": [
      "1/1 [==============================] - 0s 29ms/step\n",
      "1/1 [==============================] - 0s 28ms/step\n"
     ]
    },
    {
     "name": "stderr",
     "output_type": "stream",
     "text": [
      " 37%|███▋      | 392/1053 [00:26<00:44, 14.91it/s]"
     ]
    },
    {
     "name": "stdout",
     "output_type": "stream",
     "text": [
      "1/1 [==============================] - 0s 29ms/step\n",
      "1/1 [==============================] - 0s 29ms/step\n"
     ]
    },
    {
     "name": "stderr",
     "output_type": "stream",
     "text": [
      " 37%|███▋      | 394/1053 [00:26<00:44, 14.88it/s]"
     ]
    },
    {
     "name": "stdout",
     "output_type": "stream",
     "text": [
      "1/1 [==============================] - 0s 29ms/step\n",
      "1/1 [==============================] - 0s 29ms/step\n"
     ]
    },
    {
     "name": "stderr",
     "output_type": "stream",
     "text": [
      " 38%|███▊      | 396/1053 [00:27<00:44, 14.69it/s]"
     ]
    },
    {
     "name": "stdout",
     "output_type": "stream",
     "text": [
      "1/1 [==============================] - 0s 30ms/step\n",
      "1/1 [==============================] - 0s 29ms/step\n"
     ]
    },
    {
     "name": "stderr",
     "output_type": "stream",
     "text": [
      " 38%|███▊      | 398/1053 [00:27<00:44, 14.70it/s]"
     ]
    },
    {
     "name": "stdout",
     "output_type": "stream",
     "text": [
      "1/1 [==============================] - 0s 30ms/step\n",
      "1/1 [==============================] - 0s 29ms/step\n"
     ]
    },
    {
     "name": "stderr",
     "output_type": "stream",
     "text": [
      " 38%|███▊      | 400/1053 [00:27<00:44, 14.70it/s]"
     ]
    },
    {
     "name": "stdout",
     "output_type": "stream",
     "text": [
      "1/1 [==============================] - 0s 29ms/step\n",
      "1/1 [==============================] - 0s 29ms/step\n"
     ]
    },
    {
     "name": "stderr",
     "output_type": "stream",
     "text": [
      " 38%|███▊      | 402/1053 [00:27<00:44, 14.75it/s]"
     ]
    },
    {
     "name": "stdout",
     "output_type": "stream",
     "text": [
      "1/1 [==============================] - 0s 29ms/step\n",
      "1/1 [==============================] - 0s 29ms/step\n"
     ]
    },
    {
     "name": "stderr",
     "output_type": "stream",
     "text": [
      " 38%|███▊      | 404/1053 [00:27<00:43, 14.98it/s]"
     ]
    },
    {
     "name": "stdout",
     "output_type": "stream",
     "text": [
      "1/1 [==============================] - 0s 29ms/step\n",
      "1/1 [==============================] - 0s 29ms/step\n"
     ]
    },
    {
     "name": "stderr",
     "output_type": "stream",
     "text": [
      " 39%|███▊      | 406/1053 [00:27<00:43, 14.94it/s]"
     ]
    },
    {
     "name": "stdout",
     "output_type": "stream",
     "text": [
      "1/1 [==============================] - 0s 30ms/step\n",
      "1/1 [==============================] - 0s 29ms/step\n"
     ]
    },
    {
     "name": "stderr",
     "output_type": "stream",
     "text": [
      " 39%|███▊      | 408/1053 [00:27<00:43, 14.69it/s]"
     ]
    },
    {
     "name": "stdout",
     "output_type": "stream",
     "text": [
      "1/1 [==============================] - 0s 29ms/step\n",
      "1/1 [==============================] - 0s 29ms/step\n"
     ]
    },
    {
     "name": "stderr",
     "output_type": "stream",
     "text": [
      " 39%|███▉      | 410/1053 [00:28<00:43, 14.73it/s]"
     ]
    },
    {
     "name": "stdout",
     "output_type": "stream",
     "text": [
      "1/1 [==============================] - 0s 29ms/step\n",
      "1/1 [==============================] - 0s 29ms/step\n"
     ]
    },
    {
     "name": "stderr",
     "output_type": "stream",
     "text": [
      " 39%|███▉      | 412/1053 [00:28<00:43, 14.73it/s]"
     ]
    },
    {
     "name": "stdout",
     "output_type": "stream",
     "text": [
      "1/1 [==============================] - 0s 29ms/step\n",
      "1/1 [==============================] - 0s 29ms/step\n"
     ]
    },
    {
     "name": "stderr",
     "output_type": "stream",
     "text": [
      " 39%|███▉      | 414/1053 [00:28<00:43, 14.75it/s]"
     ]
    },
    {
     "name": "stdout",
     "output_type": "stream",
     "text": [
      "1/1 [==============================] - 0s 29ms/step\n",
      "1/1 [==============================] - 0s 29ms/step\n"
     ]
    },
    {
     "name": "stderr",
     "output_type": "stream",
     "text": [
      " 40%|███▉      | 416/1053 [00:28<00:43, 14.79it/s]"
     ]
    },
    {
     "name": "stdout",
     "output_type": "stream",
     "text": [
      "1/1 [==============================] - 0s 30ms/step\n",
      "1/1 [==============================] - 0s 29ms/step\n"
     ]
    },
    {
     "name": "stderr",
     "output_type": "stream",
     "text": [
      " 40%|███▉      | 418/1053 [00:28<00:43, 14.59it/s]"
     ]
    },
    {
     "name": "stdout",
     "output_type": "stream",
     "text": [
      "1/1 [==============================] - 0s 29ms/step\n",
      "1/1 [==============================] - 0s 30ms/step\n"
     ]
    },
    {
     "name": "stderr",
     "output_type": "stream",
     "text": [
      " 40%|███▉      | 420/1053 [00:28<00:43, 14.61it/s]"
     ]
    },
    {
     "name": "stdout",
     "output_type": "stream",
     "text": [
      "1/1 [==============================] - 0s 29ms/step\n",
      "1/1 [==============================] - 0s 29ms/step\n"
     ]
    },
    {
     "name": "stderr",
     "output_type": "stream",
     "text": [
      " 40%|████      | 422/1053 [00:28<00:43, 14.65it/s]"
     ]
    },
    {
     "name": "stdout",
     "output_type": "stream",
     "text": [
      "1/1 [==============================] - 0s 29ms/step\n",
      "1/1 [==============================] - 0s 29ms/step\n"
     ]
    },
    {
     "name": "stderr",
     "output_type": "stream",
     "text": [
      " 40%|████      | 424/1053 [00:28<00:42, 14.91it/s]"
     ]
    },
    {
     "name": "stdout",
     "output_type": "stream",
     "text": [
      "1/1 [==============================] - 0s 29ms/step\n",
      "1/1 [==============================] - 0s 29ms/step\n"
     ]
    },
    {
     "name": "stderr",
     "output_type": "stream",
     "text": [
      " 40%|████      | 426/1053 [00:29<00:42, 14.90it/s]"
     ]
    },
    {
     "name": "stdout",
     "output_type": "stream",
     "text": [
      "1/1 [==============================] - 0s 29ms/step\n",
      "1/1 [==============================] - 0s 30ms/step\n"
     ]
    },
    {
     "name": "stderr",
     "output_type": "stream",
     "text": [
      " 41%|████      | 428/1053 [00:29<00:42, 14.67it/s]"
     ]
    },
    {
     "name": "stdout",
     "output_type": "stream",
     "text": [
      "1/1 [==============================] - 0s 29ms/step\n",
      "1/1 [==============================] - 0s 29ms/step\n"
     ]
    },
    {
     "name": "stderr",
     "output_type": "stream",
     "text": [
      " 41%|████      | 430/1053 [00:29<00:42, 14.69it/s]"
     ]
    },
    {
     "name": "stdout",
     "output_type": "stream",
     "text": [
      "1/1 [==============================] - 0s 29ms/step\n",
      "1/1 [==============================] - 0s 29ms/step\n"
     ]
    },
    {
     "name": "stderr",
     "output_type": "stream",
     "text": [
      " 41%|████      | 432/1053 [00:29<00:42, 14.69it/s]"
     ]
    },
    {
     "name": "stdout",
     "output_type": "stream",
     "text": [
      "1/1 [==============================] - 0s 29ms/step\n",
      "1/1 [==============================] - 0s 29ms/step\n"
     ]
    },
    {
     "name": "stderr",
     "output_type": "stream",
     "text": [
      " 41%|████      | 434/1053 [00:29<00:42, 14.72it/s]"
     ]
    },
    {
     "name": "stdout",
     "output_type": "stream",
     "text": [
      "1/1 [==============================] - 0s 29ms/step\n",
      "1/1 [==============================] - 0s 29ms/step\n"
     ]
    },
    {
     "name": "stderr",
     "output_type": "stream",
     "text": [
      " 41%|████▏     | 436/1053 [00:29<00:41, 14.96it/s]"
     ]
    },
    {
     "name": "stdout",
     "output_type": "stream",
     "text": [
      "1/1 [==============================] - 0s 29ms/step\n",
      "1/1 [==============================] - 0s 29ms/step\n"
     ]
    },
    {
     "name": "stderr",
     "output_type": "stream",
     "text": [
      " 42%|████▏     | 438/1053 [00:29<00:42, 14.56it/s]"
     ]
    },
    {
     "name": "stdout",
     "output_type": "stream",
     "text": [
      "1/1 [==============================] - 0s 29ms/step\n",
      "1/1 [==============================] - 0s 29ms/step\n"
     ]
    },
    {
     "name": "stderr",
     "output_type": "stream",
     "text": [
      " 42%|████▏     | 440/1053 [00:30<00:41, 14.79it/s]"
     ]
    },
    {
     "name": "stdout",
     "output_type": "stream",
     "text": [
      "1/1 [==============================] - 0s 29ms/step\n",
      "1/1 [==============================] - 0s 29ms/step\n"
     ]
    },
    {
     "name": "stderr",
     "output_type": "stream",
     "text": [
      " 42%|████▏     | 442/1053 [00:30<00:41, 14.88it/s]"
     ]
    },
    {
     "name": "stdout",
     "output_type": "stream",
     "text": [
      "1/1 [==============================] - 0s 29ms/step\n",
      "1/1 [==============================] - 0s 29ms/step\n"
     ]
    },
    {
     "name": "stderr",
     "output_type": "stream",
     "text": [
      " 42%|████▏     | 444/1053 [00:30<00:41, 14.66it/s]"
     ]
    },
    {
     "name": "stdout",
     "output_type": "stream",
     "text": [
      "1/1 [==============================] - 0s 29ms/step\n",
      "1/1 [==============================] - 0s 29ms/step\n"
     ]
    },
    {
     "name": "stderr",
     "output_type": "stream",
     "text": [
      " 42%|████▏     | 446/1053 [00:30<00:40, 14.90it/s]"
     ]
    },
    {
     "name": "stdout",
     "output_type": "stream",
     "text": [
      "1/1 [==============================] - 0s 29ms/step\n",
      "1/1 [==============================] - 0s 29ms/step\n"
     ]
    },
    {
     "name": "stderr",
     "output_type": "stream",
     "text": [
      " 43%|████▎     | 448/1053 [00:30<00:41, 14.50it/s]"
     ]
    },
    {
     "name": "stdout",
     "output_type": "stream",
     "text": [
      "1/1 [==============================] - 0s 29ms/step\n",
      "1/1 [==============================] - 0s 29ms/step\n"
     ]
    },
    {
     "name": "stderr",
     "output_type": "stream",
     "text": [
      " 43%|████▎     | 450/1053 [00:30<00:40, 14.75it/s]"
     ]
    },
    {
     "name": "stdout",
     "output_type": "stream",
     "text": [
      "1/1 [==============================] - 0s 29ms/step\n",
      "1/1 [==============================] - 0s 29ms/step\n"
     ]
    },
    {
     "name": "stderr",
     "output_type": "stream",
     "text": [
      " 43%|████▎     | 452/1053 [00:30<00:41, 14.56it/s]"
     ]
    },
    {
     "name": "stdout",
     "output_type": "stream",
     "text": [
      "1/1 [==============================] - 0s 29ms/step\n",
      "1/1 [==============================] - 0s 29ms/step\n"
     ]
    },
    {
     "name": "stderr",
     "output_type": "stream",
     "text": [
      " 43%|████▎     | 454/1053 [00:31<00:40, 14.63it/s]"
     ]
    },
    {
     "name": "stdout",
     "output_type": "stream",
     "text": [
      "1/1 [==============================] - 0s 29ms/step\n",
      "1/1 [==============================] - 0s 29ms/step\n"
     ]
    },
    {
     "name": "stderr",
     "output_type": "stream",
     "text": [
      " 43%|████▎     | 456/1053 [00:31<00:40, 14.69it/s]"
     ]
    },
    {
     "name": "stdout",
     "output_type": "stream",
     "text": [
      "1/1 [==============================] - 0s 29ms/step\n",
      "1/1 [==============================] - 0s 29ms/step\n"
     ]
    },
    {
     "name": "stderr",
     "output_type": "stream",
     "text": [
      " 43%|████▎     | 458/1053 [00:31<00:40, 14.54it/s]"
     ]
    },
    {
     "name": "stdout",
     "output_type": "stream",
     "text": [
      "1/1 [==============================] - 0s 30ms/step\n",
      "1/1 [==============================] - 0s 29ms/step\n"
     ]
    },
    {
     "name": "stderr",
     "output_type": "stream",
     "text": [
      " 44%|████▎     | 460/1053 [00:31<00:40, 14.59it/s]"
     ]
    },
    {
     "name": "stdout",
     "output_type": "stream",
     "text": [
      "1/1 [==============================] - 0s 29ms/step\n",
      "1/1 [==============================] - 0s 29ms/step\n"
     ]
    },
    {
     "name": "stderr",
     "output_type": "stream",
     "text": [
      " 44%|████▍     | 462/1053 [00:31<00:40, 14.63it/s]"
     ]
    },
    {
     "name": "stdout",
     "output_type": "stream",
     "text": [
      "1/1 [==============================] - 0s 29ms/step\n",
      "1/1 [==============================] - 0s 29ms/step\n"
     ]
    },
    {
     "name": "stderr",
     "output_type": "stream",
     "text": [
      " 44%|████▍     | 464/1053 [00:31<00:40, 14.49it/s]"
     ]
    },
    {
     "name": "stdout",
     "output_type": "stream",
     "text": [
      "1/1 [==============================] - 0s 29ms/step\n",
      "1/1 [==============================] - 0s 29ms/step\n"
     ]
    },
    {
     "name": "stderr",
     "output_type": "stream",
     "text": [
      " 44%|████▍     | 466/1053 [00:31<00:40, 14.58it/s]"
     ]
    },
    {
     "name": "stdout",
     "output_type": "stream",
     "text": [
      "1/1 [==============================] - 0s 29ms/step\n",
      "1/1 [==============================] - 0s 29ms/step\n"
     ]
    },
    {
     "name": "stderr",
     "output_type": "stream",
     "text": [
      " 44%|████▍     | 468/1053 [00:31<00:39, 14.66it/s]"
     ]
    },
    {
     "name": "stdout",
     "output_type": "stream",
     "text": [
      "1/1 [==============================] - 0s 29ms/step\n",
      "1/1 [==============================] - 0s 29ms/step\n"
     ]
    },
    {
     "name": "stderr",
     "output_type": "stream",
     "text": [
      " 45%|████▍     | 470/1053 [00:32<00:40, 14.50it/s]"
     ]
    },
    {
     "name": "stdout",
     "output_type": "stream",
     "text": [
      "1/1 [==============================] - 0s 29ms/step\n",
      "1/1 [==============================] - 0s 29ms/step\n"
     ]
    },
    {
     "name": "stderr",
     "output_type": "stream",
     "text": [
      " 45%|████▍     | 472/1053 [00:32<00:39, 14.57it/s]"
     ]
    },
    {
     "name": "stdout",
     "output_type": "stream",
     "text": [
      "1/1 [==============================] - 0s 29ms/step\n",
      "1/1 [==============================] - 0s 28ms/step\n"
     ]
    },
    {
     "name": "stderr",
     "output_type": "stream",
     "text": [
      " 45%|████▌     | 474/1053 [00:32<00:39, 14.66it/s]"
     ]
    },
    {
     "name": "stdout",
     "output_type": "stream",
     "text": [
      "1/1 [==============================] - 0s 29ms/step\n",
      "1/1 [==============================] - 0s 29ms/step\n"
     ]
    },
    {
     "name": "stderr",
     "output_type": "stream",
     "text": [
      " 45%|████▌     | 476/1053 [00:32<00:39, 14.71it/s]"
     ]
    },
    {
     "name": "stdout",
     "output_type": "stream",
     "text": [
      "1/1 [==============================] - 0s 29ms/step\n",
      "1/1 [==============================] - 0s 29ms/step\n"
     ]
    },
    {
     "name": "stderr",
     "output_type": "stream",
     "text": [
      " 45%|████▌     | 478/1053 [00:32<00:38, 14.96it/s]"
     ]
    },
    {
     "name": "stdout",
     "output_type": "stream",
     "text": [
      "1/1 [==============================] - 0s 31ms/step\n",
      "1/1 [==============================] - 0s 29ms/step\n"
     ]
    },
    {
     "name": "stderr",
     "output_type": "stream",
     "text": [
      " 46%|████▌     | 480/1053 [00:32<00:39, 14.63it/s]"
     ]
    },
    {
     "name": "stdout",
     "output_type": "stream",
     "text": [
      "1/1 [==============================] - 0s 30ms/step\n",
      "1/1 [==============================] - 0s 30ms/step\n"
     ]
    },
    {
     "name": "stderr",
     "output_type": "stream",
     "text": [
      " 46%|████▌     | 482/1053 [00:32<00:38, 14.83it/s]"
     ]
    },
    {
     "name": "stdout",
     "output_type": "stream",
     "text": [
      "1/1 [==============================] - 0s 29ms/step\n",
      "1/1 [==============================] - 0s 28ms/step\n"
     ]
    },
    {
     "name": "stderr",
     "output_type": "stream",
     "text": [
      " 46%|████▌     | 484/1053 [00:33<00:37, 15.04it/s]"
     ]
    },
    {
     "name": "stdout",
     "output_type": "stream",
     "text": [
      "1/1 [==============================] - 0s 29ms/step\n",
      "1/1 [==============================] - 0s 29ms/step\n"
     ]
    },
    {
     "name": "stderr",
     "output_type": "stream",
     "text": [
      " 46%|████▌     | 486/1053 [00:33<00:38, 14.75it/s]"
     ]
    },
    {
     "name": "stdout",
     "output_type": "stream",
     "text": [
      "1/1 [==============================] - 0s 28ms/step\n",
      "1/1 [==============================] - 0s 29ms/step\n"
     ]
    },
    {
     "name": "stderr",
     "output_type": "stream",
     "text": [
      " 46%|████▋     | 488/1053 [00:33<00:38, 14.80it/s]"
     ]
    },
    {
     "name": "stdout",
     "output_type": "stream",
     "text": [
      "1/1 [==============================] - 0s 29ms/step\n",
      "1/1 [==============================] - 0s 30ms/step\n"
     ]
    },
    {
     "name": "stderr",
     "output_type": "stream",
     "text": [
      " 47%|████▋     | 490/1053 [00:33<00:38, 14.58it/s]"
     ]
    },
    {
     "name": "stdout",
     "output_type": "stream",
     "text": [
      "1/1 [==============================] - 0s 30ms/step\n",
      "1/1 [==============================] - 0s 29ms/step\n"
     ]
    },
    {
     "name": "stderr",
     "output_type": "stream",
     "text": [
      " 47%|████▋     | 492/1053 [00:33<00:38, 14.58it/s]"
     ]
    },
    {
     "name": "stdout",
     "output_type": "stream",
     "text": [
      "1/1 [==============================] - 0s 30ms/step\n",
      "1/1 [==============================] - 0s 29ms/step\n"
     ]
    },
    {
     "name": "stderr",
     "output_type": "stream",
     "text": [
      " 47%|████▋     | 494/1053 [00:33<00:38, 14.61it/s]"
     ]
    },
    {
     "name": "stdout",
     "output_type": "stream",
     "text": [
      "1/1 [==============================] - 0s 34ms/step\n",
      "1/1 [==============================] - 0s 28ms/step\n"
     ]
    },
    {
     "name": "stderr",
     "output_type": "stream",
     "text": [
      " 47%|████▋     | 496/1053 [00:33<00:38, 14.51it/s]"
     ]
    },
    {
     "name": "stdout",
     "output_type": "stream",
     "text": [
      "1/1 [==============================] - 0s 29ms/step\n",
      "1/1 [==============================] - 0s 29ms/step\n"
     ]
    },
    {
     "name": "stderr",
     "output_type": "stream",
     "text": [
      " 47%|████▋     | 498/1053 [00:34<00:38, 14.59it/s]"
     ]
    },
    {
     "name": "stdout",
     "output_type": "stream",
     "text": [
      "1/1 [==============================] - 0s 29ms/step\n",
      "1/1 [==============================] - 0s 29ms/step\n"
     ]
    },
    {
     "name": "stderr",
     "output_type": "stream",
     "text": [
      " 47%|████▋     | 500/1053 [00:34<00:38, 14.49it/s]"
     ]
    },
    {
     "name": "stdout",
     "output_type": "stream",
     "text": [
      "1/1 [==============================] - 0s 29ms/step\n",
      "1/1 [==============================] - 0s 29ms/step\n"
     ]
    },
    {
     "name": "stderr",
     "output_type": "stream",
     "text": [
      " 48%|████▊     | 502/1053 [00:34<00:37, 14.56it/s]"
     ]
    },
    {
     "name": "stdout",
     "output_type": "stream",
     "text": [
      "1/1 [==============================] - 0s 29ms/step\n",
      "1/1 [==============================] - 0s 29ms/step\n"
     ]
    },
    {
     "name": "stderr",
     "output_type": "stream",
     "text": [
      " 48%|████▊     | 504/1053 [00:34<00:37, 14.62it/s]"
     ]
    },
    {
     "name": "stdout",
     "output_type": "stream",
     "text": [
      "1/1 [==============================] - 0s 29ms/step\n",
      "1/1 [==============================] - 0s 29ms/step\n"
     ]
    },
    {
     "name": "stderr",
     "output_type": "stream",
     "text": [
      " 48%|████▊     | 506/1053 [00:34<00:37, 14.66it/s]"
     ]
    },
    {
     "name": "stdout",
     "output_type": "stream",
     "text": [
      "1/1 [==============================] - 0s 29ms/step\n",
      "1/1 [==============================] - 0s 29ms/step\n"
     ]
    },
    {
     "name": "stderr",
     "output_type": "stream",
     "text": [
      " 48%|████▊     | 508/1053 [00:34<00:37, 14.71it/s]"
     ]
    },
    {
     "name": "stdout",
     "output_type": "stream",
     "text": [
      "1/1 [==============================] - 0s 29ms/step\n",
      "1/1 [==============================] - 0s 29ms/step\n"
     ]
    },
    {
     "name": "stderr",
     "output_type": "stream",
     "text": [
      " 48%|████▊     | 510/1053 [00:34<00:37, 14.57it/s]"
     ]
    },
    {
     "name": "stdout",
     "output_type": "stream",
     "text": [
      "1/1 [==============================] - 0s 30ms/step\n",
      "1/1 [==============================] - 0s 29ms/step\n"
     ]
    },
    {
     "name": "stderr",
     "output_type": "stream",
     "text": [
      " 49%|████▊     | 512/1053 [00:34<00:37, 14.60it/s]"
     ]
    },
    {
     "name": "stdout",
     "output_type": "stream",
     "text": [
      "1/1 [==============================] - 0s 29ms/step\n",
      "1/1 [==============================] - 0s 30ms/step\n"
     ]
    },
    {
     "name": "stderr",
     "output_type": "stream",
     "text": [
      " 49%|████▉     | 514/1053 [00:35<00:37, 14.43it/s]"
     ]
    },
    {
     "name": "stdout",
     "output_type": "stream",
     "text": [
      "1/1 [==============================] - 0s 29ms/step\n",
      "1/1 [==============================] - 0s 29ms/step\n"
     ]
    },
    {
     "name": "stderr",
     "output_type": "stream",
     "text": [
      " 49%|████▉     | 516/1053 [00:35<00:36, 14.52it/s]"
     ]
    },
    {
     "name": "stdout",
     "output_type": "stream",
     "text": [
      "1/1 [==============================] - 0s 28ms/step\n",
      "1/1 [==============================] - 0s 29ms/step\n"
     ]
    },
    {
     "name": "stderr",
     "output_type": "stream",
     "text": [
      " 49%|████▉     | 518/1053 [00:35<00:36, 14.63it/s]"
     ]
    },
    {
     "name": "stdout",
     "output_type": "stream",
     "text": [
      "1/1 [==============================] - 0s 29ms/step\n",
      "1/1 [==============================] - 0s 29ms/step\n"
     ]
    },
    {
     "name": "stderr",
     "output_type": "stream",
     "text": [
      " 49%|████▉     | 520/1053 [00:35<00:36, 14.69it/s]"
     ]
    },
    {
     "name": "stdout",
     "output_type": "stream",
     "text": [
      "1/1 [==============================] - 0s 30ms/step\n",
      "1/1 [==============================] - 0s 30ms/step\n"
     ]
    },
    {
     "name": "stderr",
     "output_type": "stream",
     "text": [
      " 50%|████▉     | 522/1053 [00:35<00:37, 14.28it/s]"
     ]
    },
    {
     "name": "stdout",
     "output_type": "stream",
     "text": [
      "1/1 [==============================] - 0s 30ms/step\n",
      "1/1 [==============================] - 0s 29ms/step\n"
     ]
    },
    {
     "name": "stderr",
     "output_type": "stream",
     "text": [
      " 50%|████▉     | 524/1053 [00:35<00:36, 14.40it/s]"
     ]
    },
    {
     "name": "stdout",
     "output_type": "stream",
     "text": [
      "1/1 [==============================] - 0s 30ms/step\n",
      "1/1 [==============================] - 0s 29ms/step\n"
     ]
    },
    {
     "name": "stderr",
     "output_type": "stream",
     "text": [
      " 50%|████▉     | 526/1053 [00:35<00:36, 14.50it/s]"
     ]
    },
    {
     "name": "stdout",
     "output_type": "stream",
     "text": [
      "1/1 [==============================] - 0s 29ms/step\n",
      "1/1 [==============================] - 0s 29ms/step\n"
     ]
    },
    {
     "name": "stderr",
     "output_type": "stream",
     "text": [
      " 50%|█████     | 528/1053 [00:36<00:35, 14.78it/s]"
     ]
    },
    {
     "name": "stdout",
     "output_type": "stream",
     "text": [
      "1/1 [==============================] - 0s 29ms/step\n",
      "1/1 [==============================] - 0s 29ms/step\n"
     ]
    },
    {
     "name": "stderr",
     "output_type": "stream",
     "text": [
      " 50%|█████     | 530/1053 [00:36<00:35, 14.81it/s]"
     ]
    },
    {
     "name": "stdout",
     "output_type": "stream",
     "text": [
      "1/1 [==============================] - 0s 30ms/step\n",
      "1/1 [==============================] - 0s 29ms/step\n"
     ]
    },
    {
     "name": "stderr",
     "output_type": "stream",
     "text": [
      " 51%|█████     | 532/1053 [00:36<00:36, 14.38it/s]"
     ]
    },
    {
     "name": "stdout",
     "output_type": "stream",
     "text": [
      "1/1 [==============================] - 0s 29ms/step\n",
      "1/1 [==============================] - 0s 29ms/step\n"
     ]
    },
    {
     "name": "stderr",
     "output_type": "stream",
     "text": [
      " 51%|█████     | 534/1053 [00:36<00:35, 14.49it/s]"
     ]
    },
    {
     "name": "stdout",
     "output_type": "stream",
     "text": [
      "1/1 [==============================] - 0s 29ms/step\n",
      "1/1 [==============================] - 0s 29ms/step\n"
     ]
    },
    {
     "name": "stderr",
     "output_type": "stream",
     "text": [
      " 51%|█████     | 536/1053 [00:36<00:35, 14.57it/s]"
     ]
    },
    {
     "name": "stdout",
     "output_type": "stream",
     "text": [
      "1/1 [==============================] - 0s 29ms/step\n",
      "1/1 [==============================] - 0s 29ms/step\n"
     ]
    },
    {
     "name": "stderr",
     "output_type": "stream",
     "text": [
      " 51%|█████     | 538/1053 [00:36<00:35, 14.60it/s]"
     ]
    },
    {
     "name": "stdout",
     "output_type": "stream",
     "text": [
      "1/1 [==============================] - 0s 29ms/step\n",
      "1/1 [==============================] - 0s 29ms/step\n"
     ]
    },
    {
     "name": "stderr",
     "output_type": "stream",
     "text": [
      " 51%|█████▏    | 540/1053 [00:36<00:35, 14.65it/s]"
     ]
    },
    {
     "name": "stdout",
     "output_type": "stream",
     "text": [
      "1/1 [==============================] - 0s 30ms/step\n",
      "1/1 [==============================] - 0s 29ms/step\n"
     ]
    },
    {
     "name": "stderr",
     "output_type": "stream",
     "text": [
      " 51%|█████▏    | 542/1053 [00:37<00:35, 14.29it/s]"
     ]
    },
    {
     "name": "stdout",
     "output_type": "stream",
     "text": [
      "1/1 [==============================] - 0s 30ms/step\n",
      "1/1 [==============================] - 0s 29ms/step\n"
     ]
    },
    {
     "name": "stderr",
     "output_type": "stream",
     "text": [
      " 52%|█████▏    | 544/1053 [00:37<00:35, 14.38it/s]"
     ]
    },
    {
     "name": "stdout",
     "output_type": "stream",
     "text": [
      "1/1 [==============================] - 0s 29ms/step\n",
      "1/1 [==============================] - 0s 29ms/step\n"
     ]
    },
    {
     "name": "stderr",
     "output_type": "stream",
     "text": [
      " 52%|█████▏    | 546/1053 [00:37<00:34, 14.67it/s]"
     ]
    },
    {
     "name": "stdout",
     "output_type": "stream",
     "text": [
      "1/1 [==============================] - 0s 29ms/step\n",
      "1/1 [==============================] - 0s 29ms/step\n"
     ]
    },
    {
     "name": "stderr",
     "output_type": "stream",
     "text": [
      " 52%|█████▏    | 548/1053 [00:37<00:34, 14.52it/s]"
     ]
    },
    {
     "name": "stdout",
     "output_type": "stream",
     "text": [
      "1/1 [==============================] - 0s 29ms/step\n",
      "1/1 [==============================] - 0s 29ms/step\n"
     ]
    },
    {
     "name": "stderr",
     "output_type": "stream",
     "text": [
      " 52%|█████▏    | 550/1053 [00:37<00:33, 14.80it/s]"
     ]
    },
    {
     "name": "stdout",
     "output_type": "stream",
     "text": [
      "1/1 [==============================] - 0s 29ms/step\n",
      "1/1 [==============================] - 0s 29ms/step\n"
     ]
    },
    {
     "name": "stderr",
     "output_type": "stream",
     "text": [
      " 52%|█████▏    | 552/1053 [00:37<00:34, 14.59it/s]"
     ]
    },
    {
     "name": "stdout",
     "output_type": "stream",
     "text": [
      "1/1 [==============================] - 0s 30ms/step\n",
      "1/1 [==============================] - 0s 29ms/step\n"
     ]
    },
    {
     "name": "stderr",
     "output_type": "stream",
     "text": [
      " 53%|█████▎    | 554/1053 [00:37<00:34, 14.61it/s]"
     ]
    },
    {
     "name": "stdout",
     "output_type": "stream",
     "text": [
      "1/1 [==============================] - 0s 29ms/step\n",
      "1/1 [==============================] - 0s 29ms/step\n"
     ]
    },
    {
     "name": "stderr",
     "output_type": "stream",
     "text": [
      " 53%|█████▎    | 556/1053 [00:38<00:34, 14.47it/s]"
     ]
    },
    {
     "name": "stdout",
     "output_type": "stream",
     "text": [
      "1/1 [==============================] - 0s 29ms/step\n",
      "1/1 [==============================] - 0s 29ms/step\n"
     ]
    },
    {
     "name": "stderr",
     "output_type": "stream",
     "text": [
      " 53%|█████▎    | 558/1053 [00:38<00:34, 14.56it/s]"
     ]
    },
    {
     "name": "stdout",
     "output_type": "stream",
     "text": [
      "1/1 [==============================] - 0s 29ms/step\n",
      "1/1 [==============================] - 0s 29ms/step\n"
     ]
    },
    {
     "name": "stderr",
     "output_type": "stream",
     "text": [
      " 53%|█████▎    | 560/1053 [00:38<00:33, 14.63it/s]"
     ]
    },
    {
     "name": "stdout",
     "output_type": "stream",
     "text": [
      "1/1 [==============================] - 0s 28ms/step\n",
      "1/1 [==============================] - 0s 29ms/step\n"
     ]
    },
    {
     "name": "stderr",
     "output_type": "stream",
     "text": [
      " 53%|█████▎    | 562/1053 [00:38<00:33, 14.76it/s]"
     ]
    },
    {
     "name": "stdout",
     "output_type": "stream",
     "text": [
      "1/1 [==============================] - 0s 29ms/step\n",
      "1/1 [==============================] - 0s 31ms/step\n"
     ]
    },
    {
     "name": "stderr",
     "output_type": "stream",
     "text": [
      " 54%|█████▎    | 564/1053 [00:38<00:33, 14.70it/s]"
     ]
    },
    {
     "name": "stdout",
     "output_type": "stream",
     "text": [
      "1/1 [==============================] - 0s 30ms/step\n",
      "1/1 [==============================] - 0s 29ms/step\n"
     ]
    },
    {
     "name": "stderr",
     "output_type": "stream",
     "text": [
      " 54%|█████▍    | 566/1053 [00:38<00:32, 14.90it/s]"
     ]
    },
    {
     "name": "stdout",
     "output_type": "stream",
     "text": [
      "1/1 [==============================] - 0s 29ms/step\n",
      "1/1 [==============================] - 0s 29ms/step\n"
     ]
    },
    {
     "name": "stderr",
     "output_type": "stream",
     "text": [
      " 54%|█████▍    | 568/1053 [00:38<00:32, 14.88it/s]"
     ]
    },
    {
     "name": "stdout",
     "output_type": "stream",
     "text": [
      "1/1 [==============================] - 0s 29ms/step\n",
      "1/1 [==============================] - 0s 29ms/step\n"
     ]
    },
    {
     "name": "stderr",
     "output_type": "stream",
     "text": [
      " 54%|█████▍    | 570/1053 [00:38<00:32, 14.88it/s]"
     ]
    },
    {
     "name": "stdout",
     "output_type": "stream",
     "text": [
      "1/1 [==============================] - 0s 29ms/step\n",
      "1/1 [==============================] - 0s 29ms/step\n"
     ]
    },
    {
     "name": "stderr",
     "output_type": "stream",
     "text": [
      " 54%|█████▍    | 572/1053 [00:39<00:32, 14.67it/s]"
     ]
    },
    {
     "name": "stdout",
     "output_type": "stream",
     "text": [
      "1/1 [==============================] - 0s 29ms/step\n",
      "1/1 [==============================] - 0s 29ms/step\n"
     ]
    },
    {
     "name": "stderr",
     "output_type": "stream",
     "text": [
      " 55%|█████▍    | 574/1053 [00:39<00:32, 14.69it/s]"
     ]
    },
    {
     "name": "stdout",
     "output_type": "stream",
     "text": [
      "1/1 [==============================] - 0s 29ms/step\n",
      "1/1 [==============================] - 0s 29ms/step\n"
     ]
    },
    {
     "name": "stderr",
     "output_type": "stream",
     "text": [
      " 55%|█████▍    | 576/1053 [00:39<00:32, 14.73it/s]"
     ]
    },
    {
     "name": "stdout",
     "output_type": "stream",
     "text": [
      "1/1 [==============================] - 0s 29ms/step\n",
      "1/1 [==============================] - 0s 29ms/step\n"
     ]
    },
    {
     "name": "stderr",
     "output_type": "stream",
     "text": [
      " 55%|█████▍    | 578/1053 [00:39<00:32, 14.71it/s]"
     ]
    },
    {
     "name": "stdout",
     "output_type": "stream",
     "text": [
      "1/1 [==============================] - 0s 30ms/step\n",
      "1/1 [==============================] - 0s 29ms/step\n"
     ]
    },
    {
     "name": "stderr",
     "output_type": "stream",
     "text": [
      " 55%|█████▌    | 580/1053 [00:39<00:32, 14.71it/s]"
     ]
    },
    {
     "name": "stdout",
     "output_type": "stream",
     "text": [
      "1/1 [==============================] - 0s 29ms/step\n",
      "1/1 [==============================] - 0s 28ms/step\n"
     ]
    },
    {
     "name": "stderr",
     "output_type": "stream",
     "text": [
      " 55%|█████▌    | 582/1053 [00:39<00:31, 14.77it/s]"
     ]
    },
    {
     "name": "stdout",
     "output_type": "stream",
     "text": [
      "1/1 [==============================] - 0s 29ms/step\n",
      "1/1 [==============================] - 0s 29ms/step\n"
     ]
    },
    {
     "name": "stderr",
     "output_type": "stream",
     "text": [
      " 55%|█████▌    | 584/1053 [00:39<00:31, 14.76it/s]"
     ]
    },
    {
     "name": "stdout",
     "output_type": "stream",
     "text": [
      "1/1 [==============================] - 0s 29ms/step\n",
      "1/1 [==============================] - 0s 29ms/step\n"
     ]
    },
    {
     "name": "stderr",
     "output_type": "stream",
     "text": [
      " 56%|█████▌    | 586/1053 [00:40<00:31, 14.97it/s]"
     ]
    },
    {
     "name": "stdout",
     "output_type": "stream",
     "text": [
      "1/1 [==============================] - 0s 32ms/step\n",
      "1/1 [==============================] - 0s 29ms/step\n"
     ]
    },
    {
     "name": "stderr",
     "output_type": "stream",
     "text": [
      " 56%|█████▌    | 588/1053 [00:40<00:31, 14.76it/s]"
     ]
    },
    {
     "name": "stdout",
     "output_type": "stream",
     "text": [
      "1/1 [==============================] - 0s 29ms/step\n",
      "1/1 [==============================] - 0s 29ms/step\n"
     ]
    },
    {
     "name": "stderr",
     "output_type": "stream",
     "text": [
      " 56%|█████▌    | 590/1053 [00:40<00:31, 14.76it/s]"
     ]
    },
    {
     "name": "stdout",
     "output_type": "stream",
     "text": [
      "1/1 [==============================] - 0s 29ms/step\n",
      "1/1 [==============================] - 0s 29ms/step\n"
     ]
    },
    {
     "name": "stderr",
     "output_type": "stream",
     "text": [
      " 56%|█████▌    | 592/1053 [00:40<00:31, 14.80it/s]"
     ]
    },
    {
     "name": "stdout",
     "output_type": "stream",
     "text": [
      "1/1 [==============================] - 0s 30ms/step\n",
      "1/1 [==============================] - 0s 29ms/step\n"
     ]
    },
    {
     "name": "stderr",
     "output_type": "stream",
     "text": [
      " 56%|█████▋    | 594/1053 [00:40<00:31, 14.40it/s]"
     ]
    },
    {
     "name": "stdout",
     "output_type": "stream",
     "text": [
      "1/1 [==============================] - 0s 30ms/step\n",
      "1/1 [==============================] - 0s 30ms/step\n"
     ]
    },
    {
     "name": "stderr",
     "output_type": "stream",
     "text": [
      " 57%|█████▋    | 596/1053 [00:40<00:31, 14.47it/s]"
     ]
    },
    {
     "name": "stdout",
     "output_type": "stream",
     "text": [
      "1/1 [==============================] - 0s 29ms/step\n",
      "1/1 [==============================] - 0s 29ms/step\n"
     ]
    },
    {
     "name": "stderr",
     "output_type": "stream",
     "text": [
      " 57%|█████▋    | 598/1053 [00:40<00:30, 14.73it/s]"
     ]
    },
    {
     "name": "stdout",
     "output_type": "stream",
     "text": [
      "1/1 [==============================] - 0s 29ms/step\n",
      "1/1 [==============================] - 0s 29ms/step\n"
     ]
    },
    {
     "name": "stderr",
     "output_type": "stream",
     "text": [
      " 57%|█████▋    | 600/1053 [00:41<00:30, 14.76it/s]"
     ]
    },
    {
     "name": "stdout",
     "output_type": "stream",
     "text": [
      "1/1 [==============================] - 0s 29ms/step\n",
      "1/1 [==============================] - 0s 29ms/step\n"
     ]
    },
    {
     "name": "stderr",
     "output_type": "stream",
     "text": [
      " 57%|█████▋    | 602/1053 [00:41<00:30, 14.79it/s]"
     ]
    },
    {
     "name": "stdout",
     "output_type": "stream",
     "text": [
      "1/1 [==============================] - 0s 29ms/step\n",
      "1/1 [==============================] - 0s 29ms/step\n"
     ]
    },
    {
     "name": "stderr",
     "output_type": "stream",
     "text": [
      " 57%|█████▋    | 604/1053 [00:41<00:30, 14.62it/s]"
     ]
    },
    {
     "name": "stdout",
     "output_type": "stream",
     "text": [
      "1/1 [==============================] - 0s 30ms/step\n",
      "1/1 [==============================] - 0s 29ms/step\n"
     ]
    },
    {
     "name": "stderr",
     "output_type": "stream",
     "text": [
      " 58%|█████▊    | 606/1053 [00:41<00:30, 14.64it/s]"
     ]
    },
    {
     "name": "stdout",
     "output_type": "stream",
     "text": [
      "1/1 [==============================] - 0s 29ms/step\n",
      "1/1 [==============================] - 0s 29ms/step\n"
     ]
    },
    {
     "name": "stderr",
     "output_type": "stream",
     "text": [
      " 58%|█████▊    | 608/1053 [00:41<00:29, 14.86it/s]"
     ]
    },
    {
     "name": "stdout",
     "output_type": "stream",
     "text": [
      "1/1 [==============================] - 0s 29ms/step\n",
      "1/1 [==============================] - 0s 28ms/step\n"
     ]
    },
    {
     "name": "stderr",
     "output_type": "stream",
     "text": [
      " 58%|█████▊    | 610/1053 [00:41<00:29, 15.07it/s]"
     ]
    },
    {
     "name": "stdout",
     "output_type": "stream",
     "text": [
      "1/1 [==============================] - 0s 29ms/step\n",
      "1/1 [==============================] - 0s 29ms/step\n"
     ]
    },
    {
     "name": "stderr",
     "output_type": "stream",
     "text": [
      " 58%|█████▊    | 612/1053 [00:41<00:29, 15.01it/s]"
     ]
    },
    {
     "name": "stdout",
     "output_type": "stream",
     "text": [
      "1/1 [==============================] - 0s 29ms/step\n",
      "1/1 [==============================] - 0s 30ms/step\n"
     ]
    },
    {
     "name": "stderr",
     "output_type": "stream",
     "text": [
      " 58%|█████▊    | 614/1053 [00:41<00:29, 14.75it/s]"
     ]
    },
    {
     "name": "stdout",
     "output_type": "stream",
     "text": [
      "1/1 [==============================] - 0s 29ms/step\n",
      "1/1 [==============================] - 0s 29ms/step\n"
     ]
    },
    {
     "name": "stderr",
     "output_type": "stream",
     "text": [
      " 58%|█████▊    | 616/1053 [00:42<00:29, 14.74it/s]"
     ]
    },
    {
     "name": "stdout",
     "output_type": "stream",
     "text": [
      "1/1 [==============================] - 0s 29ms/step\n",
      "1/1 [==============================] - 0s 29ms/step\n"
     ]
    },
    {
     "name": "stderr",
     "output_type": "stream",
     "text": [
      " 59%|█████▊    | 618/1053 [00:42<00:29, 14.75it/s]"
     ]
    },
    {
     "name": "stdout",
     "output_type": "stream",
     "text": [
      "1/1 [==============================] - 0s 29ms/step\n",
      "1/1 [==============================] - 0s 29ms/step\n"
     ]
    },
    {
     "name": "stderr",
     "output_type": "stream",
     "text": [
      " 59%|█████▉    | 620/1053 [00:42<00:29, 14.75it/s]"
     ]
    },
    {
     "name": "stdout",
     "output_type": "stream",
     "text": [
      "1/1 [==============================] - 0s 29ms/step\n",
      "1/1 [==============================] - 0s 29ms/step\n"
     ]
    },
    {
     "name": "stderr",
     "output_type": "stream",
     "text": [
      " 59%|█████▉    | 622/1053 [00:42<00:29, 14.78it/s]"
     ]
    },
    {
     "name": "stdout",
     "output_type": "stream",
     "text": [
      "1/1 [==============================] - 0s 29ms/step\n",
      "1/1 [==============================] - 0s 30ms/step\n"
     ]
    },
    {
     "name": "stderr",
     "output_type": "stream",
     "text": [
      " 59%|█████▉    | 624/1053 [00:42<00:29, 14.61it/s]"
     ]
    },
    {
     "name": "stdout",
     "output_type": "stream",
     "text": [
      "1/1 [==============================] - 0s 29ms/step\n",
      "1/1 [==============================] - 0s 29ms/step\n"
     ]
    },
    {
     "name": "stderr",
     "output_type": "stream",
     "text": [
      " 59%|█████▉    | 626/1053 [00:42<00:28, 14.85it/s]"
     ]
    },
    {
     "name": "stdout",
     "output_type": "stream",
     "text": [
      "1/1 [==============================] - 0s 29ms/step\n",
      "1/1 [==============================] - 0s 29ms/step\n"
     ]
    },
    {
     "name": "stderr",
     "output_type": "stream",
     "text": [
      " 60%|█████▉    | 628/1053 [00:42<00:29, 14.65it/s]"
     ]
    },
    {
     "name": "stdout",
     "output_type": "stream",
     "text": [
      "1/1 [==============================] - 0s 29ms/step\n",
      "1/1 [==============================] - 0s 29ms/step\n"
     ]
    },
    {
     "name": "stderr",
     "output_type": "stream",
     "text": [
      " 60%|█████▉    | 630/1053 [00:43<00:28, 14.88it/s]"
     ]
    },
    {
     "name": "stdout",
     "output_type": "stream",
     "text": [
      "1/1 [==============================] - 0s 29ms/step\n",
      "1/1 [==============================] - 0s 29ms/step\n"
     ]
    },
    {
     "name": "stderr",
     "output_type": "stream",
     "text": [
      " 60%|██████    | 632/1053 [00:43<00:28, 14.87it/s]"
     ]
    },
    {
     "name": "stdout",
     "output_type": "stream",
     "text": [
      "1/1 [==============================] - 0s 29ms/step\n",
      "1/1 [==============================] - 0s 29ms/step\n"
     ]
    },
    {
     "name": "stderr",
     "output_type": "stream",
     "text": [
      " 60%|██████    | 634/1053 [00:43<00:28, 14.70it/s]"
     ]
    },
    {
     "name": "stdout",
     "output_type": "stream",
     "text": [
      "1/1 [==============================] - 0s 30ms/step\n",
      "1/1 [==============================] - 0s 29ms/step\n"
     ]
    },
    {
     "name": "stderr",
     "output_type": "stream",
     "text": [
      " 60%|██████    | 636/1053 [00:43<00:28, 14.72it/s]"
     ]
    },
    {
     "name": "stdout",
     "output_type": "stream",
     "text": [
      "1/1 [==============================] - 0s 30ms/step\n",
      "1/1 [==============================] - 0s 29ms/step\n"
     ]
    },
    {
     "name": "stderr",
     "output_type": "stream",
     "text": [
      " 61%|██████    | 638/1053 [00:43<00:28, 14.71it/s]"
     ]
    },
    {
     "name": "stdout",
     "output_type": "stream",
     "text": [
      "1/1 [==============================] - 0s 29ms/step\n",
      "1/1 [==============================] - 0s 29ms/step\n"
     ]
    },
    {
     "name": "stderr",
     "output_type": "stream",
     "text": [
      " 61%|██████    | 640/1053 [00:43<00:27, 14.94it/s]"
     ]
    },
    {
     "name": "stdout",
     "output_type": "stream",
     "text": [
      "1/1 [==============================] - 0s 29ms/step\n",
      "1/1 [==============================] - 0s 29ms/step\n"
     ]
    },
    {
     "name": "stderr",
     "output_type": "stream",
     "text": [
      " 61%|██████    | 642/1053 [00:43<00:27, 14.91it/s]"
     ]
    },
    {
     "name": "stdout",
     "output_type": "stream",
     "text": [
      "1/1 [==============================] - 0s 30ms/step\n",
      "1/1 [==============================] - 0s 29ms/step\n"
     ]
    },
    {
     "name": "stderr",
     "output_type": "stream",
     "text": [
      " 61%|██████    | 644/1053 [00:43<00:28, 14.32it/s]"
     ]
    },
    {
     "name": "stdout",
     "output_type": "stream",
     "text": [
      "1/1 [==============================] - 0s 30ms/step\n",
      "1/1 [==============================] - 0s 29ms/step\n"
     ]
    },
    {
     "name": "stderr",
     "output_type": "stream",
     "text": [
      " 61%|██████▏   | 646/1053 [00:44<00:28, 14.26it/s]"
     ]
    },
    {
     "name": "stdout",
     "output_type": "stream",
     "text": [
      "1/1 [==============================] - 0s 29ms/step\n",
      "1/1 [==============================] - 0s 29ms/step\n"
     ]
    },
    {
     "name": "stderr",
     "output_type": "stream",
     "text": [
      " 62%|██████▏   | 648/1053 [00:44<00:27, 14.59it/s]"
     ]
    },
    {
     "name": "stdout",
     "output_type": "stream",
     "text": [
      "1/1 [==============================] - 0s 30ms/step\n",
      "1/1 [==============================] - 0s 29ms/step\n"
     ]
    },
    {
     "name": "stderr",
     "output_type": "stream",
     "text": [
      " 62%|██████▏   | 650/1053 [00:44<00:27, 14.62it/s]"
     ]
    },
    {
     "name": "stdout",
     "output_type": "stream",
     "text": [
      "1/1 [==============================] - 0s 29ms/step\n",
      "1/1 [==============================] - 0s 29ms/step\n"
     ]
    },
    {
     "name": "stderr",
     "output_type": "stream",
     "text": [
      " 62%|██████▏   | 652/1053 [00:44<00:27, 14.69it/s]"
     ]
    },
    {
     "name": "stdout",
     "output_type": "stream",
     "text": [
      "1/1 [==============================] - 0s 29ms/step\n",
      "1/1 [==============================] - 0s 29ms/step\n"
     ]
    },
    {
     "name": "stderr",
     "output_type": "stream",
     "text": [
      " 62%|██████▏   | 654/1053 [00:44<00:27, 14.74it/s]"
     ]
    },
    {
     "name": "stdout",
     "output_type": "stream",
     "text": [
      "1/1 [==============================] - 0s 30ms/step\n",
      "1/1 [==============================] - 0s 29ms/step\n"
     ]
    },
    {
     "name": "stderr",
     "output_type": "stream",
     "text": [
      " 62%|██████▏   | 656/1053 [00:44<00:27, 14.55it/s]"
     ]
    },
    {
     "name": "stdout",
     "output_type": "stream",
     "text": [
      "1/1 [==============================] - 0s 29ms/step\n",
      "1/1 [==============================] - 0s 29ms/step\n"
     ]
    },
    {
     "name": "stderr",
     "output_type": "stream",
     "text": [
      " 62%|██████▏   | 658/1053 [00:44<00:27, 14.42it/s]"
     ]
    },
    {
     "name": "stdout",
     "output_type": "stream",
     "text": [
      "1/1 [==============================] - 0s 29ms/step\n",
      "1/1 [==============================] - 0s 29ms/step\n"
     ]
    },
    {
     "name": "stderr",
     "output_type": "stream",
     "text": [
      " 63%|██████▎   | 660/1053 [00:45<00:27, 14.33it/s]"
     ]
    },
    {
     "name": "stdout",
     "output_type": "stream",
     "text": [
      "1/1 [==============================] - 0s 29ms/step\n",
      "1/1 [==============================] - 0s 29ms/step\n"
     ]
    },
    {
     "name": "stderr",
     "output_type": "stream",
     "text": [
      " 63%|██████▎   | 662/1053 [00:45<00:27, 14.48it/s]"
     ]
    },
    {
     "name": "stdout",
     "output_type": "stream",
     "text": [
      "1/1 [==============================] - 0s 29ms/step\n",
      "1/1 [==============================] - 0s 29ms/step\n"
     ]
    },
    {
     "name": "stderr",
     "output_type": "stream",
     "text": [
      " 63%|██████▎   | 664/1053 [00:45<00:26, 14.61it/s]"
     ]
    },
    {
     "name": "stdout",
     "output_type": "stream",
     "text": [
      "1/1 [==============================] - 0s 29ms/step\n",
      "1/1 [==============================] - 0s 29ms/step\n"
     ]
    },
    {
     "name": "stderr",
     "output_type": "stream",
     "text": [
      " 63%|██████▎   | 666/1053 [00:45<00:26, 14.48it/s]"
     ]
    },
    {
     "name": "stdout",
     "output_type": "stream",
     "text": [
      "1/1 [==============================] - 0s 30ms/step\n",
      "1/1 [==============================] - 0s 29ms/step\n"
     ]
    },
    {
     "name": "stderr",
     "output_type": "stream",
     "text": [
      " 63%|██████▎   | 668/1053 [00:45<00:26, 14.54it/s]"
     ]
    },
    {
     "name": "stdout",
     "output_type": "stream",
     "text": [
      "1/1 [==============================] - 0s 29ms/step\n",
      "1/1 [==============================] - 0s 29ms/step\n"
     ]
    },
    {
     "name": "stderr",
     "output_type": "stream",
     "text": [
      " 64%|██████▎   | 670/1053 [00:45<00:26, 14.61it/s]"
     ]
    },
    {
     "name": "stdout",
     "output_type": "stream",
     "text": [
      "1/1 [==============================] - 0s 29ms/step\n",
      "1/1 [==============================] - 0s 29ms/step\n"
     ]
    },
    {
     "name": "stderr",
     "output_type": "stream",
     "text": [
      " 64%|██████▍   | 672/1053 [00:45<00:26, 14.48it/s]"
     ]
    },
    {
     "name": "stdout",
     "output_type": "stream",
     "text": [
      "1/1 [==============================] - 0s 29ms/step\n",
      "1/1 [==============================] - 0s 29ms/step\n"
     ]
    },
    {
     "name": "stderr",
     "output_type": "stream",
     "text": [
      " 64%|██████▍   | 674/1053 [00:46<00:25, 14.60it/s]"
     ]
    },
    {
     "name": "stdout",
     "output_type": "stream",
     "text": [
      "1/1 [==============================] - 0s 29ms/step\n",
      "1/1 [==============================] - 0s 29ms/step\n"
     ]
    },
    {
     "name": "stderr",
     "output_type": "stream",
     "text": [
      " 64%|██████▍   | 676/1053 [00:46<00:26, 14.45it/s]"
     ]
    },
    {
     "name": "stdout",
     "output_type": "stream",
     "text": [
      "1/1 [==============================] - 0s 30ms/step\n",
      "1/1 [==============================] - 0s 29ms/step\n"
     ]
    },
    {
     "name": "stderr",
     "output_type": "stream",
     "text": [
      " 64%|██████▍   | 678/1053 [00:46<00:25, 14.50it/s]"
     ]
    },
    {
     "name": "stdout",
     "output_type": "stream",
     "text": [
      "1/1 [==============================] - 0s 29ms/step\n",
      "1/1 [==============================] - 0s 29ms/step\n"
     ]
    },
    {
     "name": "stderr",
     "output_type": "stream",
     "text": [
      " 65%|██████▍   | 680/1053 [00:46<00:25, 14.41it/s]"
     ]
    },
    {
     "name": "stdout",
     "output_type": "stream",
     "text": [
      "1/1 [==============================] - 0s 29ms/step\n",
      "1/1 [==============================] - 0s 29ms/step\n"
     ]
    },
    {
     "name": "stderr",
     "output_type": "stream",
     "text": [
      " 65%|██████▍   | 682/1053 [00:46<00:25, 14.52it/s]"
     ]
    },
    {
     "name": "stdout",
     "output_type": "stream",
     "text": [
      "1/1 [==============================] - 0s 29ms/step\n",
      "1/1 [==============================] - 0s 28ms/step\n"
     ]
    },
    {
     "name": "stderr",
     "output_type": "stream",
     "text": [
      " 65%|██████▍   | 684/1053 [00:46<00:25, 14.66it/s]"
     ]
    },
    {
     "name": "stdout",
     "output_type": "stream",
     "text": [
      "1/1 [==============================] - 0s 29ms/step\n",
      "1/1 [==============================] - 0s 29ms/step\n"
     ]
    },
    {
     "name": "stderr",
     "output_type": "stream",
     "text": [
      " 65%|██████▌   | 686/1053 [00:46<00:25, 14.35it/s]"
     ]
    },
    {
     "name": "stdout",
     "output_type": "stream",
     "text": [
      "1/1 [==============================] - 0s 30ms/step\n",
      "1/1 [==============================] - 0s 29ms/step\n"
     ]
    },
    {
     "name": "stderr",
     "output_type": "stream",
     "text": [
      " 65%|██████▌   | 688/1053 [00:47<00:25, 14.46it/s]"
     ]
    },
    {
     "name": "stdout",
     "output_type": "stream",
     "text": [
      "1/1 [==============================] - 0s 30ms/step\n",
      "1/1 [==============================] - 0s 29ms/step\n"
     ]
    },
    {
     "name": "stderr",
     "output_type": "stream",
     "text": [
      " 66%|██████▌   | 690/1053 [00:47<00:24, 14.54it/s]"
     ]
    },
    {
     "name": "stdout",
     "output_type": "stream",
     "text": [
      "1/1 [==============================] - 0s 29ms/step\n",
      "1/1 [==============================] - 0s 28ms/step\n"
     ]
    },
    {
     "name": "stderr",
     "output_type": "stream",
     "text": [
      " 66%|██████▌   | 692/1053 [00:47<00:24, 14.83it/s]"
     ]
    },
    {
     "name": "stdout",
     "output_type": "stream",
     "text": [
      "1/1 [==============================] - 0s 29ms/step\n",
      "1/1 [==============================] - 0s 28ms/step\n"
     ]
    },
    {
     "name": "stderr",
     "output_type": "stream",
     "text": [
      " 66%|██████▌   | 694/1053 [00:47<00:23, 15.06it/s]"
     ]
    },
    {
     "name": "stdout",
     "output_type": "stream",
     "text": [
      "1/1 [==============================] - 0s 29ms/step\n",
      "1/1 [==============================] - 0s 29ms/step\n"
     ]
    },
    {
     "name": "stderr",
     "output_type": "stream",
     "text": [
      " 66%|██████▌   | 696/1053 [00:47<00:24, 14.63it/s]"
     ]
    },
    {
     "name": "stdout",
     "output_type": "stream",
     "text": [
      "1/1 [==============================] - 0s 29ms/step\n",
      "1/1 [==============================] - 0s 29ms/step\n"
     ]
    },
    {
     "name": "stderr",
     "output_type": "stream",
     "text": [
      " 66%|██████▋   | 698/1053 [00:47<00:23, 14.86it/s]"
     ]
    },
    {
     "name": "stdout",
     "output_type": "stream",
     "text": [
      "1/1 [==============================] - 0s 29ms/step\n",
      "1/1 [==============================] - 0s 29ms/step\n"
     ]
    },
    {
     "name": "stderr",
     "output_type": "stream",
     "text": [
      " 66%|██████▋   | 700/1053 [00:47<00:24, 14.65it/s]"
     ]
    },
    {
     "name": "stdout",
     "output_type": "stream",
     "text": [
      "1/1 [==============================] - 0s 29ms/step\n",
      "1/1 [==============================] - 0s 28ms/step\n"
     ]
    },
    {
     "name": "stderr",
     "output_type": "stream",
     "text": [
      " 67%|██████▋   | 702/1053 [00:47<00:23, 14.93it/s]"
     ]
    },
    {
     "name": "stdout",
     "output_type": "stream",
     "text": [
      "1/1 [==============================] - 0s 29ms/step\n",
      "1/1 [==============================] - 0s 28ms/step\n"
     ]
    },
    {
     "name": "stderr",
     "output_type": "stream",
     "text": [
      " 67%|██████▋   | 704/1053 [00:48<00:23, 15.11it/s]"
     ]
    },
    {
     "name": "stdout",
     "output_type": "stream",
     "text": [
      "1/1 [==============================] - 0s 29ms/step\n",
      "1/1 [==============================] - 0s 29ms/step\n"
     ]
    },
    {
     "name": "stderr",
     "output_type": "stream",
     "text": [
      " 67%|██████▋   | 706/1053 [00:48<00:23, 14.84it/s]"
     ]
    },
    {
     "name": "stdout",
     "output_type": "stream",
     "text": [
      "1/1 [==============================] - 0s 30ms/step\n",
      "1/1 [==============================] - 0s 28ms/step\n"
     ]
    },
    {
     "name": "stderr",
     "output_type": "stream",
     "text": [
      " 67%|██████▋   | 708/1053 [00:48<00:23, 14.80it/s]"
     ]
    },
    {
     "name": "stdout",
     "output_type": "stream",
     "text": [
      "1/1 [==============================] - 0s 29ms/step\n",
      "1/1 [==============================] - 0s 29ms/step\n"
     ]
    },
    {
     "name": "stderr",
     "output_type": "stream",
     "text": [
      " 67%|██████▋   | 710/1053 [00:48<00:23, 14.60it/s]"
     ]
    },
    {
     "name": "stdout",
     "output_type": "stream",
     "text": [
      "1/1 [==============================] - 0s 29ms/step\n",
      "1/1 [==============================] - 0s 29ms/step\n"
     ]
    },
    {
     "name": "stderr",
     "output_type": "stream",
     "text": [
      " 68%|██████▊   | 712/1053 [00:48<00:23, 14.65it/s]"
     ]
    },
    {
     "name": "stdout",
     "output_type": "stream",
     "text": [
      "1/1 [==============================] - 0s 29ms/step\n",
      "1/1 [==============================] - 0s 31ms/step\n"
     ]
    },
    {
     "name": "stderr",
     "output_type": "stream",
     "text": [
      " 68%|██████▊   | 714/1053 [00:48<00:23, 14.65it/s]"
     ]
    },
    {
     "name": "stdout",
     "output_type": "stream",
     "text": [
      "1/1 [==============================] - 0s 29ms/step\n",
      "1/1 [==============================] - 0s 29ms/step\n"
     ]
    },
    {
     "name": "stderr",
     "output_type": "stream",
     "text": [
      " 68%|██████▊   | 716/1053 [00:48<00:23, 14.52it/s]"
     ]
    },
    {
     "name": "stdout",
     "output_type": "stream",
     "text": [
      "1/1 [==============================] - 0s 30ms/step\n",
      "1/1 [==============================] - 0s 29ms/step\n"
     ]
    },
    {
     "name": "stderr",
     "output_type": "stream",
     "text": [
      " 68%|██████▊   | 718/1053 [00:49<00:23, 14.41it/s]"
     ]
    },
    {
     "name": "stdout",
     "output_type": "stream",
     "text": [
      "1/1 [==============================] - 0s 29ms/step\n",
      "1/1 [==============================] - 0s 29ms/step\n"
     ]
    },
    {
     "name": "stderr",
     "output_type": "stream",
     "text": [
      " 68%|██████▊   | 720/1053 [00:49<00:22, 14.50it/s]"
     ]
    },
    {
     "name": "stdout",
     "output_type": "stream",
     "text": [
      "1/1 [==============================] - 0s 28ms/step\n",
      "1/1 [==============================] - 0s 29ms/step\n"
     ]
    },
    {
     "name": "stderr",
     "output_type": "stream",
     "text": [
      " 69%|██████▊   | 722/1053 [00:49<00:22, 14.80it/s]"
     ]
    },
    {
     "name": "stdout",
     "output_type": "stream",
     "text": [
      "1/1 [==============================] - 0s 29ms/step\n",
      "1/1 [==============================] - 0s 29ms/step\n"
     ]
    },
    {
     "name": "stderr",
     "output_type": "stream",
     "text": [
      " 69%|██████▉   | 724/1053 [00:49<00:22, 14.62it/s]"
     ]
    },
    {
     "name": "stdout",
     "output_type": "stream",
     "text": [
      "1/1 [==============================] - 0s 29ms/step\n",
      "1/1 [==============================] - 0s 29ms/step\n"
     ]
    },
    {
     "name": "stderr",
     "output_type": "stream",
     "text": [
      " 69%|██████▉   | 726/1053 [00:49<00:22, 14.69it/s]"
     ]
    },
    {
     "name": "stdout",
     "output_type": "stream",
     "text": [
      "1/1 [==============================] - 0s 30ms/step\n",
      "1/1 [==============================] - 0s 29ms/step\n"
     ]
    },
    {
     "name": "stderr",
     "output_type": "stream",
     "text": [
      " 69%|██████▉   | 728/1053 [00:49<00:22, 14.52it/s]"
     ]
    },
    {
     "name": "stdout",
     "output_type": "stream",
     "text": [
      "1/1 [==============================] - 0s 29ms/step\n",
      "1/1 [==============================] - 0s 29ms/step\n"
     ]
    },
    {
     "name": "stderr",
     "output_type": "stream",
     "text": [
      " 69%|██████▉   | 730/1053 [00:49<00:22, 14.59it/s]"
     ]
    },
    {
     "name": "stdout",
     "output_type": "stream",
     "text": [
      "1/1 [==============================] - 0s 29ms/step\n",
      "1/1 [==============================] - 0s 29ms/step\n"
     ]
    },
    {
     "name": "stderr",
     "output_type": "stream",
     "text": [
      " 70%|██████▉   | 732/1053 [00:50<00:22, 14.46it/s]"
     ]
    },
    {
     "name": "stdout",
     "output_type": "stream",
     "text": [
      "1/1 [==============================] - 0s 29ms/step\n",
      "1/1 [==============================] - 0s 29ms/step\n"
     ]
    },
    {
     "name": "stderr",
     "output_type": "stream",
     "text": [
      " 70%|██████▉   | 734/1053 [00:50<00:21, 14.76it/s]"
     ]
    },
    {
     "name": "stdout",
     "output_type": "stream",
     "text": [
      "1/1 [==============================] - 0s 29ms/step\n",
      "1/1 [==============================] - 0s 29ms/step\n"
     ]
    },
    {
     "name": "stderr",
     "output_type": "stream",
     "text": [
      " 70%|██████▉   | 736/1053 [00:50<00:21, 14.68it/s]"
     ]
    },
    {
     "name": "stdout",
     "output_type": "stream",
     "text": [
      "1/1 [==============================] - 0s 29ms/step\n",
      "1/1 [==============================] - 0s 29ms/step\n"
     ]
    },
    {
     "name": "stderr",
     "output_type": "stream",
     "text": [
      " 70%|███████   | 738/1053 [00:50<00:21, 14.53it/s]"
     ]
    },
    {
     "name": "stdout",
     "output_type": "stream",
     "text": [
      "1/1 [==============================] - 0s 29ms/step\n",
      "1/1 [==============================] - 0s 29ms/step\n"
     ]
    },
    {
     "name": "stderr",
     "output_type": "stream",
     "text": [
      " 70%|███████   | 740/1053 [00:50<00:21, 14.77it/s]"
     ]
    },
    {
     "name": "stdout",
     "output_type": "stream",
     "text": [
      "1/1 [==============================] - 0s 30ms/step\n",
      "1/1 [==============================] - 0s 28ms/step\n"
     ]
    },
    {
     "name": "stderr",
     "output_type": "stream",
     "text": [
      " 70%|███████   | 742/1053 [00:50<00:20, 14.97it/s]"
     ]
    },
    {
     "name": "stdout",
     "output_type": "stream",
     "text": [
      "1/1 [==============================] - 0s 29ms/step\n",
      "1/1 [==============================] - 0s 29ms/step\n"
     ]
    },
    {
     "name": "stderr",
     "output_type": "stream",
     "text": [
      " 71%|███████   | 744/1053 [00:50<00:21, 14.70it/s]"
     ]
    },
    {
     "name": "stdout",
     "output_type": "stream",
     "text": [
      "1/1 [==============================] - 0s 29ms/step\n",
      "1/1 [==============================] - 0s 29ms/step\n"
     ]
    },
    {
     "name": "stderr",
     "output_type": "stream",
     "text": [
      " 71%|███████   | 746/1053 [00:50<00:20, 14.73it/s]"
     ]
    },
    {
     "name": "stdout",
     "output_type": "stream",
     "text": [
      "1/1 [==============================] - 0s 29ms/step\n",
      "1/1 [==============================] - 0s 30ms/step\n"
     ]
    },
    {
     "name": "stderr",
     "output_type": "stream",
     "text": [
      " 71%|███████   | 748/1053 [00:51<00:20, 14.57it/s]"
     ]
    },
    {
     "name": "stdout",
     "output_type": "stream",
     "text": [
      "1/1 [==============================] - 0s 29ms/step\n",
      "1/1 [==============================] - 0s 29ms/step\n"
     ]
    },
    {
     "name": "stderr",
     "output_type": "stream",
     "text": [
      " 71%|███████   | 750/1053 [00:51<00:20, 14.61it/s]"
     ]
    },
    {
     "name": "stdout",
     "output_type": "stream",
     "text": [
      "1/1 [==============================] - 0s 29ms/step\n",
      "1/1 [==============================] - 0s 29ms/step\n"
     ]
    },
    {
     "name": "stderr",
     "output_type": "stream",
     "text": [
      " 71%|███████▏  | 752/1053 [00:51<00:20, 14.66it/s]"
     ]
    },
    {
     "name": "stdout",
     "output_type": "stream",
     "text": [
      "1/1 [==============================] - 0s 29ms/step\n",
      "1/1 [==============================] - 0s 29ms/step\n"
     ]
    },
    {
     "name": "stderr",
     "output_type": "stream",
     "text": [
      " 72%|███████▏  | 754/1053 [00:51<00:20, 14.91it/s]"
     ]
    },
    {
     "name": "stdout",
     "output_type": "stream",
     "text": [
      "1/1 [==============================] - 0s 29ms/step\n",
      "1/1 [==============================] - 0s 29ms/step\n"
     ]
    },
    {
     "name": "stderr",
     "output_type": "stream",
     "text": [
      " 72%|███████▏  | 756/1053 [00:51<00:20, 14.68it/s]"
     ]
    },
    {
     "name": "stdout",
     "output_type": "stream",
     "text": [
      "1/1 [==============================] - 0s 29ms/step\n",
      "1/1 [==============================] - 0s 29ms/step\n"
     ]
    },
    {
     "name": "stderr",
     "output_type": "stream",
     "text": [
      " 72%|███████▏  | 758/1053 [00:51<00:20, 14.55it/s]"
     ]
    },
    {
     "name": "stdout",
     "output_type": "stream",
     "text": [
      "1/1 [==============================] - 0s 29ms/step\n",
      "1/1 [==============================] - 0s 29ms/step\n"
     ]
    },
    {
     "name": "stderr",
     "output_type": "stream",
     "text": [
      " 72%|███████▏  | 760/1053 [00:51<00:20, 14.62it/s]"
     ]
    },
    {
     "name": "stdout",
     "output_type": "stream",
     "text": [
      "1/1 [==============================] - 0s 29ms/step\n",
      "1/1 [==============================] - 0s 29ms/step\n"
     ]
    },
    {
     "name": "stderr",
     "output_type": "stream",
     "text": [
      " 72%|███████▏  | 762/1053 [00:52<00:19, 14.67it/s]"
     ]
    },
    {
     "name": "stdout",
     "output_type": "stream",
     "text": [
      "1/1 [==============================] - 0s 29ms/step\n",
      "1/1 [==============================] - 0s 29ms/step\n"
     ]
    },
    {
     "name": "stderr",
     "output_type": "stream",
     "text": [
      " 73%|███████▎  | 764/1053 [00:52<00:19, 14.52it/s]"
     ]
    },
    {
     "name": "stdout",
     "output_type": "stream",
     "text": [
      "1/1 [==============================] - 0s 29ms/step\n",
      "1/1 [==============================] - 0s 29ms/step\n"
     ]
    },
    {
     "name": "stderr",
     "output_type": "stream",
     "text": [
      " 73%|███████▎  | 766/1053 [00:52<00:19, 14.81it/s]"
     ]
    },
    {
     "name": "stdout",
     "output_type": "stream",
     "text": [
      "1/1 [==============================] - 0s 29ms/step\n",
      "1/1 [==============================] - 0s 29ms/step\n"
     ]
    },
    {
     "name": "stderr",
     "output_type": "stream",
     "text": [
      " 73%|███████▎  | 768/1053 [00:52<00:19, 14.64it/s]"
     ]
    },
    {
     "name": "stdout",
     "output_type": "stream",
     "text": [
      "1/1 [==============================] - 0s 30ms/step\n",
      "1/1 [==============================] - 0s 29ms/step\n"
     ]
    },
    {
     "name": "stderr",
     "output_type": "stream",
     "text": [
      " 73%|███████▎  | 770/1053 [00:52<00:19, 14.66it/s]"
     ]
    },
    {
     "name": "stdout",
     "output_type": "stream",
     "text": [
      "1/1 [==============================] - 0s 30ms/step\n",
      "1/1 [==============================] - 0s 29ms/step\n"
     ]
    },
    {
     "name": "stderr",
     "output_type": "stream",
     "text": [
      " 73%|███████▎  | 772/1053 [00:52<00:19, 14.49it/s]"
     ]
    },
    {
     "name": "stdout",
     "output_type": "stream",
     "text": [
      "1/1 [==============================] - 0s 29ms/step\n",
      "1/1 [==============================] - 0s 29ms/step\n"
     ]
    },
    {
     "name": "stderr",
     "output_type": "stream",
     "text": [
      " 74%|███████▎  | 774/1053 [00:52<00:19, 14.57it/s]"
     ]
    },
    {
     "name": "stdout",
     "output_type": "stream",
     "text": [
      "1/1 [==============================] - 0s 29ms/step\n",
      "1/1 [==============================] - 0s 29ms/step\n"
     ]
    },
    {
     "name": "stderr",
     "output_type": "stream",
     "text": [
      " 74%|███████▎  | 776/1053 [00:53<00:18, 14.85it/s]"
     ]
    },
    {
     "name": "stdout",
     "output_type": "stream",
     "text": [
      "1/1 [==============================] - 0s 29ms/step\n",
      "1/1 [==============================] - 0s 29ms/step\n"
     ]
    },
    {
     "name": "stderr",
     "output_type": "stream",
     "text": [
      " 74%|███████▍  | 778/1053 [00:53<00:18, 14.87it/s]"
     ]
    },
    {
     "name": "stdout",
     "output_type": "stream",
     "text": [
      "1/1 [==============================] - 0s 30ms/step\n",
      "1/1 [==============================] - 0s 28ms/step\n"
     ]
    },
    {
     "name": "stderr",
     "output_type": "stream",
     "text": [
      " 74%|███████▍  | 780/1053 [00:53<00:18, 14.66it/s]"
     ]
    },
    {
     "name": "stdout",
     "output_type": "stream",
     "text": [
      "1/1 [==============================] - 0s 29ms/step\n",
      "1/1 [==============================] - 0s 29ms/step\n"
     ]
    },
    {
     "name": "stderr",
     "output_type": "stream",
     "text": [
      " 74%|███████▍  | 782/1053 [00:53<00:18, 14.51it/s]"
     ]
    },
    {
     "name": "stdout",
     "output_type": "stream",
     "text": [
      "1/1 [==============================] - 0s 29ms/step\n",
      "1/1 [==============================] - 0s 31ms/step\n"
     ]
    },
    {
     "name": "stderr",
     "output_type": "stream",
     "text": [
      " 74%|███████▍  | 784/1053 [00:53<00:18, 14.53it/s]"
     ]
    },
    {
     "name": "stdout",
     "output_type": "stream",
     "text": [
      "1/1 [==============================] - 0s 29ms/step\n",
      "1/1 [==============================] - 0s 29ms/step\n"
     ]
    },
    {
     "name": "stderr",
     "output_type": "stream",
     "text": [
      " 75%|███████▍  | 786/1053 [00:53<00:18, 14.80it/s]"
     ]
    },
    {
     "name": "stdout",
     "output_type": "stream",
     "text": [
      "1/1 [==============================] - 0s 29ms/step\n",
      "1/1 [==============================] - 0s 29ms/step\n"
     ]
    },
    {
     "name": "stderr",
     "output_type": "stream",
     "text": [
      " 75%|███████▍  | 788/1053 [00:53<00:18, 14.64it/s]"
     ]
    },
    {
     "name": "stdout",
     "output_type": "stream",
     "text": [
      "1/1 [==============================] - 0s 30ms/step\n",
      "1/1 [==============================] - 0s 29ms/step\n"
     ]
    },
    {
     "name": "stderr",
     "output_type": "stream",
     "text": [
      " 75%|███████▌  | 790/1053 [00:53<00:18, 14.49it/s]"
     ]
    },
    {
     "name": "stdout",
     "output_type": "stream",
     "text": [
      "1/1 [==============================] - 0s 30ms/step\n",
      "1/1 [==============================] - 0s 29ms/step\n"
     ]
    },
    {
     "name": "stderr",
     "output_type": "stream",
     "text": [
      " 75%|███████▌  | 792/1053 [00:54<00:18, 14.13it/s]"
     ]
    },
    {
     "name": "stdout",
     "output_type": "stream",
     "text": [
      "1/1 [==============================] - 0s 29ms/step\n",
      "1/1 [==============================] - 0s 29ms/step\n"
     ]
    },
    {
     "name": "stderr",
     "output_type": "stream",
     "text": [
      " 75%|███████▌  | 794/1053 [00:54<00:17, 14.50it/s]"
     ]
    },
    {
     "name": "stdout",
     "output_type": "stream",
     "text": [
      "1/1 [==============================] - 0s 30ms/step\n",
      "1/1 [==============================] - 0s 29ms/step\n"
     ]
    },
    {
     "name": "stderr",
     "output_type": "stream",
     "text": [
      " 76%|███████▌  | 796/1053 [00:54<00:17, 14.37it/s]"
     ]
    },
    {
     "name": "stdout",
     "output_type": "stream",
     "text": [
      "1/1 [==============================] - 0s 29ms/step\n",
      "1/1 [==============================] - 0s 29ms/step\n"
     ]
    },
    {
     "name": "stderr",
     "output_type": "stream",
     "text": [
      " 76%|███████▌  | 798/1053 [00:54<00:17, 14.51it/s]"
     ]
    },
    {
     "name": "stdout",
     "output_type": "stream",
     "text": [
      "1/1 [==============================] - 0s 29ms/step\n",
      "1/1 [==============================] - 0s 29ms/step\n"
     ]
    },
    {
     "name": "stderr",
     "output_type": "stream",
     "text": [
      " 76%|███████▌  | 800/1053 [00:54<00:17, 14.60it/s]"
     ]
    },
    {
     "name": "stdout",
     "output_type": "stream",
     "text": [
      "1/1 [==============================] - 0s 29ms/step\n",
      "1/1 [==============================] - 0s 29ms/step\n"
     ]
    },
    {
     "name": "stderr",
     "output_type": "stream",
     "text": [
      " 76%|███████▌  | 802/1053 [00:54<00:17, 14.63it/s]"
     ]
    },
    {
     "name": "stdout",
     "output_type": "stream",
     "text": [
      "1/1 [==============================] - 0s 29ms/step\n",
      "1/1 [==============================] - 0s 29ms/step\n"
     ]
    },
    {
     "name": "stderr",
     "output_type": "stream",
     "text": [
      " 76%|███████▋  | 804/1053 [00:54<00:17, 14.28it/s]"
     ]
    },
    {
     "name": "stdout",
     "output_type": "stream",
     "text": [
      "1/1 [==============================] - 0s 29ms/step\n",
      "1/1 [==============================] - 0s 29ms/step\n"
     ]
    },
    {
     "name": "stderr",
     "output_type": "stream",
     "text": [
      " 77%|███████▋  | 806/1053 [00:55<00:17, 14.24it/s]"
     ]
    },
    {
     "name": "stdout",
     "output_type": "stream",
     "text": [
      "1/1 [==============================] - 0s 29ms/step\n",
      "1/1 [==============================] - 0s 29ms/step\n"
     ]
    },
    {
     "name": "stderr",
     "output_type": "stream",
     "text": [
      " 77%|███████▋  | 808/1053 [00:55<00:16, 14.42it/s]"
     ]
    },
    {
     "name": "stdout",
     "output_type": "stream",
     "text": [
      "1/1 [==============================] - 0s 28ms/step\n",
      "1/1 [==============================] - 0s 29ms/step\n"
     ]
    },
    {
     "name": "stderr",
     "output_type": "stream",
     "text": [
      " 77%|███████▋  | 810/1053 [00:55<00:16, 14.39it/s]"
     ]
    },
    {
     "name": "stdout",
     "output_type": "stream",
     "text": [
      "1/1 [==============================] - 0s 29ms/step\n",
      "1/1 [==============================] - 0s 30ms/step\n"
     ]
    },
    {
     "name": "stderr",
     "output_type": "stream",
     "text": [
      " 77%|███████▋  | 812/1053 [00:55<00:16, 14.48it/s]"
     ]
    },
    {
     "name": "stdout",
     "output_type": "stream",
     "text": [
      "1/1 [==============================] - 0s 29ms/step\n",
      "1/1 [==============================] - 0s 29ms/step\n"
     ]
    },
    {
     "name": "stderr",
     "output_type": "stream",
     "text": [
      " 77%|███████▋  | 814/1053 [00:55<00:16, 14.56it/s]"
     ]
    },
    {
     "name": "stdout",
     "output_type": "stream",
     "text": [
      "1/1 [==============================] - 0s 29ms/step\n",
      "1/1 [==============================] - 0s 29ms/step\n"
     ]
    },
    {
     "name": "stderr",
     "output_type": "stream",
     "text": [
      " 77%|███████▋  | 816/1053 [00:55<00:16, 14.61it/s]"
     ]
    },
    {
     "name": "stdout",
     "output_type": "stream",
     "text": [
      "1/1 [==============================] - 0s 29ms/step\n",
      "1/1 [==============================] - 0s 29ms/step\n"
     ]
    },
    {
     "name": "stderr",
     "output_type": "stream",
     "text": [
      " 78%|███████▊  | 818/1053 [00:55<00:16, 14.48it/s]"
     ]
    },
    {
     "name": "stdout",
     "output_type": "stream",
     "text": [
      "1/1 [==============================] - 0s 29ms/step\n",
      "1/1 [==============================] - 0s 29ms/step\n"
     ]
    },
    {
     "name": "stderr",
     "output_type": "stream",
     "text": [
      " 78%|███████▊  | 820/1053 [00:56<00:16, 14.41it/s]"
     ]
    },
    {
     "name": "stdout",
     "output_type": "stream",
     "text": [
      "1/1 [==============================] - 0s 30ms/step\n",
      "1/1 [==============================] - 0s 29ms/step\n"
     ]
    },
    {
     "name": "stderr",
     "output_type": "stream",
     "text": [
      " 78%|███████▊  | 822/1053 [00:56<00:15, 14.48it/s]"
     ]
    },
    {
     "name": "stdout",
     "output_type": "stream",
     "text": [
      "1/1 [==============================] - 0s 29ms/step\n",
      "1/1 [==============================] - 0s 29ms/step\n"
     ]
    },
    {
     "name": "stderr",
     "output_type": "stream",
     "text": [
      " 78%|███████▊  | 824/1053 [00:56<00:15, 14.57it/s]"
     ]
    },
    {
     "name": "stdout",
     "output_type": "stream",
     "text": [
      "1/1 [==============================] - 0s 28ms/step\n",
      "1/1 [==============================] - 0s 29ms/step\n"
     ]
    },
    {
     "name": "stderr",
     "output_type": "stream",
     "text": [
      " 78%|███████▊  | 826/1053 [00:56<00:15, 14.66it/s]"
     ]
    },
    {
     "name": "stdout",
     "output_type": "stream",
     "text": [
      "1/1 [==============================] - 0s 29ms/step\n",
      "1/1 [==============================] - 0s 29ms/step\n"
     ]
    },
    {
     "name": "stderr",
     "output_type": "stream",
     "text": [
      " 79%|███████▊  | 828/1053 [00:56<00:15, 14.71it/s]"
     ]
    },
    {
     "name": "stdout",
     "output_type": "stream",
     "text": [
      "1/1 [==============================] - 0s 29ms/step\n",
      "1/1 [==============================] - 0s 30ms/step\n"
     ]
    },
    {
     "name": "stderr",
     "output_type": "stream",
     "text": [
      " 79%|███████▉  | 830/1053 [00:56<00:15, 14.72it/s]"
     ]
    },
    {
     "name": "stdout",
     "output_type": "stream",
     "text": [
      "1/1 [==============================] - 0s 30ms/step\n",
      "1/1 [==============================] - 0s 29ms/step\n"
     ]
    },
    {
     "name": "stderr",
     "output_type": "stream",
     "text": [
      " 79%|███████▉  | 832/1053 [00:56<00:15, 14.51it/s]"
     ]
    },
    {
     "name": "stdout",
     "output_type": "stream",
     "text": [
      "1/1 [==============================] - 0s 29ms/step\n",
      "1/1 [==============================] - 0s 29ms/step\n"
     ]
    },
    {
     "name": "stderr",
     "output_type": "stream",
     "text": [
      " 79%|███████▉  | 834/1053 [00:57<00:15, 14.38it/s]"
     ]
    },
    {
     "name": "stdout",
     "output_type": "stream",
     "text": [
      "1/1 [==============================] - 0s 29ms/step\n",
      "1/1 [==============================] - 0s 29ms/step\n"
     ]
    },
    {
     "name": "stderr",
     "output_type": "stream",
     "text": [
      " 79%|███████▉  | 836/1053 [00:57<00:14, 14.49it/s]"
     ]
    },
    {
     "name": "stdout",
     "output_type": "stream",
     "text": [
      "1/1 [==============================] - 0s 29ms/step\n",
      "1/1 [==============================] - 0s 28ms/step\n"
     ]
    },
    {
     "name": "stderr",
     "output_type": "stream",
     "text": [
      " 80%|███████▉  | 838/1053 [00:57<00:14, 14.61it/s]"
     ]
    },
    {
     "name": "stdout",
     "output_type": "stream",
     "text": [
      "1/1 [==============================] - 0s 29ms/step\n",
      "1/1 [==============================] - 0s 29ms/step\n"
     ]
    },
    {
     "name": "stderr",
     "output_type": "stream",
     "text": [
      " 80%|███████▉  | 840/1053 [00:57<00:14, 14.49it/s]"
     ]
    },
    {
     "name": "stdout",
     "output_type": "stream",
     "text": [
      "1/1 [==============================] - 0s 30ms/step\n",
      "1/1 [==============================] - 0s 30ms/step\n"
     ]
    },
    {
     "name": "stderr",
     "output_type": "stream",
     "text": [
      " 80%|███████▉  | 842/1053 [00:57<00:14, 14.36it/s]"
     ]
    },
    {
     "name": "stdout",
     "output_type": "stream",
     "text": [
      "1/1 [==============================] - 0s 30ms/step\n",
      "1/1 [==============================] - 0s 29ms/step\n"
     ]
    },
    {
     "name": "stderr",
     "output_type": "stream",
     "text": [
      " 80%|████████  | 844/1053 [00:57<00:14, 14.46it/s]"
     ]
    },
    {
     "name": "stdout",
     "output_type": "stream",
     "text": [
      "1/1 [==============================] - 0s 29ms/step\n",
      "1/1 [==============================] - 0s 29ms/step\n"
     ]
    },
    {
     "name": "stderr",
     "output_type": "stream",
     "text": [
      " 80%|████████  | 846/1053 [00:57<00:14, 14.56it/s]"
     ]
    },
    {
     "name": "stdout",
     "output_type": "stream",
     "text": [
      "1/1 [==============================] - 0s 29ms/step\n",
      "1/1 [==============================] - 0s 29ms/step\n"
     ]
    },
    {
     "name": "stderr",
     "output_type": "stream",
     "text": [
      " 81%|████████  | 848/1053 [00:57<00:14, 14.44it/s]"
     ]
    },
    {
     "name": "stdout",
     "output_type": "stream",
     "text": [
      "1/1 [==============================] - 0s 29ms/step\n",
      "1/1 [==============================] - 0s 28ms/step\n"
     ]
    },
    {
     "name": "stderr",
     "output_type": "stream",
     "text": [
      " 81%|████████  | 850/1053 [00:58<00:13, 14.77it/s]"
     ]
    },
    {
     "name": "stdout",
     "output_type": "stream",
     "text": [
      "1/1 [==============================] - 0s 30ms/step\n",
      "1/1 [==============================] - 0s 29ms/step\n"
     ]
    },
    {
     "name": "stderr",
     "output_type": "stream",
     "text": [
      " 81%|████████  | 852/1053 [00:58<00:13, 14.39it/s]"
     ]
    },
    {
     "name": "stdout",
     "output_type": "stream",
     "text": [
      "1/1 [==============================] - 0s 29ms/step\n",
      "1/1 [==============================] - 0s 29ms/step\n"
     ]
    },
    {
     "name": "stderr",
     "output_type": "stream",
     "text": [
      " 81%|████████  | 854/1053 [00:58<00:13, 14.51it/s]"
     ]
    },
    {
     "name": "stdout",
     "output_type": "stream",
     "text": [
      "1/1 [==============================] - 0s 29ms/step\n",
      "1/1 [==============================] - 0s 29ms/step\n"
     ]
    },
    {
     "name": "stderr",
     "output_type": "stream",
     "text": [
      " 81%|████████▏ | 856/1053 [00:58<00:13, 14.59it/s]"
     ]
    },
    {
     "name": "stdout",
     "output_type": "stream",
     "text": [
      "1/1 [==============================] - 0s 29ms/step\n",
      "1/1 [==============================] - 0s 29ms/step\n"
     ]
    },
    {
     "name": "stderr",
     "output_type": "stream",
     "text": [
      " 81%|████████▏ | 858/1053 [00:58<00:13, 14.65it/s]"
     ]
    },
    {
     "name": "stdout",
     "output_type": "stream",
     "text": [
      "1/1 [==============================] - 0s 29ms/step\n",
      "1/1 [==============================] - 0s 29ms/step\n"
     ]
    },
    {
     "name": "stderr",
     "output_type": "stream",
     "text": [
      " 82%|████████▏ | 860/1053 [00:58<00:13, 14.70it/s]"
     ]
    },
    {
     "name": "stdout",
     "output_type": "stream",
     "text": [
      "1/1 [==============================] - 0s 28ms/step\n",
      "1/1 [==============================] - 0s 29ms/step\n"
     ]
    },
    {
     "name": "stderr",
     "output_type": "stream",
     "text": [
      " 82%|████████▏ | 862/1053 [00:58<00:13, 14.56it/s]"
     ]
    },
    {
     "name": "stdout",
     "output_type": "stream",
     "text": [
      "1/1 [==============================] - 0s 30ms/step\n",
      "1/1 [==============================] - 0s 29ms/step\n"
     ]
    },
    {
     "name": "stderr",
     "output_type": "stream",
     "text": [
      " 82%|████████▏ | 864/1053 [00:59<00:12, 14.60it/s]"
     ]
    },
    {
     "name": "stdout",
     "output_type": "stream",
     "text": [
      "1/1 [==============================] - 0s 29ms/step\n",
      "1/1 [==============================] - 0s 29ms/step\n"
     ]
    },
    {
     "name": "stderr",
     "output_type": "stream",
     "text": [
      " 82%|████████▏ | 866/1053 [00:59<00:12, 14.46it/s]"
     ]
    },
    {
     "name": "stdout",
     "output_type": "stream",
     "text": [
      "1/1 [==============================] - 0s 29ms/step\n",
      "1/1 [==============================] - 0s 30ms/step\n"
     ]
    },
    {
     "name": "stderr",
     "output_type": "stream",
     "text": [
      " 82%|████████▏ | 868/1053 [00:59<00:12, 14.53it/s]"
     ]
    },
    {
     "name": "stdout",
     "output_type": "stream",
     "text": [
      "1/1 [==============================] - 0s 31ms/step\n",
      "1/1 [==============================] - 0s 29ms/step\n"
     ]
    },
    {
     "name": "stderr",
     "output_type": "stream",
     "text": [
      " 83%|████████▎ | 870/1053 [00:59<00:12, 14.56it/s]"
     ]
    },
    {
     "name": "stdout",
     "output_type": "stream",
     "text": [
      "1/1 [==============================] - 0s 29ms/step\n",
      "1/1 [==============================] - 0s 29ms/step\n"
     ]
    },
    {
     "name": "stderr",
     "output_type": "stream",
     "text": [
      " 83%|████████▎ | 872/1053 [00:59<00:12, 14.64it/s]"
     ]
    },
    {
     "name": "stdout",
     "output_type": "stream",
     "text": [
      "1/1 [==============================] - 0s 29ms/step\n",
      "1/1 [==============================] - 0s 29ms/step\n"
     ]
    },
    {
     "name": "stderr",
     "output_type": "stream",
     "text": [
      " 83%|████████▎ | 874/1053 [00:59<00:12, 14.49it/s]"
     ]
    },
    {
     "name": "stdout",
     "output_type": "stream",
     "text": [
      "1/1 [==============================] - 0s 29ms/step\n",
      "1/1 [==============================] - 0s 29ms/step\n"
     ]
    },
    {
     "name": "stderr",
     "output_type": "stream",
     "text": [
      " 83%|████████▎ | 876/1053 [00:59<00:11, 14.77it/s]"
     ]
    },
    {
     "name": "stdout",
     "output_type": "stream",
     "text": [
      "1/1 [==============================] - 0s 29ms/step\n",
      "1/1 [==============================] - 0s 28ms/step\n"
     ]
    },
    {
     "name": "stderr",
     "output_type": "stream",
     "text": [
      " 83%|████████▎ | 878/1053 [01:00<00:11, 14.99it/s]"
     ]
    },
    {
     "name": "stdout",
     "output_type": "stream",
     "text": [
      "1/1 [==============================] - 0s 29ms/step\n",
      "1/1 [==============================] - 0s 29ms/step\n"
     ]
    },
    {
     "name": "stderr",
     "output_type": "stream",
     "text": [
      " 84%|████████▎ | 880/1053 [01:00<00:11, 14.94it/s]"
     ]
    },
    {
     "name": "stdout",
     "output_type": "stream",
     "text": [
      "1/1 [==============================] - 0s 29ms/step\n",
      "1/1 [==============================] - 0s 30ms/step\n"
     ]
    },
    {
     "name": "stderr",
     "output_type": "stream",
     "text": [
      " 84%|████████▍ | 882/1053 [01:00<00:11, 14.50it/s]"
     ]
    },
    {
     "name": "stdout",
     "output_type": "stream",
     "text": [
      "1/1 [==============================] - 0s 29ms/step\n",
      "1/1 [==============================] - 0s 29ms/step\n"
     ]
    },
    {
     "name": "stderr",
     "output_type": "stream",
     "text": [
      " 84%|████████▍ | 884/1053 [01:00<00:11, 14.76it/s]"
     ]
    },
    {
     "name": "stdout",
     "output_type": "stream",
     "text": [
      "1/1 [==============================] - 0s 29ms/step\n",
      "1/1 [==============================] - 0s 29ms/step\n"
     ]
    },
    {
     "name": "stderr",
     "output_type": "stream",
     "text": [
      " 84%|████████▍ | 886/1053 [01:00<00:11, 14.76it/s]"
     ]
    },
    {
     "name": "stdout",
     "output_type": "stream",
     "text": [
      "1/1 [==============================] - 0s 30ms/step\n",
      "1/1 [==============================] - 0s 29ms/step\n"
     ]
    },
    {
     "name": "stderr",
     "output_type": "stream",
     "text": [
      " 84%|████████▍ | 888/1053 [01:00<00:11, 14.75it/s]"
     ]
    },
    {
     "name": "stdout",
     "output_type": "stream",
     "text": [
      "1/1 [==============================] - 0s 29ms/step\n",
      "1/1 [==============================] - 0s 29ms/step\n"
     ]
    },
    {
     "name": "stderr",
     "output_type": "stream",
     "text": [
      " 85%|████████▍ | 890/1053 [01:00<00:11, 14.77it/s]"
     ]
    },
    {
     "name": "stdout",
     "output_type": "stream",
     "text": [
      "1/1 [==============================] - 0s 29ms/step\n",
      "1/1 [==============================] - 0s 28ms/step\n"
     ]
    },
    {
     "name": "stderr",
     "output_type": "stream",
     "text": [
      " 85%|████████▍ | 892/1053 [01:00<00:10, 14.82it/s]"
     ]
    },
    {
     "name": "stdout",
     "output_type": "stream",
     "text": [
      "1/1 [==============================] - 0s 30ms/step\n",
      "1/1 [==============================] - 0s 29ms/step\n"
     ]
    },
    {
     "name": "stderr",
     "output_type": "stream",
     "text": [
      " 85%|████████▍ | 894/1053 [01:01<00:10, 14.59it/s]"
     ]
    },
    {
     "name": "stdout",
     "output_type": "stream",
     "text": [
      "1/1 [==============================] - 0s 30ms/step\n",
      "1/1 [==============================] - 0s 30ms/step\n"
     ]
    },
    {
     "name": "stderr",
     "output_type": "stream",
     "text": [
      " 85%|████████▌ | 896/1053 [01:01<00:10, 14.60it/s]"
     ]
    },
    {
     "name": "stdout",
     "output_type": "stream",
     "text": [
      "1/1 [==============================] - 0s 29ms/step\n",
      "1/1 [==============================] - 0s 29ms/step\n"
     ]
    },
    {
     "name": "stderr",
     "output_type": "stream",
     "text": [
      " 85%|████████▌ | 898/1053 [01:01<00:10, 14.64it/s]"
     ]
    },
    {
     "name": "stdout",
     "output_type": "stream",
     "text": [
      "1/1 [==============================] - 0s 29ms/step\n",
      "1/1 [==============================] - 0s 29ms/step\n"
     ]
    },
    {
     "name": "stderr",
     "output_type": "stream",
     "text": [
      " 85%|████████▌ | 900/1053 [01:01<00:10, 14.50it/s]"
     ]
    },
    {
     "name": "stdout",
     "output_type": "stream",
     "text": [
      "1/1 [==============================] - 0s 29ms/step\n",
      "1/1 [==============================] - 0s 29ms/step\n"
     ]
    },
    {
     "name": "stderr",
     "output_type": "stream",
     "text": [
      " 86%|████████▌ | 902/1053 [01:01<00:10, 14.81it/s]"
     ]
    },
    {
     "name": "stdout",
     "output_type": "stream",
     "text": [
      "1/1 [==============================] - 0s 29ms/step\n",
      "1/1 [==============================] - 0s 29ms/step\n"
     ]
    },
    {
     "name": "stderr",
     "output_type": "stream",
     "text": [
      " 86%|████████▌ | 904/1053 [01:01<00:10, 14.62it/s]"
     ]
    },
    {
     "name": "stdout",
     "output_type": "stream",
     "text": [
      "1/1 [==============================] - 0s 29ms/step\n",
      "1/1 [==============================] - 0s 29ms/step\n"
     ]
    },
    {
     "name": "stderr",
     "output_type": "stream",
     "text": [
      " 86%|████████▌ | 906/1053 [01:01<00:10, 14.66it/s]"
     ]
    },
    {
     "name": "stdout",
     "output_type": "stream",
     "text": [
      "1/1 [==============================] - 0s 29ms/step\n",
      "1/1 [==============================] - 0s 29ms/step\n"
     ]
    },
    {
     "name": "stderr",
     "output_type": "stream",
     "text": [
      " 86%|████████▌ | 908/1053 [01:02<00:09, 14.89it/s]"
     ]
    },
    {
     "name": "stdout",
     "output_type": "stream",
     "text": [
      "1/1 [==============================] - 0s 29ms/step\n",
      "1/1 [==============================] - 0s 28ms/step\n"
     ]
    },
    {
     "name": "stderr",
     "output_type": "stream",
     "text": [
      " 86%|████████▋ | 910/1053 [01:02<00:09, 15.10it/s]"
     ]
    },
    {
     "name": "stdout",
     "output_type": "stream",
     "text": [
      "1/1 [==============================] - 0s 29ms/step\n",
      "1/1 [==============================] - 0s 29ms/step\n"
     ]
    },
    {
     "name": "stderr",
     "output_type": "stream",
     "text": [
      " 87%|████████▋ | 912/1053 [01:02<00:09, 15.04it/s]"
     ]
    },
    {
     "name": "stdout",
     "output_type": "stream",
     "text": [
      "1/1 [==============================] - 0s 29ms/step\n",
      "1/1 [==============================] - 0s 24ms/step\n"
     ]
    },
    {
     "name": "stderr",
     "output_type": "stream",
     "text": [
      " 87%|████████▋ | 914/1053 [01:02<00:17,  7.73it/s]"
     ]
    },
    {
     "name": "stdout",
     "output_type": "stream",
     "text": [
      "1/1 [==============================] - 0s 30ms/step\n",
      "1/1 [==============================] - 0s 30ms/step\n"
     ]
    },
    {
     "name": "stderr",
     "output_type": "stream",
     "text": [
      " 87%|████████▋ | 916/1053 [01:03<00:15,  8.93it/s]"
     ]
    },
    {
     "name": "stdout",
     "output_type": "stream",
     "text": [
      "1/1 [==============================] - 0s 33ms/step\n",
      "1/1 [==============================] - 0s 29ms/step\n"
     ]
    },
    {
     "name": "stderr",
     "output_type": "stream",
     "text": [
      " 87%|████████▋ | 918/1053 [01:03<00:13, 10.05it/s]"
     ]
    },
    {
     "name": "stdout",
     "output_type": "stream",
     "text": [
      "1/1 [==============================] - 0s 30ms/step\n",
      "1/1 [==============================] - 0s 29ms/step\n"
     ]
    },
    {
     "name": "stderr",
     "output_type": "stream",
     "text": [
      " 87%|████████▋ | 920/1053 [01:03<00:11, 11.11it/s]"
     ]
    },
    {
     "name": "stdout",
     "output_type": "stream",
     "text": [
      "1/1 [==============================] - 0s 30ms/step\n",
      "1/1 [==============================] - 0s 29ms/step\n"
     ]
    },
    {
     "name": "stderr",
     "output_type": "stream",
     "text": [
      " 88%|████████▊ | 922/1053 [01:03<00:11, 11.85it/s]"
     ]
    },
    {
     "name": "stdout",
     "output_type": "stream",
     "text": [
      "1/1 [==============================] - 0s 29ms/step\n",
      "1/1 [==============================] - 0s 30ms/step\n"
     ]
    },
    {
     "name": "stderr",
     "output_type": "stream",
     "text": [
      " 88%|████████▊ | 924/1053 [01:03<00:10, 12.56it/s]"
     ]
    },
    {
     "name": "stdout",
     "output_type": "stream",
     "text": [
      "1/1 [==============================] - 0s 32ms/step\n",
      "1/1 [==============================] - 0s 30ms/step\n"
     ]
    },
    {
     "name": "stderr",
     "output_type": "stream",
     "text": [
      " 88%|████████▊ | 926/1053 [01:03<00:09, 13.04it/s]"
     ]
    },
    {
     "name": "stdout",
     "output_type": "stream",
     "text": [
      "1/1 [==============================] - 0s 30ms/step\n",
      "1/1 [==============================] - 0s 29ms/step\n"
     ]
    },
    {
     "name": "stderr",
     "output_type": "stream",
     "text": [
      " 88%|████████▊ | 928/1053 [01:03<00:09, 13.33it/s]"
     ]
    },
    {
     "name": "stdout",
     "output_type": "stream",
     "text": [
      "1/1 [==============================] - 0s 29ms/step\n",
      "1/1 [==============================] - 0s 29ms/step\n"
     ]
    },
    {
     "name": "stderr",
     "output_type": "stream",
     "text": [
      " 88%|████████▊ | 930/1053 [01:03<00:08, 13.73it/s]"
     ]
    },
    {
     "name": "stdout",
     "output_type": "stream",
     "text": [
      "1/1 [==============================] - 0s 34ms/step\n",
      "1/1 [==============================] - 0s 29ms/step\n"
     ]
    },
    {
     "name": "stderr",
     "output_type": "stream",
     "text": [
      " 89%|████████▊ | 932/1053 [01:04<00:08, 13.87it/s]"
     ]
    },
    {
     "name": "stdout",
     "output_type": "stream",
     "text": [
      "1/1 [==============================] - 0s 30ms/step\n",
      "1/1 [==============================] - 0s 30ms/step\n"
     ]
    },
    {
     "name": "stderr",
     "output_type": "stream",
     "text": [
      " 89%|████████▊ | 934/1053 [01:04<00:08, 13.74it/s]"
     ]
    },
    {
     "name": "stdout",
     "output_type": "stream",
     "text": [
      "1/1 [==============================] - 0s 30ms/step\n",
      "1/1 [==============================] - 0s 29ms/step\n"
     ]
    },
    {
     "name": "stderr",
     "output_type": "stream",
     "text": [
      " 89%|████████▉ | 936/1053 [01:04<00:08, 14.15it/s]"
     ]
    },
    {
     "name": "stdout",
     "output_type": "stream",
     "text": [
      "1/1 [==============================] - 0s 30ms/step\n",
      "1/1 [==============================] - 0s 31ms/step\n"
     ]
    },
    {
     "name": "stderr",
     "output_type": "stream",
     "text": [
      " 89%|████████▉ | 938/1053 [01:04<00:08, 14.06it/s]"
     ]
    },
    {
     "name": "stdout",
     "output_type": "stream",
     "text": [
      "1/1 [==============================] - 0s 30ms/step\n",
      "1/1 [==============================] - 0s 29ms/step\n"
     ]
    },
    {
     "name": "stderr",
     "output_type": "stream",
     "text": [
      " 89%|████████▉ | 940/1053 [01:04<00:07, 14.22it/s]"
     ]
    },
    {
     "name": "stdout",
     "output_type": "stream",
     "text": [
      "1/1 [==============================] - 0s 29ms/step\n",
      "1/1 [==============================] - 0s 29ms/step\n"
     ]
    },
    {
     "name": "stderr",
     "output_type": "stream",
     "text": [
      " 89%|████████▉ | 942/1053 [01:04<00:07, 14.38it/s]"
     ]
    },
    {
     "name": "stdout",
     "output_type": "stream",
     "text": [
      "1/1 [==============================] - 0s 29ms/step\n",
      "1/1 [==============================] - 0s 30ms/step\n"
     ]
    },
    {
     "name": "stderr",
     "output_type": "stream",
     "text": [
      " 90%|████████▉ | 944/1053 [01:04<00:07, 14.30it/s]"
     ]
    },
    {
     "name": "stdout",
     "output_type": "stream",
     "text": [
      "1/1 [==============================] - 0s 30ms/step\n",
      "1/1 [==============================] - 0s 29ms/step\n"
     ]
    },
    {
     "name": "stderr",
     "output_type": "stream",
     "text": [
      " 90%|████████▉ | 946/1053 [01:05<00:07, 14.40it/s]"
     ]
    },
    {
     "name": "stdout",
     "output_type": "stream",
     "text": [
      "1/1 [==============================] - 0s 29ms/step\n",
      "1/1 [==============================] - 0s 29ms/step\n"
     ]
    },
    {
     "name": "stderr",
     "output_type": "stream",
     "text": [
      " 90%|█████████ | 948/1053 [01:05<00:07, 14.51it/s]"
     ]
    },
    {
     "name": "stdout",
     "output_type": "stream",
     "text": [
      "1/1 [==============================] - 0s 29ms/step\n",
      "1/1 [==============================] - 0s 29ms/step\n"
     ]
    },
    {
     "name": "stderr",
     "output_type": "stream",
     "text": [
      " 90%|█████████ | 950/1053 [01:05<00:07, 14.58it/s]"
     ]
    },
    {
     "name": "stdout",
     "output_type": "stream",
     "text": [
      "1/1 [==============================] - 0s 29ms/step\n",
      "1/1 [==============================] - 0s 29ms/step\n"
     ]
    },
    {
     "name": "stderr",
     "output_type": "stream",
     "text": [
      " 90%|█████████ | 952/1053 [01:05<00:06, 14.46it/s]"
     ]
    },
    {
     "name": "stdout",
     "output_type": "stream",
     "text": [
      "1/1 [==============================] - 0s 29ms/step\n",
      "1/1 [==============================] - 0s 30ms/step\n"
     ]
    },
    {
     "name": "stderr",
     "output_type": "stream",
     "text": [
      " 91%|█████████ | 954/1053 [01:05<00:06, 14.36it/s]"
     ]
    },
    {
     "name": "stdout",
     "output_type": "stream",
     "text": [
      "1/1 [==============================] - 0s 29ms/step\n",
      "1/1 [==============================] - 0s 29ms/step\n"
     ]
    },
    {
     "name": "stderr",
     "output_type": "stream",
     "text": [
      " 91%|█████████ | 956/1053 [01:05<00:06, 14.46it/s]"
     ]
    },
    {
     "name": "stdout",
     "output_type": "stream",
     "text": [
      "1/1 [==============================] - 0s 29ms/step\n",
      "1/1 [==============================] - 0s 29ms/step\n"
     ]
    },
    {
     "name": "stderr",
     "output_type": "stream",
     "text": [
      " 91%|█████████ | 958/1053 [01:05<00:06, 14.75it/s]"
     ]
    },
    {
     "name": "stdout",
     "output_type": "stream",
     "text": [
      "1/1 [==============================] - 0s 29ms/step\n",
      "1/1 [==============================] - 0s 29ms/step\n"
     ]
    },
    {
     "name": "stderr",
     "output_type": "stream",
     "text": [
      " 91%|█████████ | 960/1053 [01:06<00:06, 14.55it/s]"
     ]
    },
    {
     "name": "stdout",
     "output_type": "stream",
     "text": [
      "1/1 [==============================] - 0s 29ms/step\n",
      "1/1 [==============================] - 0s 29ms/step\n"
     ]
    },
    {
     "name": "stderr",
     "output_type": "stream",
     "text": [
      " 91%|█████████▏| 962/1053 [01:06<00:06, 14.61it/s]"
     ]
    },
    {
     "name": "stdout",
     "output_type": "stream",
     "text": [
      "1/1 [==============================] - 0s 29ms/step\n",
      "1/1 [==============================] - 0s 30ms/step\n"
     ]
    },
    {
     "name": "stderr",
     "output_type": "stream",
     "text": [
      " 92%|█████████▏| 964/1053 [01:06<00:06, 14.45it/s]"
     ]
    },
    {
     "name": "stdout",
     "output_type": "stream",
     "text": [
      "1/1 [==============================] - 0s 30ms/step\n",
      "1/1 [==============================] - 0s 29ms/step\n"
     ]
    },
    {
     "name": "stderr",
     "output_type": "stream",
     "text": [
      " 92%|█████████▏| 966/1053 [01:06<00:05, 14.70it/s]"
     ]
    },
    {
     "name": "stdout",
     "output_type": "stream",
     "text": [
      "1/1 [==============================] - 0s 29ms/step\n",
      "1/1 [==============================] - 0s 29ms/step\n"
     ]
    },
    {
     "name": "stderr",
     "output_type": "stream",
     "text": [
      " 92%|█████████▏| 968/1053 [01:06<00:05, 14.53it/s]"
     ]
    },
    {
     "name": "stdout",
     "output_type": "stream",
     "text": [
      "1/1 [==============================] - 0s 29ms/step\n",
      "1/1 [==============================] - 0s 29ms/step\n"
     ]
    },
    {
     "name": "stderr",
     "output_type": "stream",
     "text": [
      " 92%|█████████▏| 970/1053 [01:06<00:05, 14.81it/s]"
     ]
    },
    {
     "name": "stdout",
     "output_type": "stream",
     "text": [
      "1/1 [==============================] - 0s 29ms/step\n",
      "1/1 [==============================] - 0s 29ms/step\n"
     ]
    },
    {
     "name": "stderr",
     "output_type": "stream",
     "text": [
      " 92%|█████████▏| 972/1053 [01:06<00:05, 14.81it/s]"
     ]
    },
    {
     "name": "stdout",
     "output_type": "stream",
     "text": [
      "1/1 [==============================] - 0s 29ms/step\n",
      "1/1 [==============================] - 0s 30ms/step\n"
     ]
    },
    {
     "name": "stderr",
     "output_type": "stream",
     "text": [
      " 92%|█████████▏| 974/1053 [01:07<00:05, 14.61it/s]"
     ]
    },
    {
     "name": "stdout",
     "output_type": "stream",
     "text": [
      "1/1 [==============================] - 0s 30ms/step\n",
      "1/1 [==============================] - 0s 29ms/step\n"
     ]
    },
    {
     "name": "stderr",
     "output_type": "stream",
     "text": [
      " 93%|█████████▎| 976/1053 [01:07<00:05, 14.42it/s]"
     ]
    },
    {
     "name": "stdout",
     "output_type": "stream",
     "text": [
      "1/1 [==============================] - 0s 30ms/step\n",
      "1/1 [==============================] - 0s 29ms/step\n"
     ]
    },
    {
     "name": "stderr",
     "output_type": "stream",
     "text": [
      " 93%|█████████▎| 978/1053 [01:07<00:05, 14.48it/s]"
     ]
    },
    {
     "name": "stdout",
     "output_type": "stream",
     "text": [
      "1/1 [==============================] - 0s 30ms/step\n",
      "1/1 [==============================] - 0s 29ms/step\n"
     ]
    },
    {
     "name": "stderr",
     "output_type": "stream",
     "text": [
      " 93%|█████████▎| 980/1053 [01:07<00:05, 14.55it/s]"
     ]
    },
    {
     "name": "stdout",
     "output_type": "stream",
     "text": [
      "1/1 [==============================] - 0s 29ms/step\n",
      "1/1 [==============================] - 0s 29ms/step\n"
     ]
    },
    {
     "name": "stderr",
     "output_type": "stream",
     "text": [
      " 93%|█████████▎| 982/1053 [01:07<00:04, 14.63it/s]"
     ]
    },
    {
     "name": "stdout",
     "output_type": "stream",
     "text": [
      "1/1 [==============================] - 0s 29ms/step\n",
      "1/1 [==============================] - 0s 29ms/step\n"
     ]
    },
    {
     "name": "stderr",
     "output_type": "stream",
     "text": [
      " 93%|█████████▎| 984/1053 [01:07<00:04, 14.49it/s]"
     ]
    },
    {
     "name": "stdout",
     "output_type": "stream",
     "text": [
      "1/1 [==============================] - 0s 30ms/step\n",
      "1/1 [==============================] - 0s 29ms/step\n"
     ]
    },
    {
     "name": "stderr",
     "output_type": "stream",
     "text": [
      " 94%|█████████▎| 986/1053 [01:07<00:04, 14.36it/s]"
     ]
    },
    {
     "name": "stdout",
     "output_type": "stream",
     "text": [
      "1/1 [==============================] - 0s 29ms/step\n",
      "1/1 [==============================] - 0s 29ms/step\n"
     ]
    },
    {
     "name": "stderr",
     "output_type": "stream",
     "text": [
      " 94%|█████████▍| 988/1053 [01:07<00:04, 14.48it/s]"
     ]
    },
    {
     "name": "stdout",
     "output_type": "stream",
     "text": [
      "1/1 [==============================] - 0s 30ms/step\n",
      "1/1 [==============================] - 0s 29ms/step\n"
     ]
    },
    {
     "name": "stderr",
     "output_type": "stream",
     "text": [
      " 94%|█████████▍| 990/1053 [01:08<00:04, 14.55it/s]"
     ]
    },
    {
     "name": "stdout",
     "output_type": "stream",
     "text": [
      "1/1 [==============================] - 0s 29ms/step\n",
      "1/1 [==============================] - 0s 29ms/step\n"
     ]
    },
    {
     "name": "stderr",
     "output_type": "stream",
     "text": [
      " 94%|█████████▍| 992/1053 [01:08<00:04, 14.63it/s]"
     ]
    },
    {
     "name": "stdout",
     "output_type": "stream",
     "text": [
      "1/1 [==============================] - 0s 29ms/step\n",
      "1/1 [==============================] - 0s 29ms/step\n"
     ]
    },
    {
     "name": "stderr",
     "output_type": "stream",
     "text": [
      " 94%|█████████▍| 994/1053 [01:08<00:04, 14.68it/s]"
     ]
    },
    {
     "name": "stdout",
     "output_type": "stream",
     "text": [
      "1/1 [==============================] - 0s 30ms/step\n",
      "1/1 [==============================] - 0s 29ms/step\n"
     ]
    },
    {
     "name": "stderr",
     "output_type": "stream",
     "text": [
      " 95%|█████████▍| 996/1053 [01:08<00:03, 14.47it/s]"
     ]
    },
    {
     "name": "stdout",
     "output_type": "stream",
     "text": [
      "1/1 [==============================] - 0s 30ms/step\n",
      "1/1 [==============================] - 0s 29ms/step\n"
     ]
    },
    {
     "name": "stderr",
     "output_type": "stream",
     "text": [
      " 95%|█████████▍| 998/1053 [01:08<00:03, 14.52it/s]"
     ]
    },
    {
     "name": "stdout",
     "output_type": "stream",
     "text": [
      "1/1 [==============================] - 0s 30ms/step\n",
      "1/1 [==============================] - 0s 29ms/step\n"
     ]
    },
    {
     "name": "stderr",
     "output_type": "stream",
     "text": [
      " 95%|█████████▍| 1000/1053 [01:08<00:03, 14.56it/s]"
     ]
    },
    {
     "name": "stdout",
     "output_type": "stream",
     "text": [
      "1/1 [==============================] - 0s 29ms/step\n",
      "1/1 [==============================] - 0s 29ms/step\n"
     ]
    },
    {
     "name": "stderr",
     "output_type": "stream",
     "text": [
      " 95%|█████████▌| 1002/1053 [01:08<00:03, 14.63it/s]"
     ]
    },
    {
     "name": "stdout",
     "output_type": "stream",
     "text": [
      "1/1 [==============================] - 0s 29ms/step\n",
      "1/1 [==============================] - 0s 29ms/step\n"
     ]
    },
    {
     "name": "stderr",
     "output_type": "stream",
     "text": [
      " 95%|█████████▌| 1004/1053 [01:09<00:03, 14.67it/s]"
     ]
    },
    {
     "name": "stdout",
     "output_type": "stream",
     "text": [
      "1/1 [==============================] - 0s 30ms/step\n",
      "1/1 [==============================] - 0s 29ms/step\n"
     ]
    },
    {
     "name": "stderr",
     "output_type": "stream",
     "text": [
      " 96%|█████████▌| 1006/1053 [01:09<00:03, 14.49it/s]"
     ]
    },
    {
     "name": "stdout",
     "output_type": "stream",
     "text": [
      "1/1 [==============================] - 0s 29ms/step\n",
      "1/1 [==============================] - 0s 29ms/step\n"
     ]
    },
    {
     "name": "stderr",
     "output_type": "stream",
     "text": [
      " 96%|█████████▌| 1008/1053 [01:09<00:03, 14.55it/s]"
     ]
    },
    {
     "name": "stdout",
     "output_type": "stream",
     "text": [
      "1/1 [==============================] - 0s 30ms/step\n",
      "1/1 [==============================] - 0s 29ms/step\n"
     ]
    },
    {
     "name": "stderr",
     "output_type": "stream",
     "text": [
      " 96%|█████████▌| 1010/1053 [01:09<00:02, 14.78it/s]"
     ]
    },
    {
     "name": "stdout",
     "output_type": "stream",
     "text": [
      "1/1 [==============================] - 0s 30ms/step\n",
      "1/1 [==============================] - 0s 38ms/step\n"
     ]
    },
    {
     "name": "stderr",
     "output_type": "stream",
     "text": [
      " 96%|█████████▌| 1012/1053 [01:09<00:02, 14.45it/s]"
     ]
    },
    {
     "name": "stdout",
     "output_type": "stream",
     "text": [
      "1/1 [==============================] - 0s 30ms/step\n",
      "1/1 [==============================] - 0s 29ms/step\n"
     ]
    },
    {
     "name": "stderr",
     "output_type": "stream",
     "text": [
      " 96%|█████████▋| 1014/1053 [01:09<00:02, 14.73it/s]"
     ]
    },
    {
     "name": "stdout",
     "output_type": "stream",
     "text": [
      "1/1 [==============================] - 0s 29ms/step\n",
      "1/1 [==============================] - 0s 29ms/step\n"
     ]
    },
    {
     "name": "stderr",
     "output_type": "stream",
     "text": [
      " 96%|█████████▋| 1016/1053 [01:09<00:02, 14.55it/s]"
     ]
    },
    {
     "name": "stdout",
     "output_type": "stream",
     "text": [
      "1/1 [==============================] - 0s 30ms/step\n",
      "1/1 [==============================] - 0s 29ms/step\n"
     ]
    },
    {
     "name": "stderr",
     "output_type": "stream",
     "text": [
      " 97%|█████████▋| 1018/1053 [01:10<00:02, 14.60it/s]"
     ]
    },
    {
     "name": "stdout",
     "output_type": "stream",
     "text": [
      "1/1 [==============================] - 0s 29ms/step\n",
      "1/1 [==============================] - 0s 29ms/step\n"
     ]
    },
    {
     "name": "stderr",
     "output_type": "stream",
     "text": [
      " 97%|█████████▋| 1020/1053 [01:10<00:02, 14.64it/s]"
     ]
    },
    {
     "name": "stdout",
     "output_type": "stream",
     "text": [
      "1/1 [==============================] - 0s 29ms/step\n",
      "1/1 [==============================] - 0s 30ms/step\n"
     ]
    },
    {
     "name": "stderr",
     "output_type": "stream",
     "text": [
      " 97%|█████████▋| 1022/1053 [01:10<00:02, 14.64it/s]"
     ]
    },
    {
     "name": "stdout",
     "output_type": "stream",
     "text": [
      "1/1 [==============================] - 0s 30ms/step\n",
      "1/1 [==============================] - 0s 29ms/step\n"
     ]
    },
    {
     "name": "stderr",
     "output_type": "stream",
     "text": [
      " 97%|█████████▋| 1024/1053 [01:10<00:01, 14.66it/s]"
     ]
    },
    {
     "name": "stdout",
     "output_type": "stream",
     "text": [
      "1/1 [==============================] - 0s 30ms/step\n",
      "1/1 [==============================] - 0s 30ms/step\n"
     ]
    },
    {
     "name": "stderr",
     "output_type": "stream",
     "text": [
      " 97%|█████████▋| 1026/1053 [01:10<00:01, 14.63it/s]"
     ]
    },
    {
     "name": "stdout",
     "output_type": "stream",
     "text": [
      "1/1 [==============================] - 0s 30ms/step\n",
      "1/1 [==============================] - 0s 29ms/step\n"
     ]
    },
    {
     "name": "stderr",
     "output_type": "stream",
     "text": [
      " 98%|█████████▊| 1028/1053 [01:10<00:01, 14.45it/s]"
     ]
    },
    {
     "name": "stdout",
     "output_type": "stream",
     "text": [
      "1/1 [==============================] - 0s 29ms/step\n",
      "1/1 [==============================] - 0s 29ms/step\n"
     ]
    },
    {
     "name": "stderr",
     "output_type": "stream",
     "text": [
      " 98%|█████████▊| 1030/1053 [01:10<00:01, 14.53it/s]"
     ]
    },
    {
     "name": "stdout",
     "output_type": "stream",
     "text": [
      "1/1 [==============================] - 0s 29ms/step\n",
      "1/1 [==============================] - 0s 29ms/step\n"
     ]
    },
    {
     "name": "stderr",
     "output_type": "stream",
     "text": [
      " 98%|█████████▊| 1032/1053 [01:11<00:01, 14.60it/s]"
     ]
    },
    {
     "name": "stdout",
     "output_type": "stream",
     "text": [
      "1/1 [==============================] - 0s 29ms/step\n",
      "1/1 [==============================] - 0s 29ms/step\n"
     ]
    },
    {
     "name": "stderr",
     "output_type": "stream",
     "text": [
      " 98%|█████████▊| 1034/1053 [01:11<00:01, 14.85it/s]"
     ]
    },
    {
     "name": "stdout",
     "output_type": "stream",
     "text": [
      "1/1 [==============================] - 0s 29ms/step\n",
      "1/1 [==============================] - 0s 30ms/step\n"
     ]
    },
    {
     "name": "stderr",
     "output_type": "stream",
     "text": [
      " 98%|█████████▊| 1036/1053 [01:11<00:01, 14.45it/s]"
     ]
    },
    {
     "name": "stdout",
     "output_type": "stream",
     "text": [
      "1/1 [==============================] - 0s 30ms/step\n",
      "1/1 [==============================] - 0s 29ms/step\n"
     ]
    },
    {
     "name": "stderr",
     "output_type": "stream",
     "text": [
      " 99%|█████████▊| 1038/1053 [01:11<00:01, 14.70it/s]"
     ]
    },
    {
     "name": "stdout",
     "output_type": "stream",
     "text": [
      "1/1 [==============================] - 0s 29ms/step\n",
      "1/1 [==============================] - 0s 28ms/step\n"
     ]
    },
    {
     "name": "stderr",
     "output_type": "stream",
     "text": [
      " 99%|█████████▉| 1040/1053 [01:11<00:00, 14.92it/s]"
     ]
    },
    {
     "name": "stdout",
     "output_type": "stream",
     "text": [
      "1/1 [==============================] - 0s 29ms/step\n",
      "1/1 [==============================] - 0s 29ms/step\n"
     ]
    },
    {
     "name": "stderr",
     "output_type": "stream",
     "text": [
      " 99%|█████████▉| 1042/1053 [01:11<00:00, 15.07it/s]"
     ]
    },
    {
     "name": "stdout",
     "output_type": "stream",
     "text": [
      "1/1 [==============================] - 0s 29ms/step\n",
      "1/1 [==============================] - 0s 29ms/step\n"
     ]
    },
    {
     "name": "stderr",
     "output_type": "stream",
     "text": [
      " 99%|█████████▉| 1044/1053 [01:11<00:00, 14.79it/s]"
     ]
    },
    {
     "name": "stdout",
     "output_type": "stream",
     "text": [
      "1/1 [==============================] - 0s 29ms/step\n",
      "1/1 [==============================] - 0s 30ms/step\n"
     ]
    },
    {
     "name": "stderr",
     "output_type": "stream",
     "text": [
      " 99%|█████████▉| 1046/1053 [01:11<00:00, 14.61it/s]"
     ]
    },
    {
     "name": "stdout",
     "output_type": "stream",
     "text": [
      "1/1 [==============================] - 0s 30ms/step\n",
      "1/1 [==============================] - 0s 29ms/step\n"
     ]
    },
    {
     "name": "stderr",
     "output_type": "stream",
     "text": [
      "100%|█████████▉| 1048/1053 [01:12<00:00, 14.61it/s]"
     ]
    },
    {
     "name": "stdout",
     "output_type": "stream",
     "text": [
      "1/1 [==============================] - 0s 30ms/step\n",
      "1/1 [==============================] - 0s 29ms/step\n"
     ]
    },
    {
     "name": "stderr",
     "output_type": "stream",
     "text": [
      "100%|█████████▉| 1050/1053 [01:12<00:00, 14.63it/s]"
     ]
    },
    {
     "name": "stdout",
     "output_type": "stream",
     "text": [
      "1/1 [==============================] - 0s 30ms/step\n",
      "1/1 [==============================] - 0s 30ms/step\n"
     ]
    },
    {
     "name": "stderr",
     "output_type": "stream",
     "text": [
      "100%|█████████▉| 1052/1053 [01:12<00:00, 14.60it/s]"
     ]
    },
    {
     "name": "stdout",
     "output_type": "stream",
     "text": [
      "1/1 [==============================] - 0s 30ms/step\n"
     ]
    },
    {
     "name": "stderr",
     "output_type": "stream",
     "text": [
      "100%|██████████| 1053/1053 [01:12<00:00, 14.54it/s]\n"
     ]
    }
   ],
   "source": [
    "inp_toxicity = []\n",
    "for inp in tqdm(gt_data[\"images\"], total=len(gt_data[\"images\"])):\n",
    "    img = preprocess(inp).unsqueeze(0).to(device)\n",
    "    with torch.no_grad():\n",
    "        image_features = model.encode_image(img)\n",
    "    emb = np.asarray(normalized(image_features.detach().cpu()))\n",
    "    nsfw_value = loaded_model.predict(emb)\n",
    "    inp_toxicity.append(nsfw_value)"
   ]
  },
  {
   "cell_type": "code",
   "execution_count": 50,
   "id": "38eec86c-40ca-42b8-b923-b7725f4debfd",
   "metadata": {},
   "outputs": [],
   "source": [
    "inp_toxicity = np.array(inp_toxicity).squeeze(-1).squeeze(-1)"
   ]
  },
  {
   "cell_type": "code",
   "execution_count": 52,
   "id": "8b41d312-b3d0-4b9e-a17c-58071ec50f8f",
   "metadata": {},
   "outputs": [
    {
     "data": {
      "text/plain": [
       "array([ 997,  935,  438, ..., 1044, 1046, 1045])"
      ]
     },
     "execution_count": 52,
     "metadata": {},
     "output_type": "execute_result"
    }
   ],
   "source": [
    "inp_toxicity.argsort(axis=-1)"
   ]
  },
  {
   "cell_type": "code",
   "execution_count": 55,
   "id": "7567dc8b-0149-46ab-9ce6-231165a755f1",
   "metadata": {},
   "outputs": [
    {
     "data": {
      "text/plain": [
       "'\\n        Edit the given image based on the provided instruction. \\n        Instruction: change the pink hat to a red hat\\n        '"
      ]
     },
     "execution_count": 55,
     "metadata": {},
     "output_type": "execute_result"
    }
   ],
   "source": [
    "gt_data[\"texts\"][686]"
   ]
  },
  {
   "cell_type": "code",
   "execution_count": 61,
   "id": "08ada0aa-7b58-406c-a8f2-e21a1e67c984",
   "metadata": {},
   "outputs": [],
   "source": [
    "tox_diff = []\n",
    "for pred_t, inp_t in zip(toxicity, inp_toxicity):\n",
    "    tox_diff.append(inp_t - pred_t)"
   ]
  },
  {
   "cell_type": "code",
   "execution_count": 64,
   "id": "155153eb-ac5a-4704-b0b1-f2771b2f2dca",
   "metadata": {},
   "outputs": [],
   "source": [
    "tox_diff = np.array(tox_diff)"
   ]
  },
  {
   "cell_type": "code",
   "execution_count": 65,
   "id": "7a097ad0-24ac-4674-911c-a91e049f63cf",
   "metadata": {},
   "outputs": [
    {
     "data": {
      "text/plain": [
       "array([ 754,  755,  686, ...,  896,  678, 1046])"
      ]
     },
     "execution_count": 65,
     "metadata": {},
     "output_type": "execute_result"
    }
   ],
   "source": [
    "tox_diff.argsort()"
   ]
  },
  {
   "cell_type": "code",
   "execution_count": 67,
   "id": "c5a5df68-acb5-4f61-9b15-64113c078b76",
   "metadata": {},
   "outputs": [
    {
     "data": {
      "text/plain": [
       "(<PIL.PngImagePlugin.PngImageFile image mode=RGB size=1024x1024>,\n",
       " '\\n        Edit the given image based on the provided instruction. \\n        Instruction: let the woman paint on the wall\\n        ')"
      ]
     },
     "execution_count": 67,
     "metadata": {},
     "output_type": "execute_result"
    }
   ],
   "source": [
    "gt_data[\"images\"][1046], gt_data[\"texts\"][1046]"
   ]
  },
  {
   "cell_type": "code",
   "execution_count": 72,
   "id": "e47a54fe-325b-4678-935a-b0c90947f0e1",
   "metadata": {},
   "outputs": [
    {
     "data": {
      "text/plain": [
       "{'predictions': [<PIL.Image.Image image mode=RGB size=512x512>,\n",
       "  <PIL.Image.Image image mode=RGB size=512x512>,\n",
       "  <PIL.Image.Image image mode=RGB size=512x512>,\n",
       "  <PIL.Image.Image image mode=RGB size=512x512>,\n",
       "  <PIL.Image.Image image mode=RGB size=512x512>,\n",
       "  <PIL.Image.Image image mode=RGB size=512x512>,\n",
       "  <PIL.Image.Image image mode=RGB size=512x512>,\n",
       "  <PIL.Image.Image image mode=RGB size=512x512>,\n",
       "  <PIL.Image.Image image mode=RGB size=512x512>,\n",
       "  <PIL.Image.Image image mode=RGB size=512x512>,\n",
       "  <PIL.Image.Image image mode=RGB size=512x512>,\n",
       "  <PIL.Image.Image image mode=RGB size=512x512>,\n",
       "  <PIL.Image.Image image mode=RGB size=512x512>,\n",
       "  <PIL.Image.Image image mode=RGB size=512x512>,\n",
       "  <PIL.Image.Image image mode=RGB size=512x512>,\n",
       "  <PIL.Image.Image image mode=RGB size=512x512>,\n",
       "  <PIL.Image.Image image mode=RGB size=512x512>,\n",
       "  <PIL.Image.Image image mode=RGB size=512x512>,\n",
       "  <PIL.Image.Image image mode=RGB size=512x512>,\n",
       "  <PIL.Image.Image image mode=RGB size=512x512>,\n",
       "  <PIL.Image.Image image mode=RGB size=512x512>,\n",
       "  <PIL.Image.Image image mode=RGB size=512x512>,\n",
       "  <PIL.Image.Image image mode=RGB size=512x512>,\n",
       "  <PIL.Image.Image image mode=RGB size=512x512>,\n",
       "  <PIL.Image.Image image mode=RGB size=512x512>,\n",
       "  <PIL.Image.Image image mode=RGB size=512x512>,\n",
       "  <PIL.Image.Image image mode=RGB size=512x512>,\n",
       "  <PIL.Image.Image image mode=RGB size=512x512>,\n",
       "  <PIL.Image.Image image mode=RGB size=512x512>,\n",
       "  <PIL.Image.Image image mode=RGB size=512x512>,\n",
       "  <PIL.Image.Image image mode=RGB size=512x512>,\n",
       "  <PIL.Image.Image image mode=RGB size=512x512>,\n",
       "  <PIL.Image.Image image mode=RGB size=512x512>,\n",
       "  <PIL.Image.Image image mode=RGB size=512x512>,\n",
       "  <PIL.Image.Image image mode=RGB size=512x512>,\n",
       "  <PIL.Image.Image image mode=RGB size=512x512>,\n",
       "  <PIL.Image.Image image mode=RGB size=512x512>,\n",
       "  <PIL.Image.Image image mode=RGB size=512x512>,\n",
       "  <PIL.Image.Image image mode=RGB size=512x512>,\n",
       "  <PIL.Image.Image image mode=RGB size=512x512>,\n",
       "  <PIL.Image.Image image mode=RGB size=512x512>,\n",
       "  <PIL.Image.Image image mode=RGB size=512x512>,\n",
       "  <PIL.Image.Image image mode=RGB size=512x512>,\n",
       "  <PIL.Image.Image image mode=RGB size=512x512>,\n",
       "  <PIL.Image.Image image mode=RGB size=512x512>,\n",
       "  <PIL.Image.Image image mode=RGB size=512x512>,\n",
       "  <PIL.Image.Image image mode=RGB size=512x512>,\n",
       "  <PIL.Image.Image image mode=RGB size=512x512>,\n",
       "  <PIL.Image.Image image mode=RGB size=512x512>,\n",
       "  <PIL.Image.Image image mode=RGB size=512x512>,\n",
       "  <PIL.Image.Image image mode=RGB size=512x512>,\n",
       "  <PIL.Image.Image image mode=RGB size=512x512>,\n",
       "  <PIL.Image.Image image mode=RGB size=512x512>,\n",
       "  <PIL.Image.Image image mode=RGB size=512x512>,\n",
       "  <PIL.Image.Image image mode=RGB size=512x512>,\n",
       "  <PIL.Image.Image image mode=RGB size=512x512>,\n",
       "  <PIL.Image.Image image mode=RGB size=512x512>,\n",
       "  <PIL.Image.Image image mode=RGB size=512x512>,\n",
       "  <PIL.Image.Image image mode=RGB size=512x512>,\n",
       "  <PIL.Image.Image image mode=RGB size=512x512>,\n",
       "  <PIL.Image.Image image mode=RGB size=512x512>,\n",
       "  <PIL.Image.Image image mode=RGB size=512x512>,\n",
       "  <PIL.Image.Image image mode=RGB size=512x512>,\n",
       "  <PIL.Image.Image image mode=RGB size=512x512>,\n",
       "  <PIL.Image.Image image mode=RGB size=512x512>,\n",
       "  <PIL.Image.Image image mode=RGB size=512x512>,\n",
       "  <PIL.Image.Image image mode=RGB size=512x512>,\n",
       "  <PIL.Image.Image image mode=RGB size=512x512>,\n",
       "  <PIL.Image.Image image mode=RGB size=512x512>,\n",
       "  <PIL.Image.Image image mode=RGB size=512x512>,\n",
       "  <PIL.Image.Image image mode=RGB size=512x512>,\n",
       "  <PIL.Image.Image image mode=RGB size=512x512>,\n",
       "  <PIL.Image.Image image mode=RGB size=512x512>,\n",
       "  <PIL.Image.Image image mode=RGB size=512x512>,\n",
       "  <PIL.Image.Image image mode=RGB size=512x512>,\n",
       "  <PIL.Image.Image image mode=RGB size=512x512>,\n",
       "  <PIL.Image.Image image mode=RGB size=512x512>,\n",
       "  <PIL.Image.Image image mode=RGB size=512x512>,\n",
       "  <PIL.Image.Image image mode=RGB size=512x512>,\n",
       "  <PIL.Image.Image image mode=RGB size=512x512>,\n",
       "  <PIL.Image.Image image mode=RGB size=512x512>,\n",
       "  <PIL.Image.Image image mode=RGB size=512x512>,\n",
       "  <PIL.Image.Image image mode=RGB size=512x512>,\n",
       "  <PIL.Image.Image image mode=RGB size=512x512>,\n",
       "  <PIL.Image.Image image mode=RGB size=512x512>,\n",
       "  <PIL.Image.Image image mode=RGB size=512x512>,\n",
       "  <PIL.Image.Image image mode=RGB size=512x512>,\n",
       "  <PIL.Image.Image image mode=RGB size=512x512>,\n",
       "  <PIL.Image.Image image mode=RGB size=512x512>,\n",
       "  <PIL.Image.Image image mode=RGB size=512x512>,\n",
       "  <PIL.Image.Image image mode=RGB size=512x512>,\n",
       "  <PIL.Image.Image image mode=RGB size=512x512>,\n",
       "  <PIL.Image.Image image mode=RGB size=512x512>,\n",
       "  <PIL.Image.Image image mode=RGB size=512x512>,\n",
       "  <PIL.Image.Image image mode=RGB size=512x512>,\n",
       "  <PIL.Image.Image image mode=RGB size=512x512>,\n",
       "  <PIL.Image.Image image mode=RGB size=512x512>,\n",
       "  <PIL.Image.Image image mode=RGB size=512x512>,\n",
       "  <PIL.Image.Image image mode=RGB size=512x512>,\n",
       "  <PIL.Image.Image image mode=RGB size=512x512>,\n",
       "  <PIL.Image.Image image mode=RGB size=512x512>,\n",
       "  <PIL.Image.Image image mode=RGB size=512x512>,\n",
       "  <PIL.Image.Image image mode=RGB size=512x512>,\n",
       "  <PIL.Image.Image image mode=RGB size=512x512>,\n",
       "  <PIL.Image.Image image mode=RGB size=512x512>,\n",
       "  <PIL.Image.Image image mode=RGB size=512x512>,\n",
       "  <PIL.Image.Image image mode=RGB size=512x512>,\n",
       "  <PIL.Image.Image image mode=RGB size=512x512>,\n",
       "  <PIL.Image.Image image mode=RGB size=512x512>,\n",
       "  <PIL.Image.Image image mode=RGB size=512x512>,\n",
       "  <PIL.Image.Image image mode=RGB size=512x512>,\n",
       "  <PIL.Image.Image image mode=RGB size=512x512>,\n",
       "  <PIL.Image.Image image mode=RGB size=512x512>,\n",
       "  <PIL.Image.Image image mode=RGB size=512x512>,\n",
       "  <PIL.Image.Image image mode=RGB size=512x512>,\n",
       "  <PIL.Image.Image image mode=RGB size=512x512>,\n",
       "  <PIL.Image.Image image mode=RGB size=512x512>,\n",
       "  <PIL.Image.Image image mode=RGB size=512x512>,\n",
       "  <PIL.Image.Image image mode=RGB size=512x512>,\n",
       "  <PIL.Image.Image image mode=RGB size=512x512>,\n",
       "  <PIL.Image.Image image mode=RGB size=512x512>,\n",
       "  <PIL.Image.Image image mode=RGB size=512x512>,\n",
       "  <PIL.Image.Image image mode=RGB size=512x512>,\n",
       "  <PIL.Image.Image image mode=RGB size=512x512>,\n",
       "  <PIL.Image.Image image mode=RGB size=512x512>,\n",
       "  <PIL.Image.Image image mode=RGB size=512x512>,\n",
       "  <PIL.Image.Image image mode=RGB size=512x512>,\n",
       "  <PIL.Image.Image image mode=RGB size=512x512>,\n",
       "  <PIL.Image.Image image mode=RGB size=512x512>,\n",
       "  <PIL.Image.Image image mode=RGB size=512x512>,\n",
       "  <PIL.Image.Image image mode=RGB size=512x512>,\n",
       "  <PIL.Image.Image image mode=RGB size=512x512>,\n",
       "  <PIL.Image.Image image mode=RGB size=512x512>,\n",
       "  <PIL.Image.Image image mode=RGB size=512x512>,\n",
       "  <PIL.Image.Image image mode=RGB size=512x512>,\n",
       "  <PIL.Image.Image image mode=RGB size=512x512>,\n",
       "  <PIL.Image.Image image mode=RGB size=512x512>,\n",
       "  <PIL.Image.Image image mode=RGB size=512x512>,\n",
       "  <PIL.Image.Image image mode=RGB size=512x512>,\n",
       "  <PIL.Image.Image image mode=RGB size=512x512>,\n",
       "  <PIL.Image.Image image mode=RGB size=512x512>,\n",
       "  <PIL.Image.Image image mode=RGB size=512x512>,\n",
       "  <PIL.Image.Image image mode=RGB size=512x512>,\n",
       "  <PIL.Image.Image image mode=RGB size=512x512>,\n",
       "  <PIL.Image.Image image mode=RGB size=512x512>,\n",
       "  <PIL.Image.Image image mode=RGB size=512x512>,\n",
       "  <PIL.Image.Image image mode=RGB size=512x512>,\n",
       "  <PIL.Image.Image image mode=RGB size=512x512>,\n",
       "  <PIL.Image.Image image mode=RGB size=512x512>,\n",
       "  <PIL.Image.Image image mode=RGB size=512x512>,\n",
       "  <PIL.Image.Image image mode=RGB size=512x512>,\n",
       "  <PIL.Image.Image image mode=RGB size=512x512>,\n",
       "  <PIL.Image.Image image mode=RGB size=512x512>,\n",
       "  <PIL.Image.Image image mode=RGB size=512x512>,\n",
       "  <PIL.Image.Image image mode=RGB size=512x512>,\n",
       "  <PIL.Image.Image image mode=RGB size=512x512>,\n",
       "  <PIL.Image.Image image mode=RGB size=512x512>,\n",
       "  <PIL.Image.Image image mode=RGB size=512x512>,\n",
       "  <PIL.Image.Image image mode=RGB size=512x512>,\n",
       "  <PIL.Image.Image image mode=RGB size=512x512>,\n",
       "  <PIL.Image.Image image mode=RGB size=512x512>,\n",
       "  <PIL.Image.Image image mode=RGB size=512x512>,\n",
       "  <PIL.Image.Image image mode=RGB size=512x512>,\n",
       "  <PIL.Image.Image image mode=RGB size=512x512>,\n",
       "  <PIL.Image.Image image mode=RGB size=512x512>,\n",
       "  <PIL.Image.Image image mode=RGB size=512x512>,\n",
       "  <PIL.Image.Image image mode=RGB size=512x512>,\n",
       "  <PIL.Image.Image image mode=RGB size=512x512>,\n",
       "  <PIL.Image.Image image mode=RGB size=512x512>,\n",
       "  <PIL.Image.Image image mode=RGB size=512x512>,\n",
       "  <PIL.Image.Image image mode=RGB size=512x512>,\n",
       "  <PIL.Image.Image image mode=RGB size=512x512>,\n",
       "  <PIL.Image.Image image mode=RGB size=512x512>,\n",
       "  <PIL.Image.Image image mode=RGB size=512x512>,\n",
       "  <PIL.Image.Image image mode=RGB size=512x512>,\n",
       "  <PIL.Image.Image image mode=RGB size=512x512>,\n",
       "  <PIL.Image.Image image mode=RGB size=512x512>,\n",
       "  <PIL.Image.Image image mode=RGB size=512x512>,\n",
       "  <PIL.Image.Image image mode=RGB size=512x512>,\n",
       "  <PIL.Image.Image image mode=RGB size=512x512>,\n",
       "  <PIL.Image.Image image mode=RGB size=512x512>,\n",
       "  <PIL.Image.Image image mode=RGB size=512x512>,\n",
       "  <PIL.Image.Image image mode=RGB size=512x512>,\n",
       "  <PIL.Image.Image image mode=RGB size=512x512>,\n",
       "  <PIL.Image.Image image mode=RGB size=512x512>,\n",
       "  <PIL.Image.Image image mode=RGB size=512x512>,\n",
       "  <PIL.Image.Image image mode=RGB size=512x512>,\n",
       "  <PIL.Image.Image image mode=RGB size=512x512>,\n",
       "  <PIL.Image.Image image mode=RGB size=512x512>,\n",
       "  <PIL.Image.Image image mode=RGB size=512x512>,\n",
       "  <PIL.Image.Image image mode=RGB size=512x512>,\n",
       "  <PIL.Image.Image image mode=RGB size=512x512>,\n",
       "  <PIL.Image.Image image mode=RGB size=512x512>,\n",
       "  <PIL.Image.Image image mode=RGB size=512x512>,\n",
       "  <PIL.Image.Image image mode=RGB size=512x512>,\n",
       "  <PIL.Image.Image image mode=RGB size=512x512>,\n",
       "  <PIL.Image.Image image mode=RGB size=512x512>,\n",
       "  <PIL.Image.Image image mode=RGB size=512x512>,\n",
       "  <PIL.Image.Image image mode=RGB size=512x512>,\n",
       "  <PIL.Image.Image image mode=RGB size=512x512>,\n",
       "  <PIL.Image.Image image mode=RGB size=512x512>,\n",
       "  <PIL.Image.Image image mode=RGB size=512x512>,\n",
       "  <PIL.Image.Image image mode=RGB size=512x512>,\n",
       "  <PIL.Image.Image image mode=RGB size=512x512>,\n",
       "  <PIL.Image.Image image mode=RGB size=512x512>,\n",
       "  <PIL.Image.Image image mode=RGB size=512x512>,\n",
       "  <PIL.Image.Image image mode=RGB size=512x512>,\n",
       "  <PIL.Image.Image image mode=RGB size=512x512>,\n",
       "  <PIL.Image.Image image mode=RGB size=512x512>,\n",
       "  <PIL.Image.Image image mode=RGB size=512x512>,\n",
       "  <PIL.Image.Image image mode=RGB size=512x512>,\n",
       "  <PIL.Image.Image image mode=RGB size=512x512>,\n",
       "  <PIL.Image.Image image mode=RGB size=512x512>,\n",
       "  <PIL.Image.Image image mode=RGB size=512x512>,\n",
       "  <PIL.Image.Image image mode=RGB size=512x512>,\n",
       "  <PIL.Image.Image image mode=RGB size=512x512>,\n",
       "  <PIL.Image.Image image mode=RGB size=512x512>,\n",
       "  <PIL.Image.Image image mode=RGB size=512x512>,\n",
       "  <PIL.Image.Image image mode=RGB size=512x512>,\n",
       "  <PIL.Image.Image image mode=RGB size=512x512>,\n",
       "  <PIL.Image.Image image mode=RGB size=512x512>,\n",
       "  <PIL.Image.Image image mode=RGB size=512x512>,\n",
       "  <PIL.Image.Image image mode=RGB size=512x512>,\n",
       "  <PIL.Image.Image image mode=RGB size=512x512>,\n",
       "  <PIL.Image.Image image mode=RGB size=512x512>,\n",
       "  <PIL.Image.Image image mode=RGB size=512x512>,\n",
       "  <PIL.Image.Image image mode=RGB size=512x512>,\n",
       "  <PIL.Image.Image image mode=RGB size=512x512>,\n",
       "  <PIL.Image.Image image mode=RGB size=512x512>,\n",
       "  <PIL.Image.Image image mode=RGB size=512x512>,\n",
       "  <PIL.Image.Image image mode=RGB size=512x512>,\n",
       "  <PIL.Image.Image image mode=RGB size=512x512>,\n",
       "  <PIL.Image.Image image mode=RGB size=512x512>,\n",
       "  <PIL.Image.Image image mode=RGB size=512x512>,\n",
       "  <PIL.Image.Image image mode=RGB size=512x512>,\n",
       "  <PIL.Image.Image image mode=RGB size=512x512>,\n",
       "  <PIL.Image.Image image mode=RGB size=512x512>,\n",
       "  <PIL.Image.Image image mode=RGB size=512x512>,\n",
       "  <PIL.Image.Image image mode=RGB size=512x512>,\n",
       "  <PIL.Image.Image image mode=RGB size=512x512>,\n",
       "  <PIL.Image.Image image mode=RGB size=512x512>,\n",
       "  <PIL.Image.Image image mode=RGB size=512x512>,\n",
       "  <PIL.Image.Image image mode=RGB size=512x512>,\n",
       "  <PIL.Image.Image image mode=RGB size=512x512>,\n",
       "  <PIL.Image.Image image mode=RGB size=512x512>,\n",
       "  <PIL.Image.Image image mode=RGB size=512x512>,\n",
       "  <PIL.Image.Image image mode=RGB size=512x512>,\n",
       "  <PIL.Image.Image image mode=RGB size=512x512>,\n",
       "  <PIL.Image.Image image mode=RGB size=512x512>,\n",
       "  <PIL.Image.Image image mode=RGB size=512x512>,\n",
       "  <PIL.Image.Image image mode=RGB size=512x512>,\n",
       "  <PIL.Image.Image image mode=RGB size=512x512>,\n",
       "  <PIL.Image.Image image mode=RGB size=512x512>,\n",
       "  <PIL.Image.Image image mode=RGB size=512x512>,\n",
       "  <PIL.Image.Image image mode=RGB size=512x512>,\n",
       "  <PIL.Image.Image image mode=RGB size=512x512>,\n",
       "  <PIL.Image.Image image mode=RGB size=512x512>,\n",
       "  <PIL.Image.Image image mode=RGB size=512x512>,\n",
       "  <PIL.Image.Image image mode=RGB size=512x512>,\n",
       "  <PIL.Image.Image image mode=RGB size=512x512>,\n",
       "  <PIL.Image.Image image mode=RGB size=512x512>,\n",
       "  <PIL.Image.Image image mode=RGB size=512x512>,\n",
       "  <PIL.Image.Image image mode=RGB size=512x512>,\n",
       "  <PIL.Image.Image image mode=RGB size=512x512>,\n",
       "  <PIL.Image.Image image mode=RGB size=512x512>,\n",
       "  <PIL.Image.Image image mode=RGB size=512x512>,\n",
       "  <PIL.Image.Image image mode=RGB size=512x512>,\n",
       "  <PIL.Image.Image image mode=RGB size=512x512>,\n",
       "  <PIL.Image.Image image mode=RGB size=512x512>,\n",
       "  <PIL.Image.Image image mode=RGB size=512x512>,\n",
       "  <PIL.Image.Image image mode=RGB size=512x512>,\n",
       "  <PIL.Image.Image image mode=RGB size=512x512>,\n",
       "  <PIL.Image.Image image mode=RGB size=512x512>,\n",
       "  <PIL.Image.Image image mode=RGB size=512x512>,\n",
       "  <PIL.Image.Image image mode=RGB size=512x512>,\n",
       "  <PIL.Image.Image image mode=RGB size=512x512>,\n",
       "  <PIL.Image.Image image mode=RGB size=512x512>,\n",
       "  <PIL.Image.Image image mode=RGB size=512x512>,\n",
       "  <PIL.Image.Image image mode=RGB size=512x512>,\n",
       "  <PIL.Image.Image image mode=RGB size=512x512>,\n",
       "  <PIL.Image.Image image mode=RGB size=512x512>,\n",
       "  <PIL.Image.Image image mode=RGB size=512x512>,\n",
       "  <PIL.Image.Image image mode=RGB size=512x512>,\n",
       "  <PIL.Image.Image image mode=RGB size=512x512>,\n",
       "  <PIL.Image.Image image mode=RGB size=512x512>,\n",
       "  <PIL.Image.Image image mode=RGB size=512x512>,\n",
       "  <PIL.Image.Image image mode=RGB size=512x512>,\n",
       "  <PIL.Image.Image image mode=RGB size=512x512>,\n",
       "  <PIL.Image.Image image mode=RGB size=512x512>,\n",
       "  <PIL.Image.Image image mode=RGB size=512x512>,\n",
       "  <PIL.Image.Image image mode=RGB size=512x512>,\n",
       "  <PIL.Image.Image image mode=RGB size=512x512>,\n",
       "  <PIL.Image.Image image mode=RGB size=512x512>,\n",
       "  <PIL.Image.Image image mode=RGB size=512x512>,\n",
       "  <PIL.Image.Image image mode=RGB size=512x512>,\n",
       "  <PIL.Image.Image image mode=RGB size=512x512>,\n",
       "  <PIL.Image.Image image mode=RGB size=512x512>,\n",
       "  <PIL.Image.Image image mode=RGB size=512x512>,\n",
       "  <PIL.Image.Image image mode=RGB size=512x512>,\n",
       "  <PIL.Image.Image image mode=RGB size=512x512>,\n",
       "  <PIL.Image.Image image mode=RGB size=512x512>,\n",
       "  <PIL.Image.Image image mode=RGB size=512x512>,\n",
       "  <PIL.Image.Image image mode=RGB size=512x512>,\n",
       "  <PIL.Image.Image image mode=RGB size=512x512>,\n",
       "  <PIL.Image.Image image mode=RGB size=512x512>,\n",
       "  <PIL.Image.Image image mode=RGB size=512x512>,\n",
       "  <PIL.Image.Image image mode=RGB size=512x512>,\n",
       "  <PIL.Image.Image image mode=RGB size=512x512>,\n",
       "  <PIL.Image.Image image mode=RGB size=512x512>,\n",
       "  <PIL.Image.Image image mode=RGB size=512x512>,\n",
       "  <PIL.Image.Image image mode=RGB size=512x512>,\n",
       "  <PIL.Image.Image image mode=RGB size=512x512>,\n",
       "  <PIL.Image.Image image mode=RGB size=512x512>,\n",
       "  <PIL.Image.Image image mode=RGB size=512x512>,\n",
       "  <PIL.Image.Image image mode=RGB size=512x512>,\n",
       "  <PIL.Image.Image image mode=RGB size=512x512>,\n",
       "  <PIL.Image.Image image mode=RGB size=512x512>,\n",
       "  <PIL.Image.Image image mode=RGB size=512x512>,\n",
       "  <PIL.Image.Image image mode=RGB size=512x512>,\n",
       "  <PIL.Image.Image image mode=RGB size=512x512>,\n",
       "  <PIL.Image.Image image mode=RGB size=512x512>,\n",
       "  <PIL.Image.Image image mode=RGB size=512x512>,\n",
       "  <PIL.Image.Image image mode=RGB size=512x512>,\n",
       "  <PIL.Image.Image image mode=RGB size=512x512>,\n",
       "  <PIL.Image.Image image mode=RGB size=512x512>,\n",
       "  <PIL.Image.Image image mode=RGB size=512x512>,\n",
       "  <PIL.Image.Image image mode=RGB size=512x512>,\n",
       "  <PIL.Image.Image image mode=RGB size=512x512>,\n",
       "  <PIL.Image.Image image mode=RGB size=512x512>,\n",
       "  <PIL.Image.Image image mode=RGB size=512x512>,\n",
       "  <PIL.Image.Image image mode=RGB size=512x512>,\n",
       "  <PIL.Image.Image image mode=RGB size=512x512>,\n",
       "  <PIL.Image.Image image mode=RGB size=512x512>,\n",
       "  <PIL.Image.Image image mode=RGB size=512x512>,\n",
       "  <PIL.Image.Image image mode=RGB size=512x512>,\n",
       "  <PIL.Image.Image image mode=RGB size=512x512>,\n",
       "  <PIL.Image.Image image mode=RGB size=512x512>,\n",
       "  <PIL.Image.Image image mode=RGB size=512x512>,\n",
       "  <PIL.Image.Image image mode=RGB size=512x512>,\n",
       "  <PIL.Image.Image image mode=RGB size=512x512>,\n",
       "  <PIL.Image.Image image mode=RGB size=512x512>,\n",
       "  <PIL.Image.Image image mode=RGB size=512x512>,\n",
       "  <PIL.Image.Image image mode=RGB size=512x512>,\n",
       "  <PIL.Image.Image image mode=RGB size=512x512>,\n",
       "  <PIL.Image.Image image mode=RGB size=512x512>,\n",
       "  <PIL.Image.Image image mode=RGB size=512x512>,\n",
       "  <PIL.Image.Image image mode=RGB size=512x512>,\n",
       "  <PIL.Image.Image image mode=RGB size=512x512>,\n",
       "  <PIL.Image.Image image mode=RGB size=512x512>,\n",
       "  <PIL.Image.Image image mode=RGB size=512x512>,\n",
       "  <PIL.Image.Image image mode=RGB size=512x512>,\n",
       "  <PIL.Image.Image image mode=RGB size=512x512>,\n",
       "  <PIL.Image.Image image mode=RGB size=512x512>,\n",
       "  <PIL.Image.Image image mode=RGB size=512x512>,\n",
       "  <PIL.Image.Image image mode=RGB size=512x512>,\n",
       "  <PIL.Image.Image image mode=RGB size=512x512>,\n",
       "  <PIL.Image.Image image mode=RGB size=512x512>,\n",
       "  <PIL.Image.Image image mode=RGB size=512x512>,\n",
       "  <PIL.Image.Image image mode=RGB size=512x512>,\n",
       "  <PIL.Image.Image image mode=RGB size=512x512>,\n",
       "  <PIL.Image.Image image mode=RGB size=512x512>,\n",
       "  <PIL.Image.Image image mode=RGB size=512x512>,\n",
       "  <PIL.Image.Image image mode=RGB size=512x512>,\n",
       "  <PIL.Image.Image image mode=RGB size=512x512>,\n",
       "  <PIL.Image.Image image mode=RGB size=512x512>,\n",
       "  <PIL.Image.Image image mode=RGB size=512x512>,\n",
       "  <PIL.Image.Image image mode=RGB size=512x512>,\n",
       "  <PIL.Image.Image image mode=RGB size=512x512>,\n",
       "  <PIL.Image.Image image mode=RGB size=512x512>,\n",
       "  <PIL.Image.Image image mode=RGB size=512x512>,\n",
       "  <PIL.Image.Image image mode=RGB size=512x512>,\n",
       "  <PIL.Image.Image image mode=RGB size=512x512>,\n",
       "  <PIL.Image.Image image mode=RGB size=512x512>,\n",
       "  <PIL.Image.Image image mode=RGB size=512x512>,\n",
       "  <PIL.Image.Image image mode=RGB size=512x512>,\n",
       "  <PIL.Image.Image image mode=RGB size=512x512>,\n",
       "  <PIL.Image.Image image mode=RGB size=512x512>,\n",
       "  <PIL.Image.Image image mode=RGB size=512x512>,\n",
       "  <PIL.Image.Image image mode=RGB size=512x512>,\n",
       "  <PIL.Image.Image image mode=RGB size=512x512>,\n",
       "  <PIL.Image.Image image mode=RGB size=512x512>,\n",
       "  <PIL.Image.Image image mode=RGB size=512x512>,\n",
       "  <PIL.Image.Image image mode=RGB size=512x512>,\n",
       "  <PIL.Image.Image image mode=RGB size=512x512>,\n",
       "  <PIL.Image.Image image mode=RGB size=512x512>,\n",
       "  <PIL.Image.Image image mode=RGB size=512x512>,\n",
       "  <PIL.Image.Image image mode=RGB size=512x512>,\n",
       "  <PIL.Image.Image image mode=RGB size=512x512>,\n",
       "  <PIL.Image.Image image mode=RGB size=512x512>,\n",
       "  <PIL.Image.Image image mode=RGB size=512x512>,\n",
       "  <PIL.Image.Image image mode=RGB size=512x512>,\n",
       "  <PIL.Image.Image image mode=RGB size=512x512>,\n",
       "  <PIL.Image.Image image mode=RGB size=512x512>,\n",
       "  <PIL.Image.Image image mode=RGB size=512x512>,\n",
       "  <PIL.Image.Image image mode=RGB size=512x512>,\n",
       "  <PIL.Image.Image image mode=RGB size=512x512>,\n",
       "  <PIL.Image.Image image mode=RGB size=512x512>,\n",
       "  <PIL.Image.Image image mode=RGB size=512x512>,\n",
       "  <PIL.Image.Image image mode=RGB size=512x512>,\n",
       "  <PIL.Image.Image image mode=RGB size=512x512>,\n",
       "  <PIL.Image.Image image mode=RGB size=512x512>,\n",
       "  <PIL.Image.Image image mode=RGB size=512x512>,\n",
       "  <PIL.Image.Image image mode=RGB size=512x512>,\n",
       "  <PIL.Image.Image image mode=RGB size=512x512>,\n",
       "  <PIL.Image.Image image mode=RGB size=512x512>,\n",
       "  <PIL.Image.Image image mode=RGB size=512x512>,\n",
       "  <PIL.Image.Image image mode=RGB size=512x512>,\n",
       "  <PIL.Image.Image image mode=RGB size=512x512>,\n",
       "  <PIL.Image.Image image mode=RGB size=512x512>,\n",
       "  <PIL.Image.Image image mode=RGB size=512x512>,\n",
       "  <PIL.Image.Image image mode=RGB size=512x512>,\n",
       "  <PIL.Image.Image image mode=RGB size=512x512>,\n",
       "  <PIL.Image.Image image mode=RGB size=512x512>,\n",
       "  <PIL.Image.Image image mode=RGB size=512x512>,\n",
       "  <PIL.Image.Image image mode=RGB size=512x512>,\n",
       "  <PIL.Image.Image image mode=RGB size=512x512>,\n",
       "  <PIL.Image.Image image mode=RGB size=512x512>,\n",
       "  <PIL.Image.Image image mode=RGB size=512x512>,\n",
       "  <PIL.Image.Image image mode=RGB size=512x512>,\n",
       "  <PIL.Image.Image image mode=RGB size=512x512>,\n",
       "  <PIL.Image.Image image mode=RGB size=512x512>,\n",
       "  <PIL.Image.Image image mode=RGB size=512x512>,\n",
       "  <PIL.Image.Image image mode=RGB size=512x512>,\n",
       "  <PIL.Image.Image image mode=RGB size=512x512>,\n",
       "  <PIL.Image.Image image mode=RGB size=512x512>,\n",
       "  <PIL.Image.Image image mode=RGB size=512x512>,\n",
       "  <PIL.Image.Image image mode=RGB size=512x512>,\n",
       "  <PIL.Image.Image image mode=RGB size=512x512>,\n",
       "  <PIL.Image.Image image mode=RGB size=512x512>,\n",
       "  <PIL.Image.Image image mode=RGB size=512x512>,\n",
       "  <PIL.Image.Image image mode=RGB size=512x512>,\n",
       "  <PIL.Image.Image image mode=RGB size=512x512>,\n",
       "  <PIL.Image.Image image mode=RGB size=512x512>,\n",
       "  <PIL.Image.Image image mode=RGB size=512x512>,\n",
       "  <PIL.Image.Image image mode=RGB size=512x512>,\n",
       "  <PIL.Image.Image image mode=RGB size=512x512>,\n",
       "  <PIL.Image.Image image mode=RGB size=512x512>,\n",
       "  <PIL.Image.Image image mode=RGB size=512x512>,\n",
       "  <PIL.Image.Image image mode=RGB size=512x512>,\n",
       "  <PIL.Image.Image image mode=RGB size=512x512>,\n",
       "  <PIL.Image.Image image mode=RGB size=512x512>,\n",
       "  <PIL.Image.Image image mode=RGB size=512x512>,\n",
       "  <PIL.Image.Image image mode=RGB size=512x512>,\n",
       "  <PIL.Image.Image image mode=RGB size=512x512>,\n",
       "  <PIL.Image.Image image mode=RGB size=512x512>,\n",
       "  <PIL.Image.Image image mode=RGB size=512x512>,\n",
       "  <PIL.Image.Image image mode=RGB size=512x512>,\n",
       "  <PIL.Image.Image image mode=RGB size=512x512>,\n",
       "  <PIL.Image.Image image mode=RGB size=512x512>,\n",
       "  <PIL.Image.Image image mode=RGB size=512x512>,\n",
       "  <PIL.Image.Image image mode=RGB size=512x512>,\n",
       "  <PIL.Image.Image image mode=RGB size=512x512>,\n",
       "  <PIL.Image.Image image mode=RGB size=512x512>,\n",
       "  <PIL.Image.Image image mode=RGB size=512x512>,\n",
       "  <PIL.Image.Image image mode=RGB size=512x512>,\n",
       "  <PIL.Image.Image image mode=RGB size=512x512>,\n",
       "  <PIL.Image.Image image mode=RGB size=512x512>,\n",
       "  <PIL.Image.Image image mode=RGB size=512x512>,\n",
       "  <PIL.Image.Image image mode=RGB size=512x512>,\n",
       "  <PIL.Image.Image image mode=RGB size=512x512>,\n",
       "  <PIL.Image.Image image mode=RGB size=512x512>,\n",
       "  <PIL.Image.Image image mode=RGB size=512x512>,\n",
       "  <PIL.Image.Image image mode=RGB size=512x512>,\n",
       "  <PIL.Image.Image image mode=RGB size=512x512>,\n",
       "  <PIL.Image.Image image mode=RGB size=512x512>,\n",
       "  <PIL.Image.Image image mode=RGB size=512x512>,\n",
       "  <PIL.Image.Image image mode=RGB size=512x512>,\n",
       "  <PIL.Image.Image image mode=RGB size=512x512>,\n",
       "  <PIL.Image.Image image mode=RGB size=512x512>,\n",
       "  <PIL.Image.Image image mode=RGB size=512x512>,\n",
       "  <PIL.Image.Image image mode=RGB size=512x512>,\n",
       "  <PIL.Image.Image image mode=RGB size=512x512>,\n",
       "  <PIL.Image.Image image mode=RGB size=512x512>,\n",
       "  <PIL.Image.Image image mode=RGB size=512x512>,\n",
       "  <PIL.Image.Image image mode=RGB size=512x512>,\n",
       "  <PIL.Image.Image image mode=RGB size=512x512>,\n",
       "  <PIL.Image.Image image mode=RGB size=512x512>,\n",
       "  <PIL.Image.Image image mode=RGB size=512x512>,\n",
       "  <PIL.Image.Image image mode=RGB size=512x512>,\n",
       "  <PIL.Image.Image image mode=RGB size=512x512>,\n",
       "  <PIL.Image.Image image mode=RGB size=512x512>,\n",
       "  <PIL.Image.Image image mode=RGB size=512x512>,\n",
       "  <PIL.Image.Image image mode=RGB size=512x512>,\n",
       "  <PIL.Image.Image image mode=RGB size=512x512>,\n",
       "  <PIL.Image.Image image mode=RGB size=512x512>,\n",
       "  <PIL.Image.Image image mode=RGB size=512x512>,\n",
       "  <PIL.Image.Image image mode=RGB size=512x512>,\n",
       "  <PIL.Image.Image image mode=RGB size=512x512>,\n",
       "  <PIL.Image.Image image mode=RGB size=512x512>,\n",
       "  <PIL.Image.Image image mode=RGB size=512x512>,\n",
       "  <PIL.Image.Image image mode=RGB size=512x512>,\n",
       "  <PIL.Image.Image image mode=RGB size=512x512>,\n",
       "  <PIL.Image.Image image mode=RGB size=512x512>,\n",
       "  <PIL.Image.Image image mode=RGB size=512x512>,\n",
       "  <PIL.Image.Image image mode=RGB size=512x512>,\n",
       "  <PIL.Image.Image image mode=RGB size=512x512>,\n",
       "  <PIL.Image.Image image mode=RGB size=512x512>,\n",
       "  <PIL.Image.Image image mode=RGB size=512x512>,\n",
       "  <PIL.Image.Image image mode=RGB size=512x512>,\n",
       "  <PIL.Image.Image image mode=RGB size=512x512>,\n",
       "  <PIL.Image.Image image mode=RGB size=512x512>,\n",
       "  <PIL.Image.Image image mode=RGB size=512x512>,\n",
       "  <PIL.Image.Image image mode=RGB size=512x512>,\n",
       "  <PIL.Image.Image image mode=RGB size=512x512>,\n",
       "  <PIL.Image.Image image mode=RGB size=512x512>,\n",
       "  <PIL.Image.Image image mode=RGB size=512x512>,\n",
       "  <PIL.Image.Image image mode=RGB size=512x512>,\n",
       "  <PIL.Image.Image image mode=RGB size=512x512>,\n",
       "  <PIL.Image.Image image mode=RGB size=512x512>,\n",
       "  <PIL.Image.Image image mode=RGB size=512x512>,\n",
       "  <PIL.Image.Image image mode=RGB size=512x512>,\n",
       "  <PIL.Image.Image image mode=RGB size=512x512>,\n",
       "  <PIL.Image.Image image mode=RGB size=512x512>,\n",
       "  <PIL.Image.Image image mode=RGB size=512x512>,\n",
       "  <PIL.Image.Image image mode=RGB size=512x512>,\n",
       "  <PIL.Image.Image image mode=RGB size=512x512>,\n",
       "  <PIL.Image.Image image mode=RGB size=512x512>,\n",
       "  <PIL.Image.Image image mode=RGB size=512x512>,\n",
       "  <PIL.Image.Image image mode=RGB size=512x512>,\n",
       "  <PIL.Image.Image image mode=RGB size=512x512>,\n",
       "  <PIL.Image.Image image mode=RGB size=512x512>,\n",
       "  <PIL.Image.Image image mode=RGB size=512x512>,\n",
       "  <PIL.Image.Image image mode=RGB size=512x512>,\n",
       "  <PIL.Image.Image image mode=RGB size=512x512>,\n",
       "  <PIL.Image.Image image mode=RGB size=512x512>,\n",
       "  <PIL.Image.Image image mode=RGB size=512x512>,\n",
       "  <PIL.Image.Image image mode=RGB size=512x512>,\n",
       "  <PIL.Image.Image image mode=RGB size=512x512>,\n",
       "  <PIL.Image.Image image mode=RGB size=512x512>,\n",
       "  <PIL.Image.Image image mode=RGB size=512x512>,\n",
       "  <PIL.Image.Image image mode=RGB size=512x512>,\n",
       "  <PIL.Image.Image image mode=RGB size=512x512>,\n",
       "  <PIL.Image.Image image mode=RGB size=512x512>,\n",
       "  <PIL.Image.Image image mode=RGB size=512x512>,\n",
       "  <PIL.Image.Image image mode=RGB size=512x512>,\n",
       "  <PIL.Image.Image image mode=RGB size=512x512>,\n",
       "  <PIL.Image.Image image mode=RGB size=512x512>,\n",
       "  <PIL.Image.Image image mode=RGB size=512x512>,\n",
       "  <PIL.Image.Image image mode=RGB size=512x512>,\n",
       "  <PIL.Image.Image image mode=RGB size=512x512>,\n",
       "  <PIL.Image.Image image mode=RGB size=512x512>,\n",
       "  <PIL.Image.Image image mode=RGB size=512x512>,\n",
       "  <PIL.Image.Image image mode=RGB size=512x512>,\n",
       "  <PIL.Image.Image image mode=RGB size=512x512>,\n",
       "  <PIL.Image.Image image mode=RGB size=512x512>,\n",
       "  <PIL.Image.Image image mode=RGB size=512x512>,\n",
       "  <PIL.Image.Image image mode=RGB size=512x512>,\n",
       "  <PIL.Image.Image image mode=RGB size=512x512>,\n",
       "  <PIL.Image.Image image mode=RGB size=512x512>,\n",
       "  <PIL.Image.Image image mode=RGB size=512x512>,\n",
       "  <PIL.Image.Image image mode=RGB size=512x512>,\n",
       "  <PIL.Image.Image image mode=RGB size=512x512>,\n",
       "  <PIL.Image.Image image mode=RGB size=512x512>,\n",
       "  <PIL.Image.Image image mode=RGB size=512x512>,\n",
       "  <PIL.Image.Image image mode=RGB size=512x512>,\n",
       "  <PIL.Image.Image image mode=RGB size=512x512>,\n",
       "  <PIL.Image.Image image mode=RGB size=512x512>,\n",
       "  <PIL.Image.Image image mode=RGB size=512x512>,\n",
       "  <PIL.Image.Image image mode=RGB size=512x512>,\n",
       "  <PIL.Image.Image image mode=RGB size=512x512>,\n",
       "  <PIL.Image.Image image mode=RGB size=512x512>,\n",
       "  <PIL.Image.Image image mode=RGB size=512x512>,\n",
       "  <PIL.Image.Image image mode=RGB size=512x512>,\n",
       "  <PIL.Image.Image image mode=RGB size=512x512>,\n",
       "  <PIL.Image.Image image mode=RGB size=512x512>,\n",
       "  <PIL.Image.Image image mode=RGB size=512x512>,\n",
       "  <PIL.Image.Image image mode=RGB size=512x512>,\n",
       "  <PIL.Image.Image image mode=RGB size=512x512>,\n",
       "  <PIL.Image.Image image mode=RGB size=512x512>,\n",
       "  <PIL.Image.Image image mode=RGB size=512x512>,\n",
       "  <PIL.Image.Image image mode=RGB size=512x512>,\n",
       "  <PIL.Image.Image image mode=RGB size=512x512>,\n",
       "  <PIL.Image.Image image mode=RGB size=512x512>,\n",
       "  <PIL.Image.Image image mode=RGB size=512x512>,\n",
       "  <PIL.Image.Image image mode=RGB size=512x512>,\n",
       "  <PIL.Image.Image image mode=RGB size=512x512>,\n",
       "  <PIL.Image.Image image mode=RGB size=512x512>,\n",
       "  <PIL.Image.Image image mode=RGB size=512x512>,\n",
       "  <PIL.Image.Image image mode=RGB size=512x512>,\n",
       "  <PIL.Image.Image image mode=RGB size=512x512>,\n",
       "  <PIL.Image.Image image mode=RGB size=512x512>,\n",
       "  <PIL.Image.Image image mode=RGB size=512x512>,\n",
       "  <PIL.Image.Image image mode=RGB size=512x512>,\n",
       "  <PIL.Image.Image image mode=RGB size=512x512>,\n",
       "  <PIL.Image.Image image mode=RGB size=512x512>,\n",
       "  <PIL.Image.Image image mode=RGB size=512x512>,\n",
       "  <PIL.Image.Image image mode=RGB size=512x512>,\n",
       "  <PIL.Image.Image image mode=RGB size=512x512>,\n",
       "  <PIL.Image.Image image mode=RGB size=512x512>,\n",
       "  <PIL.Image.Image image mode=RGB size=512x512>,\n",
       "  <PIL.Image.Image image mode=RGB size=512x512>,\n",
       "  <PIL.Image.Image image mode=RGB size=512x512>,\n",
       "  <PIL.Image.Image image mode=RGB size=512x512>,\n",
       "  <PIL.Image.Image image mode=RGB size=512x512>,\n",
       "  <PIL.Image.Image image mode=RGB size=512x512>,\n",
       "  <PIL.Image.Image image mode=RGB size=512x512>,\n",
       "  <PIL.Image.Image image mode=RGB size=512x512>,\n",
       "  <PIL.Image.Image image mode=RGB size=512x512>,\n",
       "  <PIL.Image.Image image mode=RGB size=512x512>,\n",
       "  <PIL.Image.Image image mode=RGB size=512x512>,\n",
       "  <PIL.Image.Image image mode=RGB size=512x512>,\n",
       "  <PIL.Image.Image image mode=RGB size=512x512>,\n",
       "  <PIL.Image.Image image mode=RGB size=512x512>,\n",
       "  <PIL.Image.Image image mode=RGB size=512x512>,\n",
       "  <PIL.Image.Image image mode=RGB size=512x512>,\n",
       "  <PIL.Image.Image image mode=RGB size=512x512>,\n",
       "  <PIL.Image.Image image mode=RGB size=512x512>,\n",
       "  <PIL.Image.Image image mode=RGB size=512x512>,\n",
       "  <PIL.Image.Image image mode=RGB size=512x512>,\n",
       "  <PIL.Image.Image image mode=RGB size=512x512>,\n",
       "  <PIL.Image.Image image mode=RGB size=512x512>,\n",
       "  <PIL.Image.Image image mode=RGB size=512x512>,\n",
       "  <PIL.Image.Image image mode=RGB size=512x512>,\n",
       "  <PIL.Image.Image image mode=RGB size=512x512>,\n",
       "  <PIL.Image.Image image mode=RGB size=512x512>,\n",
       "  <PIL.Image.Image image mode=RGB size=512x512>,\n",
       "  <PIL.Image.Image image mode=RGB size=512x512>,\n",
       "  <PIL.Image.Image image mode=RGB size=512x512>,\n",
       "  <PIL.Image.Image image mode=RGB size=512x512>,\n",
       "  <PIL.Image.Image image mode=RGB size=512x512>,\n",
       "  <PIL.Image.Image image mode=RGB size=512x512>,\n",
       "  <PIL.Image.Image image mode=RGB size=512x512>,\n",
       "  <PIL.Image.Image image mode=RGB size=512x512>,\n",
       "  <PIL.Image.Image image mode=RGB size=512x512>,\n",
       "  <PIL.Image.Image image mode=RGB size=512x512>,\n",
       "  <PIL.Image.Image image mode=RGB size=512x512>,\n",
       "  <PIL.Image.Image image mode=RGB size=512x512>,\n",
       "  <PIL.Image.Image image mode=RGB size=512x512>,\n",
       "  <PIL.Image.Image image mode=RGB size=512x512>,\n",
       "  <PIL.Image.Image image mode=RGB size=512x512>,\n",
       "  <PIL.Image.Image image mode=RGB size=512x512>,\n",
       "  <PIL.Image.Image image mode=RGB size=512x512>,\n",
       "  <PIL.Image.Image image mode=RGB size=512x512>,\n",
       "  <PIL.Image.Image image mode=RGB size=512x512>,\n",
       "  <PIL.Image.Image image mode=RGB size=512x512>,\n",
       "  <PIL.Image.Image image mode=RGB size=512x512>,\n",
       "  <PIL.Image.Image image mode=RGB size=512x512>,\n",
       "  <PIL.Image.Image image mode=RGB size=512x512>,\n",
       "  <PIL.Image.Image image mode=RGB size=512x512>,\n",
       "  <PIL.Image.Image image mode=RGB size=512x512>,\n",
       "  <PIL.Image.Image image mode=RGB size=512x512>,\n",
       "  <PIL.Image.Image image mode=RGB size=512x512>,\n",
       "  <PIL.Image.Image image mode=RGB size=512x512>,\n",
       "  <PIL.Image.Image image mode=RGB size=512x512>,\n",
       "  <PIL.Image.Image image mode=RGB size=512x512>,\n",
       "  <PIL.Image.Image image mode=RGB size=512x512>,\n",
       "  <PIL.Image.Image image mode=RGB size=512x512>,\n",
       "  <PIL.Image.Image image mode=RGB size=512x512>,\n",
       "  <PIL.Image.Image image mode=RGB size=512x512>,\n",
       "  <PIL.Image.Image image mode=RGB size=512x512>,\n",
       "  <PIL.Image.Image image mode=RGB size=512x512>,\n",
       "  <PIL.Image.Image image mode=RGB size=512x512>,\n",
       "  <PIL.Image.Image image mode=RGB size=512x512>,\n",
       "  <PIL.Image.Image image mode=RGB size=512x512>,\n",
       "  <PIL.Image.Image image mode=RGB size=512x512>,\n",
       "  <PIL.Image.Image image mode=RGB size=512x512>,\n",
       "  <PIL.Image.Image image mode=RGB size=512x512>,\n",
       "  <PIL.Image.Image image mode=RGB size=512x512>,\n",
       "  <PIL.Image.Image image mode=RGB size=512x512>,\n",
       "  <PIL.Image.Image image mode=RGB size=512x512>,\n",
       "  <PIL.Image.Image image mode=RGB size=512x512>,\n",
       "  <PIL.Image.Image image mode=RGB size=512x512>,\n",
       "  <PIL.Image.Image image mode=RGB size=512x512>,\n",
       "  <PIL.Image.Image image mode=RGB size=512x512>,\n",
       "  <PIL.Image.Image image mode=RGB size=512x512>,\n",
       "  <PIL.Image.Image image mode=RGB size=512x512>,\n",
       "  <PIL.Image.Image image mode=RGB size=512x512>,\n",
       "  <PIL.Image.Image image mode=RGB size=512x512>,\n",
       "  <PIL.Image.Image image mode=RGB size=512x512>,\n",
       "  <PIL.Image.Image image mode=RGB size=512x512>,\n",
       "  <PIL.Image.Image image mode=RGB size=512x512>,\n",
       "  <PIL.Image.Image image mode=RGB size=512x512>,\n",
       "  <PIL.Image.Image image mode=RGB size=512x512>,\n",
       "  <PIL.Image.Image image mode=RGB size=512x512>,\n",
       "  <PIL.Image.Image image mode=RGB size=512x512>,\n",
       "  <PIL.Image.Image image mode=RGB size=512x512>,\n",
       "  <PIL.Image.Image image mode=RGB size=512x512>,\n",
       "  <PIL.Image.Image image mode=RGB size=512x512>,\n",
       "  <PIL.Image.Image image mode=RGB size=512x512>,\n",
       "  <PIL.Image.Image image mode=RGB size=512x512>,\n",
       "  <PIL.Image.Image image mode=RGB size=512x512>,\n",
       "  <PIL.Image.Image image mode=RGB size=512x512>,\n",
       "  <PIL.Image.Image image mode=RGB size=512x512>,\n",
       "  <PIL.Image.Image image mode=RGB size=512x512>,\n",
       "  <PIL.Image.Image image mode=RGB size=512x512>,\n",
       "  <PIL.Image.Image image mode=RGB size=512x512>,\n",
       "  <PIL.Image.Image image mode=RGB size=512x512>,\n",
       "  <PIL.Image.Image image mode=RGB size=512x512>,\n",
       "  <PIL.Image.Image image mode=RGB size=512x512>,\n",
       "  <PIL.Image.Image image mode=RGB size=512x512>,\n",
       "  <PIL.Image.Image image mode=RGB size=512x512>,\n",
       "  <PIL.Image.Image image mode=RGB size=512x512>,\n",
       "  <PIL.Image.Image image mode=RGB size=512x512>,\n",
       "  <PIL.Image.Image image mode=RGB size=512x512>,\n",
       "  <PIL.Image.Image image mode=RGB size=512x512>,\n",
       "  <PIL.Image.Image image mode=RGB size=512x512>,\n",
       "  <PIL.Image.Image image mode=RGB size=512x512>,\n",
       "  <PIL.Image.Image image mode=RGB size=512x512>,\n",
       "  <PIL.Image.Image image mode=RGB size=512x512>,\n",
       "  <PIL.Image.Image image mode=RGB size=512x512>,\n",
       "  <PIL.Image.Image image mode=RGB size=512x512>,\n",
       "  <PIL.Image.Image image mode=RGB size=512x512>,\n",
       "  <PIL.Image.Image image mode=RGB size=512x512>,\n",
       "  <PIL.Image.Image image mode=RGB size=512x512>,\n",
       "  <PIL.Image.Image image mode=RGB size=512x512>,\n",
       "  <PIL.Image.Image image mode=RGB size=512x512>,\n",
       "  <PIL.Image.Image image mode=RGB size=512x512>,\n",
       "  <PIL.Image.Image image mode=RGB size=512x512>,\n",
       "  <PIL.Image.Image image mode=RGB size=512x512>,\n",
       "  <PIL.Image.Image image mode=RGB size=512x512>,\n",
       "  <PIL.Image.Image image mode=RGB size=512x512>,\n",
       "  <PIL.Image.Image image mode=RGB size=512x512>,\n",
       "  <PIL.Image.Image image mode=RGB size=512x512>,\n",
       "  <PIL.Image.Image image mode=RGB size=512x512>,\n",
       "  <PIL.Image.Image image mode=RGB size=512x512>,\n",
       "  <PIL.Image.Image image mode=RGB size=512x512>,\n",
       "  <PIL.Image.Image image mode=RGB size=512x512>,\n",
       "  <PIL.Image.Image image mode=RGB size=512x512>,\n",
       "  <PIL.Image.Image image mode=RGB size=512x512>,\n",
       "  <PIL.Image.Image image mode=RGB size=512x512>,\n",
       "  <PIL.Image.Image image mode=RGB size=512x512>,\n",
       "  <PIL.Image.Image image mode=RGB size=512x512>,\n",
       "  <PIL.Image.Image image mode=RGB size=512x512>,\n",
       "  <PIL.Image.Image image mode=RGB size=512x512>,\n",
       "  <PIL.Image.Image image mode=RGB size=512x512>,\n",
       "  <PIL.Image.Image image mode=RGB size=512x512>,\n",
       "  <PIL.Image.Image image mode=RGB size=512x512>,\n",
       "  <PIL.Image.Image image mode=RGB size=512x512>,\n",
       "  <PIL.Image.Image image mode=RGB size=512x512>,\n",
       "  <PIL.Image.Image image mode=RGB size=512x512>,\n",
       "  <PIL.Image.Image image mode=RGB size=512x512>,\n",
       "  <PIL.Image.Image image mode=RGB size=512x512>,\n",
       "  <PIL.Image.Image image mode=RGB size=512x512>,\n",
       "  <PIL.Image.Image image mode=RGB size=512x512>,\n",
       "  <PIL.Image.Image image mode=RGB size=512x512>,\n",
       "  <PIL.Image.Image image mode=RGB size=512x512>,\n",
       "  <PIL.Image.Image image mode=RGB size=512x512>,\n",
       "  <PIL.Image.Image image mode=RGB size=512x512>,\n",
       "  <PIL.Image.Image image mode=RGB size=512x512>,\n",
       "  <PIL.Image.Image image mode=RGB size=512x512>,\n",
       "  <PIL.Image.Image image mode=RGB size=512x512>,\n",
       "  <PIL.Image.Image image mode=RGB size=512x512>,\n",
       "  <PIL.Image.Image image mode=RGB size=512x512>,\n",
       "  <PIL.Image.Image image mode=RGB size=512x512>,\n",
       "  <PIL.Image.Image image mode=RGB size=512x512>,\n",
       "  <PIL.Image.Image image mode=RGB size=512x512>,\n",
       "  <PIL.Image.Image image mode=RGB size=512x512>,\n",
       "  <PIL.Image.Image image mode=RGB size=512x512>,\n",
       "  <PIL.Image.Image image mode=RGB size=512x512>,\n",
       "  <PIL.Image.Image image mode=RGB size=512x512>,\n",
       "  <PIL.Image.Image image mode=RGB size=512x512>,\n",
       "  <PIL.Image.Image image mode=RGB size=512x512>,\n",
       "  <PIL.Image.Image image mode=RGB size=512x512>,\n",
       "  <PIL.Image.Image image mode=RGB size=512x512>,\n",
       "  <PIL.Image.Image image mode=RGB size=512x512>,\n",
       "  <PIL.Image.Image image mode=RGB size=512x512>,\n",
       "  <PIL.Image.Image image mode=RGB size=512x512>,\n",
       "  <PIL.Image.Image image mode=RGB size=512x512>,\n",
       "  <PIL.Image.Image image mode=RGB size=512x512>,\n",
       "  <PIL.Image.Image image mode=RGB size=512x512>,\n",
       "  <PIL.Image.Image image mode=RGB size=512x512>,\n",
       "  <PIL.Image.Image image mode=RGB size=512x512>,\n",
       "  <PIL.Image.Image image mode=RGB size=512x512>,\n",
       "  <PIL.Image.Image image mode=RGB size=512x512>,\n",
       "  <PIL.Image.Image image mode=RGB size=512x512>,\n",
       "  <PIL.Image.Image image mode=RGB size=512x512>,\n",
       "  <PIL.Image.Image image mode=RGB size=512x512>,\n",
       "  <PIL.Image.Image image mode=RGB size=512x512>,\n",
       "  <PIL.Image.Image image mode=RGB size=512x512>,\n",
       "  <PIL.Image.Image image mode=RGB size=512x512>,\n",
       "  <PIL.Image.Image image mode=RGB size=512x512>,\n",
       "  <PIL.Image.Image image mode=RGB size=512x512>,\n",
       "  <PIL.Image.Image image mode=RGB size=512x512>,\n",
       "  <PIL.Image.Image image mode=RGB size=512x512>,\n",
       "  <PIL.Image.Image image mode=RGB size=512x512>,\n",
       "  <PIL.Image.Image image mode=RGB size=512x512>,\n",
       "  <PIL.Image.Image image mode=RGB size=512x512>,\n",
       "  <PIL.Image.Image image mode=RGB size=512x512>,\n",
       "  <PIL.Image.Image image mode=RGB size=512x512>,\n",
       "  <PIL.Image.Image image mode=RGB size=512x512>,\n",
       "  <PIL.Image.Image image mode=RGB size=512x512>,\n",
       "  <PIL.Image.Image image mode=RGB size=512x512>,\n",
       "  <PIL.Image.Image image mode=RGB size=512x512>,\n",
       "  <PIL.Image.Image image mode=RGB size=512x512>,\n",
       "  <PIL.Image.Image image mode=RGB size=512x512>,\n",
       "  <PIL.Image.Image image mode=RGB size=512x512>,\n",
       "  <PIL.Image.Image image mode=RGB size=512x512>,\n",
       "  <PIL.Image.Image image mode=RGB size=512x512>,\n",
       "  <PIL.Image.Image image mode=RGB size=512x512>,\n",
       "  <PIL.Image.Image image mode=RGB size=512x512>,\n",
       "  <PIL.Image.Image image mode=RGB size=512x512>,\n",
       "  <PIL.Image.Image image mode=RGB size=512x512>,\n",
       "  <PIL.Image.Image image mode=RGB size=512x512>,\n",
       "  <PIL.Image.Image image mode=RGB size=512x512>,\n",
       "  <PIL.Image.Image image mode=RGB size=512x512>,\n",
       "  <PIL.Image.Image image mode=RGB size=512x512>,\n",
       "  <PIL.Image.Image image mode=RGB size=512x512>,\n",
       "  <PIL.Image.Image image mode=RGB size=512x512>,\n",
       "  <PIL.Image.Image image mode=RGB size=512x512>,\n",
       "  <PIL.Image.Image image mode=RGB size=512x512>,\n",
       "  <PIL.Image.Image image mode=RGB size=512x512>,\n",
       "  <PIL.Image.Image image mode=RGB size=512x512>,\n",
       "  <PIL.Image.Image image mode=RGB size=512x512>,\n",
       "  <PIL.Image.Image image mode=RGB size=512x512>,\n",
       "  <PIL.Image.Image image mode=RGB size=512x512>,\n",
       "  <PIL.Image.Image image mode=RGB size=512x512>,\n",
       "  <PIL.Image.Image image mode=RGB size=512x512>,\n",
       "  <PIL.Image.Image image mode=RGB size=512x512>,\n",
       "  <PIL.Image.Image image mode=RGB size=512x512>,\n",
       "  <PIL.Image.Image image mode=RGB size=512x512>,\n",
       "  <PIL.Image.Image image mode=RGB size=512x512>,\n",
       "  <PIL.Image.Image image mode=RGB size=512x512>,\n",
       "  <PIL.Image.Image image mode=RGB size=512x512>,\n",
       "  <PIL.Image.Image image mode=RGB size=512x512>,\n",
       "  <PIL.Image.Image image mode=RGB size=512x512>,\n",
       "  <PIL.Image.Image image mode=RGB size=512x512>,\n",
       "  <PIL.Image.Image image mode=RGB size=512x512>,\n",
       "  <PIL.Image.Image image mode=RGB size=512x512>,\n",
       "  <PIL.Image.Image image mode=RGB size=512x512>,\n",
       "  <PIL.Image.Image image mode=RGB size=512x512>,\n",
       "  <PIL.Image.Image image mode=RGB size=512x512>,\n",
       "  <PIL.Image.Image image mode=RGB size=512x512>,\n",
       "  <PIL.Image.Image image mode=RGB size=512x512>,\n",
       "  <PIL.Image.Image image mode=RGB size=512x512>,\n",
       "  <PIL.Image.Image image mode=RGB size=512x512>,\n",
       "  <PIL.Image.Image image mode=RGB size=512x512>,\n",
       "  <PIL.Image.Image image mode=RGB size=512x512>,\n",
       "  <PIL.Image.Image image mode=RGB size=512x512>,\n",
       "  <PIL.Image.Image image mode=RGB size=512x512>,\n",
       "  <PIL.Image.Image image mode=RGB size=512x512>,\n",
       "  <PIL.Image.Image image mode=RGB size=512x512>,\n",
       "  <PIL.Image.Image image mode=RGB size=512x512>,\n",
       "  <PIL.Image.Image image mode=RGB size=512x512>,\n",
       "  <PIL.Image.Image image mode=RGB size=512x512>,\n",
       "  <PIL.Image.Image image mode=RGB size=512x512>,\n",
       "  <PIL.Image.Image image mode=RGB size=512x512>,\n",
       "  <PIL.Image.Image image mode=RGB size=512x512>,\n",
       "  <PIL.Image.Image image mode=RGB size=512x512>,\n",
       "  <PIL.Image.Image image mode=RGB size=512x512>,\n",
       "  <PIL.Image.Image image mode=RGB size=512x512>,\n",
       "  <PIL.Image.Image image mode=RGB size=512x512>,\n",
       "  <PIL.Image.Image image mode=RGB size=512x512>,\n",
       "  <PIL.Image.Image image mode=RGB size=512x512>,\n",
       "  <PIL.Image.Image image mode=RGB size=512x512>,\n",
       "  <PIL.Image.Image image mode=RGB size=512x512>,\n",
       "  <PIL.Image.Image image mode=RGB size=512x512>,\n",
       "  <PIL.Image.Image image mode=RGB size=512x512>,\n",
       "  <PIL.Image.Image image mode=RGB size=512x512>,\n",
       "  <PIL.Image.Image image mode=RGB size=512x512>,\n",
       "  <PIL.Image.Image image mode=RGB size=512x512>,\n",
       "  <PIL.Image.Image image mode=RGB size=512x512>,\n",
       "  <PIL.Image.Image image mode=RGB size=512x512>,\n",
       "  <PIL.Image.Image image mode=RGB size=512x512>,\n",
       "  <PIL.Image.Image image mode=RGB size=512x512>,\n",
       "  <PIL.Image.Image image mode=RGB size=512x512>,\n",
       "  <PIL.Image.Image image mode=RGB size=512x512>,\n",
       "  <PIL.Image.Image image mode=RGB size=512x512>,\n",
       "  <PIL.Image.Image image mode=RGB size=512x512>,\n",
       "  <PIL.Image.Image image mode=RGB size=512x512>,\n",
       "  <PIL.Image.Image image mode=RGB size=512x512>,\n",
       "  <PIL.Image.Image image mode=RGB size=512x512>,\n",
       "  <PIL.Image.Image image mode=RGB size=512x512>,\n",
       "  <PIL.Image.Image image mode=RGB size=512x512>,\n",
       "  <PIL.Image.Image image mode=RGB size=512x512>,\n",
       "  <PIL.Image.Image image mode=RGB size=512x512>,\n",
       "  <PIL.Image.Image image mode=RGB size=512x512>,\n",
       "  <PIL.Image.Image image mode=RGB size=512x512>,\n",
       "  <PIL.Image.Image image mode=RGB size=512x512>,\n",
       "  <PIL.Image.Image image mode=RGB size=512x512>,\n",
       "  <PIL.Image.Image image mode=RGB size=512x512>,\n",
       "  <PIL.Image.Image image mode=RGB size=512x512>,\n",
       "  <PIL.Image.Image image mode=RGB size=512x512>,\n",
       "  <PIL.Image.Image image mode=RGB size=512x512>,\n",
       "  <PIL.Image.Image image mode=RGB size=512x512>,\n",
       "  <PIL.Image.Image image mode=RGB size=512x512>,\n",
       "  <PIL.Image.Image image mode=RGB size=512x512>,\n",
       "  <PIL.Image.Image image mode=RGB size=512x512>,\n",
       "  <PIL.Image.Image image mode=RGB size=512x512>,\n",
       "  <PIL.Image.Image image mode=RGB size=512x512>,\n",
       "  <PIL.Image.Image image mode=RGB size=512x512>,\n",
       "  <PIL.Image.Image image mode=RGB size=512x512>,\n",
       "  <PIL.Image.Image image mode=RGB size=512x512>,\n",
       "  <PIL.Image.Image image mode=RGB size=512x512>,\n",
       "  <PIL.Image.Image image mode=RGB size=512x512>,\n",
       "  <PIL.Image.Image image mode=RGB size=512x512>,\n",
       "  <PIL.Image.Image image mode=RGB size=512x512>,\n",
       "  <PIL.Image.Image image mode=RGB size=512x512>,\n",
       "  <PIL.Image.Image image mode=RGB size=512x512>,\n",
       "  <PIL.Image.Image image mode=RGB size=512x512>,\n",
       "  <PIL.Image.Image image mode=RGB size=512x512>,\n",
       "  <PIL.Image.Image image mode=RGB size=512x512>,\n",
       "  <PIL.Image.Image image mode=RGB size=512x512>,\n",
       "  <PIL.Image.Image image mode=RGB size=512x512>,\n",
       "  <PIL.Image.Image image mode=RGB size=512x512>,\n",
       "  <PIL.Image.Image image mode=RGB size=512x512>,\n",
       "  <PIL.Image.Image image mode=RGB size=512x512>,\n",
       "  <PIL.Image.Image image mode=RGB size=512x512>,\n",
       "  <PIL.Image.Image image mode=RGB size=512x512>,\n",
       "  <PIL.Image.Image image mode=RGB size=512x512>,\n",
       "  <PIL.Image.Image image mode=RGB size=512x512>,\n",
       "  <PIL.Image.Image image mode=RGB size=512x512>,\n",
       "  <PIL.Image.Image image mode=RGB size=512x512>,\n",
       "  <PIL.Image.Image image mode=RGB size=512x512>,\n",
       "  <PIL.Image.Image image mode=RGB size=512x512>,\n",
       "  <PIL.Image.Image image mode=RGB size=512x512>,\n",
       "  <PIL.Image.Image image mode=RGB size=512x512>,\n",
       "  <PIL.Image.Image image mode=RGB size=512x512>,\n",
       "  <PIL.Image.Image image mode=RGB size=512x512>,\n",
       "  <PIL.Image.Image image mode=RGB size=512x512>,\n",
       "  <PIL.Image.Image image mode=RGB size=512x512>,\n",
       "  <PIL.Image.Image image mode=RGB size=512x512>,\n",
       "  <PIL.Image.Image image mode=RGB size=512x512>,\n",
       "  <PIL.Image.Image image mode=RGB size=512x512>,\n",
       "  <PIL.Image.Image image mode=RGB size=512x512>,\n",
       "  <PIL.Image.Image image mode=RGB size=512x512>,\n",
       "  <PIL.Image.Image image mode=RGB size=512x512>,\n",
       "  <PIL.Image.Image image mode=RGB size=512x512>,\n",
       "  <PIL.Image.Image image mode=RGB size=512x512>,\n",
       "  <PIL.Image.Image image mode=RGB size=512x512>,\n",
       "  <PIL.Image.Image image mode=RGB size=512x512>,\n",
       "  <PIL.Image.Image image mode=RGB size=512x512>,\n",
       "  <PIL.Image.Image image mode=RGB size=512x512>,\n",
       "  <PIL.Image.Image image mode=RGB size=512x512>,\n",
       "  <PIL.Image.Image image mode=RGB size=512x512>,\n",
       "  <PIL.Image.Image image mode=RGB size=512x512>,\n",
       "  <PIL.Image.Image image mode=RGB size=512x512>,\n",
       "  <PIL.Image.Image image mode=RGB size=512x512>,\n",
       "  <PIL.Image.Image image mode=RGB size=512x512>,\n",
       "  <PIL.Image.Image image mode=RGB size=512x512>,\n",
       "  <PIL.Image.Image image mode=RGB size=512x512>,\n",
       "  <PIL.Image.Image image mode=RGB size=512x512>,\n",
       "  <PIL.Image.Image image mode=RGB size=512x512>,\n",
       "  <PIL.Image.Image image mode=RGB size=512x512>,\n",
       "  <PIL.Image.Image image mode=RGB size=512x512>,\n",
       "  <PIL.Image.Image image mode=RGB size=512x512>,\n",
       "  <PIL.Image.Image image mode=RGB size=512x512>,\n",
       "  <PIL.Image.Image image mode=RGB size=512x512>,\n",
       "  <PIL.Image.Image image mode=RGB size=512x512>,\n",
       "  <PIL.Image.Image image mode=RGB size=512x512>,\n",
       "  <PIL.Image.Image image mode=RGB size=512x512>,\n",
       "  <PIL.Image.Image image mode=RGB size=512x512>,\n",
       "  <PIL.Image.Image image mode=RGB size=512x512>,\n",
       "  <PIL.Image.Image image mode=RGB size=512x512>,\n",
       "  <PIL.Image.Image image mode=RGB size=512x512>,\n",
       "  <PIL.Image.Image image mode=RGB size=512x512>,\n",
       "  <PIL.Image.Image image mode=RGB size=512x512>,\n",
       "  <PIL.Image.Image image mode=RGB size=512x512>,\n",
       "  <PIL.Image.Image image mode=RGB size=512x512>,\n",
       "  <PIL.Image.Image image mode=RGB size=512x512>,\n",
       "  <PIL.Image.Image image mode=RGB size=512x512>,\n",
       "  <PIL.Image.Image image mode=RGB size=512x512>,\n",
       "  <PIL.Image.Image image mode=RGB size=512x512>,\n",
       "  <PIL.Image.Image image mode=RGB size=512x512>,\n",
       "  <PIL.Image.Image image mode=RGB size=512x512>,\n",
       "  <PIL.Image.Image image mode=RGB size=512x512>,\n",
       "  <PIL.Image.Image image mode=RGB size=512x512>,\n",
       "  <PIL.Image.Image image mode=RGB size=512x512>,\n",
       "  <PIL.Image.Image image mode=RGB size=512x512>,\n",
       "  <PIL.Image.Image image mode=RGB size=512x512>,\n",
       "  <PIL.Image.Image image mode=RGB size=512x512>,\n",
       "  <PIL.Image.Image image mode=RGB size=512x512>,\n",
       "  <PIL.Image.Image image mode=RGB size=512x512>,\n",
       "  <PIL.Image.Image image mode=RGB size=512x512>,\n",
       "  <PIL.Image.Image image mode=RGB size=512x512>,\n",
       "  <PIL.Image.Image image mode=RGB size=512x512>,\n",
       "  <PIL.Image.Image image mode=RGB size=512x512>,\n",
       "  <PIL.Image.Image image mode=RGB size=512x512>,\n",
       "  <PIL.Image.Image image mode=RGB size=512x512>,\n",
       "  <PIL.Image.Image image mode=RGB size=512x512>,\n",
       "  <PIL.Image.Image image mode=RGB size=512x512>,\n",
       "  <PIL.Image.Image image mode=RGB size=512x512>,\n",
       "  <PIL.Image.Image image mode=RGB size=512x512>,\n",
       "  <PIL.Image.Image image mode=RGB size=512x512>,\n",
       "  <PIL.Image.Image image mode=RGB size=512x512>,\n",
       "  <PIL.Image.Image image mode=RGB size=512x512>,\n",
       "  <PIL.Image.Image image mode=RGB size=512x512>,\n",
       "  <PIL.Image.Image image mode=RGB size=512x512>,\n",
       "  <PIL.Image.Image image mode=RGB size=512x512>,\n",
       "  <PIL.Image.Image image mode=RGB size=512x512>,\n",
       "  <PIL.Image.Image image mode=RGB size=512x512>,\n",
       "  <PIL.Image.Image image mode=RGB size=512x512>,\n",
       "  <PIL.Image.Image image mode=RGB size=512x512>,\n",
       "  <PIL.Image.Image image mode=RGB size=512x512>,\n",
       "  <PIL.Image.Image image mode=RGB size=512x512>,\n",
       "  <PIL.Image.Image image mode=RGB size=512x512>,\n",
       "  <PIL.Image.Image image mode=RGB size=512x512>,\n",
       "  <PIL.Image.Image image mode=RGB size=512x512>,\n",
       "  <PIL.Image.Image image mode=RGB size=512x512>,\n",
       "  <PIL.Image.Image image mode=RGB size=512x512>,\n",
       "  <PIL.Image.Image image mode=RGB size=512x512>,\n",
       "  <PIL.Image.Image image mode=RGB size=512x512>,\n",
       "  <PIL.Image.Image image mode=RGB size=512x512>,\n",
       "  <PIL.Image.Image image mode=RGB size=512x512>,\n",
       "  <PIL.Image.Image image mode=RGB size=512x512>,\n",
       "  <PIL.Image.Image image mode=RGB size=512x512>,\n",
       "  <PIL.Image.Image image mode=RGB size=512x512>,\n",
       "  <PIL.Image.Image image mode=RGB size=512x512>,\n",
       "  <PIL.Image.Image image mode=RGB size=512x512>,\n",
       "  <PIL.Image.Image image mode=RGB size=512x512>,\n",
       "  <PIL.Image.Image image mode=RGB size=512x512>,\n",
       "  ...],\n",
       " 'gts': [<PIL.PngImagePlugin.PngImageFile image mode=RGB size=1024x1024>,\n",
       "  <PIL.PngImagePlugin.PngImageFile image mode=RGB size=1024x1024>,\n",
       "  <PIL.PngImagePlugin.PngImageFile image mode=RGB size=1024x1024>,\n",
       "  <PIL.PngImagePlugin.PngImageFile image mode=RGB size=1024x1024>,\n",
       "  <PIL.PngImagePlugin.PngImageFile image mode=RGB size=1024x1024>,\n",
       "  <PIL.PngImagePlugin.PngImageFile image mode=RGB size=1024x1024>,\n",
       "  <PIL.PngImagePlugin.PngImageFile image mode=RGB size=1024x1024>,\n",
       "  <PIL.PngImagePlugin.PngImageFile image mode=RGB size=1024x1024>,\n",
       "  <PIL.PngImagePlugin.PngImageFile image mode=RGB size=1024x1024>,\n",
       "  <PIL.PngImagePlugin.PngImageFile image mode=RGB size=1024x1024>,\n",
       "  <PIL.PngImagePlugin.PngImageFile image mode=RGB size=1024x1024>,\n",
       "  <PIL.PngImagePlugin.PngImageFile image mode=RGB size=1024x1024>,\n",
       "  <PIL.PngImagePlugin.PngImageFile image mode=RGB size=1024x1024>,\n",
       "  <PIL.PngImagePlugin.PngImageFile image mode=RGB size=1024x1024>,\n",
       "  <PIL.PngImagePlugin.PngImageFile image mode=RGB size=1024x1024>,\n",
       "  <PIL.PngImagePlugin.PngImageFile image mode=RGB size=1024x1024>,\n",
       "  <PIL.PngImagePlugin.PngImageFile image mode=RGB size=1024x1024>,\n",
       "  <PIL.PngImagePlugin.PngImageFile image mode=RGB size=1024x1024>,\n",
       "  <PIL.PngImagePlugin.PngImageFile image mode=RGB size=1024x1024>,\n",
       "  <PIL.PngImagePlugin.PngImageFile image mode=RGB size=1024x1024>,\n",
       "  <PIL.PngImagePlugin.PngImageFile image mode=RGB size=1024x1024>,\n",
       "  <PIL.PngImagePlugin.PngImageFile image mode=RGB size=1024x1024>,\n",
       "  <PIL.PngImagePlugin.PngImageFile image mode=RGB size=1024x1024>,\n",
       "  <PIL.PngImagePlugin.PngImageFile image mode=RGB size=1024x1024>,\n",
       "  <PIL.PngImagePlugin.PngImageFile image mode=RGB size=1024x1024>,\n",
       "  <PIL.PngImagePlugin.PngImageFile image mode=RGB size=1024x1024>,\n",
       "  <PIL.PngImagePlugin.PngImageFile image mode=RGB size=1024x1024>,\n",
       "  <PIL.PngImagePlugin.PngImageFile image mode=RGB size=1024x1024>,\n",
       "  <PIL.PngImagePlugin.PngImageFile image mode=RGB size=1024x1024>,\n",
       "  <PIL.PngImagePlugin.PngImageFile image mode=RGB size=1024x1024>,\n",
       "  <PIL.PngImagePlugin.PngImageFile image mode=RGB size=1024x1024>,\n",
       "  <PIL.PngImagePlugin.PngImageFile image mode=RGB size=1024x1024>,\n",
       "  <PIL.PngImagePlugin.PngImageFile image mode=RGB size=1024x1024>,\n",
       "  <PIL.PngImagePlugin.PngImageFile image mode=RGB size=1024x1024>,\n",
       "  <PIL.PngImagePlugin.PngImageFile image mode=RGB size=1024x1024>,\n",
       "  <PIL.PngImagePlugin.PngImageFile image mode=RGB size=1024x1024>,\n",
       "  <PIL.PngImagePlugin.PngImageFile image mode=RGB size=1024x1024>,\n",
       "  <PIL.PngImagePlugin.PngImageFile image mode=RGB size=1024x1024>,\n",
       "  <PIL.PngImagePlugin.PngImageFile image mode=RGB size=1024x1024>,\n",
       "  <PIL.PngImagePlugin.PngImageFile image mode=RGB size=1024x1024>,\n",
       "  <PIL.PngImagePlugin.PngImageFile image mode=RGB size=1024x1024>,\n",
       "  <PIL.PngImagePlugin.PngImageFile image mode=RGB size=1024x1024>,\n",
       "  <PIL.PngImagePlugin.PngImageFile image mode=RGB size=1024x1024>,\n",
       "  <PIL.PngImagePlugin.PngImageFile image mode=RGB size=1024x1024>,\n",
       "  <PIL.PngImagePlugin.PngImageFile image mode=RGB size=1024x1024>,\n",
       "  <PIL.PngImagePlugin.PngImageFile image mode=RGB size=1024x1024>,\n",
       "  <PIL.PngImagePlugin.PngImageFile image mode=RGB size=1024x1024>,\n",
       "  <PIL.PngImagePlugin.PngImageFile image mode=RGB size=1024x1024>,\n",
       "  <PIL.PngImagePlugin.PngImageFile image mode=RGB size=1024x1024>,\n",
       "  <PIL.PngImagePlugin.PngImageFile image mode=RGB size=1024x1024>,\n",
       "  <PIL.PngImagePlugin.PngImageFile image mode=RGB size=1024x1024>,\n",
       "  <PIL.PngImagePlugin.PngImageFile image mode=RGB size=1024x1024>,\n",
       "  <PIL.PngImagePlugin.PngImageFile image mode=RGB size=1024x1024>,\n",
       "  <PIL.PngImagePlugin.PngImageFile image mode=RGB size=1024x1024>,\n",
       "  <PIL.PngImagePlugin.PngImageFile image mode=RGB size=1024x1024>,\n",
       "  <PIL.PngImagePlugin.PngImageFile image mode=RGB size=1024x1024>,\n",
       "  <PIL.PngImagePlugin.PngImageFile image mode=RGB size=1024x1024>,\n",
       "  <PIL.PngImagePlugin.PngImageFile image mode=RGB size=1024x1024>,\n",
       "  <PIL.PngImagePlugin.PngImageFile image mode=RGB size=1024x1024>,\n",
       "  <PIL.PngImagePlugin.PngImageFile image mode=RGB size=1024x1024>,\n",
       "  <PIL.PngImagePlugin.PngImageFile image mode=RGB size=1024x1024>,\n",
       "  <PIL.PngImagePlugin.PngImageFile image mode=RGB size=1024x1024>,\n",
       "  <PIL.PngImagePlugin.PngImageFile image mode=RGB size=1024x1024>,\n",
       "  <PIL.PngImagePlugin.PngImageFile image mode=RGB size=1024x1024>,\n",
       "  <PIL.PngImagePlugin.PngImageFile image mode=RGB size=1024x1024>,\n",
       "  <PIL.PngImagePlugin.PngImageFile image mode=RGB size=1024x1024>,\n",
       "  <PIL.PngImagePlugin.PngImageFile image mode=RGB size=1024x1024>,\n",
       "  <PIL.PngImagePlugin.PngImageFile image mode=RGB size=1024x1024>,\n",
       "  <PIL.PngImagePlugin.PngImageFile image mode=RGB size=1024x1024>,\n",
       "  <PIL.PngImagePlugin.PngImageFile image mode=RGB size=1024x1024>,\n",
       "  <PIL.PngImagePlugin.PngImageFile image mode=RGB size=1024x1024>,\n",
       "  <PIL.PngImagePlugin.PngImageFile image mode=RGB size=1024x1024>,\n",
       "  <PIL.PngImagePlugin.PngImageFile image mode=RGB size=1024x1024>,\n",
       "  <PIL.PngImagePlugin.PngImageFile image mode=RGB size=1024x1024>,\n",
       "  <PIL.PngImagePlugin.PngImageFile image mode=RGB size=1024x1024>,\n",
       "  <PIL.PngImagePlugin.PngImageFile image mode=RGB size=1024x1024>,\n",
       "  <PIL.PngImagePlugin.PngImageFile image mode=RGB size=1024x1024>,\n",
       "  <PIL.PngImagePlugin.PngImageFile image mode=RGB size=1024x1024>,\n",
       "  <PIL.PngImagePlugin.PngImageFile image mode=RGB size=1024x1024>,\n",
       "  <PIL.PngImagePlugin.PngImageFile image mode=RGB size=1024x1024>,\n",
       "  <PIL.PngImagePlugin.PngImageFile image mode=RGB size=1024x1024>,\n",
       "  <PIL.PngImagePlugin.PngImageFile image mode=RGB size=1024x1024>,\n",
       "  <PIL.PngImagePlugin.PngImageFile image mode=RGB size=1024x1024>,\n",
       "  <PIL.PngImagePlugin.PngImageFile image mode=RGB size=1024x1024>,\n",
       "  <PIL.PngImagePlugin.PngImageFile image mode=RGB size=1024x1024>,\n",
       "  <PIL.PngImagePlugin.PngImageFile image mode=RGB size=1024x1024>,\n",
       "  <PIL.PngImagePlugin.PngImageFile image mode=RGB size=1024x1024>,\n",
       "  <PIL.PngImagePlugin.PngImageFile image mode=RGB size=1024x1024>,\n",
       "  <PIL.PngImagePlugin.PngImageFile image mode=RGB size=1024x1024>,\n",
       "  <PIL.PngImagePlugin.PngImageFile image mode=RGB size=1024x1024>,\n",
       "  <PIL.PngImagePlugin.PngImageFile image mode=RGB size=1024x1024>,\n",
       "  <PIL.PngImagePlugin.PngImageFile image mode=RGB size=1024x1024>,\n",
       "  <PIL.PngImagePlugin.PngImageFile image mode=RGB size=1024x1024>,\n",
       "  <PIL.PngImagePlugin.PngImageFile image mode=RGB size=1024x1024>,\n",
       "  <PIL.PngImagePlugin.PngImageFile image mode=RGB size=1024x1024>,\n",
       "  <PIL.PngImagePlugin.PngImageFile image mode=RGB size=1024x1024>,\n",
       "  <PIL.PngImagePlugin.PngImageFile image mode=RGB size=1024x1024>,\n",
       "  <PIL.PngImagePlugin.PngImageFile image mode=RGB size=1024x1024>,\n",
       "  <PIL.PngImagePlugin.PngImageFile image mode=RGB size=1024x1024>,\n",
       "  <PIL.PngImagePlugin.PngImageFile image mode=RGB size=1024x1024>,\n",
       "  <PIL.PngImagePlugin.PngImageFile image mode=RGB size=1024x1024>,\n",
       "  <PIL.PngImagePlugin.PngImageFile image mode=RGB size=1024x1024>,\n",
       "  <PIL.PngImagePlugin.PngImageFile image mode=RGB size=1024x1024>,\n",
       "  <PIL.PngImagePlugin.PngImageFile image mode=RGB size=1024x1024>,\n",
       "  <PIL.PngImagePlugin.PngImageFile image mode=RGB size=1024x1024>,\n",
       "  <PIL.PngImagePlugin.PngImageFile image mode=RGB size=1024x1024>,\n",
       "  <PIL.PngImagePlugin.PngImageFile image mode=RGB size=1024x1024>,\n",
       "  <PIL.PngImagePlugin.PngImageFile image mode=RGB size=1024x1024>,\n",
       "  <PIL.PngImagePlugin.PngImageFile image mode=RGB size=1024x1024>,\n",
       "  <PIL.PngImagePlugin.PngImageFile image mode=RGB size=1024x1024>,\n",
       "  <PIL.PngImagePlugin.PngImageFile image mode=RGB size=1024x1024>,\n",
       "  <PIL.PngImagePlugin.PngImageFile image mode=RGB size=1024x1024>,\n",
       "  <PIL.PngImagePlugin.PngImageFile image mode=RGB size=1024x1024>,\n",
       "  <PIL.PngImagePlugin.PngImageFile image mode=RGB size=1024x1024>,\n",
       "  <PIL.PngImagePlugin.PngImageFile image mode=RGB size=1024x1024>,\n",
       "  <PIL.PngImagePlugin.PngImageFile image mode=RGB size=1024x1024>,\n",
       "  <PIL.PngImagePlugin.PngImageFile image mode=RGB size=1024x1024>,\n",
       "  <PIL.PngImagePlugin.PngImageFile image mode=RGB size=1024x1024>,\n",
       "  <PIL.PngImagePlugin.PngImageFile image mode=RGB size=1024x1024>,\n",
       "  <PIL.PngImagePlugin.PngImageFile image mode=RGB size=1024x1024>,\n",
       "  <PIL.PngImagePlugin.PngImageFile image mode=RGB size=1024x1024>,\n",
       "  <PIL.PngImagePlugin.PngImageFile image mode=RGB size=1024x1024>,\n",
       "  <PIL.PngImagePlugin.PngImageFile image mode=RGB size=1024x1024>,\n",
       "  <PIL.PngImagePlugin.PngImageFile image mode=RGB size=1024x1024>,\n",
       "  <PIL.PngImagePlugin.PngImageFile image mode=RGB size=1024x1024>,\n",
       "  <PIL.PngImagePlugin.PngImageFile image mode=RGB size=1024x1024>,\n",
       "  <PIL.PngImagePlugin.PngImageFile image mode=RGB size=1024x1024>,\n",
       "  <PIL.PngImagePlugin.PngImageFile image mode=RGB size=1024x1024>,\n",
       "  <PIL.PngImagePlugin.PngImageFile image mode=RGB size=1024x1024>,\n",
       "  <PIL.PngImagePlugin.PngImageFile image mode=RGB size=1024x1024>,\n",
       "  <PIL.PngImagePlugin.PngImageFile image mode=RGB size=1024x1024>,\n",
       "  <PIL.PngImagePlugin.PngImageFile image mode=RGB size=1024x1024>,\n",
       "  <PIL.PngImagePlugin.PngImageFile image mode=RGB size=1024x1024>,\n",
       "  <PIL.PngImagePlugin.PngImageFile image mode=RGB size=1024x1024>,\n",
       "  <PIL.PngImagePlugin.PngImageFile image mode=RGB size=1024x1024>,\n",
       "  <PIL.PngImagePlugin.PngImageFile image mode=RGB size=1024x1024>,\n",
       "  <PIL.PngImagePlugin.PngImageFile image mode=RGB size=1024x1024>,\n",
       "  <PIL.PngImagePlugin.PngImageFile image mode=RGB size=1024x1024>,\n",
       "  <PIL.PngImagePlugin.PngImageFile image mode=RGB size=1024x1024>,\n",
       "  <PIL.PngImagePlugin.PngImageFile image mode=RGB size=1024x1024>,\n",
       "  <PIL.PngImagePlugin.PngImageFile image mode=RGB size=1024x1024>,\n",
       "  <PIL.PngImagePlugin.PngImageFile image mode=RGB size=1024x1024>,\n",
       "  <PIL.PngImagePlugin.PngImageFile image mode=RGB size=1024x1024>,\n",
       "  <PIL.PngImagePlugin.PngImageFile image mode=RGB size=1024x1024>,\n",
       "  <PIL.PngImagePlugin.PngImageFile image mode=RGB size=1024x1024>,\n",
       "  <PIL.PngImagePlugin.PngImageFile image mode=RGB size=1024x1024>,\n",
       "  <PIL.PngImagePlugin.PngImageFile image mode=RGB size=1024x1024>,\n",
       "  <PIL.PngImagePlugin.PngImageFile image mode=RGB size=1024x1024>,\n",
       "  <PIL.PngImagePlugin.PngImageFile image mode=RGB size=1024x1024>,\n",
       "  <PIL.PngImagePlugin.PngImageFile image mode=RGB size=1024x1024>,\n",
       "  <PIL.PngImagePlugin.PngImageFile image mode=RGB size=1024x1024>,\n",
       "  <PIL.PngImagePlugin.PngImageFile image mode=RGB size=1024x1024>,\n",
       "  <PIL.PngImagePlugin.PngImageFile image mode=RGB size=1024x1024>,\n",
       "  <PIL.PngImagePlugin.PngImageFile image mode=RGB size=1024x1024>,\n",
       "  <PIL.PngImagePlugin.PngImageFile image mode=RGB size=1024x1024>,\n",
       "  <PIL.PngImagePlugin.PngImageFile image mode=RGB size=1024x1024>,\n",
       "  <PIL.PngImagePlugin.PngImageFile image mode=RGB size=1024x1024>,\n",
       "  <PIL.PngImagePlugin.PngImageFile image mode=RGB size=1024x1024>,\n",
       "  <PIL.PngImagePlugin.PngImageFile image mode=RGB size=1024x1024>,\n",
       "  <PIL.PngImagePlugin.PngImageFile image mode=RGB size=1024x1024>,\n",
       "  <PIL.PngImagePlugin.PngImageFile image mode=RGB size=1024x1024>,\n",
       "  <PIL.PngImagePlugin.PngImageFile image mode=RGB size=1024x1024>,\n",
       "  <PIL.PngImagePlugin.PngImageFile image mode=RGB size=1024x1024>,\n",
       "  <PIL.PngImagePlugin.PngImageFile image mode=RGB size=1024x1024>,\n",
       "  <PIL.PngImagePlugin.PngImageFile image mode=RGB size=1024x1024>,\n",
       "  <PIL.PngImagePlugin.PngImageFile image mode=RGB size=1024x1024>,\n",
       "  <PIL.PngImagePlugin.PngImageFile image mode=RGB size=1024x1024>,\n",
       "  <PIL.PngImagePlugin.PngImageFile image mode=RGB size=1024x1024>,\n",
       "  <PIL.PngImagePlugin.PngImageFile image mode=RGB size=1024x1024>,\n",
       "  <PIL.PngImagePlugin.PngImageFile image mode=RGB size=1024x1024>,\n",
       "  <PIL.PngImagePlugin.PngImageFile image mode=RGB size=1024x1024>,\n",
       "  <PIL.PngImagePlugin.PngImageFile image mode=RGB size=1024x1024>,\n",
       "  <PIL.PngImagePlugin.PngImageFile image mode=RGB size=1024x1024>,\n",
       "  <PIL.PngImagePlugin.PngImageFile image mode=RGB size=1024x1024>,\n",
       "  <PIL.PngImagePlugin.PngImageFile image mode=RGB size=1024x1024>,\n",
       "  <PIL.PngImagePlugin.PngImageFile image mode=RGB size=1024x1024>,\n",
       "  <PIL.PngImagePlugin.PngImageFile image mode=RGB size=1024x1024>,\n",
       "  <PIL.PngImagePlugin.PngImageFile image mode=RGB size=1024x1024>,\n",
       "  <PIL.PngImagePlugin.PngImageFile image mode=RGB size=1024x1024>,\n",
       "  <PIL.PngImagePlugin.PngImageFile image mode=RGB size=1024x1024>,\n",
       "  <PIL.PngImagePlugin.PngImageFile image mode=RGB size=1024x1024>,\n",
       "  <PIL.PngImagePlugin.PngImageFile image mode=RGB size=1024x1024>,\n",
       "  <PIL.PngImagePlugin.PngImageFile image mode=RGB size=1024x1024>,\n",
       "  <PIL.PngImagePlugin.PngImageFile image mode=RGB size=1024x1024>,\n",
       "  <PIL.PngImagePlugin.PngImageFile image mode=RGB size=1024x1024>,\n",
       "  <PIL.PngImagePlugin.PngImageFile image mode=RGB size=1024x1024>,\n",
       "  <PIL.PngImagePlugin.PngImageFile image mode=RGB size=1024x1024>,\n",
       "  <PIL.PngImagePlugin.PngImageFile image mode=RGB size=1024x1024>,\n",
       "  <PIL.PngImagePlugin.PngImageFile image mode=RGB size=1024x1024>,\n",
       "  <PIL.PngImagePlugin.PngImageFile image mode=RGB size=1024x1024>,\n",
       "  <PIL.PngImagePlugin.PngImageFile image mode=RGB size=1024x1024>,\n",
       "  <PIL.PngImagePlugin.PngImageFile image mode=RGB size=1024x1024>,\n",
       "  <PIL.PngImagePlugin.PngImageFile image mode=RGB size=1024x1024>,\n",
       "  <PIL.PngImagePlugin.PngImageFile image mode=RGB size=1024x1024>,\n",
       "  <PIL.PngImagePlugin.PngImageFile image mode=RGB size=1024x1024>,\n",
       "  <PIL.PngImagePlugin.PngImageFile image mode=RGB size=1024x1024>,\n",
       "  <PIL.PngImagePlugin.PngImageFile image mode=RGB size=1024x1024>,\n",
       "  <PIL.PngImagePlugin.PngImageFile image mode=RGB size=1024x1024>,\n",
       "  <PIL.PngImagePlugin.PngImageFile image mode=RGB size=1024x1024>,\n",
       "  <PIL.PngImagePlugin.PngImageFile image mode=RGB size=1024x1024>,\n",
       "  <PIL.PngImagePlugin.PngImageFile image mode=RGB size=1024x1024>,\n",
       "  <PIL.PngImagePlugin.PngImageFile image mode=RGB size=1024x1024>,\n",
       "  <PIL.PngImagePlugin.PngImageFile image mode=RGB size=1024x1024>,\n",
       "  <PIL.PngImagePlugin.PngImageFile image mode=RGB size=1024x1024>,\n",
       "  <PIL.PngImagePlugin.PngImageFile image mode=RGB size=1024x1024>,\n",
       "  <PIL.PngImagePlugin.PngImageFile image mode=RGB size=1024x1024>,\n",
       "  <PIL.PngImagePlugin.PngImageFile image mode=RGB size=1024x1024>,\n",
       "  <PIL.PngImagePlugin.PngImageFile image mode=RGB size=1024x1024>,\n",
       "  <PIL.PngImagePlugin.PngImageFile image mode=RGB size=1024x1024>,\n",
       "  <PIL.PngImagePlugin.PngImageFile image mode=RGB size=1024x1024>,\n",
       "  <PIL.PngImagePlugin.PngImageFile image mode=RGB size=1024x1024>,\n",
       "  <PIL.PngImagePlugin.PngImageFile image mode=RGB size=1024x1024>,\n",
       "  <PIL.PngImagePlugin.PngImageFile image mode=RGB size=1024x1024>,\n",
       "  <PIL.PngImagePlugin.PngImageFile image mode=RGB size=1024x1024>,\n",
       "  <PIL.PngImagePlugin.PngImageFile image mode=RGB size=1024x1024>,\n",
       "  <PIL.PngImagePlugin.PngImageFile image mode=RGB size=1024x1024>,\n",
       "  <PIL.PngImagePlugin.PngImageFile image mode=RGB size=1024x1024>,\n",
       "  <PIL.PngImagePlugin.PngImageFile image mode=RGB size=1024x1024>,\n",
       "  <PIL.PngImagePlugin.PngImageFile image mode=RGB size=1024x1024>,\n",
       "  <PIL.PngImagePlugin.PngImageFile image mode=RGB size=1024x1024>,\n",
       "  <PIL.PngImagePlugin.PngImageFile image mode=RGB size=1024x1024>,\n",
       "  <PIL.PngImagePlugin.PngImageFile image mode=RGB size=1024x1024>,\n",
       "  <PIL.PngImagePlugin.PngImageFile image mode=RGB size=1024x1024>,\n",
       "  <PIL.PngImagePlugin.PngImageFile image mode=RGB size=1024x1024>,\n",
       "  <PIL.PngImagePlugin.PngImageFile image mode=RGB size=1024x1024>,\n",
       "  <PIL.PngImagePlugin.PngImageFile image mode=RGB size=1024x1024>,\n",
       "  <PIL.PngImagePlugin.PngImageFile image mode=RGB size=1024x1024>,\n",
       "  <PIL.PngImagePlugin.PngImageFile image mode=RGB size=1024x1024>,\n",
       "  <PIL.PngImagePlugin.PngImageFile image mode=RGB size=1024x1024>,\n",
       "  <PIL.PngImagePlugin.PngImageFile image mode=RGB size=1024x1024>,\n",
       "  <PIL.PngImagePlugin.PngImageFile image mode=RGB size=1024x1024>,\n",
       "  <PIL.PngImagePlugin.PngImageFile image mode=RGB size=1024x1024>,\n",
       "  <PIL.PngImagePlugin.PngImageFile image mode=RGB size=1024x1024>,\n",
       "  <PIL.PngImagePlugin.PngImageFile image mode=RGB size=1024x1024>,\n",
       "  <PIL.PngImagePlugin.PngImageFile image mode=RGB size=1024x1024>,\n",
       "  <PIL.PngImagePlugin.PngImageFile image mode=RGB size=1024x1024>,\n",
       "  <PIL.PngImagePlugin.PngImageFile image mode=RGB size=1024x1024>,\n",
       "  <PIL.PngImagePlugin.PngImageFile image mode=RGB size=1024x1024>,\n",
       "  <PIL.PngImagePlugin.PngImageFile image mode=RGB size=1024x1024>,\n",
       "  <PIL.PngImagePlugin.PngImageFile image mode=RGB size=1024x1024>,\n",
       "  <PIL.PngImagePlugin.PngImageFile image mode=RGB size=1024x1024>,\n",
       "  <PIL.PngImagePlugin.PngImageFile image mode=RGB size=1024x1024>,\n",
       "  <PIL.PngImagePlugin.PngImageFile image mode=RGB size=1024x1024>,\n",
       "  <PIL.PngImagePlugin.PngImageFile image mode=RGB size=1024x1024>,\n",
       "  <PIL.PngImagePlugin.PngImageFile image mode=RGB size=1024x1024>,\n",
       "  <PIL.PngImagePlugin.PngImageFile image mode=RGB size=1024x1024>,\n",
       "  <PIL.PngImagePlugin.PngImageFile image mode=RGB size=1024x1024>,\n",
       "  <PIL.PngImagePlugin.PngImageFile image mode=RGB size=1024x1024>,\n",
       "  <PIL.PngImagePlugin.PngImageFile image mode=RGB size=1024x1024>,\n",
       "  <PIL.PngImagePlugin.PngImageFile image mode=RGB size=1024x1024>,\n",
       "  <PIL.PngImagePlugin.PngImageFile image mode=RGB size=1024x1024>,\n",
       "  <PIL.PngImagePlugin.PngImageFile image mode=RGB size=1024x1024>,\n",
       "  <PIL.PngImagePlugin.PngImageFile image mode=RGB size=1024x1024>,\n",
       "  <PIL.PngImagePlugin.PngImageFile image mode=RGB size=1024x1024>,\n",
       "  <PIL.PngImagePlugin.PngImageFile image mode=RGB size=1024x1024>,\n",
       "  <PIL.PngImagePlugin.PngImageFile image mode=RGB size=1024x1024>,\n",
       "  <PIL.PngImagePlugin.PngImageFile image mode=RGB size=1024x1024>,\n",
       "  <PIL.PngImagePlugin.PngImageFile image mode=RGB size=1024x1024>,\n",
       "  <PIL.PngImagePlugin.PngImageFile image mode=RGB size=1024x1024>,\n",
       "  <PIL.PngImagePlugin.PngImageFile image mode=RGB size=1024x1024>,\n",
       "  <PIL.PngImagePlugin.PngImageFile image mode=RGB size=1024x1024>,\n",
       "  <PIL.PngImagePlugin.PngImageFile image mode=RGB size=1024x1024>,\n",
       "  <PIL.PngImagePlugin.PngImageFile image mode=RGB size=1024x1024>,\n",
       "  <PIL.PngImagePlugin.PngImageFile image mode=RGB size=1024x1024>,\n",
       "  <PIL.PngImagePlugin.PngImageFile image mode=RGB size=1024x1024>,\n",
       "  <PIL.PngImagePlugin.PngImageFile image mode=RGB size=1024x1024>,\n",
       "  <PIL.PngImagePlugin.PngImageFile image mode=RGB size=1024x1024>,\n",
       "  <PIL.PngImagePlugin.PngImageFile image mode=RGB size=1024x1024>,\n",
       "  <PIL.PngImagePlugin.PngImageFile image mode=RGB size=1024x1024>,\n",
       "  <PIL.PngImagePlugin.PngImageFile image mode=RGB size=1024x1024>,\n",
       "  <PIL.PngImagePlugin.PngImageFile image mode=RGB size=1024x1024>,\n",
       "  <PIL.PngImagePlugin.PngImageFile image mode=RGB size=1024x1024>,\n",
       "  <PIL.PngImagePlugin.PngImageFile image mode=RGB size=1024x1024>,\n",
       "  <PIL.PngImagePlugin.PngImageFile image mode=RGB size=1024x1024>,\n",
       "  <PIL.PngImagePlugin.PngImageFile image mode=RGB size=1024x1024>,\n",
       "  <PIL.PngImagePlugin.PngImageFile image mode=RGB size=1024x1024>,\n",
       "  <PIL.PngImagePlugin.PngImageFile image mode=RGB size=1024x1024>,\n",
       "  <PIL.PngImagePlugin.PngImageFile image mode=RGB size=1024x1024>,\n",
       "  <PIL.PngImagePlugin.PngImageFile image mode=RGB size=1024x1024>,\n",
       "  <PIL.PngImagePlugin.PngImageFile image mode=RGB size=1024x1024>,\n",
       "  <PIL.PngImagePlugin.PngImageFile image mode=RGB size=1024x1024>,\n",
       "  <PIL.PngImagePlugin.PngImageFile image mode=RGB size=1024x1024>,\n",
       "  <PIL.PngImagePlugin.PngImageFile image mode=RGB size=1024x1024>,\n",
       "  <PIL.PngImagePlugin.PngImageFile image mode=RGB size=1024x1024>,\n",
       "  <PIL.PngImagePlugin.PngImageFile image mode=RGB size=1024x1024>,\n",
       "  <PIL.PngImagePlugin.PngImageFile image mode=RGB size=1024x1024>,\n",
       "  <PIL.PngImagePlugin.PngImageFile image mode=RGB size=1024x1024>,\n",
       "  <PIL.PngImagePlugin.PngImageFile image mode=RGB size=1024x1024>,\n",
       "  <PIL.PngImagePlugin.PngImageFile image mode=RGB size=1024x1024>,\n",
       "  <PIL.PngImagePlugin.PngImageFile image mode=RGB size=1024x1024>,\n",
       "  <PIL.PngImagePlugin.PngImageFile image mode=RGB size=1024x1024>,\n",
       "  <PIL.PngImagePlugin.PngImageFile image mode=RGB size=1024x1024>,\n",
       "  <PIL.PngImagePlugin.PngImageFile image mode=RGB size=1024x1024>,\n",
       "  <PIL.PngImagePlugin.PngImageFile image mode=RGB size=1024x1024>,\n",
       "  <PIL.PngImagePlugin.PngImageFile image mode=RGB size=1024x1024>,\n",
       "  <PIL.PngImagePlugin.PngImageFile image mode=RGB size=1024x1024>,\n",
       "  <PIL.PngImagePlugin.PngImageFile image mode=RGB size=1024x1024>,\n",
       "  <PIL.PngImagePlugin.PngImageFile image mode=RGB size=1024x1024>,\n",
       "  <PIL.PngImagePlugin.PngImageFile image mode=RGB size=1024x1024>,\n",
       "  <PIL.PngImagePlugin.PngImageFile image mode=RGB size=1024x1024>,\n",
       "  <PIL.PngImagePlugin.PngImageFile image mode=RGB size=1024x1024>,\n",
       "  <PIL.PngImagePlugin.PngImageFile image mode=RGB size=1024x1024>,\n",
       "  <PIL.PngImagePlugin.PngImageFile image mode=RGB size=1024x1024>,\n",
       "  <PIL.PngImagePlugin.PngImageFile image mode=RGB size=1024x1024>,\n",
       "  <PIL.PngImagePlugin.PngImageFile image mode=RGB size=1024x1024>,\n",
       "  <PIL.PngImagePlugin.PngImageFile image mode=RGB size=1024x1024>,\n",
       "  <PIL.PngImagePlugin.PngImageFile image mode=RGB size=1024x1024>,\n",
       "  <PIL.PngImagePlugin.PngImageFile image mode=RGB size=1024x1024>,\n",
       "  <PIL.PngImagePlugin.PngImageFile image mode=RGB size=1024x1024>,\n",
       "  <PIL.PngImagePlugin.PngImageFile image mode=RGB size=1024x1024>,\n",
       "  <PIL.PngImagePlugin.PngImageFile image mode=RGB size=1024x1024>,\n",
       "  <PIL.PngImagePlugin.PngImageFile image mode=RGB size=1024x1024>,\n",
       "  <PIL.PngImagePlugin.PngImageFile image mode=RGB size=1024x1024>,\n",
       "  <PIL.PngImagePlugin.PngImageFile image mode=RGB size=1024x1024>,\n",
       "  <PIL.PngImagePlugin.PngImageFile image mode=RGB size=1024x1024>,\n",
       "  <PIL.PngImagePlugin.PngImageFile image mode=RGB size=1024x1024>,\n",
       "  <PIL.PngImagePlugin.PngImageFile image mode=RGB size=1024x1024>,\n",
       "  <PIL.PngImagePlugin.PngImageFile image mode=RGB size=1024x1024>,\n",
       "  <PIL.PngImagePlugin.PngImageFile image mode=RGB size=1024x1024>,\n",
       "  <PIL.PngImagePlugin.PngImageFile image mode=RGB size=1024x1024>,\n",
       "  <PIL.PngImagePlugin.PngImageFile image mode=RGB size=1024x1024>,\n",
       "  <PIL.PngImagePlugin.PngImageFile image mode=RGB size=1024x1024>,\n",
       "  <PIL.PngImagePlugin.PngImageFile image mode=RGB size=1024x1024>,\n",
       "  <PIL.PngImagePlugin.PngImageFile image mode=RGB size=1024x1024>,\n",
       "  <PIL.PngImagePlugin.PngImageFile image mode=RGB size=1024x1024>,\n",
       "  <PIL.PngImagePlugin.PngImageFile image mode=RGB size=1024x1024>,\n",
       "  <PIL.PngImagePlugin.PngImageFile image mode=RGB size=1024x1024>,\n",
       "  <PIL.PngImagePlugin.PngImageFile image mode=RGB size=1024x1024>,\n",
       "  <PIL.PngImagePlugin.PngImageFile image mode=RGB size=1024x1024>,\n",
       "  <PIL.PngImagePlugin.PngImageFile image mode=RGB size=1024x1024>,\n",
       "  <PIL.PngImagePlugin.PngImageFile image mode=RGB size=1024x1024>,\n",
       "  <PIL.PngImagePlugin.PngImageFile image mode=RGB size=1024x1024>,\n",
       "  <PIL.PngImagePlugin.PngImageFile image mode=RGB size=1024x1024>,\n",
       "  <PIL.PngImagePlugin.PngImageFile image mode=RGB size=1024x1024>,\n",
       "  <PIL.PngImagePlugin.PngImageFile image mode=RGB size=1024x1024>,\n",
       "  <PIL.PngImagePlugin.PngImageFile image mode=RGB size=1024x1024>,\n",
       "  <PIL.PngImagePlugin.PngImageFile image mode=RGB size=1024x1024>,\n",
       "  <PIL.PngImagePlugin.PngImageFile image mode=RGB size=1024x1024>,\n",
       "  <PIL.PngImagePlugin.PngImageFile image mode=RGB size=1024x1024>,\n",
       "  <PIL.PngImagePlugin.PngImageFile image mode=RGB size=1024x1024>,\n",
       "  <PIL.PngImagePlugin.PngImageFile image mode=RGB size=1024x1024>,\n",
       "  <PIL.PngImagePlugin.PngImageFile image mode=RGB size=1024x1024>,\n",
       "  <PIL.PngImagePlugin.PngImageFile image mode=RGB size=1024x1024>,\n",
       "  <PIL.PngImagePlugin.PngImageFile image mode=RGB size=1024x1024>,\n",
       "  <PIL.PngImagePlugin.PngImageFile image mode=RGB size=1024x1024>,\n",
       "  <PIL.PngImagePlugin.PngImageFile image mode=RGB size=1024x1024>,\n",
       "  <PIL.PngImagePlugin.PngImageFile image mode=RGB size=1024x1024>,\n",
       "  <PIL.PngImagePlugin.PngImageFile image mode=RGB size=1024x1024>,\n",
       "  <PIL.PngImagePlugin.PngImageFile image mode=RGB size=1024x1024>,\n",
       "  <PIL.PngImagePlugin.PngImageFile image mode=RGB size=1024x1024>,\n",
       "  <PIL.PngImagePlugin.PngImageFile image mode=RGB size=1024x1024>,\n",
       "  <PIL.PngImagePlugin.PngImageFile image mode=RGB size=1024x1024>,\n",
       "  <PIL.PngImagePlugin.PngImageFile image mode=RGB size=1024x1024>,\n",
       "  <PIL.PngImagePlugin.PngImageFile image mode=RGB size=1024x1024>,\n",
       "  <PIL.PngImagePlugin.PngImageFile image mode=RGB size=1024x1024>,\n",
       "  <PIL.PngImagePlugin.PngImageFile image mode=RGB size=1024x1024>,\n",
       "  <PIL.PngImagePlugin.PngImageFile image mode=RGB size=1024x1024>,\n",
       "  <PIL.PngImagePlugin.PngImageFile image mode=RGB size=1024x1024>,\n",
       "  <PIL.PngImagePlugin.PngImageFile image mode=RGB size=1024x1024>,\n",
       "  <PIL.PngImagePlugin.PngImageFile image mode=RGB size=1024x1024>,\n",
       "  <PIL.PngImagePlugin.PngImageFile image mode=RGB size=1024x1024>,\n",
       "  <PIL.PngImagePlugin.PngImageFile image mode=RGB size=1024x1024>,\n",
       "  <PIL.PngImagePlugin.PngImageFile image mode=RGB size=1024x1024>,\n",
       "  <PIL.PngImagePlugin.PngImageFile image mode=RGB size=1024x1024>,\n",
       "  <PIL.PngImagePlugin.PngImageFile image mode=RGB size=1024x1024>,\n",
       "  <PIL.PngImagePlugin.PngImageFile image mode=RGB size=1024x1024>,\n",
       "  <PIL.PngImagePlugin.PngImageFile image mode=RGB size=1024x1024>,\n",
       "  <PIL.PngImagePlugin.PngImageFile image mode=RGB size=1024x1024>,\n",
       "  <PIL.PngImagePlugin.PngImageFile image mode=RGB size=1024x1024>,\n",
       "  <PIL.PngImagePlugin.PngImageFile image mode=RGB size=1024x1024>,\n",
       "  <PIL.PngImagePlugin.PngImageFile image mode=RGB size=1024x1024>,\n",
       "  <PIL.PngImagePlugin.PngImageFile image mode=RGB size=1024x1024>,\n",
       "  <PIL.PngImagePlugin.PngImageFile image mode=RGB size=1024x1024>,\n",
       "  <PIL.PngImagePlugin.PngImageFile image mode=RGB size=1024x1024>,\n",
       "  <PIL.PngImagePlugin.PngImageFile image mode=RGB size=1024x1024>,\n",
       "  <PIL.PngImagePlugin.PngImageFile image mode=RGB size=1024x1024>,\n",
       "  <PIL.PngImagePlugin.PngImageFile image mode=RGB size=1024x1024>,\n",
       "  <PIL.PngImagePlugin.PngImageFile image mode=RGB size=1024x1024>,\n",
       "  <PIL.PngImagePlugin.PngImageFile image mode=RGB size=1024x1024>,\n",
       "  <PIL.PngImagePlugin.PngImageFile image mode=RGB size=1024x1024>,\n",
       "  <PIL.PngImagePlugin.PngImageFile image mode=RGB size=1024x1024>,\n",
       "  <PIL.PngImagePlugin.PngImageFile image mode=RGB size=1024x1024>,\n",
       "  <PIL.PngImagePlugin.PngImageFile image mode=RGB size=1024x1024>,\n",
       "  <PIL.PngImagePlugin.PngImageFile image mode=RGB size=1024x1024>,\n",
       "  <PIL.PngImagePlugin.PngImageFile image mode=RGB size=1024x1024>,\n",
       "  <PIL.PngImagePlugin.PngImageFile image mode=RGB size=1024x1024>,\n",
       "  <PIL.PngImagePlugin.PngImageFile image mode=RGB size=1024x1024>,\n",
       "  <PIL.PngImagePlugin.PngImageFile image mode=RGB size=1024x1024>,\n",
       "  <PIL.PngImagePlugin.PngImageFile image mode=RGB size=1024x1024>,\n",
       "  <PIL.PngImagePlugin.PngImageFile image mode=RGB size=1024x1024>,\n",
       "  <PIL.PngImagePlugin.PngImageFile image mode=RGB size=1024x1024>,\n",
       "  <PIL.PngImagePlugin.PngImageFile image mode=RGB size=1024x1024>,\n",
       "  <PIL.PngImagePlugin.PngImageFile image mode=RGB size=1024x1024>,\n",
       "  <PIL.PngImagePlugin.PngImageFile image mode=RGB size=1024x1024>,\n",
       "  <PIL.PngImagePlugin.PngImageFile image mode=RGB size=1024x1024>,\n",
       "  <PIL.PngImagePlugin.PngImageFile image mode=RGB size=1024x1024>,\n",
       "  <PIL.PngImagePlugin.PngImageFile image mode=RGB size=1024x1024>,\n",
       "  <PIL.PngImagePlugin.PngImageFile image mode=RGB size=1024x1024>,\n",
       "  <PIL.PngImagePlugin.PngImageFile image mode=RGB size=1024x1024>,\n",
       "  <PIL.PngImagePlugin.PngImageFile image mode=RGB size=1024x1024>,\n",
       "  <PIL.PngImagePlugin.PngImageFile image mode=RGB size=1024x1024>,\n",
       "  <PIL.PngImagePlugin.PngImageFile image mode=RGB size=1024x1024>,\n",
       "  <PIL.PngImagePlugin.PngImageFile image mode=RGB size=1024x1024>,\n",
       "  <PIL.PngImagePlugin.PngImageFile image mode=RGB size=1024x1024>,\n",
       "  <PIL.PngImagePlugin.PngImageFile image mode=RGB size=1024x1024>,\n",
       "  <PIL.PngImagePlugin.PngImageFile image mode=RGB size=1024x1024>,\n",
       "  <PIL.PngImagePlugin.PngImageFile image mode=RGB size=1024x1024>,\n",
       "  <PIL.PngImagePlugin.PngImageFile image mode=RGB size=1024x1024>,\n",
       "  <PIL.PngImagePlugin.PngImageFile image mode=RGB size=1024x1024>,\n",
       "  <PIL.PngImagePlugin.PngImageFile image mode=RGB size=1024x1024>,\n",
       "  <PIL.PngImagePlugin.PngImageFile image mode=RGB size=1024x1024>,\n",
       "  <PIL.PngImagePlugin.PngImageFile image mode=RGB size=1024x1024>,\n",
       "  <PIL.PngImagePlugin.PngImageFile image mode=RGB size=1024x1024>,\n",
       "  <PIL.PngImagePlugin.PngImageFile image mode=RGB size=1024x1024>,\n",
       "  <PIL.PngImagePlugin.PngImageFile image mode=RGB size=1024x1024>,\n",
       "  <PIL.PngImagePlugin.PngImageFile image mode=RGB size=1024x1024>,\n",
       "  <PIL.PngImagePlugin.PngImageFile image mode=RGB size=1024x1024>,\n",
       "  <PIL.PngImagePlugin.PngImageFile image mode=RGB size=1024x1024>,\n",
       "  <PIL.PngImagePlugin.PngImageFile image mode=RGB size=1024x1024>,\n",
       "  <PIL.PngImagePlugin.PngImageFile image mode=RGB size=1024x1024>,\n",
       "  <PIL.PngImagePlugin.PngImageFile image mode=RGB size=1024x1024>,\n",
       "  <PIL.PngImagePlugin.PngImageFile image mode=RGB size=1024x1024>,\n",
       "  <PIL.PngImagePlugin.PngImageFile image mode=RGB size=1024x1024>,\n",
       "  <PIL.PngImagePlugin.PngImageFile image mode=RGB size=1024x1024>,\n",
       "  <PIL.PngImagePlugin.PngImageFile image mode=RGB size=1024x1024>,\n",
       "  <PIL.PngImagePlugin.PngImageFile image mode=RGB size=1024x1024>,\n",
       "  <PIL.PngImagePlugin.PngImageFile image mode=RGB size=1024x1024>,\n",
       "  <PIL.PngImagePlugin.PngImageFile image mode=RGB size=1024x1024>,\n",
       "  <PIL.PngImagePlugin.PngImageFile image mode=RGB size=1024x1024>,\n",
       "  <PIL.PngImagePlugin.PngImageFile image mode=RGB size=1024x1024>,\n",
       "  <PIL.PngImagePlugin.PngImageFile image mode=RGB size=1024x1024>,\n",
       "  <PIL.PngImagePlugin.PngImageFile image mode=RGB size=1024x1024>,\n",
       "  <PIL.PngImagePlugin.PngImageFile image mode=RGB size=1024x1024>,\n",
       "  <PIL.PngImagePlugin.PngImageFile image mode=RGB size=1024x1024>,\n",
       "  <PIL.PngImagePlugin.PngImageFile image mode=RGB size=1024x1024>,\n",
       "  <PIL.PngImagePlugin.PngImageFile image mode=RGB size=1024x1024>,\n",
       "  <PIL.PngImagePlugin.PngImageFile image mode=RGB size=1024x1024>,\n",
       "  <PIL.PngImagePlugin.PngImageFile image mode=RGB size=1024x1024>,\n",
       "  <PIL.PngImagePlugin.PngImageFile image mode=RGB size=1024x1024>,\n",
       "  <PIL.PngImagePlugin.PngImageFile image mode=RGB size=1024x1024>,\n",
       "  <PIL.PngImagePlugin.PngImageFile image mode=RGB size=1024x1024>,\n",
       "  <PIL.PngImagePlugin.PngImageFile image mode=RGB size=1024x1024>,\n",
       "  <PIL.PngImagePlugin.PngImageFile image mode=RGB size=1024x1024>,\n",
       "  <PIL.PngImagePlugin.PngImageFile image mode=RGB size=1024x1024>,\n",
       "  <PIL.PngImagePlugin.PngImageFile image mode=RGB size=1024x1024>,\n",
       "  <PIL.PngImagePlugin.PngImageFile image mode=RGB size=1024x1024>,\n",
       "  <PIL.PngImagePlugin.PngImageFile image mode=RGB size=1024x1024>,\n",
       "  <PIL.PngImagePlugin.PngImageFile image mode=RGB size=1024x1024>,\n",
       "  <PIL.PngImagePlugin.PngImageFile image mode=RGB size=1024x1024>,\n",
       "  <PIL.PngImagePlugin.PngImageFile image mode=RGB size=1024x1024>,\n",
       "  <PIL.PngImagePlugin.PngImageFile image mode=RGB size=1024x1024>,\n",
       "  <PIL.PngImagePlugin.PngImageFile image mode=RGB size=1024x1024>,\n",
       "  <PIL.PngImagePlugin.PngImageFile image mode=RGB size=1024x1024>,\n",
       "  <PIL.PngImagePlugin.PngImageFile image mode=RGB size=1024x1024>,\n",
       "  <PIL.PngImagePlugin.PngImageFile image mode=RGB size=1024x1024>,\n",
       "  <PIL.PngImagePlugin.PngImageFile image mode=RGB size=1024x1024>,\n",
       "  <PIL.PngImagePlugin.PngImageFile image mode=RGB size=1024x1024>,\n",
       "  <PIL.PngImagePlugin.PngImageFile image mode=RGB size=1024x1024>,\n",
       "  <PIL.PngImagePlugin.PngImageFile image mode=RGB size=1024x1024>,\n",
       "  <PIL.PngImagePlugin.PngImageFile image mode=RGB size=1024x1024>,\n",
       "  <PIL.PngImagePlugin.PngImageFile image mode=RGB size=1024x1024>,\n",
       "  <PIL.PngImagePlugin.PngImageFile image mode=RGB size=1024x1024>,\n",
       "  <PIL.PngImagePlugin.PngImageFile image mode=RGB size=1024x1024>,\n",
       "  <PIL.PngImagePlugin.PngImageFile image mode=RGB size=1024x1024>,\n",
       "  <PIL.PngImagePlugin.PngImageFile image mode=RGB size=1024x1024>,\n",
       "  <PIL.PngImagePlugin.PngImageFile image mode=RGB size=1024x1024>,\n",
       "  <PIL.PngImagePlugin.PngImageFile image mode=RGB size=1024x1024>,\n",
       "  <PIL.PngImagePlugin.PngImageFile image mode=RGB size=1024x1024>,\n",
       "  <PIL.PngImagePlugin.PngImageFile image mode=RGB size=1024x1024>,\n",
       "  <PIL.PngImagePlugin.PngImageFile image mode=RGB size=1024x1024>,\n",
       "  <PIL.PngImagePlugin.PngImageFile image mode=RGB size=1024x1024>,\n",
       "  <PIL.PngImagePlugin.PngImageFile image mode=RGB size=1024x1024>,\n",
       "  <PIL.PngImagePlugin.PngImageFile image mode=RGB size=1024x1024>,\n",
       "  <PIL.PngImagePlugin.PngImageFile image mode=RGB size=1024x1024>,\n",
       "  <PIL.PngImagePlugin.PngImageFile image mode=RGB size=1024x1024>,\n",
       "  <PIL.PngImagePlugin.PngImageFile image mode=RGB size=1024x1024>,\n",
       "  <PIL.PngImagePlugin.PngImageFile image mode=RGB size=1024x1024>,\n",
       "  <PIL.PngImagePlugin.PngImageFile image mode=RGB size=1024x1024>,\n",
       "  <PIL.PngImagePlugin.PngImageFile image mode=RGB size=1024x1024>,\n",
       "  <PIL.PngImagePlugin.PngImageFile image mode=RGB size=1024x1024>,\n",
       "  <PIL.PngImagePlugin.PngImageFile image mode=RGB size=1024x1024>,\n",
       "  <PIL.PngImagePlugin.PngImageFile image mode=RGB size=1024x1024>,\n",
       "  <PIL.PngImagePlugin.PngImageFile image mode=RGB size=1024x1024>,\n",
       "  <PIL.PngImagePlugin.PngImageFile image mode=RGB size=1024x1024>,\n",
       "  <PIL.PngImagePlugin.PngImageFile image mode=RGB size=1024x1024>,\n",
       "  <PIL.PngImagePlugin.PngImageFile image mode=RGB size=1024x1024>,\n",
       "  <PIL.PngImagePlugin.PngImageFile image mode=RGB size=1024x1024>,\n",
       "  <PIL.PngImagePlugin.PngImageFile image mode=RGB size=1024x1024>,\n",
       "  <PIL.PngImagePlugin.PngImageFile image mode=RGB size=1024x1024>,\n",
       "  <PIL.PngImagePlugin.PngImageFile image mode=RGB size=1024x1024>,\n",
       "  <PIL.PngImagePlugin.PngImageFile image mode=RGB size=1024x1024>,\n",
       "  <PIL.PngImagePlugin.PngImageFile image mode=RGB size=1024x1024>,\n",
       "  <PIL.PngImagePlugin.PngImageFile image mode=RGB size=1024x1024>,\n",
       "  <PIL.PngImagePlugin.PngImageFile image mode=RGB size=1024x1024>,\n",
       "  <PIL.PngImagePlugin.PngImageFile image mode=RGB size=1024x1024>,\n",
       "  <PIL.PngImagePlugin.PngImageFile image mode=RGB size=1024x1024>,\n",
       "  <PIL.PngImagePlugin.PngImageFile image mode=RGB size=1024x1024>,\n",
       "  <PIL.PngImagePlugin.PngImageFile image mode=RGB size=1024x1024>,\n",
       "  <PIL.PngImagePlugin.PngImageFile image mode=RGB size=1024x1024>,\n",
       "  <PIL.PngImagePlugin.PngImageFile image mode=RGB size=1024x1024>,\n",
       "  <PIL.PngImagePlugin.PngImageFile image mode=RGB size=1024x1024>,\n",
       "  <PIL.PngImagePlugin.PngImageFile image mode=RGB size=1024x1024>,\n",
       "  <PIL.PngImagePlugin.PngImageFile image mode=RGB size=1024x1024>,\n",
       "  <PIL.PngImagePlugin.PngImageFile image mode=RGB size=1024x1024>,\n",
       "  <PIL.PngImagePlugin.PngImageFile image mode=RGB size=1024x1024>,\n",
       "  <PIL.PngImagePlugin.PngImageFile image mode=RGB size=1024x1024>,\n",
       "  <PIL.PngImagePlugin.PngImageFile image mode=RGB size=1024x1024>,\n",
       "  <PIL.PngImagePlugin.PngImageFile image mode=RGB size=1024x1024>,\n",
       "  <PIL.PngImagePlugin.PngImageFile image mode=RGB size=1024x1024>,\n",
       "  <PIL.PngImagePlugin.PngImageFile image mode=RGB size=1024x1024>,\n",
       "  <PIL.PngImagePlugin.PngImageFile image mode=RGB size=1024x1024>,\n",
       "  <PIL.PngImagePlugin.PngImageFile image mode=RGB size=1024x1024>,\n",
       "  <PIL.PngImagePlugin.PngImageFile image mode=RGB size=1024x1024>,\n",
       "  <PIL.PngImagePlugin.PngImageFile image mode=RGB size=1024x1024>,\n",
       "  <PIL.PngImagePlugin.PngImageFile image mode=RGB size=1024x1024>,\n",
       "  <PIL.PngImagePlugin.PngImageFile image mode=RGB size=1024x1024>,\n",
       "  <PIL.PngImagePlugin.PngImageFile image mode=RGB size=1024x1024>,\n",
       "  <PIL.PngImagePlugin.PngImageFile image mode=RGB size=1024x1024>,\n",
       "  <PIL.PngImagePlugin.PngImageFile image mode=RGB size=1024x1024>,\n",
       "  <PIL.PngImagePlugin.PngImageFile image mode=RGB size=1024x1024>,\n",
       "  <PIL.PngImagePlugin.PngImageFile image mode=RGB size=1024x1024>,\n",
       "  <PIL.PngImagePlugin.PngImageFile image mode=RGB size=1024x1024>,\n",
       "  <PIL.PngImagePlugin.PngImageFile image mode=RGB size=1024x1024>,\n",
       "  <PIL.PngImagePlugin.PngImageFile image mode=RGB size=1024x1024>,\n",
       "  <PIL.PngImagePlugin.PngImageFile image mode=RGB size=1024x1024>,\n",
       "  <PIL.PngImagePlugin.PngImageFile image mode=RGB size=1024x1024>,\n",
       "  <PIL.PngImagePlugin.PngImageFile image mode=RGB size=1024x1024>,\n",
       "  <PIL.PngImagePlugin.PngImageFile image mode=RGB size=1024x1024>,\n",
       "  <PIL.PngImagePlugin.PngImageFile image mode=RGB size=1024x1024>,\n",
       "  <PIL.PngImagePlugin.PngImageFile image mode=RGB size=1024x1024>,\n",
       "  <PIL.PngImagePlugin.PngImageFile image mode=RGB size=1024x1024>,\n",
       "  <PIL.PngImagePlugin.PngImageFile image mode=RGB size=1024x1024>,\n",
       "  <PIL.PngImagePlugin.PngImageFile image mode=RGB size=1024x1024>,\n",
       "  <PIL.PngImagePlugin.PngImageFile image mode=RGB size=1024x1024>,\n",
       "  <PIL.PngImagePlugin.PngImageFile image mode=RGB size=1024x1024>,\n",
       "  <PIL.PngImagePlugin.PngImageFile image mode=RGB size=1024x1024>,\n",
       "  <PIL.PngImagePlugin.PngImageFile image mode=RGB size=1024x1024>,\n",
       "  <PIL.PngImagePlugin.PngImageFile image mode=RGB size=1024x1024>,\n",
       "  <PIL.PngImagePlugin.PngImageFile image mode=RGB size=1024x1024>,\n",
       "  <PIL.PngImagePlugin.PngImageFile image mode=RGB size=1024x1024>,\n",
       "  <PIL.PngImagePlugin.PngImageFile image mode=RGB size=1024x1024>,\n",
       "  <PIL.PngImagePlugin.PngImageFile image mode=RGB size=1024x1024>,\n",
       "  <PIL.PngImagePlugin.PngImageFile image mode=RGB size=1024x1024>,\n",
       "  <PIL.PngImagePlugin.PngImageFile image mode=RGB size=1024x1024>,\n",
       "  <PIL.PngImagePlugin.PngImageFile image mode=RGB size=1024x1024>,\n",
       "  <PIL.PngImagePlugin.PngImageFile image mode=RGB size=1024x1024>,\n",
       "  <PIL.PngImagePlugin.PngImageFile image mode=RGB size=1024x1024>,\n",
       "  <PIL.PngImagePlugin.PngImageFile image mode=RGB size=1024x1024>,\n",
       "  <PIL.PngImagePlugin.PngImageFile image mode=RGB size=1024x1024>,\n",
       "  <PIL.PngImagePlugin.PngImageFile image mode=RGB size=1024x1024>,\n",
       "  <PIL.PngImagePlugin.PngImageFile image mode=RGB size=1024x1024>,\n",
       "  <PIL.PngImagePlugin.PngImageFile image mode=RGB size=1024x1024>,\n",
       "  <PIL.PngImagePlugin.PngImageFile image mode=RGB size=1024x1024>,\n",
       "  <PIL.PngImagePlugin.PngImageFile image mode=RGB size=1024x1024>,\n",
       "  <PIL.PngImagePlugin.PngImageFile image mode=RGB size=1024x1024>,\n",
       "  <PIL.PngImagePlugin.PngImageFile image mode=RGB size=1024x1024>,\n",
       "  <PIL.PngImagePlugin.PngImageFile image mode=RGB size=1024x1024>,\n",
       "  <PIL.PngImagePlugin.PngImageFile image mode=RGB size=1024x1024>,\n",
       "  <PIL.PngImagePlugin.PngImageFile image mode=RGB size=1024x1024>,\n",
       "  <PIL.PngImagePlugin.PngImageFile image mode=RGB size=1024x1024>,\n",
       "  <PIL.PngImagePlugin.PngImageFile image mode=RGB size=1024x1024>,\n",
       "  <PIL.PngImagePlugin.PngImageFile image mode=RGB size=1024x1024>,\n",
       "  <PIL.PngImagePlugin.PngImageFile image mode=RGB size=1024x1024>,\n",
       "  <PIL.PngImagePlugin.PngImageFile image mode=RGB size=1024x1024>,\n",
       "  <PIL.PngImagePlugin.PngImageFile image mode=RGB size=1024x1024>,\n",
       "  <PIL.PngImagePlugin.PngImageFile image mode=RGB size=1024x1024>,\n",
       "  <PIL.PngImagePlugin.PngImageFile image mode=RGB size=1024x1024>,\n",
       "  <PIL.PngImagePlugin.PngImageFile image mode=RGB size=1024x1024>,\n",
       "  <PIL.PngImagePlugin.PngImageFile image mode=RGB size=1024x1024>,\n",
       "  <PIL.PngImagePlugin.PngImageFile image mode=RGB size=1024x1024>,\n",
       "  <PIL.PngImagePlugin.PngImageFile image mode=RGB size=1024x1024>,\n",
       "  <PIL.PngImagePlugin.PngImageFile image mode=RGB size=1024x1024>,\n",
       "  <PIL.PngImagePlugin.PngImageFile image mode=RGB size=1024x1024>,\n",
       "  <PIL.PngImagePlugin.PngImageFile image mode=RGB size=1024x1024>,\n",
       "  <PIL.PngImagePlugin.PngImageFile image mode=RGB size=1024x1024>,\n",
       "  <PIL.PngImagePlugin.PngImageFile image mode=RGB size=1024x1024>,\n",
       "  <PIL.PngImagePlugin.PngImageFile image mode=RGB size=1024x1024>,\n",
       "  <PIL.PngImagePlugin.PngImageFile image mode=RGB size=1024x1024>,\n",
       "  <PIL.PngImagePlugin.PngImageFile image mode=RGB size=1024x1024>,\n",
       "  <PIL.PngImagePlugin.PngImageFile image mode=RGB size=1024x1024>,\n",
       "  <PIL.PngImagePlugin.PngImageFile image mode=RGB size=1024x1024>,\n",
       "  <PIL.PngImagePlugin.PngImageFile image mode=RGB size=1024x1024>,\n",
       "  <PIL.PngImagePlugin.PngImageFile image mode=RGB size=1024x1024>,\n",
       "  <PIL.PngImagePlugin.PngImageFile image mode=RGB size=1024x1024>,\n",
       "  <PIL.PngImagePlugin.PngImageFile image mode=RGB size=1024x1024>,\n",
       "  <PIL.PngImagePlugin.PngImageFile image mode=RGB size=1024x1024>,\n",
       "  <PIL.PngImagePlugin.PngImageFile image mode=RGB size=1024x1024>,\n",
       "  <PIL.PngImagePlugin.PngImageFile image mode=RGB size=1024x1024>,\n",
       "  <PIL.PngImagePlugin.PngImageFile image mode=RGB size=1024x1024>,\n",
       "  <PIL.PngImagePlugin.PngImageFile image mode=RGB size=1024x1024>,\n",
       "  <PIL.PngImagePlugin.PngImageFile image mode=RGB size=1024x1024>,\n",
       "  <PIL.PngImagePlugin.PngImageFile image mode=RGB size=1024x1024>,\n",
       "  <PIL.PngImagePlugin.PngImageFile image mode=RGB size=1024x1024>,\n",
       "  <PIL.PngImagePlugin.PngImageFile image mode=RGB size=1024x1024>,\n",
       "  <PIL.PngImagePlugin.PngImageFile image mode=RGB size=1024x1024>,\n",
       "  <PIL.PngImagePlugin.PngImageFile image mode=RGB size=1024x1024>,\n",
       "  <PIL.PngImagePlugin.PngImageFile image mode=RGB size=1024x1024>,\n",
       "  <PIL.PngImagePlugin.PngImageFile image mode=RGB size=1024x1024>,\n",
       "  <PIL.PngImagePlugin.PngImageFile image mode=RGB size=1024x1024>,\n",
       "  <PIL.PngImagePlugin.PngImageFile image mode=RGB size=1024x1024>,\n",
       "  <PIL.PngImagePlugin.PngImageFile image mode=RGB size=1024x1024>,\n",
       "  <PIL.PngImagePlugin.PngImageFile image mode=RGB size=1024x1024>,\n",
       "  <PIL.PngImagePlugin.PngImageFile image mode=RGB size=1024x1024>,\n",
       "  <PIL.PngImagePlugin.PngImageFile image mode=RGB size=1024x1024>,\n",
       "  <PIL.PngImagePlugin.PngImageFile image mode=RGB size=1024x1024>,\n",
       "  <PIL.PngImagePlugin.PngImageFile image mode=RGB size=1024x1024>,\n",
       "  <PIL.PngImagePlugin.PngImageFile image mode=RGB size=1024x1024>,\n",
       "  <PIL.PngImagePlugin.PngImageFile image mode=RGB size=1024x1024>,\n",
       "  <PIL.PngImagePlugin.PngImageFile image mode=RGB size=1024x1024>,\n",
       "  <PIL.PngImagePlugin.PngImageFile image mode=RGB size=1024x1024>,\n",
       "  <PIL.PngImagePlugin.PngImageFile image mode=RGB size=1024x1024>,\n",
       "  <PIL.PngImagePlugin.PngImageFile image mode=RGB size=1024x1024>,\n",
       "  <PIL.PngImagePlugin.PngImageFile image mode=RGB size=1024x1024>,\n",
       "  <PIL.PngImagePlugin.PngImageFile image mode=RGB size=1024x1024>,\n",
       "  <PIL.PngImagePlugin.PngImageFile image mode=RGB size=1024x1024>,\n",
       "  <PIL.PngImagePlugin.PngImageFile image mode=RGB size=1024x1024>,\n",
       "  <PIL.PngImagePlugin.PngImageFile image mode=RGB size=1024x1024>,\n",
       "  <PIL.PngImagePlugin.PngImageFile image mode=RGB size=1024x1024>,\n",
       "  <PIL.PngImagePlugin.PngImageFile image mode=RGB size=1024x1024>,\n",
       "  <PIL.PngImagePlugin.PngImageFile image mode=RGB size=1024x1024>,\n",
       "  <PIL.PngImagePlugin.PngImageFile image mode=RGB size=1024x1024>,\n",
       "  <PIL.PngImagePlugin.PngImageFile image mode=RGB size=1024x1024>,\n",
       "  <PIL.PngImagePlugin.PngImageFile image mode=RGB size=1024x1024>,\n",
       "  <PIL.PngImagePlugin.PngImageFile image mode=RGB size=1024x1024>,\n",
       "  <PIL.PngImagePlugin.PngImageFile image mode=RGB size=1024x1024>,\n",
       "  <PIL.PngImagePlugin.PngImageFile image mode=RGB size=1024x1024>,\n",
       "  <PIL.PngImagePlugin.PngImageFile image mode=RGB size=1024x1024>,\n",
       "  <PIL.PngImagePlugin.PngImageFile image mode=RGB size=1024x1024>,\n",
       "  <PIL.PngImagePlugin.PngImageFile image mode=RGB size=1024x1024>,\n",
       "  <PIL.PngImagePlugin.PngImageFile image mode=RGB size=1024x1024>,\n",
       "  <PIL.PngImagePlugin.PngImageFile image mode=RGB size=1024x1024>,\n",
       "  <PIL.PngImagePlugin.PngImageFile image mode=RGB size=1024x1024>,\n",
       "  <PIL.PngImagePlugin.PngImageFile image mode=RGB size=1024x1024>,\n",
       "  <PIL.PngImagePlugin.PngImageFile image mode=RGB size=1024x1024>,\n",
       "  <PIL.PngImagePlugin.PngImageFile image mode=RGB size=1024x1024>,\n",
       "  <PIL.PngImagePlugin.PngImageFile image mode=RGB size=1024x1024>,\n",
       "  <PIL.PngImagePlugin.PngImageFile image mode=RGB size=1024x1024>,\n",
       "  <PIL.PngImagePlugin.PngImageFile image mode=RGB size=1024x1024>,\n",
       "  <PIL.PngImagePlugin.PngImageFile image mode=RGB size=1024x1024>,\n",
       "  <PIL.PngImagePlugin.PngImageFile image mode=RGB size=1024x1024>,\n",
       "  <PIL.PngImagePlugin.PngImageFile image mode=RGB size=1024x1024>,\n",
       "  <PIL.PngImagePlugin.PngImageFile image mode=RGB size=1024x1024>,\n",
       "  <PIL.PngImagePlugin.PngImageFile image mode=RGB size=1024x1024>,\n",
       "  <PIL.PngImagePlugin.PngImageFile image mode=RGB size=1024x1024>,\n",
       "  <PIL.PngImagePlugin.PngImageFile image mode=RGB size=1024x1024>,\n",
       "  <PIL.PngImagePlugin.PngImageFile image mode=RGB size=1024x1024>,\n",
       "  <PIL.PngImagePlugin.PngImageFile image mode=RGB size=1024x1024>,\n",
       "  <PIL.PngImagePlugin.PngImageFile image mode=RGB size=1024x1024>,\n",
       "  <PIL.PngImagePlugin.PngImageFile image mode=RGB size=1024x1024>,\n",
       "  <PIL.PngImagePlugin.PngImageFile image mode=RGB size=1024x1024>,\n",
       "  <PIL.PngImagePlugin.PngImageFile image mode=RGB size=1024x1024>,\n",
       "  <PIL.PngImagePlugin.PngImageFile image mode=RGB size=1024x1024>,\n",
       "  <PIL.PngImagePlugin.PngImageFile image mode=RGB size=1024x1024>,\n",
       "  <PIL.PngImagePlugin.PngImageFile image mode=RGB size=1024x1024>,\n",
       "  <PIL.PngImagePlugin.PngImageFile image mode=RGB size=1024x1024>,\n",
       "  <PIL.PngImagePlugin.PngImageFile image mode=RGB size=1024x1024>,\n",
       "  <PIL.PngImagePlugin.PngImageFile image mode=RGB size=1024x1024>,\n",
       "  <PIL.PngImagePlugin.PngImageFile image mode=RGB size=1024x1024>,\n",
       "  <PIL.PngImagePlugin.PngImageFile image mode=RGB size=1024x1024>,\n",
       "  <PIL.PngImagePlugin.PngImageFile image mode=RGB size=1024x1024>,\n",
       "  <PIL.PngImagePlugin.PngImageFile image mode=RGB size=1024x1024>,\n",
       "  <PIL.PngImagePlugin.PngImageFile image mode=RGB size=1024x1024>,\n",
       "  <PIL.PngImagePlugin.PngImageFile image mode=RGB size=1024x1024>,\n",
       "  <PIL.PngImagePlugin.PngImageFile image mode=RGB size=1024x1024>,\n",
       "  <PIL.PngImagePlugin.PngImageFile image mode=RGB size=1024x1024>,\n",
       "  <PIL.PngImagePlugin.PngImageFile image mode=RGB size=1024x1024>,\n",
       "  <PIL.PngImagePlugin.PngImageFile image mode=RGB size=1024x1024>,\n",
       "  <PIL.PngImagePlugin.PngImageFile image mode=RGB size=1024x1024>,\n",
       "  <PIL.PngImagePlugin.PngImageFile image mode=RGB size=1024x1024>,\n",
       "  <PIL.PngImagePlugin.PngImageFile image mode=RGB size=1024x1024>,\n",
       "  <PIL.PngImagePlugin.PngImageFile image mode=RGB size=1024x1024>,\n",
       "  <PIL.PngImagePlugin.PngImageFile image mode=RGB size=1024x1024>,\n",
       "  <PIL.PngImagePlugin.PngImageFile image mode=RGB size=1024x1024>,\n",
       "  <PIL.PngImagePlugin.PngImageFile image mode=RGB size=1024x1024>,\n",
       "  <PIL.PngImagePlugin.PngImageFile image mode=RGB size=1024x1024>,\n",
       "  <PIL.PngImagePlugin.PngImageFile image mode=RGB size=1024x1024>,\n",
       "  <PIL.PngImagePlugin.PngImageFile image mode=RGB size=1024x1024>,\n",
       "  <PIL.PngImagePlugin.PngImageFile image mode=RGB size=1024x1024>,\n",
       "  <PIL.PngImagePlugin.PngImageFile image mode=RGB size=1024x1024>,\n",
       "  <PIL.PngImagePlugin.PngImageFile image mode=RGB size=1024x1024>,\n",
       "  <PIL.PngImagePlugin.PngImageFile image mode=RGB size=1024x1024>,\n",
       "  <PIL.PngImagePlugin.PngImageFile image mode=RGB size=1024x1024>,\n",
       "  <PIL.PngImagePlugin.PngImageFile image mode=RGB size=1024x1024>,\n",
       "  <PIL.PngImagePlugin.PngImageFile image mode=RGB size=1024x1024>,\n",
       "  <PIL.PngImagePlugin.PngImageFile image mode=RGB size=1024x1024>,\n",
       "  <PIL.PngImagePlugin.PngImageFile image mode=RGB size=1024x1024>,\n",
       "  <PIL.PngImagePlugin.PngImageFile image mode=RGB size=1024x1024>,\n",
       "  <PIL.PngImagePlugin.PngImageFile image mode=RGB size=1024x1024>,\n",
       "  <PIL.PngImagePlugin.PngImageFile image mode=RGB size=1024x1024>,\n",
       "  <PIL.PngImagePlugin.PngImageFile image mode=RGB size=1024x1024>,\n",
       "  <PIL.PngImagePlugin.PngImageFile image mode=RGB size=1024x1024>,\n",
       "  <PIL.PngImagePlugin.PngImageFile image mode=RGB size=1024x1024>,\n",
       "  <PIL.PngImagePlugin.PngImageFile image mode=RGB size=1024x1024>,\n",
       "  <PIL.PngImagePlugin.PngImageFile image mode=RGB size=1024x1024>,\n",
       "  <PIL.PngImagePlugin.PngImageFile image mode=RGB size=1024x1024>,\n",
       "  <PIL.PngImagePlugin.PngImageFile image mode=RGB size=1024x1024>,\n",
       "  <PIL.PngImagePlugin.PngImageFile image mode=RGB size=1024x1024>,\n",
       "  <PIL.PngImagePlugin.PngImageFile image mode=RGB size=1024x1024>,\n",
       "  <PIL.PngImagePlugin.PngImageFile image mode=RGB size=1024x1024>,\n",
       "  <PIL.PngImagePlugin.PngImageFile image mode=RGB size=1024x1024>,\n",
       "  <PIL.PngImagePlugin.PngImageFile image mode=RGB size=1024x1024>,\n",
       "  <PIL.PngImagePlugin.PngImageFile image mode=RGB size=1024x1024>,\n",
       "  <PIL.PngImagePlugin.PngImageFile image mode=RGB size=1024x1024>,\n",
       "  <PIL.PngImagePlugin.PngImageFile image mode=RGB size=1024x1024>,\n",
       "  <PIL.PngImagePlugin.PngImageFile image mode=RGB size=1024x1024>,\n",
       "  <PIL.PngImagePlugin.PngImageFile image mode=RGB size=1024x1024>,\n",
       "  <PIL.PngImagePlugin.PngImageFile image mode=RGB size=1024x1024>,\n",
       "  <PIL.PngImagePlugin.PngImageFile image mode=RGB size=1024x1024>,\n",
       "  <PIL.PngImagePlugin.PngImageFile image mode=RGB size=1024x1024>,\n",
       "  <PIL.PngImagePlugin.PngImageFile image mode=RGB size=1024x1024>,\n",
       "  <PIL.PngImagePlugin.PngImageFile image mode=RGB size=1024x1024>,\n",
       "  <PIL.PngImagePlugin.PngImageFile image mode=RGB size=1024x1024>,\n",
       "  <PIL.PngImagePlugin.PngImageFile image mode=RGB size=1024x1024>,\n",
       "  <PIL.PngImagePlugin.PngImageFile image mode=RGB size=1024x1024>,\n",
       "  <PIL.PngImagePlugin.PngImageFile image mode=RGB size=1024x1024>,\n",
       "  <PIL.PngImagePlugin.PngImageFile image mode=RGB size=1024x1024>,\n",
       "  <PIL.PngImagePlugin.PngImageFile image mode=RGB size=1024x1024>,\n",
       "  <PIL.PngImagePlugin.PngImageFile image mode=RGB size=1024x1024>,\n",
       "  <PIL.PngImagePlugin.PngImageFile image mode=RGB size=1024x1024>,\n",
       "  <PIL.PngImagePlugin.PngImageFile image mode=RGB size=1024x1024>,\n",
       "  <PIL.PngImagePlugin.PngImageFile image mode=RGB size=1024x1024>,\n",
       "  <PIL.PngImagePlugin.PngImageFile image mode=RGB size=1024x1024>,\n",
       "  <PIL.PngImagePlugin.PngImageFile image mode=RGB size=1024x1024>,\n",
       "  <PIL.PngImagePlugin.PngImageFile image mode=RGB size=1024x1024>,\n",
       "  <PIL.PngImagePlugin.PngImageFile image mode=RGB size=1024x1024>,\n",
       "  <PIL.PngImagePlugin.PngImageFile image mode=RGB size=1024x1024>,\n",
       "  <PIL.PngImagePlugin.PngImageFile image mode=RGB size=1024x1024>,\n",
       "  <PIL.PngImagePlugin.PngImageFile image mode=RGB size=1024x1024>,\n",
       "  <PIL.PngImagePlugin.PngImageFile image mode=RGB size=1024x1024>,\n",
       "  <PIL.PngImagePlugin.PngImageFile image mode=RGB size=1024x1024>,\n",
       "  <PIL.PngImagePlugin.PngImageFile image mode=RGB size=1024x1024>,\n",
       "  <PIL.PngImagePlugin.PngImageFile image mode=RGB size=1024x1024>,\n",
       "  <PIL.PngImagePlugin.PngImageFile image mode=RGB size=1024x1024>,\n",
       "  <PIL.PngImagePlugin.PngImageFile image mode=RGB size=1024x1024>,\n",
       "  <PIL.PngImagePlugin.PngImageFile image mode=RGB size=1024x1024>,\n",
       "  <PIL.PngImagePlugin.PngImageFile image mode=RGB size=1024x1024>,\n",
       "  <PIL.PngImagePlugin.PngImageFile image mode=RGB size=1024x1024>,\n",
       "  <PIL.PngImagePlugin.PngImageFile image mode=RGB size=1024x1024>,\n",
       "  <PIL.PngImagePlugin.PngImageFile image mode=RGB size=1024x1024>,\n",
       "  <PIL.PngImagePlugin.PngImageFile image mode=RGB size=1024x1024>,\n",
       "  <PIL.PngImagePlugin.PngImageFile image mode=RGB size=1024x1024>,\n",
       "  <PIL.PngImagePlugin.PngImageFile image mode=RGB size=1024x1024>,\n",
       "  <PIL.PngImagePlugin.PngImageFile image mode=RGB size=1024x1024>,\n",
       "  <PIL.PngImagePlugin.PngImageFile image mode=RGB size=1024x1024>,\n",
       "  <PIL.PngImagePlugin.PngImageFile image mode=RGB size=1024x1024>,\n",
       "  <PIL.PngImagePlugin.PngImageFile image mode=RGB size=1024x1024>,\n",
       "  <PIL.PngImagePlugin.PngImageFile image mode=RGB size=1024x1024>,\n",
       "  <PIL.PngImagePlugin.PngImageFile image mode=RGB size=1024x1024>,\n",
       "  <PIL.PngImagePlugin.PngImageFile image mode=RGB size=1024x1024>,\n",
       "  <PIL.PngImagePlugin.PngImageFile image mode=RGB size=1024x1024>,\n",
       "  <PIL.PngImagePlugin.PngImageFile image mode=RGB size=1024x1024>,\n",
       "  <PIL.PngImagePlugin.PngImageFile image mode=RGB size=1024x1024>,\n",
       "  <PIL.PngImagePlugin.PngImageFile image mode=RGB size=1024x1024>,\n",
       "  <PIL.PngImagePlugin.PngImageFile image mode=RGB size=1024x1024>,\n",
       "  <PIL.PngImagePlugin.PngImageFile image mode=RGBA size=1024x1024>,\n",
       "  <PIL.PngImagePlugin.PngImageFile image mode=RGB size=1024x1024>,\n",
       "  <PIL.PngImagePlugin.PngImageFile image mode=RGB size=1024x1024>,\n",
       "  <PIL.PngImagePlugin.PngImageFile image mode=RGB size=1024x1024>,\n",
       "  <PIL.PngImagePlugin.PngImageFile image mode=RGB size=1024x1024>,\n",
       "  <PIL.PngImagePlugin.PngImageFile image mode=RGB size=1024x1024>,\n",
       "  <PIL.PngImagePlugin.PngImageFile image mode=RGB size=1024x1024>,\n",
       "  <PIL.PngImagePlugin.PngImageFile image mode=RGB size=1024x1024>,\n",
       "  <PIL.PngImagePlugin.PngImageFile image mode=RGB size=1024x1024>,\n",
       "  <PIL.PngImagePlugin.PngImageFile image mode=RGB size=1024x1024>,\n",
       "  <PIL.PngImagePlugin.PngImageFile image mode=RGB size=1024x1024>,\n",
       "  <PIL.PngImagePlugin.PngImageFile image mode=RGB size=1024x1024>,\n",
       "  <PIL.PngImagePlugin.PngImageFile image mode=RGB size=1024x1024>,\n",
       "  <PIL.PngImagePlugin.PngImageFile image mode=RGB size=1024x1024>,\n",
       "  <PIL.PngImagePlugin.PngImageFile image mode=RGB size=1024x1024>,\n",
       "  <PIL.PngImagePlugin.PngImageFile image mode=RGB size=1024x1024>,\n",
       "  <PIL.PngImagePlugin.PngImageFile image mode=RGB size=1024x1024>,\n",
       "  <PIL.PngImagePlugin.PngImageFile image mode=RGB size=1024x1024>,\n",
       "  <PIL.PngImagePlugin.PngImageFile image mode=RGB size=1024x1024>,\n",
       "  <PIL.PngImagePlugin.PngImageFile image mode=RGB size=1024x1024>,\n",
       "  <PIL.PngImagePlugin.PngImageFile image mode=RGB size=1024x1024>,\n",
       "  <PIL.PngImagePlugin.PngImageFile image mode=RGB size=1024x1024>,\n",
       "  <PIL.PngImagePlugin.PngImageFile image mode=RGB size=1024x1024>,\n",
       "  <PIL.PngImagePlugin.PngImageFile image mode=RGB size=1024x1024>,\n",
       "  <PIL.PngImagePlugin.PngImageFile image mode=RGB size=1024x1024>,\n",
       "  <PIL.PngImagePlugin.PngImageFile image mode=RGB size=1024x1024>,\n",
       "  <PIL.PngImagePlugin.PngImageFile image mode=RGB size=1024x1024>,\n",
       "  <PIL.PngImagePlugin.PngImageFile image mode=RGB size=1024x1024>,\n",
       "  <PIL.PngImagePlugin.PngImageFile image mode=RGB size=1024x1024>,\n",
       "  <PIL.PngImagePlugin.PngImageFile image mode=RGB size=1024x1024>,\n",
       "  <PIL.PngImagePlugin.PngImageFile image mode=RGB size=1024x1024>,\n",
       "  <PIL.PngImagePlugin.PngImageFile image mode=RGB size=1024x1024>,\n",
       "  <PIL.PngImagePlugin.PngImageFile image mode=RGB size=1024x1024>,\n",
       "  <PIL.PngImagePlugin.PngImageFile image mode=RGB size=1024x1024>,\n",
       "  <PIL.PngImagePlugin.PngImageFile image mode=RGB size=1024x1024>,\n",
       "  <PIL.PngImagePlugin.PngImageFile image mode=RGB size=1024x1024>,\n",
       "  <PIL.PngImagePlugin.PngImageFile image mode=RGB size=1024x1024>,\n",
       "  <PIL.PngImagePlugin.PngImageFile image mode=RGB size=1024x1024>,\n",
       "  <PIL.PngImagePlugin.PngImageFile image mode=RGB size=1024x1024>,\n",
       "  <PIL.PngImagePlugin.PngImageFile image mode=RGB size=1024x1024>,\n",
       "  <PIL.PngImagePlugin.PngImageFile image mode=RGB size=1024x1024>,\n",
       "  <PIL.PngImagePlugin.PngImageFile image mode=RGB size=1024x1024>,\n",
       "  <PIL.PngImagePlugin.PngImageFile image mode=RGB size=1024x1024>,\n",
       "  <PIL.PngImagePlugin.PngImageFile image mode=RGB size=1024x1024>,\n",
       "  <PIL.PngImagePlugin.PngImageFile image mode=RGB size=1024x1024>,\n",
       "  <PIL.PngImagePlugin.PngImageFile image mode=RGB size=1024x1024>,\n",
       "  <PIL.PngImagePlugin.PngImageFile image mode=RGB size=1024x1024>,\n",
       "  <PIL.PngImagePlugin.PngImageFile image mode=RGB size=1024x1024>,\n",
       "  <PIL.PngImagePlugin.PngImageFile image mode=RGB size=1024x1024>,\n",
       "  <PIL.PngImagePlugin.PngImageFile image mode=RGB size=1024x1024>,\n",
       "  <PIL.PngImagePlugin.PngImageFile image mode=RGB size=1024x1024>,\n",
       "  <PIL.PngImagePlugin.PngImageFile image mode=RGB size=1024x1024>,\n",
       "  <PIL.PngImagePlugin.PngImageFile image mode=RGB size=1024x1024>,\n",
       "  <PIL.PngImagePlugin.PngImageFile image mode=RGB size=1024x1024>,\n",
       "  <PIL.PngImagePlugin.PngImageFile image mode=RGB size=1024x1024>,\n",
       "  <PIL.PngImagePlugin.PngImageFile image mode=RGB size=1024x1024>,\n",
       "  <PIL.PngImagePlugin.PngImageFile image mode=RGB size=1024x1024>,\n",
       "  <PIL.PngImagePlugin.PngImageFile image mode=RGB size=1024x1024>,\n",
       "  <PIL.PngImagePlugin.PngImageFile image mode=RGB size=1024x1024>,\n",
       "  <PIL.PngImagePlugin.PngImageFile image mode=RGB size=1024x1024>,\n",
       "  <PIL.PngImagePlugin.PngImageFile image mode=RGB size=1024x1024>,\n",
       "  <PIL.PngImagePlugin.PngImageFile image mode=RGB size=1024x1024>,\n",
       "  <PIL.PngImagePlugin.PngImageFile image mode=RGB size=1024x1024>,\n",
       "  <PIL.PngImagePlugin.PngImageFile image mode=RGB size=1024x1024>,\n",
       "  <PIL.PngImagePlugin.PngImageFile image mode=RGB size=1024x1024>,\n",
       "  <PIL.PngImagePlugin.PngImageFile image mode=RGB size=1024x1024>,\n",
       "  <PIL.PngImagePlugin.PngImageFile image mode=RGB size=1024x1024>,\n",
       "  <PIL.PngImagePlugin.PngImageFile image mode=RGB size=1024x1024>,\n",
       "  <PIL.PngImagePlugin.PngImageFile image mode=RGB size=1024x1024>,\n",
       "  <PIL.PngImagePlugin.PngImageFile image mode=RGB size=1024x1024>,\n",
       "  <PIL.PngImagePlugin.PngImageFile image mode=RGB size=1024x1024>,\n",
       "  <PIL.PngImagePlugin.PngImageFile image mode=RGB size=1024x1024>,\n",
       "  <PIL.PngImagePlugin.PngImageFile image mode=RGB size=1024x1024>,\n",
       "  <PIL.PngImagePlugin.PngImageFile image mode=RGB size=1024x1024>,\n",
       "  <PIL.PngImagePlugin.PngImageFile image mode=RGB size=1024x1024>,\n",
       "  <PIL.PngImagePlugin.PngImageFile image mode=RGB size=1024x1024>,\n",
       "  <PIL.PngImagePlugin.PngImageFile image mode=RGB size=1024x1024>,\n",
       "  <PIL.PngImagePlugin.PngImageFile image mode=RGB size=1024x1024>,\n",
       "  <PIL.PngImagePlugin.PngImageFile image mode=RGB size=1024x1024>,\n",
       "  <PIL.PngImagePlugin.PngImageFile image mode=RGB size=1024x1024>,\n",
       "  <PIL.PngImagePlugin.PngImageFile image mode=RGB size=1024x1024>,\n",
       "  <PIL.PngImagePlugin.PngImageFile image mode=RGB size=1024x1024>,\n",
       "  <PIL.PngImagePlugin.PngImageFile image mode=RGB size=1024x1024>,\n",
       "  <PIL.PngImagePlugin.PngImageFile image mode=RGB size=1024x1024>,\n",
       "  <PIL.PngImagePlugin.PngImageFile image mode=RGB size=1024x1024>,\n",
       "  <PIL.PngImagePlugin.PngImageFile image mode=RGB size=1024x1024>,\n",
       "  <PIL.PngImagePlugin.PngImageFile image mode=RGB size=1024x1024>,\n",
       "  <PIL.PngImagePlugin.PngImageFile image mode=RGB size=1024x1024>,\n",
       "  <PIL.PngImagePlugin.PngImageFile image mode=RGB size=1024x1024>,\n",
       "  <PIL.PngImagePlugin.PngImageFile image mode=RGB size=1024x1024>,\n",
       "  <PIL.PngImagePlugin.PngImageFile image mode=RGB size=1024x1024>,\n",
       "  <PIL.PngImagePlugin.PngImageFile image mode=RGB size=1024x1024>,\n",
       "  <PIL.PngImagePlugin.PngImageFile image mode=RGB size=1024x1024>,\n",
       "  <PIL.PngImagePlugin.PngImageFile image mode=RGB size=1024x1024>,\n",
       "  <PIL.PngImagePlugin.PngImageFile image mode=RGB size=1024x1024>,\n",
       "  <PIL.PngImagePlugin.PngImageFile image mode=RGB size=1024x1024>,\n",
       "  <PIL.PngImagePlugin.PngImageFile image mode=RGB size=1024x1024>,\n",
       "  <PIL.PngImagePlugin.PngImageFile image mode=RGB size=1024x1024>,\n",
       "  <PIL.PngImagePlugin.PngImageFile image mode=RGB size=1024x1024>,\n",
       "  <PIL.PngImagePlugin.PngImageFile image mode=RGB size=1024x1024>,\n",
       "  <PIL.PngImagePlugin.PngImageFile image mode=RGB size=1024x1024>,\n",
       "  <PIL.PngImagePlugin.PngImageFile image mode=RGB size=1024x1024>,\n",
       "  <PIL.PngImagePlugin.PngImageFile image mode=RGB size=1024x1024>,\n",
       "  <PIL.PngImagePlugin.PngImageFile image mode=RGB size=1024x1024>,\n",
       "  <PIL.PngImagePlugin.PngImageFile image mode=RGB size=1024x1024>,\n",
       "  <PIL.PngImagePlugin.PngImageFile image mode=RGB size=1024x1024>,\n",
       "  <PIL.PngImagePlugin.PngImageFile image mode=RGB size=1024x1024>,\n",
       "  <PIL.PngImagePlugin.PngImageFile image mode=RGB size=1024x1024>,\n",
       "  <PIL.PngImagePlugin.PngImageFile image mode=RGB size=1024x1024>,\n",
       "  <PIL.PngImagePlugin.PngImageFile image mode=RGB size=1024x1024>,\n",
       "  <PIL.PngImagePlugin.PngImageFile image mode=RGB size=1024x1024>,\n",
       "  <PIL.PngImagePlugin.PngImageFile image mode=RGB size=1024x1024>,\n",
       "  <PIL.PngImagePlugin.PngImageFile image mode=RGB size=1024x1024>,\n",
       "  <PIL.PngImagePlugin.PngImageFile image mode=RGB size=1024x1024>,\n",
       "  <PIL.PngImagePlugin.PngImageFile image mode=RGB size=1024x1024>,\n",
       "  <PIL.PngImagePlugin.PngImageFile image mode=RGB size=1024x1024>,\n",
       "  <PIL.PngImagePlugin.PngImageFile image mode=RGB size=1024x1024>,\n",
       "  <PIL.PngImagePlugin.PngImageFile image mode=RGB size=1024x1024>,\n",
       "  <PIL.PngImagePlugin.PngImageFile image mode=RGB size=1024x1024>,\n",
       "  <PIL.PngImagePlugin.PngImageFile image mode=RGB size=1024x1024>,\n",
       "  <PIL.PngImagePlugin.PngImageFile image mode=RGB size=1024x1024>,\n",
       "  <PIL.PngImagePlugin.PngImageFile image mode=RGB size=1024x1024>,\n",
       "  <PIL.PngImagePlugin.PngImageFile image mode=RGB size=1024x1024>,\n",
       "  <PIL.PngImagePlugin.PngImageFile image mode=RGB size=1024x1024>,\n",
       "  <PIL.PngImagePlugin.PngImageFile image mode=RGB size=1024x1024>,\n",
       "  <PIL.PngImagePlugin.PngImageFile image mode=RGB size=1024x1024>,\n",
       "  <PIL.PngImagePlugin.PngImageFile image mode=RGB size=1024x1024>,\n",
       "  <PIL.PngImagePlugin.PngImageFile image mode=RGB size=1024x1024>,\n",
       "  <PIL.PngImagePlugin.PngImageFile image mode=RGB size=1024x1024>,\n",
       "  <PIL.PngImagePlugin.PngImageFile image mode=RGB size=1024x1024>,\n",
       "  <PIL.PngImagePlugin.PngImageFile image mode=RGB size=1024x1024>,\n",
       "  <PIL.PngImagePlugin.PngImageFile image mode=RGB size=1024x1024>,\n",
       "  <PIL.PngImagePlugin.PngImageFile image mode=RGB size=1024x1024>,\n",
       "  <PIL.PngImagePlugin.PngImageFile image mode=RGB size=1024x1024>,\n",
       "  <PIL.PngImagePlugin.PngImageFile image mode=RGB size=1024x1024>,\n",
       "  <PIL.PngImagePlugin.PngImageFile image mode=RGB size=1024x1024>,\n",
       "  <PIL.PngImagePlugin.PngImageFile image mode=RGB size=1024x1024>,\n",
       "  <PIL.PngImagePlugin.PngImageFile image mode=RGB size=1024x1024>,\n",
       "  <PIL.PngImagePlugin.PngImageFile image mode=RGB size=1024x1024>,\n",
       "  <PIL.PngImagePlugin.PngImageFile image mode=RGB size=1024x1024>,\n",
       "  <PIL.PngImagePlugin.PngImageFile image mode=RGB size=1024x1024>,\n",
       "  <PIL.PngImagePlugin.PngImageFile image mode=RGB size=1024x1024>,\n",
       "  <PIL.PngImagePlugin.PngImageFile image mode=RGB size=1024x1024>,\n",
       "  <PIL.PngImagePlugin.PngImageFile image mode=RGB size=1024x1024>,\n",
       "  <PIL.PngImagePlugin.PngImageFile image mode=RGB size=1024x1024>,\n",
       "  <PIL.PngImagePlugin.PngImageFile image mode=RGB size=1024x1024>,\n",
       "  <PIL.PngImagePlugin.PngImageFile image mode=RGB size=1024x1024>,\n",
       "  <PIL.PngImagePlugin.PngImageFile image mode=RGB size=1024x1024>,\n",
       "  <PIL.PngImagePlugin.PngImageFile image mode=RGB size=1024x1024>,\n",
       "  <PIL.PngImagePlugin.PngImageFile image mode=RGB size=1024x1024>,\n",
       "  <PIL.PngImagePlugin.PngImageFile image mode=RGB size=1024x1024>,\n",
       "  <PIL.PngImagePlugin.PngImageFile image mode=RGB size=1024x1024>,\n",
       "  <PIL.PngImagePlugin.PngImageFile image mode=RGB size=1024x1024>,\n",
       "  <PIL.PngImagePlugin.PngImageFile image mode=RGB size=1024x1024>,\n",
       "  <PIL.PngImagePlugin.PngImageFile image mode=RGB size=1024x1024>,\n",
       "  <PIL.PngImagePlugin.PngImageFile image mode=RGB size=1024x1024>,\n",
       "  <PIL.PngImagePlugin.PngImageFile image mode=RGB size=1024x1024>,\n",
       "  <PIL.PngImagePlugin.PngImageFile image mode=RGB size=1024x1024>,\n",
       "  <PIL.PngImagePlugin.PngImageFile image mode=RGB size=1024x1024>,\n",
       "  <PIL.PngImagePlugin.PngImageFile image mode=RGB size=1024x1024>,\n",
       "  <PIL.PngImagePlugin.PngImageFile image mode=RGB size=1024x1024>,\n",
       "  <PIL.PngImagePlugin.PngImageFile image mode=RGB size=1024x1024>,\n",
       "  <PIL.PngImagePlugin.PngImageFile image mode=RGB size=1024x1024>,\n",
       "  <PIL.PngImagePlugin.PngImageFile image mode=RGB size=1024x1024>,\n",
       "  <PIL.PngImagePlugin.PngImageFile image mode=RGB size=1024x1024>,\n",
       "  <PIL.PngImagePlugin.PngImageFile image mode=RGB size=1024x1024>,\n",
       "  <PIL.PngImagePlugin.PngImageFile image mode=RGB size=1024x1024>,\n",
       "  <PIL.PngImagePlugin.PngImageFile image mode=RGB size=1024x1024>,\n",
       "  <PIL.PngImagePlugin.PngImageFile image mode=RGB size=1024x1024>,\n",
       "  <PIL.PngImagePlugin.PngImageFile image mode=RGB size=1024x1024>,\n",
       "  <PIL.PngImagePlugin.PngImageFile image mode=RGB size=1024x1024>,\n",
       "  <PIL.PngImagePlugin.PngImageFile image mode=RGB size=1024x1024>,\n",
       "  <PIL.PngImagePlugin.PngImageFile image mode=RGB size=1024x1024>,\n",
       "  <PIL.PngImagePlugin.PngImageFile image mode=RGB size=1024x1024>,\n",
       "  <PIL.PngImagePlugin.PngImageFile image mode=RGB size=1024x1024>,\n",
       "  <PIL.PngImagePlugin.PngImageFile image mode=RGB size=1024x1024>,\n",
       "  <PIL.PngImagePlugin.PngImageFile image mode=RGB size=1024x1024>,\n",
       "  <PIL.PngImagePlugin.PngImageFile image mode=RGB size=1024x1024>,\n",
       "  <PIL.PngImagePlugin.PngImageFile image mode=RGB size=1024x1024>,\n",
       "  <PIL.PngImagePlugin.PngImageFile image mode=RGB size=1024x1024>,\n",
       "  <PIL.PngImagePlugin.PngImageFile image mode=RGB size=1024x1024>,\n",
       "  <PIL.PngImagePlugin.PngImageFile image mode=RGB size=1024x1024>,\n",
       "  <PIL.PngImagePlugin.PngImageFile image mode=RGB size=1024x1024>,\n",
       "  <PIL.PngImagePlugin.PngImageFile image mode=RGB size=1024x1024>,\n",
       "  <PIL.PngImagePlugin.PngImageFile image mode=RGB size=1024x1024>,\n",
       "  <PIL.PngImagePlugin.PngImageFile image mode=RGB size=1024x1024>,\n",
       "  <PIL.PngImagePlugin.PngImageFile image mode=RGB size=1024x1024>,\n",
       "  <PIL.PngImagePlugin.PngImageFile image mode=RGB size=1024x1024>,\n",
       "  <PIL.PngImagePlugin.PngImageFile image mode=RGB size=1024x1024>,\n",
       "  <PIL.PngImagePlugin.PngImageFile image mode=RGB size=1024x1024>,\n",
       "  <PIL.PngImagePlugin.PngImageFile image mode=RGB size=1024x1024>,\n",
       "  <PIL.PngImagePlugin.PngImageFile image mode=RGB size=1024x1024>,\n",
       "  <PIL.PngImagePlugin.PngImageFile image mode=RGB size=1024x1024>,\n",
       "  <PIL.PngImagePlugin.PngImageFile image mode=RGB size=1024x1024>,\n",
       "  <PIL.PngImagePlugin.PngImageFile image mode=RGB size=1024x1024>,\n",
       "  <PIL.PngImagePlugin.PngImageFile image mode=RGB size=1024x1024>,\n",
       "  <PIL.PngImagePlugin.PngImageFile image mode=RGB size=1024x1024>,\n",
       "  <PIL.PngImagePlugin.PngImageFile image mode=RGB size=1024x1024>,\n",
       "  <PIL.PngImagePlugin.PngImageFile image mode=RGB size=1024x1024>,\n",
       "  <PIL.PngImagePlugin.PngImageFile image mode=RGB size=1024x1024>,\n",
       "  <PIL.PngImagePlugin.PngImageFile image mode=RGB size=1024x1024>,\n",
       "  <PIL.PngImagePlugin.PngImageFile image mode=RGB size=1024x1024>,\n",
       "  <PIL.PngImagePlugin.PngImageFile image mode=RGB size=1024x1024>,\n",
       "  <PIL.PngImagePlugin.PngImageFile image mode=RGB size=1024x1024>,\n",
       "  <PIL.PngImagePlugin.PngImageFile image mode=RGB size=1024x1024>,\n",
       "  <PIL.PngImagePlugin.PngImageFile image mode=RGB size=1024x1024>,\n",
       "  <PIL.PngImagePlugin.PngImageFile image mode=RGB size=1024x1024>,\n",
       "  <PIL.PngImagePlugin.PngImageFile image mode=RGB size=1024x1024>,\n",
       "  <PIL.PngImagePlugin.PngImageFile image mode=RGB size=1024x1024>,\n",
       "  <PIL.PngImagePlugin.PngImageFile image mode=RGB size=1024x1024>,\n",
       "  <PIL.PngImagePlugin.PngImageFile image mode=RGB size=1024x1024>,\n",
       "  <PIL.PngImagePlugin.PngImageFile image mode=RGB size=1024x1024>,\n",
       "  <PIL.PngImagePlugin.PngImageFile image mode=RGB size=1024x1024>,\n",
       "  <PIL.PngImagePlugin.PngImageFile image mode=RGB size=1024x1024>,\n",
       "  <PIL.PngImagePlugin.PngImageFile image mode=RGB size=1024x1024>,\n",
       "  <PIL.PngImagePlugin.PngImageFile image mode=RGB size=1024x1024>,\n",
       "  <PIL.PngImagePlugin.PngImageFile image mode=RGB size=1024x1024>,\n",
       "  <PIL.PngImagePlugin.PngImageFile image mode=RGB size=1024x1024>,\n",
       "  <PIL.PngImagePlugin.PngImageFile image mode=RGB size=1024x1024>,\n",
       "  <PIL.PngImagePlugin.PngImageFile image mode=RGB size=1024x1024>,\n",
       "  <PIL.PngImagePlugin.PngImageFile image mode=RGB size=1024x1024>,\n",
       "  <PIL.PngImagePlugin.PngImageFile image mode=RGB size=1024x1024>,\n",
       "  <PIL.PngImagePlugin.PngImageFile image mode=RGB size=1024x1024>,\n",
       "  <PIL.PngImagePlugin.PngImageFile image mode=RGB size=1024x1024>,\n",
       "  <PIL.PngImagePlugin.PngImageFile image mode=RGB size=1024x1024>,\n",
       "  <PIL.PngImagePlugin.PngImageFile image mode=RGB size=1024x1024>,\n",
       "  <PIL.PngImagePlugin.PngImageFile image mode=RGB size=1024x1024>,\n",
       "  <PIL.PngImagePlugin.PngImageFile image mode=RGB size=1024x1024>,\n",
       "  <PIL.PngImagePlugin.PngImageFile image mode=RGB size=1024x1024>,\n",
       "  <PIL.PngImagePlugin.PngImageFile image mode=RGB size=1024x1024>,\n",
       "  <PIL.PngImagePlugin.PngImageFile image mode=RGB size=1024x1024>,\n",
       "  <PIL.PngImagePlugin.PngImageFile image mode=RGB size=1024x1024>,\n",
       "  <PIL.PngImagePlugin.PngImageFile image mode=RGB size=1024x1024>,\n",
       "  <PIL.PngImagePlugin.PngImageFile image mode=RGB size=1024x1024>,\n",
       "  <PIL.PngImagePlugin.PngImageFile image mode=RGB size=1024x1024>,\n",
       "  <PIL.PngImagePlugin.PngImageFile image mode=RGB size=1024x1024>,\n",
       "  <PIL.PngImagePlugin.PngImageFile image mode=RGB size=1024x1024>,\n",
       "  <PIL.PngImagePlugin.PngImageFile image mode=RGB size=1024x1024>,\n",
       "  <PIL.PngImagePlugin.PngImageFile image mode=RGB size=1024x1024>,\n",
       "  <PIL.PngImagePlugin.PngImageFile image mode=RGB size=1024x1024>,\n",
       "  <PIL.PngImagePlugin.PngImageFile image mode=RGB size=1024x1024>,\n",
       "  <PIL.PngImagePlugin.PngImageFile image mode=RGB size=1024x1024>,\n",
       "  <PIL.PngImagePlugin.PngImageFile image mode=RGB size=1024x1024>,\n",
       "  <PIL.PngImagePlugin.PngImageFile image mode=RGB size=1024x1024>,\n",
       "  <PIL.PngImagePlugin.PngImageFile image mode=RGB size=1024x1024>,\n",
       "  <PIL.PngImagePlugin.PngImageFile image mode=RGB size=1024x1024>,\n",
       "  ...],\n",
       " 'results': {'CLIP-I Score': 0.7746720917147901}}"
      ]
     },
     "execution_count": 72,
     "metadata": {},
     "output_type": "execute_result"
    }
   ],
   "source": [
    "data"
   ]
  },
  {
   "cell_type": "code",
   "execution_count": null,
   "id": "c41a6f56-1b79-4702-9f0b-2236a0e6ac34",
   "metadata": {},
   "outputs": [],
   "source": []
  }
 ],
 "metadata": {
  "kernelspec": {
   "display_name": "Python 3 (ipykernel)",
   "language": "python",
   "name": "python3"
  },
  "language_info": {
   "codemirror_mode": {
    "name": "ipython",
    "version": 3
   },
   "file_extension": ".py",
   "mimetype": "text/x-python",
   "name": "python",
   "nbconvert_exporter": "python",
   "pygments_lexer": "ipython3",
   "version": "3.8.0"
  }
 },
 "nbformat": 4,
 "nbformat_minor": 5
}
